{
 "cells": [
  {
   "cell_type": "code",
   "execution_count": 1,
   "metadata": {},
   "outputs": [],
   "source": [
    "# # Install a conda package in the current Jupyter kernel\n",
    "# import sys\n",
    "# !conda install --yes --prefix {sys.prefix} tensorflow"
   ]
  },
  {
   "cell_type": "markdown",
   "metadata": {},
   "source": [
    "# All of the packages I need to do this"
   ]
  },
  {
   "cell_type": "code",
   "execution_count": 2,
   "metadata": {},
   "outputs": [],
   "source": [
    "import warnings\n",
    "warnings.filterwarnings(\"ignore\")\n",
    "\n",
    "from tensorflow.keras.datasets import fashion_mnist\n",
    "from tensorflow.keras.utils import to_categorical\n",
    "from tensorflow.keras.models import Sequential \n",
    "from tensorflow.keras.layers import Dense"
   ]
  },
  {
   "cell_type": "markdown",
   "metadata": {},
   "source": [
    "# Importing the minst fashion data and preprocessing it to be accepted into ANN"
   ]
  },
  {
   "cell_type": "code",
   "execution_count": 3,
   "metadata": {},
   "outputs": [],
   "source": [
    "(X_train, y_train), (X_test, y_test) = fashion_mnist.load_data()\n",
    "\n",
    "input_dim = 784  # 28*28\n",
    "output_dim = nb_classes = 10\n",
    "nb_epoch = 20\n",
    "\n",
    "X_train = X_train.reshape(60000, input_dim)\n",
    "X_test = X_test.reshape(10000, input_dim)\n",
    "X_train = X_train.astype('float32')\n",
    "X_test = X_test.astype('float32')\n",
    "X_train /= 255\n",
    "X_test /= 255\n",
    "Y_train = to_categorical(y_train, nb_classes)\n",
    "Y_test = to_categorical(y_test, nb_classes)"
   ]
  },
  {
   "cell_type": "markdown",
   "metadata": {},
   "source": [
    "# Now we are going to do something kind of like king of the court, but king of the neural network. The one I deem the best stays and the one that isn't goes. I will go down the list of hyperparameters to tune:\n",
    " - Number of layers\n",
    " - Activation functions\n",
    " - Number of Neurons\n",
    " - Batch sizes during training\n",
    " \n",
    " \n",
    "# We will see which model reigns supreme!"
   ]
  },
  {
   "cell_type": "code",
   "execution_count": 4,
   "metadata": {},
   "outputs": [
    {
     "data": {
      "text/plain": [
       "(60000, 784)"
      ]
     },
     "execution_count": 4,
     "metadata": {},
     "output_type": "execute_result"
    }
   ],
   "source": [
    "X_train.shape"
   ]
  },
  {
   "cell_type": "code",
   "execution_count": 5,
   "metadata": {},
   "outputs": [],
   "source": [
    "epochs = 10\n",
    "batch_size = 10"
   ]
  },
  {
   "cell_type": "code",
   "execution_count": 16,
   "metadata": {},
   "outputs": [
    {
     "name": "stdout",
     "output_type": "stream",
     "text": [
      "Train on 60000 samples, validate on 10000 samples\n",
      "Epoch 1/10\n",
      "60000/60000 [==============================] - 4s 71us/sample - loss: 0.5967 - acc: 0.7920 - val_loss: 0.4631 - val_acc: 0.8352\n",
      "Epoch 2/10\n",
      "60000/60000 [==============================] - 4s 68us/sample - loss: 0.4269 - acc: 0.8492 - val_loss: 0.4482 - val_acc: 0.8390\n",
      "Epoch 3/10\n",
      "60000/60000 [==============================] - 4s 70us/sample - loss: 0.3853 - acc: 0.8615 - val_loss: 0.4106 - val_acc: 0.8519\n",
      "Epoch 4/10\n",
      "60000/60000 [==============================] - 4s 74us/sample - loss: 0.3575 - acc: 0.8701 - val_loss: 0.4041 - val_acc: 0.8567\n",
      "Epoch 5/10\n",
      "60000/60000 [==============================] - 4s 71us/sample - loss: 0.3383 - acc: 0.8780 - val_loss: 0.3715 - val_acc: 0.8659\n",
      "Epoch 6/10\n",
      "60000/60000 [==============================] - 4s 71us/sample - loss: 0.3217 - acc: 0.8836 - val_loss: 0.3660 - val_acc: 0.8698\n",
      "Epoch 7/10\n",
      "60000/60000 [==============================] - 4s 69us/sample - loss: 0.3111 - acc: 0.8860 - val_loss: 0.3682 - val_acc: 0.8651\n",
      "Epoch 8/10\n",
      "60000/60000 [==============================] - 4s 69us/sample - loss: 0.2992 - acc: 0.8907 - val_loss: 0.3808 - val_acc: 0.8601\n",
      "Epoch 9/10\n",
      "60000/60000 [==============================] - 5s 78us/sample - loss: 0.2900 - acc: 0.8925 - val_loss: 0.3480 - val_acc: 0.8745\n",
      "Epoch 10/10\n",
      "60000/60000 [==============================] - 5s 76us/sample - loss: 0.2815 - acc: 0.8964 - val_loss: 0.3743 - val_acc: 0.8603\n"
     ]
    },
    {
     "data": {
      "text/plain": [
       "<tensorflow.python.keras.callbacks.History at 0x1d534d87488>"
      ]
     },
     "execution_count": 16,
     "metadata": {},
     "output_type": "execute_result"
    }
   ],
   "source": [
    "model = Sequential()\n",
    "# our first dense layer\n",
    "model.add(Dense(128, input_shape=(784,), activation=\"relu\"))\n",
    "# our second dense layer\n",
    "model.add(Dense(64, activation=\"relu\"))\n",
    "# last layer is the output layer.\n",
    "model.add(Dense(10, activation=\"softmax\"))\n",
    "\n",
    "model.compile(optimizer='sgd', loss='sparse_categorical_crossentropy',\n",
    "              metrics=['accuracy'])\n",
    "\n",
    "# setting verbose=1 prints out some results after each epoch\n",
    "model.fit(X_train, y_train, batch_size=batch_size, validation_data=(X_test, y_test), epochs=epochs, verbose=1)"
   ]
  },
  {
   "cell_type": "code",
   "execution_count": 17,
   "metadata": {},
   "outputs": [
    {
     "name": "stdout",
     "output_type": "stream",
     "text": [
      "Test score: 0.3742851203918457\n",
      "Test accuracy: 0.8603\n"
     ]
    }
   ],
   "source": [
    "score = model.evaluate(X_test, y_test, verbose=0)\n",
    "print('Test score:', score[0])\n",
    "print('Test accuracy:', score[1])"
   ]
  },
  {
   "cell_type": "markdown",
   "metadata": {},
   "source": [
    "# I've seen worse"
   ]
  },
  {
   "cell_type": "code",
   "execution_count": 23,
   "metadata": {},
   "outputs": [
    {
     "name": "stdout",
     "output_type": "stream",
     "text": [
      "Train on 60000 samples, validate on 10000 samples\n",
      "Epoch 1/10\n",
      "60000/60000 [==============================] - 5s 86us/sample - loss: 0.6861 - acc: 0.7492 - val_loss: 0.4946 - val_acc: 0.8214\n",
      "Epoch 2/10\n",
      "60000/60000 [==============================] - 5s 88us/sample - loss: 0.4245 - acc: 0.8462 - val_loss: 0.4864 - val_acc: 0.8246\n",
      "Epoch 3/10\n",
      "60000/60000 [==============================] - 6s 97us/sample - loss: 0.3785 - acc: 0.8610 - val_loss: 0.4270 - val_acc: 0.8483\n",
      "Epoch 4/10\n",
      "60000/60000 [==============================] - 6s 92us/sample - loss: 0.3500 - acc: 0.8705 - val_loss: 0.4049 - val_acc: 0.8547\n",
      "Epoch 5/10\n",
      "60000/60000 [==============================] - 5s 87us/sample - loss: 0.3310 - acc: 0.8782 - val_loss: 0.3864 - val_acc: 0.8608\n",
      "Epoch 6/10\n",
      "60000/60000 [==============================] - 5s 86us/sample - loss: 0.3133 - acc: 0.8829 - val_loss: 0.3608 - val_acc: 0.8705\n",
      "Epoch 7/10\n",
      "60000/60000 [==============================] - 5s 85us/sample - loss: 0.3036 - acc: 0.8862 - val_loss: 0.3628 - val_acc: 0.8674\n",
      "Epoch 8/10\n",
      "60000/60000 [==============================] - 5s 84us/sample - loss: 0.2914 - acc: 0.8908 - val_loss: 0.3590 - val_acc: 0.8701\n",
      "Epoch 9/10\n",
      "60000/60000 [==============================] - 5s 88us/sample - loss: 0.2819 - acc: 0.8945 - val_loss: 0.3545 - val_acc: 0.8722\n",
      "Epoch 10/10\n",
      "60000/60000 [==============================] - 5s 86us/sample - loss: 0.2740 - acc: 0.8974 - val_loss: 0.3508 - val_acc: 0.8734\n"
     ]
    },
    {
     "data": {
      "text/plain": [
       "<tensorflow.python.keras.callbacks.History at 0x1d541f1bec8>"
      ]
     },
     "execution_count": 23,
     "metadata": {},
     "output_type": "execute_result"
    }
   ],
   "source": [
    "model = Sequential()\n",
    "# our first dense layer\n",
    "model.add(Dense(128, input_shape=(784,), activation=\"relu\"))\n",
    "# our second dense layer\n",
    "model.add(Dense(64, activation=\"relu\"))\n",
    "# our third layer\n",
    "model.add(Dense(64, activation=\"relu\"))\n",
    "# our fourth layer\n",
    "model.add(Dense(32, activation=\"relu\"))\n",
    "# our fifth layer\n",
    "model.add(Dense(32, activation=\"relu\"))\n",
    "# last layer is the output layer.\n",
    "model.add(Dense(10, activation=\"softmax\"))\n",
    "\n",
    "model.compile(optimizer='sgd', loss='sparse_categorical_crossentropy',\n",
    "              metrics=['accuracy'])\n",
    "\n",
    "# setting verbose=1 prints out some results after each epoch\n",
    "model.fit(X_train, y_train, batch_size=batch_size, validation_data=(X_test, y_test), epochs=epochs, verbose=1)"
   ]
  },
  {
   "cell_type": "code",
   "execution_count": 24,
   "metadata": {},
   "outputs": [
    {
     "name": "stdout",
     "output_type": "stream",
     "text": [
      "Test score: 0.35084240040779113\n",
      "Test accuracy: 0.8734\n"
     ]
    }
   ],
   "source": [
    "score = model.evaluate(X_test, y_test, verbose=0)\n",
    "print('Test score:', score[0])\n",
    "print('Test accuracy:', score[1])"
   ]
  },
  {
   "cell_type": "markdown",
   "metadata": {},
   "source": [
    "# The accuracy was a little better with this model.Model 2 moves on.\n",
    "\n",
    "\n",
    "# Next we compare activation functions"
   ]
  },
  {
   "cell_type": "code",
   "execution_count": 10,
   "metadata": {},
   "outputs": [],
   "source": [
    "# #Repeat model stats\n",
    "# Test score: 0.34816762804985046\n",
    "# Test accuracy: 0.8732\n",
    "# loss: 0.3482"
   ]
  },
  {
   "cell_type": "code",
   "execution_count": 36,
   "metadata": {},
   "outputs": [
    {
     "name": "stdout",
     "output_type": "stream",
     "text": [
      "Train on 60000 samples, validate on 10000 samples\n",
      "Epoch 1/10\n",
      "60000/60000 [==============================] - 9s 156us/sample - loss: 0.5300 - acc: 0.8105 - val_loss: 0.5502 - val_acc: 0.8205\n",
      "Epoch 2/10\n",
      "60000/60000 [==============================] - 9s 147us/sample - loss: 0.4260 - acc: 0.8504 - val_loss: 0.4269 - val_acc: 0.8434\n",
      "Epoch 3/10\n",
      "60000/60000 [==============================] - 9s 146us/sample - loss: 0.3973 - acc: 0.8617 - val_loss: 0.4658 - val_acc: 0.8411\n",
      "Epoch 4/10\n",
      "60000/60000 [==============================] - 9s 149us/sample - loss: 0.3845 - acc: 0.8676 - val_loss: 0.4974 - val_acc: 0.8410\n",
      "Epoch 5/10\n",
      "60000/60000 [==============================] - 9s 145us/sample - loss: 0.3837 - acc: 0.8709 - val_loss: 0.4667 - val_acc: 0.8562\n",
      "Epoch 6/10\n",
      "60000/60000 [==============================] - 9s 142us/sample - loss: 0.3923 - acc: 0.8717 - val_loss: 0.4706 - val_acc: 0.8543\n",
      "Epoch 7/10\n",
      "60000/60000 [==============================] - 9s 146us/sample - loss: 0.3979 - acc: 0.8714 - val_loss: 0.4892 - val_acc: 0.8507\n",
      "Epoch 8/10\n",
      "60000/60000 [==============================] - 9s 142us/sample - loss: 0.4038 - acc: 0.8712 - val_loss: 0.5594 - val_acc: 0.8572\n",
      "Epoch 9/10\n",
      "60000/60000 [==============================] - 9s 146us/sample - loss: 0.4132 - acc: 0.8706 - val_loss: 0.4828 - val_acc: 0.8584\n",
      "Epoch 10/10\n",
      "60000/60000 [==============================] - 9s 149us/sample - loss: 0.4159 - acc: 0.8724 - val_loss: 0.5979 - val_acc: 0.8288\n"
     ]
    },
    {
     "data": {
      "text/plain": [
       "<tensorflow.python.keras.callbacks.History at 0x1d546942408>"
      ]
     },
     "execution_count": 36,
     "metadata": {},
     "output_type": "execute_result"
    }
   ],
   "source": [
    "#New model\n",
    "model = Sequential()\n",
    "# our first dense layer\n",
    "model.add(Dense(128, input_shape=(784,), activation=\"selu\"))\n",
    "# our second dense layer\n",
    "model.add(Dense(64, activation=\"selu\"))\n",
    "# our third layer\n",
    "model.add(Dense(64, activation=\"selu\"))\n",
    "# our fourth layer\n",
    "model.add(Dense(32, activation=\"selu\"))\n",
    "# our fifth layer\n",
    "model.add(Dense(32, activation=\"selu\"))\n",
    "# last layer is the output layer.\n",
    "model.add(Dense(10, activation=\"softmax\"))\n",
    "\n",
    "model.compile(optimizer='rmsprop', loss='sparse_categorical_crossentropy',\n",
    "              metrics=['accuracy'])\n",
    "\n",
    "# setting verbose=1 prints out some results after each epoch\n",
    "model.fit(X_train, y_train, batch_size=batch_size, validation_data=(X_test, y_test), epochs=epochs, verbose=1)"
   ]
  },
  {
   "cell_type": "code",
   "execution_count": 37,
   "metadata": {},
   "outputs": [
    {
     "name": "stdout",
     "output_type": "stream",
     "text": [
      "Test score: 0.597858249270916\n",
      "Test accuracy: 0.8288\n"
     ]
    }
   ],
   "source": [
    "score = model.evaluate(X_test, y_test, verbose=0)\n",
    "print('Test score:', score[0])\n",
    "print('Test accuracy:', score[1])"
   ]
  },
  {
   "cell_type": "markdown",
   "metadata": {},
   "source": [
    "# 2nd model still coming out on top! Accuracy difference!"
   ]
  },
  {
   "cell_type": "code",
   "execution_count": 33,
   "metadata": {},
   "outputs": [
    {
     "name": "stdout",
     "output_type": "stream",
     "text": [
      "Train on 60000 samples, validate on 10000 samples\n",
      "Epoch 1/10\n",
      "60000/60000 [==============================] - 6s 92us/sample - loss: 0.6594 - acc: 0.7667 - val_loss: 0.5690 - val_acc: 0.7984\n",
      "Epoch 2/10\n",
      "60000/60000 [==============================] - 6s 104us/sample - loss: 0.4172 - acc: 0.8483 - val_loss: 0.4226 - val_acc: 0.8421\n",
      "Epoch 3/10\n",
      "60000/60000 [==============================] - 6s 106us/sample - loss: 0.3710 - acc: 0.8658 - val_loss: 0.3998 - val_acc: 0.8556\n",
      "Epoch 4/10\n",
      "60000/60000 [==============================] - 6s 104us/sample - loss: 0.3440 - acc: 0.8727 - val_loss: 0.4110 - val_acc: 0.8519\n",
      "Epoch 5/10\n",
      "60000/60000 [==============================] - 7s 109us/sample - loss: 0.3246 - acc: 0.8801 - val_loss: 0.3678 - val_acc: 0.8643\n",
      "Epoch 6/10\n",
      "60000/60000 [==============================] - 6s 97us/sample - loss: 0.3094 - acc: 0.8843 - val_loss: 0.3752 - val_acc: 0.8605\n",
      "Epoch 7/10\n",
      "60000/60000 [==============================] - 6s 97us/sample - loss: 0.2945 - acc: 0.8899 - val_loss: 0.3680 - val_acc: 0.8661\n",
      "Epoch 8/10\n",
      "60000/60000 [==============================] - 6s 94us/sample - loss: 0.2827 - acc: 0.8941 - val_loss: 0.3475 - val_acc: 0.8747\n",
      "Epoch 9/10\n",
      "60000/60000 [==============================] - 6s 94us/sample - loss: 0.2730 - acc: 0.8975 - val_loss: 0.3317 - val_acc: 0.8788\n",
      "Epoch 10/10\n",
      "60000/60000 [==============================] - 6s 96us/sample - loss: 0.2644 - acc: 0.9005 - val_loss: 0.3525 - val_acc: 0.8755\n"
     ]
    },
    {
     "data": {
      "text/plain": [
       "<tensorflow.python.keras.callbacks.History at 0x1d54516a448>"
      ]
     },
     "execution_count": 33,
     "metadata": {},
     "output_type": "execute_result"
    }
   ],
   "source": [
    "#Number of neurons time\n",
    "model = Sequential()\n",
    "# our first dense layer\n",
    "model.add(Dense(128, input_shape=(784,), activation=\"relu\"))\n",
    "# our second dense layer\n",
    "model.add(Dense(128, activation=\"relu\"))\n",
    "# our third layer\n",
    "model.add(Dense(64, activation=\"relu\"))\n",
    "# our fourth layer\n",
    "model.add(Dense(64, activation=\"relu\"))\n",
    "# our fifth layer\n",
    "model.add(Dense(32, activation=\"relu\"))\n",
    "# last layer is the output layer.\n",
    "model.add(Dense(10, activation=\"softmax\"))\n",
    "\n",
    "model.compile(optimizer='sgd', loss='sparse_categorical_crossentropy',\n",
    "              metrics=['accuracy'])\n",
    "\n",
    "# setting verbose=1 prints out some results after each epoch\n",
    "model.fit(X_train, y_train, batch_size=batch_size, validation_data=(X_test, y_test), epochs=epochs, verbose=1)"
   ]
  },
  {
   "cell_type": "code",
   "execution_count": 35,
   "metadata": {},
   "outputs": [
    {
     "name": "stdout",
     "output_type": "stream",
     "text": [
      "Test score: 0.35251856787204744\n",
      "Test accuracy: 0.8755\n"
     ]
    }
   ],
   "source": [
    "score = model.evaluate(X_test, y_test, verbose=0)\n",
    "print('Test score:', score[0])\n",
    "print('Test accuracy:', score[1])"
   ]
  },
  {
   "cell_type": "markdown",
   "metadata": {},
   "source": [
    "# Well the accuracy is better but test score is worse. Keeping original model"
   ]
  },
  {
   "cell_type": "code",
   "execution_count": 38,
   "metadata": {},
   "outputs": [],
   "source": [
    "batch_size = 15"
   ]
  },
  {
   "cell_type": "code",
   "execution_count": null,
   "metadata": {},
   "outputs": [],
   "source": [
    "# #Repeat model stats\n",
    "# Test score: 0.34816762804985046\n",
    "# Test accuracy: 0.8732\n",
    "# loss: 0.3482"
   ]
  },
  {
   "cell_type": "code",
   "execution_count": 39,
   "metadata": {},
   "outputs": [
    {
     "name": "stdout",
     "output_type": "stream",
     "text": [
      "Train on 60000 samples, validate on 10000 samples\n",
      "Epoch 1/10\n",
      "60000/60000 [==============================] - 4s 71us/sample - loss: 0.7005 - acc: 0.7455 - val_loss: 0.6746 - val_acc: 0.7462\n",
      "Epoch 2/10\n",
      "60000/60000 [==============================] - 4s 64us/sample - loss: 0.4409 - acc: 0.8425 - val_loss: 0.4456 - val_acc: 0.8410\n",
      "Epoch 3/10\n",
      "60000/60000 [==============================] - 4s 65us/sample - loss: 0.3891 - acc: 0.8591 - val_loss: 0.4196 - val_acc: 0.8464\n",
      "Epoch 4/10\n",
      "60000/60000 [==============================] - 4s 63us/sample - loss: 0.3597 - acc: 0.8674 - val_loss: 0.3955 - val_acc: 0.8581\n",
      "Epoch 5/10\n",
      "60000/60000 [==============================] - 4s 64us/sample - loss: 0.3386 - acc: 0.8751 - val_loss: 0.3904 - val_acc: 0.8593\n",
      "Epoch 6/10\n",
      "60000/60000 [==============================] - 4s 64us/sample - loss: 0.3232 - acc: 0.8799 - val_loss: 0.3697 - val_acc: 0.8664\n",
      "Epoch 7/10\n",
      "60000/60000 [==============================] - 4s 66us/sample - loss: 0.3107 - acc: 0.8853 - val_loss: 0.3924 - val_acc: 0.8526\n",
      "Epoch 8/10\n",
      "60000/60000 [==============================] - 4s 64us/sample - loss: 0.2991 - acc: 0.8881 - val_loss: 0.3646 - val_acc: 0.8683\n",
      "Epoch 9/10\n",
      "60000/60000 [==============================] - 4s 64us/sample - loss: 0.2889 - acc: 0.8925 - val_loss: 0.3552 - val_acc: 0.8717\n",
      "Epoch 10/10\n",
      "60000/60000 [==============================] - 4s 64us/sample - loss: 0.2789 - acc: 0.8955 - val_loss: 0.3646 - val_acc: 0.8725\n"
     ]
    },
    {
     "data": {
      "text/plain": [
       "<tensorflow.python.keras.callbacks.History at 0x1d540a711c8>"
      ]
     },
     "execution_count": 39,
     "metadata": {},
     "output_type": "execute_result"
    }
   ],
   "source": [
    "model = Sequential()\n",
    "# our first dense layer\n",
    "model.add(Dense(128, input_shape=(784,), activation=\"relu\"))\n",
    "# our second dense layer\n",
    "model.add(Dense(64, activation=\"relu\"))\n",
    "# our third layer\n",
    "model.add(Dense(64, activation=\"relu\"))\n",
    "# our fourth layer\n",
    "model.add(Dense(32, activation=\"relu\"))\n",
    "# our fifth layer\n",
    "model.add(Dense(32, activation=\"relu\"))\n",
    "# last layer is the output layer.\n",
    "model.add(Dense(10, activation=\"softmax\"))\n",
    "\n",
    "model.compile(optimizer='sgd', loss='sparse_categorical_crossentropy',\n",
    "              metrics=['accuracy'])\n",
    "\n",
    "# setting verbose=1 prints out some results after each epoch\n",
    "model.fit(X_train, y_train, batch_size=batch_size, validation_data=(X_test, y_test), epochs=epochs, verbose=1)"
   ]
  },
  {
   "cell_type": "code",
   "execution_count": 40,
   "metadata": {},
   "outputs": [
    {
     "name": "stdout",
     "output_type": "stream",
     "text": [
      "Test score: 0.3646376796722412\n",
      "Test accuracy: 0.8725\n"
     ]
    }
   ],
   "source": [
    "score = model.evaluate(X_test, y_test, verbose=0)\n",
    "print('Test score:', score[0])\n",
    "print('Test accuracy:', score[1])"
   ]
  },
  {
   "cell_type": "markdown",
   "metadata": {},
   "source": [
    "# That model again! Let's look at them all together!"
   ]
  },
  {
   "cell_type": "markdown",
   "metadata": {},
   "source": [
    " - Model 1: Test score: 0.3742851203918457, Test accuracy: 0.8603\n",
    " - Model 2: Test score: 0.35084240040779113, Test accuracy: 0.8734 \n",
    " - Model 3: Test score: 0.35251856787204744, Test accuracy: 0.8755\n",
    " - Model 4: Test score: 0.3646376796722412, Test accuracy: 0.8725\n",
    "\n",
    "# Model 3 might have performed the best out of all the models. I think tuning of the epochs as wel as neurons could lead to increased accuracy and overall better test score."
   ]
  },
  {
   "cell_type": "code",
   "execution_count": null,
   "metadata": {},
   "outputs": [],
   "source": []
  }
 ],
 "metadata": {
  "kernelspec": {
   "display_name": "Python 3",
   "language": "python",
   "name": "python3"
  },
  "language_info": {
   "codemirror_mode": {
    "name": "ipython",
    "version": 3
   },
   "file_extension": ".py",
   "mimetype": "text/x-python",
   "name": "python",
   "nbconvert_exporter": "python",
   "pygments_lexer": "ipython3",
   "version": "3.7.6"
  }
 },
 "nbformat": 4,
 "nbformat_minor": 4
}
