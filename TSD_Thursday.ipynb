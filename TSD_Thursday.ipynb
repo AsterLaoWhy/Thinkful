{
 "cells": [
  {
   "cell_type": "markdown",
   "metadata": {
    "colab_type": "text",
    "id": "11QJImz-qfRa"
   },
   "source": [
    "# Time Series Classification and Clustering Assignment"
   ]
  },
  {
   "cell_type": "code",
   "execution_count": 1,
   "metadata": {
    "colab": {},
    "colab_type": "code",
    "id": "KqJPmihAqfRe"
   },
   "outputs": [],
   "source": [
    "import numpy as np\n",
    "import pandas as pd\n",
    "import seaborn as sns\n",
    "import matplotlib.pyplot as plt\n",
    "from sklearn.model_selection import train_test_split\n",
    "from sklearn.linear_model import LogisticRegression\n",
    "from sklearn.metrics import classification_report\n",
    "from sklearn.cluster import KMeans"
   ]
  },
  {
   "cell_type": "markdown",
   "metadata": {
    "colab_type": "text",
    "id": "3a4A4KfMqfRj"
   },
   "source": [
    "### Import the Walmart stock price data set (WMT_data.csv)."
   ]
  },
  {
   "cell_type": "code",
   "execution_count": 2,
   "metadata": {
    "colab": {},
    "colab_type": "code",
    "id": "hvnc07SXqfRk"
   },
   "outputs": [
    {
     "data": {
      "text/html": [
       "<div>\n",
       "<style scoped>\n",
       "    .dataframe tbody tr th:only-of-type {\n",
       "        vertical-align: middle;\n",
       "    }\n",
       "\n",
       "    .dataframe tbody tr th {\n",
       "        vertical-align: top;\n",
       "    }\n",
       "\n",
       "    .dataframe thead th {\n",
       "        text-align: right;\n",
       "    }\n",
       "</style>\n",
       "<table border=\"1\" class=\"dataframe\">\n",
       "  <thead>\n",
       "    <tr style=\"text-align: right;\">\n",
       "      <th></th>\n",
       "      <th>date</th>\n",
       "      <th>open</th>\n",
       "      <th>high</th>\n",
       "      <th>low</th>\n",
       "      <th>close</th>\n",
       "      <th>volume</th>\n",
       "      <th>Name</th>\n",
       "    </tr>\n",
       "  </thead>\n",
       "  <tbody>\n",
       "    <tr>\n",
       "      <th>0</th>\n",
       "      <td>2013-02-08</td>\n",
       "      <td>71.20</td>\n",
       "      <td>71.64</td>\n",
       "      <td>71.070</td>\n",
       "      <td>71.48</td>\n",
       "      <td>5906823</td>\n",
       "      <td>WMT</td>\n",
       "    </tr>\n",
       "    <tr>\n",
       "      <th>1</th>\n",
       "      <td>2013-02-11</td>\n",
       "      <td>71.25</td>\n",
       "      <td>71.51</td>\n",
       "      <td>70.530</td>\n",
       "      <td>71.40</td>\n",
       "      <td>6202534</td>\n",
       "      <td>WMT</td>\n",
       "    </tr>\n",
       "    <tr>\n",
       "      <th>2</th>\n",
       "      <td>2013-02-12</td>\n",
       "      <td>71.49</td>\n",
       "      <td>71.66</td>\n",
       "      <td>71.100</td>\n",
       "      <td>71.40</td>\n",
       "      <td>4761910</td>\n",
       "      <td>WMT</td>\n",
       "    </tr>\n",
       "    <tr>\n",
       "      <th>3</th>\n",
       "      <td>2013-02-13</td>\n",
       "      <td>71.29</td>\n",
       "      <td>71.70</td>\n",
       "      <td>71.210</td>\n",
       "      <td>71.39</td>\n",
       "      <td>3969807</td>\n",
       "      <td>WMT</td>\n",
       "    </tr>\n",
       "    <tr>\n",
       "      <th>4</th>\n",
       "      <td>2013-02-14</td>\n",
       "      <td>71.10</td>\n",
       "      <td>71.23</td>\n",
       "      <td>70.755</td>\n",
       "      <td>70.82</td>\n",
       "      <td>6820952</td>\n",
       "      <td>WMT</td>\n",
       "    </tr>\n",
       "  </tbody>\n",
       "</table>\n",
       "</div>"
      ],
      "text/plain": [
       "         date   open   high     low  close   volume Name\n",
       "0  2013-02-08  71.20  71.64  71.070  71.48  5906823  WMT\n",
       "1  2013-02-11  71.25  71.51  70.530  71.40  6202534  WMT\n",
       "2  2013-02-12  71.49  71.66  71.100  71.40  4761910  WMT\n",
       "3  2013-02-13  71.29  71.70  71.210  71.39  3969807  WMT\n",
       "4  2013-02-14  71.10  71.23  70.755  70.82  6820952  WMT"
      ]
     },
     "execution_count": 2,
     "metadata": {},
     "output_type": "execute_result"
    }
   ],
   "source": [
    "df = pd.read_csv('https://tf-assets-prod.s3.amazonaws.com/tf-curric/data-science/Data%20Sets%20Time%20Series%20Analysis/Time%20Series%20-%20Day%205/WMT_data.csv')\n",
    "df.head()"
   ]
  },
  {
   "cell_type": "code",
   "execution_count": 3,
   "metadata": {},
   "outputs": [
    {
     "name": "stdout",
     "output_type": "stream",
     "text": [
      "<class 'pandas.core.frame.DataFrame'>\n",
      "RangeIndex: 1259 entries, 0 to 1258\n",
      "Data columns (total 7 columns):\n",
      " #   Column  Non-Null Count  Dtype         \n",
      "---  ------  --------------  -----         \n",
      " 0   date    1259 non-null   datetime64[ns]\n",
      " 1   open    1259 non-null   float64       \n",
      " 2   high    1259 non-null   float64       \n",
      " 3   low     1259 non-null   float64       \n",
      " 4   close   1259 non-null   float64       \n",
      " 5   volume  1259 non-null   int64         \n",
      " 6   Name    1259 non-null   object        \n",
      "dtypes: datetime64[ns](1), float64(4), int64(1), object(1)\n",
      "memory usage: 69.0+ KB\n"
     ]
    }
   ],
   "source": [
    "df['date'] = pd.to_datetime(df['date'])\n",
    "df.info()"
   ]
  },
  {
   "cell_type": "markdown",
   "metadata": {
    "colab_type": "text",
    "id": "DHZVCl9QqfRn"
   },
   "source": [
    "### Transform the data to be able to predict minor direction changes in the stock's price, given 180 days of history.\n",
    "\n",
    "- Remember to calculate daily returns from the observed values (closing price).\n",
    "- Make the critera for identifying a direction change when the observed values (closing price) cross the 5 day moving average.\n",
    "- Create a binary column that defaults to 0 unless the criteria is met (then updates to 1).\n",
    "- Shift the data set so that you have 180 days of history for each record."
   ]
  },
  {
   "cell_type": "code",
   "execution_count": 4,
   "metadata": {
    "colab": {},
    "colab_type": "code",
    "id": "FBRXlgH8qfRo"
   },
   "outputs": [],
   "source": [
    "df['Returns'] = df['close'].pct_change()\n",
    "df['5MA'] = df['close'].rolling(5).mean()\n",
    "\n",
    "df['Trend'] = 'None'\n",
    "df.loc[(df['close'] < df['5MA']), 'Trend']=='Negative'\n",
    "df.loc[(df['close'] > df['5MA']), 'Trend']=='Positive'\n",
    "df['Change'] = df['Trend'].eq(df['Trend'].shift())\n",
    "\n",
    "df['Binary'] = 0\n",
    "df['Binary'] = np.where(df['close'] > df['5MA'], df['Binary'], 1)\n",
    "\n",
    "df.dropna(inplace = True)\n",
    "df.drop(df.index[0], inplace = True)"
   ]
  },
  {
   "cell_type": "code",
   "execution_count": 5,
   "metadata": {
    "scrolled": true
   },
   "outputs": [
    {
     "data": {
      "text/plain": [
       "0    684\n",
       "1    570\n",
       "Name: Binary, dtype: int64"
      ]
     },
     "execution_count": 5,
     "metadata": {},
     "output_type": "execute_result"
    }
   ],
   "source": [
    "df.Binary.value_counts()"
   ]
  },
  {
   "cell_type": "code",
   "execution_count": 6,
   "metadata": {},
   "outputs": [
    {
     "name": "stderr",
     "output_type": "stream",
     "text": [
      "C:\\Users\\jonat\\anaconda3\\lib\\site-packages\\ipykernel_launcher.py:6: SettingWithCopyWarning: \n",
      "A value is trying to be set on a copy of a slice from a DataFrame.\n",
      "Try using .loc[row_indexer,col_indexer] = value instead\n",
      "\n",
      "See the caveats in the documentation: https://pandas.pydata.org/pandas-docs/stable/user_guide/indexing.html#returning-a-view-versus-a-copy\n",
      "  \n"
     ]
    },
    {
     "data": {
      "text/html": [
       "<div>\n",
       "<style scoped>\n",
       "    .dataframe tbody tr th:only-of-type {\n",
       "        vertical-align: middle;\n",
       "    }\n",
       "\n",
       "    .dataframe tbody tr th {\n",
       "        vertical-align: top;\n",
       "    }\n",
       "\n",
       "    .dataframe thead th {\n",
       "        text-align: right;\n",
       "    }\n",
       "</style>\n",
       "<table border=\"1\" class=\"dataframe\">\n",
       "  <thead>\n",
       "    <tr style=\"text-align: right;\">\n",
       "      <th></th>\n",
       "      <th>date</th>\n",
       "      <th>Returns</th>\n",
       "      <th>Binary</th>\n",
       "      <th>t-1</th>\n",
       "      <th>t-2</th>\n",
       "      <th>t-3</th>\n",
       "      <th>t-4</th>\n",
       "      <th>t-5</th>\n",
       "      <th>t-6</th>\n",
       "      <th>t-7</th>\n",
       "      <th>...</th>\n",
       "      <th>t-171</th>\n",
       "      <th>t-172</th>\n",
       "      <th>t-173</th>\n",
       "      <th>t-174</th>\n",
       "      <th>t-175</th>\n",
       "      <th>t-176</th>\n",
       "      <th>t-177</th>\n",
       "      <th>t-178</th>\n",
       "      <th>t-179</th>\n",
       "      <th>t-180</th>\n",
       "    </tr>\n",
       "  </thead>\n",
       "  <tbody>\n",
       "    <tr>\n",
       "      <th>185</th>\n",
       "      <td>2013-11-01</td>\n",
       "      <td>0.004169</td>\n",
       "      <td>0</td>\n",
       "      <td>-0.002080</td>\n",
       "      <td>-0.001947</td>\n",
       "      <td>-0.001037</td>\n",
       "      <td>0.013933</td>\n",
       "      <td>-0.004449</td>\n",
       "      <td>0.006851</td>\n",
       "      <td>-0.005503</td>\n",
       "      <td>...</td>\n",
       "      <td>0.013563</td>\n",
       "      <td>-0.012280</td>\n",
       "      <td>0.007734</td>\n",
       "      <td>0.009512</td>\n",
       "      <td>0.000568</td>\n",
       "      <td>0.001993</td>\n",
       "      <td>0.015171</td>\n",
       "      <td>0.006545</td>\n",
       "      <td>-0.007792</td>\n",
       "      <td>-0.021463</td>\n",
       "    </tr>\n",
       "    <tr>\n",
       "      <th>186</th>\n",
       "      <td>2013-11-04</td>\n",
       "      <td>0.003374</td>\n",
       "      <td>0</td>\n",
       "      <td>0.004169</td>\n",
       "      <td>-0.002080</td>\n",
       "      <td>-0.001947</td>\n",
       "      <td>-0.001037</td>\n",
       "      <td>0.013933</td>\n",
       "      <td>-0.004449</td>\n",
       "      <td>0.006851</td>\n",
       "      <td>...</td>\n",
       "      <td>0.021188</td>\n",
       "      <td>0.013563</td>\n",
       "      <td>-0.012280</td>\n",
       "      <td>0.007734</td>\n",
       "      <td>0.009512</td>\n",
       "      <td>0.000568</td>\n",
       "      <td>0.001993</td>\n",
       "      <td>0.015171</td>\n",
       "      <td>0.006545</td>\n",
       "      <td>-0.007792</td>\n",
       "    </tr>\n",
       "    <tr>\n",
       "      <th>187</th>\n",
       "      <td>2013-11-05</td>\n",
       "      <td>0.001164</td>\n",
       "      <td>0</td>\n",
       "      <td>0.003374</td>\n",
       "      <td>0.004169</td>\n",
       "      <td>-0.002080</td>\n",
       "      <td>-0.001947</td>\n",
       "      <td>-0.001037</td>\n",
       "      <td>0.013933</td>\n",
       "      <td>-0.004449</td>\n",
       "      <td>...</td>\n",
       "      <td>0.006279</td>\n",
       "      <td>0.021188</td>\n",
       "      <td>0.013563</td>\n",
       "      <td>-0.012280</td>\n",
       "      <td>0.007734</td>\n",
       "      <td>0.009512</td>\n",
       "      <td>0.000568</td>\n",
       "      <td>0.001993</td>\n",
       "      <td>0.015171</td>\n",
       "      <td>0.006545</td>\n",
       "    </tr>\n",
       "    <tr>\n",
       "      <th>188</th>\n",
       "      <td>2013-11-06</td>\n",
       "      <td>0.009558</td>\n",
       "      <td>0</td>\n",
       "      <td>0.001164</td>\n",
       "      <td>0.003374</td>\n",
       "      <td>0.004169</td>\n",
       "      <td>-0.002080</td>\n",
       "      <td>-0.001947</td>\n",
       "      <td>-0.001037</td>\n",
       "      <td>0.013933</td>\n",
       "      <td>...</td>\n",
       "      <td>-0.004612</td>\n",
       "      <td>0.006279</td>\n",
       "      <td>0.021188</td>\n",
       "      <td>0.013563</td>\n",
       "      <td>-0.012280</td>\n",
       "      <td>0.007734</td>\n",
       "      <td>0.009512</td>\n",
       "      <td>0.000568</td>\n",
       "      <td>0.001993</td>\n",
       "      <td>0.015171</td>\n",
       "    </tr>\n",
       "    <tr>\n",
       "      <th>189</th>\n",
       "      <td>2013-11-07</td>\n",
       "      <td>-0.008316</td>\n",
       "      <td>0</td>\n",
       "      <td>0.009558</td>\n",
       "      <td>0.001164</td>\n",
       "      <td>0.003374</td>\n",
       "      <td>0.004169</td>\n",
       "      <td>-0.002080</td>\n",
       "      <td>-0.001947</td>\n",
       "      <td>-0.001037</td>\n",
       "      <td>...</td>\n",
       "      <td>-0.000818</td>\n",
       "      <td>-0.004612</td>\n",
       "      <td>0.006279</td>\n",
       "      <td>0.021188</td>\n",
       "      <td>0.013563</td>\n",
       "      <td>-0.012280</td>\n",
       "      <td>0.007734</td>\n",
       "      <td>0.009512</td>\n",
       "      <td>0.000568</td>\n",
       "      <td>0.001993</td>\n",
       "    </tr>\n",
       "  </tbody>\n",
       "</table>\n",
       "<p>5 rows × 183 columns</p>\n",
       "</div>"
      ],
      "text/plain": [
       "          date   Returns  Binary       t-1       t-2       t-3       t-4  \\\n",
       "185 2013-11-01  0.004169       0 -0.002080 -0.001947 -0.001037  0.013933   \n",
       "186 2013-11-04  0.003374       0  0.004169 -0.002080 -0.001947 -0.001037   \n",
       "187 2013-11-05  0.001164       0  0.003374  0.004169 -0.002080 -0.001947   \n",
       "188 2013-11-06  0.009558       0  0.001164  0.003374  0.004169 -0.002080   \n",
       "189 2013-11-07 -0.008316       0  0.009558  0.001164  0.003374  0.004169   \n",
       "\n",
       "          t-5       t-6       t-7  ...     t-171     t-172     t-173  \\\n",
       "185 -0.004449  0.006851 -0.005503  ...  0.013563 -0.012280  0.007734   \n",
       "186  0.013933 -0.004449  0.006851  ...  0.021188  0.013563 -0.012280   \n",
       "187 -0.001037  0.013933 -0.004449  ...  0.006279  0.021188  0.013563   \n",
       "188 -0.001947 -0.001037  0.013933  ... -0.004612  0.006279  0.021188   \n",
       "189 -0.002080 -0.001947 -0.001037  ... -0.000818 -0.004612  0.006279   \n",
       "\n",
       "        t-174     t-175     t-176     t-177     t-178     t-179     t-180  \n",
       "185  0.009512  0.000568  0.001993  0.015171  0.006545 -0.007792 -0.021463  \n",
       "186  0.007734  0.009512  0.000568  0.001993  0.015171  0.006545 -0.007792  \n",
       "187 -0.012280  0.007734  0.009512  0.000568  0.001993  0.015171  0.006545  \n",
       "188  0.013563 -0.012280  0.007734  0.009512  0.000568  0.001993  0.015171  \n",
       "189  0.021188  0.013563 -0.012280  0.007734  0.009512  0.000568  0.001993  \n",
       "\n",
       "[5 rows x 183 columns]"
      ]
     },
     "execution_count": 6,
     "metadata": {},
     "output_type": "execute_result"
    }
   ],
   "source": [
    "tf_df = df[['date', 'Returns', 'Binary']]\n",
    "history = 180\n",
    "future = 0\n",
    "shifts = [x + future for x in list(range(1, history +1))]\n",
    "for shift in shifts:\n",
    "    tf_df['t-'+str(shift)]=tf_df['Returns'].shift(shift)\n",
    "tf_df.dropna(inplace = True)\n",
    "\n",
    "tf_df.head()"
   ]
  },
  {
   "cell_type": "markdown",
   "metadata": {
    "colab_type": "text",
    "id": "bYaCvm-6qfRr"
   },
   "source": [
    "### Train a Logistic Regression classification model on the transformed data."
   ]
  },
  {
   "cell_type": "code",
   "execution_count": 7,
   "metadata": {
    "colab": {},
    "colab_type": "code",
    "id": "5GLX-8b4qfRs"
   },
   "outputs": [],
   "source": [
    "model = LogisticRegression(class_weight = 'balanced')"
   ]
  },
  {
   "cell_type": "code",
   "execution_count": 8,
   "metadata": {},
   "outputs": [],
   "source": [
    "x = tf_df.drop(['date', 'Returns', 'Binary'], axis = 1)\n",
    "y = tf_df['Binary']\n",
    "\n",
    "x_train, x_test, y_train, y_test = train_test_split(x, y, test_size = .2, random_state = 69, shuffle = False)\n",
    "model.fit(x_train, y_train)\n",
    "pred = model.predict(x_test)"
   ]
  },
  {
   "cell_type": "markdown",
   "metadata": {
    "colab_type": "text",
    "id": "dRh4cxqeqfRv"
   },
   "source": [
    "### Run a classification report and evaluate the performance of the classifier."
   ]
  },
  {
   "cell_type": "code",
   "execution_count": 9,
   "metadata": {
    "colab": {},
    "colab_type": "code",
    "id": "QSonhG5GqfR2"
   },
   "outputs": [
    {
     "name": "stdout",
     "output_type": "stream",
     "text": [
      "              precision    recall  f1-score   support\n",
      "\n",
      "           0       0.77      0.69      0.73       133\n",
      "           1       0.57      0.67      0.62        82\n",
      "\n",
      "    accuracy                           0.68       215\n",
      "   macro avg       0.67      0.68      0.67       215\n",
      "weighted avg       0.70      0.68      0.69       215\n",
      "\n"
     ]
    }
   ],
   "source": [
    "print(classification_report(y_test, pred))"
   ]
  },
  {
   "cell_type": "markdown",
   "metadata": {
    "colab_type": "text",
    "id": "awwkh1iIqfR5"
   },
   "source": [
    "### Transform the data again to have 10 days of history for clustering."
   ]
  },
  {
   "cell_type": "code",
   "execution_count": 10,
   "metadata": {
    "colab": {},
    "colab_type": "code",
    "id": "bhKkYaZ5qfR6",
    "scrolled": true
   },
   "outputs": [
    {
     "name": "stderr",
     "output_type": "stream",
     "text": [
      "C:\\Users\\jonat\\anaconda3\\lib\\site-packages\\ipykernel_launcher.py:6: SettingWithCopyWarning: \n",
      "A value is trying to be set on a copy of a slice from a DataFrame.\n",
      "Try using .loc[row_indexer,col_indexer] = value instead\n",
      "\n",
      "See the caveats in the documentation: https://pandas.pydata.org/pandas-docs/stable/user_guide/indexing.html#returning-a-view-versus-a-copy\n",
      "  \n"
     ]
    }
   ],
   "source": [
    "tf_df = df[['date', 'Returns', 'Binary']]\n",
    "history = 10\n",
    "future = 0\n",
    "shifts = [x + future for x in list(range(1, history +1))]\n",
    "for shift in shifts:\n",
    "    tf_df['t-'+str(shift)]=tf_df['Returns'].shift(shift)\n",
    "tf_df.dropna(inplace = True)\n"
   ]
  },
  {
   "cell_type": "code",
   "execution_count": 11,
   "metadata": {},
   "outputs": [
    {
     "data": {
      "text/html": [
       "<div>\n",
       "<style scoped>\n",
       "    .dataframe tbody tr th:only-of-type {\n",
       "        vertical-align: middle;\n",
       "    }\n",
       "\n",
       "    .dataframe tbody tr th {\n",
       "        vertical-align: top;\n",
       "    }\n",
       "\n",
       "    .dataframe thead th {\n",
       "        text-align: right;\n",
       "    }\n",
       "</style>\n",
       "<table border=\"1\" class=\"dataframe\">\n",
       "  <thead>\n",
       "    <tr style=\"text-align: right;\">\n",
       "      <th></th>\n",
       "      <th>t-1</th>\n",
       "      <th>t-2</th>\n",
       "      <th>t-3</th>\n",
       "      <th>t-4</th>\n",
       "      <th>t-5</th>\n",
       "      <th>t-6</th>\n",
       "      <th>t-7</th>\n",
       "      <th>t-8</th>\n",
       "      <th>t-9</th>\n",
       "      <th>t-10</th>\n",
       "      <th>...</th>\n",
       "      <th>t-171</th>\n",
       "      <th>t-172</th>\n",
       "      <th>t-173</th>\n",
       "      <th>t-174</th>\n",
       "      <th>t-175</th>\n",
       "      <th>t-176</th>\n",
       "      <th>t-177</th>\n",
       "      <th>t-178</th>\n",
       "      <th>t-179</th>\n",
       "      <th>t-180</th>\n",
       "    </tr>\n",
       "  </thead>\n",
       "  <tbody>\n",
       "    <tr>\n",
       "      <th>185</th>\n",
       "      <td>-0.002080</td>\n",
       "      <td>-0.001947</td>\n",
       "      <td>-0.001037</td>\n",
       "      <td>0.013933</td>\n",
       "      <td>-0.004449</td>\n",
       "      <td>0.006851</td>\n",
       "      <td>-0.005503</td>\n",
       "      <td>0.015569</td>\n",
       "      <td>-0.007397</td>\n",
       "      <td>-0.000924</td>\n",
       "      <td>...</td>\n",
       "      <td>0.013563</td>\n",
       "      <td>-0.012280</td>\n",
       "      <td>0.007734</td>\n",
       "      <td>0.009512</td>\n",
       "      <td>0.000568</td>\n",
       "      <td>0.001993</td>\n",
       "      <td>0.015171</td>\n",
       "      <td>0.006545</td>\n",
       "      <td>-0.007792</td>\n",
       "      <td>-0.021463</td>\n",
       "    </tr>\n",
       "    <tr>\n",
       "      <th>186</th>\n",
       "      <td>0.004169</td>\n",
       "      <td>-0.002080</td>\n",
       "      <td>-0.001947</td>\n",
       "      <td>-0.001037</td>\n",
       "      <td>0.013933</td>\n",
       "      <td>-0.004449</td>\n",
       "      <td>0.006851</td>\n",
       "      <td>-0.005503</td>\n",
       "      <td>0.015569</td>\n",
       "      <td>-0.007397</td>\n",
       "      <td>...</td>\n",
       "      <td>0.021188</td>\n",
       "      <td>0.013563</td>\n",
       "      <td>-0.012280</td>\n",
       "      <td>0.007734</td>\n",
       "      <td>0.009512</td>\n",
       "      <td>0.000568</td>\n",
       "      <td>0.001993</td>\n",
       "      <td>0.015171</td>\n",
       "      <td>0.006545</td>\n",
       "      <td>-0.007792</td>\n",
       "    </tr>\n",
       "    <tr>\n",
       "      <th>187</th>\n",
       "      <td>0.003374</td>\n",
       "      <td>0.004169</td>\n",
       "      <td>-0.002080</td>\n",
       "      <td>-0.001947</td>\n",
       "      <td>-0.001037</td>\n",
       "      <td>0.013933</td>\n",
       "      <td>-0.004449</td>\n",
       "      <td>0.006851</td>\n",
       "      <td>-0.005503</td>\n",
       "      <td>0.015569</td>\n",
       "      <td>...</td>\n",
       "      <td>0.006279</td>\n",
       "      <td>0.021188</td>\n",
       "      <td>0.013563</td>\n",
       "      <td>-0.012280</td>\n",
       "      <td>0.007734</td>\n",
       "      <td>0.009512</td>\n",
       "      <td>0.000568</td>\n",
       "      <td>0.001993</td>\n",
       "      <td>0.015171</td>\n",
       "      <td>0.006545</td>\n",
       "    </tr>\n",
       "    <tr>\n",
       "      <th>188</th>\n",
       "      <td>0.001164</td>\n",
       "      <td>0.003374</td>\n",
       "      <td>0.004169</td>\n",
       "      <td>-0.002080</td>\n",
       "      <td>-0.001947</td>\n",
       "      <td>-0.001037</td>\n",
       "      <td>0.013933</td>\n",
       "      <td>-0.004449</td>\n",
       "      <td>0.006851</td>\n",
       "      <td>-0.005503</td>\n",
       "      <td>...</td>\n",
       "      <td>-0.004612</td>\n",
       "      <td>0.006279</td>\n",
       "      <td>0.021188</td>\n",
       "      <td>0.013563</td>\n",
       "      <td>-0.012280</td>\n",
       "      <td>0.007734</td>\n",
       "      <td>0.009512</td>\n",
       "      <td>0.000568</td>\n",
       "      <td>0.001993</td>\n",
       "      <td>0.015171</td>\n",
       "    </tr>\n",
       "    <tr>\n",
       "      <th>189</th>\n",
       "      <td>0.009558</td>\n",
       "      <td>0.001164</td>\n",
       "      <td>0.003374</td>\n",
       "      <td>0.004169</td>\n",
       "      <td>-0.002080</td>\n",
       "      <td>-0.001947</td>\n",
       "      <td>-0.001037</td>\n",
       "      <td>0.013933</td>\n",
       "      <td>-0.004449</td>\n",
       "      <td>0.006851</td>\n",
       "      <td>...</td>\n",
       "      <td>-0.000818</td>\n",
       "      <td>-0.004612</td>\n",
       "      <td>0.006279</td>\n",
       "      <td>0.021188</td>\n",
       "      <td>0.013563</td>\n",
       "      <td>-0.012280</td>\n",
       "      <td>0.007734</td>\n",
       "      <td>0.009512</td>\n",
       "      <td>0.000568</td>\n",
       "      <td>0.001993</td>\n",
       "    </tr>\n",
       "  </tbody>\n",
       "</table>\n",
       "<p>5 rows × 180 columns</p>\n",
       "</div>"
      ],
      "text/plain": [
       "          t-1       t-2       t-3       t-4       t-5       t-6       t-7  \\\n",
       "185 -0.002080 -0.001947 -0.001037  0.013933 -0.004449  0.006851 -0.005503   \n",
       "186  0.004169 -0.002080 -0.001947 -0.001037  0.013933 -0.004449  0.006851   \n",
       "187  0.003374  0.004169 -0.002080 -0.001947 -0.001037  0.013933 -0.004449   \n",
       "188  0.001164  0.003374  0.004169 -0.002080 -0.001947 -0.001037  0.013933   \n",
       "189  0.009558  0.001164  0.003374  0.004169 -0.002080 -0.001947 -0.001037   \n",
       "\n",
       "          t-8       t-9      t-10  ...     t-171     t-172     t-173  \\\n",
       "185  0.015569 -0.007397 -0.000924  ...  0.013563 -0.012280  0.007734   \n",
       "186 -0.005503  0.015569 -0.007397  ...  0.021188  0.013563 -0.012280   \n",
       "187  0.006851 -0.005503  0.015569  ...  0.006279  0.021188  0.013563   \n",
       "188 -0.004449  0.006851 -0.005503  ... -0.004612  0.006279  0.021188   \n",
       "189  0.013933 -0.004449  0.006851  ... -0.000818 -0.004612  0.006279   \n",
       "\n",
       "        t-174     t-175     t-176     t-177     t-178     t-179     t-180  \n",
       "185  0.009512  0.000568  0.001993  0.015171  0.006545 -0.007792 -0.021463  \n",
       "186  0.007734  0.009512  0.000568  0.001993  0.015171  0.006545 -0.007792  \n",
       "187 -0.012280  0.007734  0.009512  0.000568  0.001993  0.015171  0.006545  \n",
       "188  0.013563 -0.012280  0.007734  0.009512  0.000568  0.001993  0.015171  \n",
       "189  0.021188  0.013563 -0.012280  0.007734  0.009512  0.000568  0.001993  \n",
       "\n",
       "[5 rows x 180 columns]"
      ]
     },
     "execution_count": 11,
     "metadata": {},
     "output_type": "execute_result"
    }
   ],
   "source": [
    "x_df = pd.DataFrame(x_train)\n",
    "x_df.head()"
   ]
  },
  {
   "cell_type": "markdown",
   "metadata": {
    "colab_type": "text",
    "id": "6AFbtpRkqfR9"
   },
   "source": [
    "### Train a K Means clustering model on the data. \n",
    "\n",
    "Try different values for K and see how the summary changes."
   ]
  },
  {
   "cell_type": "code",
   "execution_count": 12,
   "metadata": {
    "colab": {},
    "colab_type": "code",
    "id": "msE__TviqfR-"
   },
   "outputs": [
    {
     "name": "stdout",
     "output_type": "stream",
     "text": [
      "For 2 clusters, it is:  \n",
      "               precision    recall  f1-score   support\n",
      "\n",
      "           0       0.71      0.08      0.14       133\n",
      "           1       0.39      0.95      0.55        82\n",
      "\n",
      "    accuracy                           0.41       215\n",
      "   macro avg       0.55      0.51      0.34       215\n",
      "weighted avg       0.59      0.41      0.29       215\n",
      "\n",
      "For 3 clusters, it is:  \n",
      "               precision    recall  f1-score   support\n",
      "\n",
      "           0       0.65      0.41      0.50       133\n",
      "           1       0.32      0.27      0.29        82\n",
      "           2       0.00      0.00      0.00         0\n",
      "\n",
      "    accuracy                           0.36       215\n",
      "   macro avg       0.32      0.23      0.27       215\n",
      "weighted avg       0.52      0.36      0.42       215\n",
      "\n"
     ]
    },
    {
     "name": "stderr",
     "output_type": "stream",
     "text": [
      "C:\\Users\\jonat\\anaconda3\\lib\\site-packages\\sklearn\\metrics\\_classification.py:1272: UndefinedMetricWarning: Recall and F-score are ill-defined and being set to 0.0 in labels with no true samples. Use `zero_division` parameter to control this behavior.\n",
      "  _warn_prf(average, modifier, msg_start, len(result))\n",
      "C:\\Users\\jonat\\anaconda3\\lib\\site-packages\\sklearn\\metrics\\_classification.py:1272: UndefinedMetricWarning: Recall and F-score are ill-defined and being set to 0.0 in labels with no true samples. Use `zero_division` parameter to control this behavior.\n",
      "  _warn_prf(average, modifier, msg_start, len(result))\n",
      "C:\\Users\\jonat\\anaconda3\\lib\\site-packages\\sklearn\\metrics\\_classification.py:1272: UndefinedMetricWarning: Precision and F-score are ill-defined and being set to 0.0 in labels with no predicted samples. Use `zero_division` parameter to control this behavior.\n",
      "  _warn_prf(average, modifier, msg_start, len(result))\n"
     ]
    },
    {
     "name": "stdout",
     "output_type": "stream",
     "text": [
      "For 4 clusters, it is:  \n",
      "               precision    recall  f1-score   support\n",
      "\n",
      "           0       0.70      0.29      0.41       133\n",
      "           1       0.41      0.24      0.31        82\n",
      "           2       0.00      0.00      0.00         0\n",
      "           3       0.00      0.00      0.00         0\n",
      "\n",
      "    accuracy                           0.27       215\n",
      "   macro avg       0.28      0.13      0.18       215\n",
      "weighted avg       0.59      0.27      0.37       215\n",
      "\n",
      "For 5 clusters, it is:  \n",
      "               precision    recall  f1-score   support\n",
      "\n",
      "           0       0.00      0.00      0.00       133\n",
      "           1       0.34      0.24      0.29        82\n",
      "           2       0.00      0.00      0.00         0\n",
      "           3       0.00      0.00      0.00         0\n",
      "           4       0.00      0.00      0.00         0\n",
      "\n",
      "    accuracy                           0.09       215\n",
      "   macro avg       0.07      0.05      0.06       215\n",
      "weighted avg       0.13      0.09      0.11       215\n",
      "\n"
     ]
    },
    {
     "name": "stderr",
     "output_type": "stream",
     "text": [
      "C:\\Users\\jonat\\anaconda3\\lib\\site-packages\\sklearn\\metrics\\_classification.py:1272: UndefinedMetricWarning: Recall and F-score are ill-defined and being set to 0.0 in labels with no true samples. Use `zero_division` parameter to control this behavior.\n",
      "  _warn_prf(average, modifier, msg_start, len(result))\n"
     ]
    }
   ],
   "source": [
    "clusters = range(2,6)\n",
    "\n",
    "\n",
    "for cluster in clusters:\n",
    "    model = KMeans(n_clusters = cluster, random_state = 69)\n",
    "    model.fit(x_train, y_train)\n",
    "    pred = model.predict(x_test)\n",
    "    print(f'For {cluster} clusters, it is: ','\\n' ,classification_report(y_test, pred))"
   ]
  },
  {
   "cell_type": "markdown",
   "metadata": {
    "colab_type": "text",
    "id": "qSiAPoSTqfSA"
   },
   "source": [
    "### Visualize the summary of the clustering results as a heatmap."
   ]
  },
  {
   "cell_type": "code",
   "execution_count": 18,
   "metadata": {
    "colab": {},
    "colab_type": "code",
    "id": "cyF6X_ftqfSB"
   },
   "outputs": [
    {
     "data": {
      "text/plain": [
       "<matplotlib.axes._subplots.AxesSubplot at 0x1907c097f88>"
      ]
     },
     "execution_count": 18,
     "metadata": {},
     "output_type": "execute_result"
    },
    {
     "data": {
      "image/png": "[encoded data removed]",
      "text/plain": [
       "<Figure size 1440x1440 with 2 Axes>"
      ]
     },
     "metadata": {
      "needs_background": "light"
     },
     "output_type": "display_data"
    }
   ],
   "source": [
    "model = KMeans(n_clusters = cluster, random_state = 69)\n",
    "model.fit(x_train, y_train)\n",
    "labels = model.labels_\n",
    "x_df['label'] = model.labels_\n",
    "\n",
    "\n",
    "fig, ax = plt.subplots(figsize = (20,20))\n",
    "sns.heatmap(x_df.groupby(by = 'label').mean(), linewidths = .5, ax = ax)"
   ]
  },
  {
   "cell_type": "markdown",
   "metadata": {},
   "source": [
    "# I feel like we should be looking into other methods and feature engineering like umap and random forest for better analysis of actual stock predictive values, but eh, I'm a noob"
   ]
  },
  {
   "cell_type": "code",
   "execution_count": null,
   "metadata": {},
   "outputs": [],
   "source": []
  }
 ],
 "metadata": {
  "colab": {
   "name": "Time Series Day 5 Afternoon Assignment.ipynb",
   "provenance": []
  },
  "kernelspec": {
   "display_name": "Python 3",
   "language": "python",
   "name": "python3"
  },
  "language_info": {
   "codemirror_mode": {
    "name": "ipython",
    "version": 3
   },
   "file_extension": ".py",
   "mimetype": "text/x-python",
   "name": "python",
   "nbconvert_exporter": "python",
   "pygments_lexer": "ipython3",
   "version": "3.7.6"
  }
 },
 "nbformat": 4,
 "nbformat_minor": 1
}
