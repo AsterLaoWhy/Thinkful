{
 "cells": [
  {
   "cell_type": "code",
   "execution_count": 25,
   "metadata": {},
   "outputs": [],
   "source": [
    "from sklearn.datasets import load_digits\n",
    "import warnings\n",
    "\n",
    "warnings.filterwarnings('ignore')"
   ]
  },
  {
   "cell_type": "code",
   "execution_count": 7,
   "metadata": {},
   "outputs": [],
   "source": [
    "X, y = load_digits(return_X_y=True)"
   ]
  },
  {
   "cell_type": "code",
   "execution_count": 21,
   "metadata": {},
   "outputs": [
    {
     "name": "stdout",
     "output_type": "stream",
     "text": [
      "The number of rows in the dataset is 1797\n",
      "The number of features in the dataset is 17\n"
     ]
    },
    {
     "data": {
      "text/plain": [
       "array([178, 182, 177, 183, 181, 182, 181, 179, 174, 180], dtype=int64)"
      ]
     },
     "execution_count": 21,
     "metadata": {},
     "output_type": "execute_result"
    }
   ],
   "source": [
    "import numpy as np\n",
    "\n",
    "print('The number of rows in the dataset is {:d}'.format(len(X)))\n",
    "print('The number of features in the dataset is {:d}'.format(len(np.unique(X))))\n",
    "np.bincount(y)"
   ]
  },
  {
   "cell_type": "code",
   "execution_count": 22,
   "metadata": {},
   "outputs": [],
   "source": [
    "from sklearn.model_selection import train_test_split\n",
    "\n",
    "X_train, X_test, y_train, y_test = train_test_split(X, y, test_size=0.2, random_state=69)"
   ]
  },
  {
   "cell_type": "code",
   "execution_count": 26,
   "metadata": {},
   "outputs": [
    {
     "name": "stdout",
     "output_type": "stream",
     "text": [
      "Accuracy scores for the 5 folds:  [0.91752577 0.89965398 0.93402778 0.90877193 0.92605634]\n",
      "Mean cross validation score: 0.917\n"
     ]
    }
   ],
   "source": [
    "# imports here\n",
    "from sklearn.model_selection import cross_val_score\n",
    "from sklearn.linear_model import LogisticRegression\n",
    "\n",
    "lr_clf = LogisticRegression(solver = 'lbfgs',penalty = 'none', max_iter = 42069)\n",
    "lr_cv_scores = cross_val_score(lr_clf, X_train, y_train, cv = 5)\n",
    "\n",
    "print('Accuracy scores for the 5 folds: ', lr_cv_scores)\n",
    "print('Mean cross validation score: {:.3f}'.format(lr_cv_scores.mean()))"
   ]
  },
  {
   "cell_type": "code",
   "execution_count": 28,
   "metadata": {},
   "outputs": [
    {
     "name": "stdout",
     "output_type": "stream",
     "text": [
      "Accuracy scores for the 5 folds:  [0.96563574 0.96539792 0.96875    0.96491228 0.97183099]\n",
      "Mean cross validation score: 0.967\n"
     ]
    }
   ],
   "source": [
    "# imports here\n",
    "from sklearn.ensemble import RandomForestClassifier\n",
    "\n",
    "rf_clf = RandomForestClassifier(n_estimators=69)\n",
    "rf_cv_scores = cross_val_score(rf_clf, X_train, y_train, cv = 5)\n",
    "\n",
    "print('Accuracy scores for the 5 folds: ', rf_cv_scores)\n",
    "print('Mean cross validation score: {:.3f}'.format(rf_cv_scores.mean()))"
   ]
  },
  {
   "cell_type": "code",
   "execution_count": null,
   "metadata": {},
   "outputs": [],
   "source": []
  }
 ],
 "metadata": {
  "kernelspec": {
   "display_name": "Python 3",
   "language": "python",
   "name": "python3"
  },
  "language_info": {
   "codemirror_mode": {
    "name": "ipython",
    "version": 3
   },
   "file_extension": ".py",
   "mimetype": "text/x-python",
   "name": "python",
   "nbconvert_exporter": "python",
   "pygments_lexer": "ipython3",
   "version": "3.7.4"
  }
 },
 "nbformat": 4,
 "nbformat_minor": 2
}
