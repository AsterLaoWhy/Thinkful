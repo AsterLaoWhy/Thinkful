{
 "cells": [
  {
   "cell_type": "markdown",
   "metadata": {
    "colab_type": "text",
    "id": "-Wax_Mm1sRR1"
   },
   "source": [
    "## 1. First, make some data preprocessing to clean up the data. You can use your solution to the assignment of the data preprocessing checkpoint of this module."
   ]
  },
  {
   "cell_type": "code",
   "execution_count": 5,
   "metadata": {},
   "outputs": [
    {
     "name": "stdout",
     "output_type": "stream",
     "text": [
      "Collecting chatterbot\n",
      "  Using cached ChatterBot-1.0.5-py2.py3-none-any.whl (67 kB)\n",
      "Requirement already satisfied: mathparse<0.2,>=0.1 in c:\\users\\jonat\\anaconda3\\lib\\site-packages (from chatterbot) (0.1.2)\n",
      "Processing c:\\users\\jonat\\appdata\\local\\pip\\cache\\wheels\\26\\f5\\25\\6f2227c446ba93eef8dc8544d76a51a67a10c66066ec216d5d\\sqlalchemy-1.2.19-cp37-cp37m-win_amd64.whl\n",
      "Requirement already satisfied: spacy<2.2,>=2.1 in c:\\users\\jonat\\anaconda3\\lib\\site-packages (from chatterbot) (2.1.9)\n",
      "Requirement already satisfied: nltk<4.0,>=3.2 in c:\\users\\jonat\\anaconda3\\lib\\site-packages (from chatterbot) (3.4.5)\n",
      "Collecting pyyaml<5.2,>=5.1\n",
      "  Using cached PyYAML-5.1.2-cp37-cp37m-win_amd64.whl (215 kB)\n",
      "Requirement already satisfied: pytz in c:\\users\\jonat\\anaconda3\\lib\\site-packages (from chatterbot) (2019.3)\n",
      "Requirement already satisfied: pint>=0.8.1 in c:\\users\\jonat\\anaconda3\\lib\\site-packages (from chatterbot) (0.12)\n",
      "Requirement already satisfied: pymongo<4.0,>=3.3 in c:\\users\\jonat\\anaconda3\\lib\\site-packages (from chatterbot) (3.10.1)\n",
      "Collecting python-dateutil<2.8,>=2.7\n",
      "  Using cached python_dateutil-2.7.5-py2.py3-none-any.whl (225 kB)\n",
      "Requirement already satisfied: plac<1.0.0,>=0.9.6 in c:\\users\\jonat\\anaconda3\\lib\\site-packages (from spacy<2.2,>=2.1->chatterbot) (0.9.6)\n",
      "Requirement already satisfied: blis<0.3.0,>=0.2.2 in c:\\users\\jonat\\anaconda3\\lib\\site-packages (from spacy<2.2,>=2.1->chatterbot) (0.2.4)\n",
      "Requirement already satisfied: srsly<1.1.0,>=0.0.6 in c:\\users\\jonat\\anaconda3\\lib\\site-packages (from spacy<2.2,>=2.1->chatterbot) (1.0.2)\n",
      "Requirement already satisfied: murmurhash<1.1.0,>=0.28.0 in c:\\users\\jonat\\anaconda3\\lib\\site-packages (from spacy<2.2,>=2.1->chatterbot) (1.0.2)\n",
      "Requirement already satisfied: numpy>=1.15.0 in c:\\users\\jonat\\anaconda3\\lib\\site-packages (from spacy<2.2,>=2.1->chatterbot) (1.18.1)\n",
      "Requirement already satisfied: preshed<2.1.0,>=2.0.1 in c:\\users\\jonat\\anaconda3\\lib\\site-packages (from spacy<2.2,>=2.1->chatterbot) (2.0.1)\n",
      "Requirement already satisfied: thinc<7.1.0,>=7.0.8 in c:\\users\\jonat\\anaconda3\\lib\\site-packages (from spacy<2.2,>=2.1->chatterbot) (7.0.8)\n",
      "Requirement already satisfied: requests<3.0.0,>=2.13.0 in c:\\users\\jonat\\anaconda3\\lib\\site-packages (from spacy<2.2,>=2.1->chatterbot) (2.22.0)\n",
      "Requirement already satisfied: cymem<2.1.0,>=2.0.2 in c:\\users\\jonat\\anaconda3\\lib\\site-packages (from spacy<2.2,>=2.1->chatterbot) (2.0.3)\n",
      "Requirement already satisfied: wasabi<1.1.0,>=0.2.0 in c:\\users\\jonat\\anaconda3\\lib\\site-packages (from spacy<2.2,>=2.1->chatterbot) (0.6.0)\n",
      "Requirement already satisfied: six in c:\\users\\jonat\\anaconda3\\lib\\site-packages (from nltk<4.0,>=3.2->chatterbot) (1.14.0)\n",
      "Requirement already satisfied: setuptools in c:\\users\\jonat\\anaconda3\\lib\\site-packages (from pint>=0.8.1->chatterbot) (45.2.0.post20200210)\n",
      "Requirement already satisfied: tqdm<5.0.0,>=4.10.0 in c:\\users\\jonat\\anaconda3\\lib\\site-packages (from thinc<7.1.0,>=7.0.8->spacy<2.2,>=2.1->chatterbot) (4.42.1)\n",
      "Requirement already satisfied: urllib3!=1.25.0,!=1.25.1,<1.26,>=1.21.1 in c:\\users\\jonat\\anaconda3\\lib\\site-packages (from requests<3.0.0,>=2.13.0->spacy<2.2,>=2.1->chatterbot) (1.25.8)\n",
      "Requirement already satisfied: certifi>=2017.4.17 in c:\\users\\jonat\\anaconda3\\lib\\site-packages (from requests<3.0.0,>=2.13.0->spacy<2.2,>=2.1->chatterbot) (2019.11.28)\n",
      "Requirement already satisfied: chardet<3.1.0,>=3.0.2 in c:\\users\\jonat\\anaconda3\\lib\\site-packages (from requests<3.0.0,>=2.13.0->spacy<2.2,>=2.1->chatterbot) (3.0.4)\n",
      "Requirement already satisfied: idna<2.9,>=2.5 in c:\\users\\jonat\\anaconda3\\lib\\site-packages (from requests<3.0.0,>=2.13.0->spacy<2.2,>=2.1->chatterbot) (2.8)\n",
      "Installing collected packages: sqlalchemy, pyyaml, python-dateutil, chatterbot\n",
      "  Attempting uninstall: sqlalchemy\n",
      "    Found existing installation: SQLAlchemy 1.3.17\n",
      "    Uninstalling SQLAlchemy-1.3.17:\n",
      "      Successfully uninstalled SQLAlchemy-1.3.17\n",
      "Note: you may need to restart the kernel to use updated packages.\n"
     ]
    },
    {
     "name": "stderr",
     "output_type": "stream",
     "text": [
      "ERROR: fbprophet 0.6 has requirement python-dateutil>=2.8.0, but you'll have python-dateutil 2.7.5 which is incompatible.\n",
      "ERROR: Could not install packages due to an EnvironmentError: [WinError 5] Access is denied: 'c:\\\\users\\\\jonat\\\\anaconda3\\\\lib\\\\site-packages\\\\~~lalchemy\\\\cprocessors.cp37-win_amd64.pyd'\n",
      "Consider using the `--user` option or check the permissions.\n",
      "\n"
     ]
    }
   ],
   "source": [
    "pip install chatterbot"
   ]
  },
  {
   "cell_type": "code",
   "execution_count": 6,
   "metadata": {
    "colab": {
     "base_uri": "https://localhost:8080/",
     "height": 156
    },
    "colab_type": "code",
    "executionInfo": {
     "elapsed": 7383,
     "status": "ok",
     "timestamp": 1568732669671,
     "user": {
      "displayName": "Yunus Bulut",
      "photoUrl": "",
      "userId": "10252913168794832935"
     },
     "user_tz": -120
    },
    "id": "zITt04QTsRR2",
    "outputId": "1efc7751-1d5b-4c7f-fd5c-ec2d63048105"
   },
   "outputs": [
    {
     "ename": "ModuleNotFoundError",
     "evalue": "No module named 'chatterbot'",
     "output_type": "error",
     "traceback": [
      "\u001b[1;31m---------------------------------------------------------------------------\u001b[0m",
      "\u001b[1;31mModuleNotFoundError\u001b[0m                       Traceback (most recent call last)",
      "\u001b[1;32m<ipython-input-6-09459bac01f4>\u001b[0m in \u001b[0;36m<module>\u001b[1;34m\u001b[0m\n\u001b[0;32m      6\u001b[0m \u001b[1;32mimport\u001b[0m \u001b[0mspacy\u001b[0m\u001b[1;33m\u001b[0m\u001b[1;33m\u001b[0m\u001b[0m\n\u001b[0;32m      7\u001b[0m \u001b[1;32mimport\u001b[0m \u001b[0mre\u001b[0m\u001b[1;33m\u001b[0m\u001b[1;33m\u001b[0m\u001b[0m\n\u001b[1;32m----> 8\u001b[1;33m \u001b[1;32mfrom\u001b[0m \u001b[0mchatterbot\u001b[0m \u001b[1;32mimport\u001b[0m \u001b[0mChatBot\u001b[0m\u001b[1;33m\u001b[0m\u001b[1;33m\u001b[0m\u001b[0m\n\u001b[0m\u001b[0;32m      9\u001b[0m \u001b[1;32mfrom\u001b[0m \u001b[0mchatterbot\u001b[0m\u001b[1;33m.\u001b[0m\u001b[0mtrainers\u001b[0m \u001b[1;32mimport\u001b[0m \u001b[0mListTrainer\u001b[0m\u001b[1;33m,\u001b[0m \u001b[0mChatterBotCorpusTrainer\u001b[0m\u001b[1;33m\u001b[0m\u001b[1;33m\u001b[0m\u001b[0m\n\u001b[0;32m     10\u001b[0m \u001b[1;32mfrom\u001b[0m \u001b[0mchatterbot\u001b[0m\u001b[1;33m.\u001b[0m\u001b[0mconversation\u001b[0m \u001b[1;32mimport\u001b[0m \u001b[0mStatement\u001b[0m\u001b[1;33m\u001b[0m\u001b[1;33m\u001b[0m\u001b[0m\n",
      "\u001b[1;31mModuleNotFoundError\u001b[0m: No module named 'chatterbot'"
     ]
    }
   ],
   "source": [
    "import matplotlib.pyplot as plt\n",
    "import numpy as np\n",
    "import pandas as pd\n",
    "from sqlalchemy import create_engine\n",
    "import nltk\n",
    "import spacy\n",
    "import re\n",
    "from chatterbot import ChatBot\n",
    "from chatterbot.trainers import ListTrainer, ChatterBotCorpusTrainer\n",
    "from chatterbot.conversation import Statement\n",
    "import random\n",
    "\n",
    "import warnings\n",
    "warnings.filterwarnings(action=\"ignore\")\n",
    "\n",
    "!python -m spacy download en"
   ]
  },
  {
   "cell_type": "code",
   "execution_count": 4,
   "metadata": {
    "colab": {},
    "colab_type": "code",
    "id": "LC7JfFS_sRR6"
   },
   "outputs": [],
   "source": [
    "postgres_user = 'dsbc_student'\n",
    "postgres_pw = '7*.8G9QH21'\n",
    "postgres_host = '142.93.121.174'\n",
    "postgres_port = '5432'\n",
    "postgres_db = 'cornell_movie_dialogs'\n",
    "\n",
    "engine = create_engine('postgresql://{}:{}@{}:{}/{}'.format(\n",
    "    postgres_user, postgres_pw, postgres_host, postgres_port, postgres_db))\n",
    "\n",
    "dialogs_df = pd.read_sql_query('select * from dialogs',con=engine)\n",
    "\n",
    "# no need for an open connection, as we're only doing a single query\n",
    "engine.dispose()"
   ]
  },
  {
   "cell_type": "code",
   "execution_count": 5,
   "metadata": {
    "colab": {},
    "colab_type": "code",
    "id": "2T5fAceNsRR9"
   },
   "outputs": [],
   "source": [
    "nlp = spacy.load('en_core_web_sm', disable=['parser', 'ner'])\n",
    "nlp.add_pipe(nlp.create_pipe('sentencizer'))\n",
    "\n",
    "# below is necessary to avoid memory error of SpaCy\n",
    "nlp.max_length = 20000000\n",
    "\n",
    "# all the processing work is done below, so it may take a while\n",
    "dialogs_doc = nlp(\" \".join(dialogs_df.dialogs))"
   ]
  },
  {
   "cell_type": "code",
   "execution_count": null,
   "metadata": {
    "colab": {},
    "colab_type": "code",
    "id": "iF8t4ngFuUHk"
   },
   "outputs": [],
   "source": [
    "dialog_sents = [sent.text for sent in dialogs_doc.sents if len(sent.text) > 1]"
   ]
  },
  {
   "cell_type": "markdown",
   "metadata": {
    "colab_type": "text",
    "id": "-nGE_yOlsRSG"
   },
   "source": [
    "## 2. Develop a chatbot using this corpus. In doing this, you're free to choose a chatbot development libary like ChatterBot or to write your own code from scratch."
   ]
  },
  {
   "cell_type": "code",
   "execution_count": null,
   "metadata": {
    "colab": {},
    "colab_type": "code",
    "id": "ZN3M5hZW53tI"
   },
   "outputs": [],
   "source": [
    "GREETING_INPUTS = [\"hello\", \"hi\", \"greetings\", \"what's up\",\"hey\"]\n",
    "GREETING_RESPONSES = [\"hello\", \"hi\", \"hey\", \"hi there\"]\n",
    "def greeting(sentence):\n",
    "    for word in sentence.split():\n",
    "        if word.lower() in GREETING_INPUTS:\n",
    "            return random.choice(GREETING_RESPONSES)"
   ]
  },
  {
   "cell_type": "code",
   "execution_count": null,
   "metadata": {
    "colab": {
     "base_uri": "https://localhost:8080/",
     "height": 136
    },
    "colab_type": "code",
    "executionInfo": {
     "elapsed": 1154861,
     "status": "ok",
     "timestamp": 1568735155366,
     "user": {
      "displayName": "Yunus Bulut",
      "photoUrl": "",
      "userId": "10252913168794832935"
     },
     "user_tz": -120
    },
    "id": "ikUbA7qMsRSI",
    "outputId": "2ecde1b9-d500-451f-a264-b662f01b13ab"
   },
   "outputs": [],
   "source": [
    "# create a chatbot\n",
    "chatbot = ChatBot('Dialogs')\n",
    "# this is to remove the accumulated knowledge base\n",
    "chatbot.storage.drop()\n",
    "\n",
    "# create a new trainer for the chatbot\n",
    "trainer = ListTrainer(chatbot)\n",
    "\n",
    "# train the chatbot\n",
    "trainer.train(dialog_sents)"
   ]
  },
  {
   "cell_type": "markdown",
   "metadata": {
    "colab_type": "text",
    "id": "hfUp0RgqsRSM"
   },
   "source": [
    "## 3. Make a conversation with your chatbot and discuss the strengths and weaknesses of it."
   ]
  },
  {
   "cell_type": "code",
   "execution_count": null,
   "metadata": {
    "colab": {},
    "colab_type": "code",
    "id": "uQsVqbUy6DTB"
   },
   "outputs": [],
   "source": [
    "import random"
   ]
  },
  {
   "cell_type": "code",
   "execution_count": null,
   "metadata": {
    "colab": {
     "base_uri": "https://localhost:8080/",
     "height": 714
    },
    "colab_type": "code",
    "executionInfo": {
     "elapsed": 337238,
     "status": "ok",
     "timestamp": 1568735596911,
     "user": {
      "displayName": "Yunus Bulut",
      "photoUrl": "",
      "userId": "10252913168794832935"
     },
     "user_tz": -120
    },
    "id": "y9RsdAEssRSN",
    "outputId": "58a3df86-1ad7-45bc-e21c-666aacefe17a",
    "scrolled": true
   },
   "outputs": [],
   "source": [
    "print(\"Cornell: I will try to respond you reasonably. If you want to exit, type bye please.\")\n",
    "\n",
    "# below is the chatting\n",
    "while True:\n",
    "    \n",
    "    user_input = input(\"User: \")\n",
    "    user_input=user_input.lower()\n",
    "    \n",
    "    if(user_input!='bye'):\n",
    "        if(user_input == 'thanks' or user_input == 'thank you'):\n",
    "            break\n",
    "            print(\"Cornell: You're welcome.\")\n",
    "        else:\n",
    "            if(greeting(user_input) != None):\n",
    "                print(\"Cornell: \" + greeting(user_input))\n",
    "            else:\n",
    "                print(\"Cornell: \", end = \"\")\n",
    "                print(chatbot.get_response(user_input))\n",
    "    else:\n",
    "        print(\"Cornell: Bye! It was a great chat.\")\n",
    "        break"
   ]
  },
  {
   "cell_type": "markdown",
   "metadata": {},
   "source": [
    "Not bad, right? We can really hear the Hollywood jargon in the conversation. As expected, our bot carries the colors and the biases in the movies!"
   ]
  }
 ],
 "metadata": {
  "colab": {
   "collapsed_sections": [],
   "machine_shape": "hm",
   "name": "7.solution_chatbot.ipynb",
   "provenance": [],
   "version": "0.3.2"
  },
  "kernelspec": {
   "display_name": "Python 3",
   "language": "python",
   "name": "python3"
  },
  "language_info": {
   "codemirror_mode": {
    "name": "ipython",
    "version": 3
   },
   "file_extension": ".py",
   "mimetype": "text/x-python",
   "name": "python",
   "nbconvert_exporter": "python",
   "pygments_lexer": "ipython3",
   "version": "3.7.6"
  },
  "latex_envs": {
   "LaTeX_envs_menu_present": true,
   "autoclose": false,
   "autocomplete": true,
   "bibliofile": "biblio.bib",
   "cite_by": "apalike",
   "current_citInitial": 1,
   "eqLabelWithNumbers": true,
   "eqNumInitial": 1,
   "hotkeys": {
    "equation": "Ctrl-E",
    "itemize": "Ctrl-I"
   },
   "labels_anchors": false,
   "latex_user_defs": false,
   "report_style_numbering": false,
   "user_envs_cfg": false
  },
  "varInspector": {
   "cols": {
    "lenName": 16,
    "lenType": 16,
    "lenVar": 40
   },
   "kernels_config": {
    "python": {
     "delete_cmd_postfix": "",
     "delete_cmd_prefix": "del ",
     "library": "var_list.py",
     "varRefreshCmd": "print(var_dic_list())"
    },
    "r": {
     "delete_cmd_postfix": ") ",
     "delete_cmd_prefix": "rm(",
     "library": "var_list.r",
     "varRefreshCmd": "cat(var_dic_list()) "
    }
   },
   "types_to_exclude": [
    "module",
    "function",
    "builtin_function_or_method",
    "instance",
    "_Feature"
   ],
   "window_display": false
  }
 },
 "nbformat": 4,
 "nbformat_minor": 1
}
