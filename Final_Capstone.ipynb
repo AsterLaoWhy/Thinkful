{
  "nbformat": 4,
  "nbformat_minor": 0,
  "metadata": {
    "colab": {
      "name": "Final Capstone",
      "provenance": [],
      "collapsed_sections": []
    },
    "kernelspec": {
      "name": "python3",
      "display_name": "Python 3"
    },
    "accelerator": "GPU"
  },
  "cells": [
    {
      "cell_type": "markdown",
      "metadata": {
        "id": "tOHZpTacuyfQ",
        "colab_type": "text"
      },
      "source": [
        "# Here is my attempt at crypto-trading. I utilize datetime, neural nets, supervised, and unsupervised learning to code an algorithm to automatically trade cryptocurrency."
      ]
    },
    {
      "cell_type": "code",
      "metadata": {
        "id": "GJyLitx6uv89",
        "colab_type": "code",
        "colab": {
          "base_uri": "https://localhost:8080/",
          "height": 52
        },
        "outputId": "3a583a9f-2d72-407f-bfce-c3fbb01a3640"
      },
      "source": [
        "import numpy as np\n",
        "import pandas as pd\n",
        "import scipy.stats as stats\n",
        "import matplotlib.pyplot as plt\n",
        "from pandas_datareader import data\n",
        "import datetime as dt\n",
        "from datetime import datetime\n",
        "import seaborn as sns\n",
        "from scipy.stats import boxcox\n",
        "from sklearn.preprocessing import StandardScaler\n",
        "from sklearn.model_selection import train_test_split\n",
        "from sklearn.svm import LinearSVC\n",
        "from sklearn.linear_model import LogisticRegression\n",
        "from xgboost import XGBClassifier\n",
        "from sklearn.decomposition import PCA\n",
        "from sklearn.cluster import KMeans\n",
        "from sklearn.metrics import classification_report\n",
        "from tensorflow.keras.models import Sequential,model_from_json\n",
        "from tensorflow.keras.layers import Dense, LSTM, Dropout, ConvLSTM2D, Flatten, RepeatVector,TimeDistributed\n",
        "from tensorflow.keras.utils import to_categorical\n",
        "import umap\n",
        "import pickle"
      ],
      "execution_count": 1,
      "outputs": [
        {
          "output_type": "stream",
          "text": [
            "/usr/local/lib/python3.6/dist-packages/pandas_datareader/compat/__init__.py:7: FutureWarning: pandas.util.testing is deprecated. Use the functions in the public API at pandas.testing instead.\n",
            "  from pandas.util.testing import assert_frame_equal\n"
          ],
          "name": "stderr"
        }
      ]
    },
    {
      "cell_type": "code",
      "metadata": {
        "id": "MRHFAny1ZE7Q",
        "colab_type": "code",
        "colab": {}
      },
      "source": [
        "#Functions I will use so I'm saving them for later\n",
        "def convert_data(data, step):\n",
        "  X, y = [], []\n",
        "  for i in range(len(data)-step):\n",
        "    d = i + step\n",
        "    X.append(data[i:d,:-1])\n",
        "    y.append(data[d,-1])\n",
        "  return np.array(X), np.array(y)\n",
        "\n",
        "def evaluate_forecasts(actual, predicted):\n",
        "\tscores = list()\n",
        "\t# calculate an RMSE score for each day\n",
        "\tfor i in range(actual.shape[1]):\n",
        "\t\t# calculate mse\n",
        "\t\tmse = mean_squared_error(actual[:, i], predicted[:, i])\n",
        "\t\t# calculate rmse\n",
        "\t\trmse = sqrt(mse)\n",
        "\t\t# store\n",
        "\t\tscores.append(rmse)\n",
        "\t# calculate overall RMSE\n",
        "\ts = 0\n",
        "\tfor row in range(actual.shape[0]):\n",
        "\t\tfor col in range(actual.shape[1]):\n",
        "\t\t\ts += (actual[row, col] - predicted[row, col])**2\n",
        "\tscore = sqrt(s / (actual.shape[0] * actual.shape[1]))\n",
        "\treturn score, scores"
      ],
      "execution_count": 2,
      "outputs": []
    },
    {
      "cell_type": "code",
      "metadata": {
        "id": "-M8PsaorvoZf",
        "colab_type": "code",
        "colab": {}
      },
      "source": [
        "# Training data is found from kaggle. Link is below. I'm using the btc_usd one\n",
        "#link: https://www.kaggle.com/tencars/392-crypto-currency-pairs-at-minute-resolution\n",
        "\n",
        "\n",
        "\n",
        "df = pd.read_csv(r\"/content/drive/My Drive/Crypto/btcusd.csv\")"
      ],
      "execution_count": 3,
      "outputs": []
    },
    {
      "cell_type": "code",
      "metadata": {
        "id": "DTNY4n7vc9ru",
        "colab_type": "code",
        "colab": {}
      },
      "source": [
        "df = df.groupby('time').mean()"
      ],
      "execution_count": 4,
      "outputs": []
    },
    {
      "cell_type": "code",
      "metadata": {
        "id": "XuVkVCCbw4j-",
        "colab_type": "code",
        "colab": {
          "base_uri": "https://localhost:8080/",
          "height": 247
        },
        "outputId": "3b5a8db4-a202-4f61-9e8e-f0c088ffc532"
      },
      "source": [
        "#I want datetime objects. It's easier to deal with\n",
        "display(df.info())\n",
        "# df.info()"
      ],
      "execution_count": 5,
      "outputs": [
        {
          "output_type": "stream",
          "text": [
            "<class 'pandas.core.frame.DataFrame'>\n",
            "Int64Index: 2841761 entries, 1364774820000 to 1593425100000\n",
            "Data columns (total 5 columns):\n",
            " #   Column  Dtype  \n",
            "---  ------  -----  \n",
            " 0   open    float64\n",
            " 1   close   float64\n",
            " 2   high    float64\n",
            " 3   low     float64\n",
            " 4   volume  float64\n",
            "dtypes: float64(5)\n",
            "memory usage: 130.1 MB\n"
          ],
          "name": "stdout"
        },
        {
          "output_type": "display_data",
          "data": {
            "text/plain": [
              "None"
            ]
          },
          "metadata": {
            "tags": []
          }
        }
      ]
    },
    {
      "cell_type": "code",
      "metadata": {
        "id": "WCxOn5d0iC71",
        "colab_type": "code",
        "colab": {
          "base_uri": "https://localhost:8080/",
          "height": 123
        },
        "outputId": "cbe04347-4c0d-4f2e-b60d-2950e245542c"
      },
      "source": [
        "#Check for nulls to see. YAY! No nulls!\n",
        "df.isna().mean()"
      ],
      "execution_count": 6,
      "outputs": [
        {
          "output_type": "execute_result",
          "data": {
            "text/plain": [
              "open      0.0\n",
              "close     0.0\n",
              "high      0.0\n",
              "low       0.0\n",
              "volume    0.0\n",
              "dtype: float64"
            ]
          },
          "metadata": {
            "tags": []
          },
          "execution_count": 6
        }
      ]
    },
    {
      "cell_type": "code",
      "metadata": {
        "id": "vfUyLVMPdQjW",
        "colab_type": "code",
        "colab": {
          "base_uri": "https://localhost:8080/",
          "height": 283
        },
        "outputId": "ce698e16-19d5-4840-99d4-2564b3447289"
      },
      "source": [
        "df.info"
      ],
      "execution_count": 7,
      "outputs": [
        {
          "output_type": "execute_result",
          "data": {
            "text/plain": [
              "<bound method DataFrame.info of                   open    close         high      low     volume\n",
              "time                                                            \n",
              "1364774820000    93.25    93.30    93.300000    93.25  93.300000\n",
              "1364774880000   100.00   100.00   100.000000   100.00  93.300000\n",
              "1364774940000    93.30    93.30    93.300000    93.30  33.676862\n",
              "1364775060000    93.35    93.47    93.470000    93.35  20.000000\n",
              "1364775120000    93.47    93.47    93.470000    93.47   2.021627\n",
              "...                ...      ...          ...      ...        ...\n",
              "1593424860000  9136.20  9131.00  9136.300000  9131.00   2.821190\n",
              "1593424920000  9131.00  9126.80  9131.000000  9126.80   0.980000\n",
              "1593424980000  9126.80  9126.90  9126.900000  9126.80   0.260999\n",
              "1593425040000  9126.80  9126.80  9126.800000  9126.80   0.226378\n",
              "1593425100000  9126.80  9126.80  9126.878593  9126.80   0.029865\n",
              "\n",
              "[2841761 rows x 5 columns]>"
            ]
          },
          "metadata": {
            "tags": []
          },
          "execution_count": 7
        }
      ]
    },
    {
      "cell_type": "code",
      "metadata": {
        "id": "2gxTLkMKDuoz",
        "colab_type": "code",
        "colab": {}
      },
      "source": [
        "# I will add various RMAs in an attempt to give the computer a better chance at understanding and predicting when to buy/sell\n",
        "# Let's visualize some of these as well\n",
        "df['High 8 RMA'] = df['close'].rolling(window=8).mean()\n",
        "df['High 13 RMA'] = df['close'].rolling(window=13).mean()\n",
        "df['High 21 RMA'] = df['close'].rolling(window=21).mean()\n",
        "df['High 55 RMA'] = df['close'].rolling(window=55).mean()\n",
        "df['Bollinger High'] = df['High 13 RMA'] +df['close'].rolling(2).std()\n",
        "df['Bolllinger Low'] =  df['High 13 RMA'] - df['close'].rolling(2).std()\n",
        "df['returns'] = df['close'].pct_change(60)\n",
        "\n",
        "#What I'm trying to predict\n",
        "#1st strategy loses me money\n",
        "df['target']=(df['returns'].shift(-60)>0).astype(int)\n",
        "\n",
        "#2nd strategy\n",
        "#df['target'] = ((df['close']>df['Bolllinger Low']).shift(-60)>0).astype(int)\n",
        "\n",
        "#3rd Strategy\n",
        "#df['target']=((df['High 8 RMA']>df['High 13 RMA']>df['High 21 RMA']>df['High 55 RMA']).shift(-60)>0).astype(int)"
      ],
      "execution_count": 8,
      "outputs": []
    },
    {
      "cell_type": "code",
      "metadata": {
        "id": "7ZJ1tZJg0O-b",
        "colab_type": "code",
        "colab": {}
      },
      "source": [
        ""
      ],
      "execution_count": 8,
      "outputs": []
    },
    {
      "cell_type": "code",
      "metadata": {
        "id": "DyM9k6O_zNB9",
        "colab_type": "code",
        "colab": {}
      },
      "source": [
        "\n",
        "#now I'm going from 2017 to June 2020\n",
        "df = df.iloc[-1051200:].copy()\n",
        "#Making a time variable for visualizations\n",
        "df['time'] = df.index\n",
        "x = pd.to_datetime(df['time'],unit = \"ms\")\n",
        "df.drop(columns = 'time', inplace = True)\n",
        "#Moving stuff to my next notebook\n",
        "x.to_csv(\"/content/drive/My Drive/Crypto/time.csv\")"
      ],
      "execution_count": 9,
      "outputs": []
    },
    {
      "cell_type": "code",
      "metadata": {
        "id": "Y9PgCl3exQIm",
        "colab_type": "code",
        "colab": {}
      },
      "source": [
        "#Much better. Now it's time to check for NAs"
      ],
      "execution_count": 10,
      "outputs": []
    },
    {
      "cell_type": "code",
      "metadata": {
        "id": "ynwiEzBUyDBo",
        "colab_type": "code",
        "colab": {}
      },
      "source": [
        "# #Cool! Now let's check out how the line goes for open close high and low\n",
        "# df.isna().sum()"
      ],
      "execution_count": 11,
      "outputs": []
    },
    {
      "cell_type": "code",
      "metadata": {
        "id": "JZuKU35byhJH",
        "colab_type": "code",
        "colab": {}
      },
      "source": [
        "# #This makes it look like the difference isn't really there. I'm curious how much of a difference there is between all of these\n",
        "# plt.figure(figsize = (12,6))\n",
        "# plt.plot(\"time\",\"open\", data = df, linewidth = .25)\n",
        "# plt.plot(\"time\",\"close\", data = df, linewidth = .25)\n",
        "# plt.plot(\"time\",\"high\", data = df, linewidth = .25)\n",
        "# plt.plot(\"time\",\"low\", data = df, linewidth = .25)\n",
        "# plt.legend()\n",
        "# plt.show()"
      ],
      "execution_count": 12,
      "outputs": []
    },
    {
      "cell_type": "code",
      "metadata": {
        "id": "OPxDELyjE5He",
        "colab_type": "code",
        "colab": {}
      },
      "source": [
        "# #That's weird. None of the volume is 0\n",
        "# plt.plot(\"time\",\"volume\",data = df)\n",
        "# plt.title(\"Volume Traded\")\n",
        "# plt.show()\n"
      ],
      "execution_count": 13,
      "outputs": []
    },
    {
      "cell_type": "code",
      "metadata": {
        "id": "WJB_fqwrFZqW",
        "colab_type": "code",
        "colab": {}
      },
      "source": [
        "# display((df['volume']==0.000000001).value_counts())"
      ],
      "execution_count": 14,
      "outputs": []
    },
    {
      "cell_type": "code",
      "metadata": {
        "id": "uLHozHWXAdQk",
        "colab_type": "code",
        "colab": {}
      },
      "source": [
        "# oc_diff = df['open']-df['close']\n",
        "# display(oc_diff.max())\n",
        "# display(oc_diff.min())\n",
        "# display(oc_diff.max()-oc_diff.min())"
      ],
      "execution_count": 15,
      "outputs": []
    },
    {
      "cell_type": "code",
      "metadata": {
        "id": "-knSs4MoVED_",
        "colab_type": "code",
        "colab": {
          "base_uri": "https://localhost:8080/",
          "height": 87
        },
        "outputId": "7bdc6fb8-a3a1-4ca2-9ab8-38b6d492d322"
      },
      "source": [
        "df.columns"
      ],
      "execution_count": 16,
      "outputs": [
        {
          "output_type": "execute_result",
          "data": {
            "text/plain": [
              "Index(['open', 'close', 'high', 'low', 'volume', 'High 8 RMA', 'High 13 RMA',\n",
              "       'High 21 RMA', 'High 55 RMA', 'Bollinger High', 'Bolllinger Low',\n",
              "       'returns', 'target'],\n",
              "      dtype='object')"
            ]
          },
          "metadata": {
            "tags": []
          },
          "execution_count": 16
        }
      ]
    },
    {
      "cell_type": "markdown",
      "metadata": {
        "id": "obP-wM_vEAPs",
        "colab_type": "text"
      },
      "source": [
        "# So there's a little difference, but it's harder to see. The PDFs in the repo \"Day.pdf\", and  \"Hour.pdf\" will show that there are multiple crosses in the Bollinger values. Now that we know there is a difference, let's see if we can predict."
      ]
    },
    {
      "cell_type": "markdown",
      "metadata": {
        "id": "6jSk97j54WRj",
        "colab_type": "text"
      },
      "source": [
        "# At this point, things I can tune are\n",
        " - the time window of data being taken into the model\n",
        " - Which moving average the Bollinger bands are taking into account\n",
        " - Predicing the 4 moving average split rather than future price crosses"
      ]
    },
    {
      "cell_type": "markdown",
      "metadata": {
        "id": "za6eAr1m5tj6",
        "colab_type": "text"
      },
      "source": [
        "### Let's run some classification supervised learning models to see how it works. I will try LogRegression, gradient boosted classification, neural nets "
      ]
    },
    {
      "cell_type": "code",
      "metadata": {
        "id": "cGG8UowSljzn",
        "colab_type": "code",
        "colab": {}
      },
      "source": [
        "scaler = StandardScaler()\n",
        "x = df.drop(['returns', 'target'], axis = 1)\n",
        "y = df['target']\n",
        "X_train, X_test, y_train, y_test = train_test_split(x, y, test_size = .2, random_state = 69, shuffle = False)\n",
        "X_train= scaler.fit_transform(X_train)\n",
        "X_test = scaler.transform(X_test)\n",
        "y_test.to_csv('/content/drive/My Drive/Crypto/y_test.csv', index=False)  \n",
        "np.savetxt(\"/content/drive/My Drive/Crypto/X_test.txt\",X_test)\n"
      ],
      "execution_count": 17,
      "outputs": []
    },
    {
      "cell_type": "code",
      "metadata": {
        "id": "kB6XYRpFS-sT",
        "colab_type": "code",
        "colab": {
          "base_uri": "https://localhost:8080/",
          "height": 87
        },
        "outputId": "4fa02460-873d-4be0-f9cc-c1c3347927bf"
      },
      "source": [
        "df.columns"
      ],
      "execution_count": 18,
      "outputs": [
        {
          "output_type": "execute_result",
          "data": {
            "text/plain": [
              "Index(['open', 'close', 'high', 'low', 'volume', 'High 8 RMA', 'High 13 RMA',\n",
              "       'High 21 RMA', 'High 55 RMA', 'Bollinger High', 'Bolllinger Low',\n",
              "       'returns', 'target'],\n",
              "      dtype='object')"
            ]
          },
          "metadata": {
            "tags": []
          },
          "execution_count": 18
        }
      ]
    },
    {
      "cell_type": "code",
      "metadata": {
        "id": "Eu0cljt0idUV",
        "colab_type": "code",
        "colab": {}
      },
      "source": [
        "#Due to Ram constraints, please see my second notebook for model comparison\n",
        "\n",
        "# LGR = LogisticRegression(class_weight = 'balanced', random_state = 69)\n",
        "# LGR.fit(X_train, y_train)\n",
        "# predictions = LGR.predict(X_test)\n",
        "# np.savetxt(\"/content/drive/My Drive/Crypto/LGR_predictions.txt\", predictions)\n",
        "# pickle.dump(LGR, open(\"/content/drive/My Drive/Crypto/CryptoLGR_model.sav\", \"wb\"))"
      ],
      "execution_count": 19,
      "outputs": []
    },
    {
      "cell_type": "code",
      "metadata": {
        "id": "cWw9Ut9aidZ2",
        "colab_type": "code",
        "colab": {}
      },
      "source": [
        "# Due to Ram constraints, please see my second notebook for model comparison\n",
        "# XGBC = XGBClassifier(max_depth = 2, learning_rate=.5, random_state=69)\n",
        "# XGBC.fit(X_train, y_train)\n",
        "# predictions = XGBC.predict(X_test)\n",
        "# np.savetxt(\"/content/drive/My Drive/Crypto/XGB_predictions.txt\", predictions)\n",
        "# pickle.dump(XGBC, open(\"/content/drive/My Drive/Crypto/XGBC_model.sav\", \"wb\"))"
      ],
      "execution_count": 20,
      "outputs": []
    },
    {
      "cell_type": "code",
      "metadata": {
        "id": "2OV2WRJqi0Tr",
        "colab_type": "code",
        "colab": {}
      },
      "source": [
        "# lstm_df = df[df.columns.drop(list(df.filter(regex='t-')))]\n",
        "# lstm_df.to_csv('/content/drive/My Drive/Crypto/lstm_df.csv', index=False)\n",
        "# X_train, y_train = convert_data(lstm_df[:788400].values, 60)\n",
        "# X_test, y_test = convert_data(lstm_df[788401:].values, 60)\n"
      ],
      "execution_count": 21,
      "outputs": []
    },
    {
      "cell_type": "code",
      "metadata": {
        "id": "eDNPfCVulvNT",
        "colab_type": "code",
        "colab": {
          "base_uri": "https://localhost:8080/",
          "height": 34
        },
        "outputId": "3029a98d-cfa8-43a2-c33b-fd4207f6ad5d"
      },
      "source": [
        "print(X_test.shape)"
      ],
      "execution_count": 22,
      "outputs": [
        {
          "output_type": "stream",
          "text": [
            "(210240, 11)\n"
          ],
          "name": "stdout"
        }
      ]
    },
    {
      "cell_type": "code",
      "metadata": {
        "id": "nd0CRDlSafAm",
        "colab_type": "code",
        "colab": {
          "base_uri": "https://localhost:8080/",
          "height": 34
        },
        "outputId": "a25f2569-8c35-4503-b536-90334aa6b0d4"
      },
      "source": [
        "y_test.shape"
      ],
      "execution_count": 23,
      "outputs": [
        {
          "output_type": "execute_result",
          "data": {
            "text/plain": [
              "(210240,)"
            ]
          },
          "metadata": {
            "tags": []
          },
          "execution_count": 23
        }
      ]
    },
    {
      "cell_type": "code",
      "metadata": {
        "id": "H6UrK_8iC5Af",
        "colab_type": "code",
        "colab": {}
      },
      "source": [
        "# #LSTM network\n",
        "# #for LSTM start , input_shape=(X_train.shape[1], X_train.shape[2]\n",
        "# # Answer below:\n",
        "# model = Sequential()\n",
        "# #Throw in some LSTM\n",
        "# model.add(LSTM(100, return_sequences=True, input_shape=(X_train.shape[1], X_train.shape[2])))\n",
        "# model.add(Dropout(0.2))\n",
        "# model.add(LSTM(75))\n",
        "# model.add(Dropout(0.2))\n",
        "# #Finish out the model\n",
        "# model.add(Dense(50, activation='relu'))\n",
        "# model.add(Dense(1, activation='sigmoid'))\n"
      ],
      "execution_count": 24,
      "outputs": []
    },
    {
      "cell_type": "code",
      "metadata": {
        "id": "8lVMMFZHZzck",
        "colab_type": "code",
        "colab": {}
      },
      "source": [
        "# #Adam Spannbauer coming back as an optimizer\n",
        "# model.compile(optimizer = \"adam\", loss='binary_crossentropy',\n",
        "#               metrics=['accuracy'])\n",
        "# model.save(\"/content/drive/My Drive/Crypto/lstm_model.h5\")\n",
        "# model.save_weights(\"/content/drive/My Drive/Crypto/lstm_model_weights.h5\")"
      ],
      "execution_count": 25,
      "outputs": []
    },
    {
      "cell_type": "code",
      "metadata": {
        "id": "ljUKW3W5aOKA",
        "colab_type": "code",
        "colab": {}
      },
      "source": [
        "#Now let's jump over to the other notebook for supervised learning model comparisons..."
      ],
      "execution_count": 26,
      "outputs": []
    },
    {
      "cell_type": "markdown",
      "metadata": {
        "id": "QD_MnW8M4FRi",
        "colab_type": "text"
      },
      "source": [
        "# Man, neural nets are performing bad. It's not that my features are bad, I don't ever blame myself... \"All this hype about neural nets for nothing\"- Jakob Salomonsson"
      ]
    },
    {
      "cell_type": "code",
      "metadata": {
        "id": "XBUqcRRvDlk9",
        "colab_type": "code",
        "colab": {}
      },
      "source": [
        "scaler = StandardScaler()\n",
        "x = df.drop(['returns', 'target'], axis = 1)\n",
        "y = df['target']\n",
        "X_train, X_test, y_train, y_test = train_test_split(x, y, test_size = .2, random_state = 69, shuffle = False)\n",
        "X_train= scaler.fit_transform(X_train)\n",
        "X_test = scaler.transform(X_test)"
      ],
      "execution_count": 27,
      "outputs": []
    },
    {
      "cell_type": "code",
      "metadata": {
        "id": "x_OWYD1bJtH9",
        "colab_type": "code",
        "colab": {}
      },
      "source": [
        "#Maybe some unsupervised learning will help these models go super sayian\n",
        "#Let's try PCA and UMAP"
      ],
      "execution_count": 28,
      "outputs": []
    },
    {
      "cell_type": "code",
      "metadata": {
        "id": "EDbNT5IY5iLm",
        "colab_type": "code",
        "colab": {
          "base_uri": "https://localhost:8080/",
          "height": 34
        },
        "outputId": "0aeac129-194b-415e-b0dd-0176bae888f6"
      },
      "source": [
        "X_train.shape"
      ],
      "execution_count": 29,
      "outputs": [
        {
          "output_type": "execute_result",
          "data": {
            "text/plain": [
              "(840960, 11)"
            ]
          },
          "metadata": {
            "tags": []
          },
          "execution_count": 29
        }
      ]
    },
    {
      "cell_type": "code",
      "metadata": {
        "id": "gj1Hkz2NEx_7",
        "colab_type": "code",
        "colab": {}
      },
      "source": [
        "# # Trying 2,3,4 features. Want to see if this feature reduction will help the models will go further beyond\n",
        "# #2 components LGR\n",
        "# LGR = LogisticRegression(class_weight = 'balanced', random_state = 69)\n",
        "# pca = PCA(n_components=2)\n",
        "# PCA2_train = pca.fit_transform(X_train)\n",
        "# PCA2_test = pca.fit_transform(X_test)\n",
        "# LGR.fit(PCA2_train, y_train)\n",
        "# predictions = LGR.predict(PCA2_test)\n",
        "# pickle.dump(LGR, open(\"/content/drive/My Drive/Crypto/CryptoLGR2_model.sav\", \"wb\"))\n",
        "# np.savetxt(\"/content/drive/My Drive/Crypto/LGR2_X.txt\",predictions)\n",
        "\n",
        "# #2 Component XGBC\n",
        "# XGBC = XGBClassifier(max_depth = 2, learning_rate=.5, random_state=69)\n",
        "# XGBC.fit(PCA2_train, y_train)\n",
        "# predictions = XGBC.predict(PCA2_test)\n",
        "# np.savetxt(\"/content/drive/My Drive/Crypto/XGB2_predictions.txt\", predictions)\n",
        "# pickle.dump(XGBC, open(\"/content/drive/My Drive/Crypto/XGBC2_model.sav\", \"wb\"))\n",
        "\n",
        "\n",
        "# #---------------------------------------------------\n",
        "\n",
        "\n",
        "# #3 components\n",
        "# LGR = LogisticRegression(class_weight = 'balanced', random_state = 69)\n",
        "# pca = PCA(n_components=3)\n",
        "# PCA3_train = pca.fit_transform(X_train)\n",
        "# PCA3_test = pca.fit_transform(X_test)\n",
        "# LGR.fit(PCA3_train, y_train)\n",
        "# predictions = LGR.predict(PCA3_test)\n",
        "# pickle.dump(LGR, open(\"/content/drive/My Drive/Crypto/CryptoLGR3_model.sav\", \"wb\"))\n",
        "# np.savetxt(\"/content/drive/My Drive/Crypto/LGR3_X.txt\",predictions)\n",
        "\n",
        "# # 3 component XGBC\n",
        "# XGBC = XGBClassifier(max_depth = 2, learning_rate=.5, random_state=69)\n",
        "# XGBC.fit(PCA3_train, y_train)\n",
        "# predictions = XGBC.predict(PCA3_test)\n",
        "# np.savetxt(\"/content/drive/My Drive/Crypto/XGB3_predictions.txt\", predictions)\n",
        "# pickle.dump(XGBC, open(\"/content/drive/My Drive/Crypto/XGBC3_model.sav\", \"wb\"))\n",
        "\n",
        "\n",
        "# #-----------------------------------------------------\n",
        "\n",
        "\n",
        "# #4 components\n",
        "# LGR = LogisticRegression(class_weight = 'balanced', random_state = 69)\n",
        "# pca = PCA(n_components=4)\n",
        "# PCA4_train = pca.fit_transform(X_train)\n",
        "# PCA4_test = pca.fit_transform(X_test)\n",
        "# LGR.fit(PCA4_train, y_train)\n",
        "# predictions = LGR.predict(PCA4_test)\n",
        "# np.savetxt(\"/content/drive/My Drive/Crypto/LGR4_X.txt\",predictions)\n",
        "# pickle.dump(LGR, open(\"/content/drive/My Drive/Crypto/CryptoLGR4_model.sav\", \"wb\"))\n",
        "# #4 components XGBC\n",
        "# XGBC = XGBClassifier(max_depth = 2, learning_rate=.5, random_state=69)\n",
        "# XGBC.fit(PCA4_train, y_train)\n",
        "# predictions = XGBC.predict(PCA4_test)\n",
        "# np.savetxt(\"/content/drive/My Drive/Crypto/XGB4_predictions.txt\", predictions)\n",
        "# pickle.dump(XGBC, open(\"/content/drive/My Drive/Crypto/XGBC4_model.sav\", \"wb\"))"
      ],
      "execution_count": 30,
      "outputs": []
    },
    {
      "cell_type": "code",
      "metadata": {
        "id": "Iw9YalHVFiq5",
        "colab_type": "code",
        "colab": {}
      },
      "source": [
        "# XGBC = XGBClassifier(max_depth = 2, learning_rate=.5, random_state=69)\n",
        "# XGBC.fit(X_train, y_train)\n",
        "# predictions = XGBC.predict(X_test)\n",
        "# np.savetxt(\"/content/drive/My Drive/Crypto/XGB_predictions.txt\", predictions)\n",
        "# pickle.dump(XGBC, open(\"/content/drive/My Drive/Crypto/XGBC_model.sav\", \"wb\"))"
      ],
      "execution_count": 31,
      "outputs": []
    },
    {
      "cell_type": "code",
      "metadata": {
        "id": "uVkpdDlsDGq3",
        "colab_type": "code",
        "colab": {
          "base_uri": "https://localhost:8080/",
          "height": 90
        },
        "outputId": "ddf5aa97-eb58-47ae-cf4a-fcfdacb34a55"
      },
      "source": [
        "#Please look at the image in my github linked :\n",
        "#This is why I'm only doing 1\n",
        "import time\n",
        "time_start = time.time()\n",
        "UX_train = umap.UMAP(n_neighbors=3, min_dist=0.5, metric='correlation').fit_transform(X_train)\n",
        "UX_test = umap.UMAP(n_neighbors=3, min_dist=0.5, metric='correlation').fit_transform(X_test)\n",
        "#umap is taking forever so I'm just going to do one iteration of it. 3 \n",
        "print('UMAP done! Time elapsed: {} seconds'.format(time.time()-time_start))"
      ],
      "execution_count": 32,
      "outputs": [
        {
          "output_type": "stream",
          "text": [
            "/usr/local/lib/python3.6/dist-packages/umap/rp_tree.py:778: UserWarning: Random Projection forest initialisation failed due to recursionlimit being reached. Something is a little strange with your data, and this may take longer than normal to compute.\n",
            "  \"Random Projection forest initialisation failed due to recursion\"\n"
          ],
          "name": "stderr"
        },
        {
          "output_type": "stream",
          "text": [
            "UMAP done! Time elapsed: 7818.269542455673 seconds\n"
          ],
          "name": "stdout"
        }
      ]
    },
    {
      "cell_type": "code",
      "metadata": {
        "id": "AlIRfvoaQ-sR",
        "colab_type": "code",
        "colab": {}
      },
      "source": [
        ""
      ],
      "execution_count": null,
      "outputs": []
    },
    {
      "cell_type": "markdown",
      "metadata": {
        "id": "lzgTFBCeNcbg",
        "colab_type": "text"
      },
      "source": [
        "# Final conclusions\n",
        "\n",
        "creativity in features = lack of earned money. The feature reduction methods don't even perfom better than the base signal.\n",
        "- The simple up/down prediction loses around 1% per day\n",
        "- The Bollinger band strategy also loses X% per day\n",
        "- The youtube guru strategy loses money at x% per day\n",
        "\n",
        "The top two strategies were things that I thought of. The final strategy is linked below\n",
        "\n",
        "guru strategy = \"https://www.youtube.com/watch?v=mqqx4cGyUoY \"\n",
        "\n",
        "\n",
        "There is a bunch of room for improvement (obviously) but that's for another day\n"
      ]
    }
  ]
}