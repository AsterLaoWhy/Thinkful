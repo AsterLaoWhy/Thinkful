{
 "cells": [
  {
   "cell_type": "markdown",
   "metadata": {},
   "source": [
    "# How do you convert a string to a float and vice versa in Python?"
   ]
  },
  {
   "cell_type": "code",
   "execution_count": 1,
   "metadata": {},
   "outputs": [],
   "source": [
    "x = \"1123\""
   ]
  },
  {
   "cell_type": "code",
   "execution_count": 2,
   "metadata": {},
   "outputs": [],
   "source": [
    "y = float(x)"
   ]
  },
  {
   "cell_type": "code",
   "execution_count": 3,
   "metadata": {},
   "outputs": [
    {
     "data": {
      "text/plain": [
       "float"
      ]
     },
     "execution_count": 3,
     "metadata": {},
     "output_type": "execute_result"
    }
   ],
   "source": [
    "type(y)"
   ]
  },
  {
   "cell_type": "code",
   "execution_count": 4,
   "metadata": {},
   "outputs": [],
   "source": [
    "z = str(y)"
   ]
  },
  {
   "cell_type": "code",
   "execution_count": 5,
   "metadata": {},
   "outputs": [
    {
     "data": {
      "text/plain": [
       "str"
      ]
     },
     "execution_count": 5,
     "metadata": {},
     "output_type": "execute_result"
    }
   ],
   "source": [
    "type(z)"
   ]
  },
  {
   "cell_type": "markdown",
   "metadata": {},
   "source": [
    "# What is backpropagation?"
   ]
  },
  {
   "cell_type": "markdown",
   "metadata": {},
   "source": [
    "#### A technique for training neural networks that uses gradient decent to take previous loss and use it to improve future iterations of the model and adjust weight for neurons"
   ]
  },
  {
   "cell_type": "markdown",
   "metadata": {},
   "source": [
    "# How to combine two one-dimensional lists into one one-dimensional list?"
   ]
  },
  {
   "cell_type": "code",
   "execution_count": 6,
   "metadata": {},
   "outputs": [
    {
     "data": {
      "text/plain": [
       "[1, 2, 3, 4, 5, 6, 7, 8, 9, 10]"
      ]
     },
     "execution_count": 6,
     "metadata": {},
     "output_type": "execute_result"
    }
   ],
   "source": [
    "list_1 = [1,2,3,4,5]\n",
    "list_2 = [6,7,8,9,10]\n",
    "list_3 = list_1 + list_2\n",
    "list_3"
   ]
  },
  {
   "cell_type": "markdown",
   "metadata": {},
   "source": [
    "# What does the HAVING clause do in SQL?"
   ]
  },
  {
   "cell_type": "markdown",
   "metadata": {},
   "source": [
    "#### basically a for clause in SQL. I.e. All animals having 3 arms-> For all animals w/ 3 arms, give me data"
   ]
  },
  {
   "cell_type": "markdown",
   "metadata": {},
   "source": [
    "# What is the difference between an inner join and a left outer join?"
   ]
  },
  {
   "cell_type": "markdown",
   "metadata": {},
   "source": [
    "#### Inner join combines all similar A and B data whereas left outer keeps all of A and any extra A data becomes null for B values"
   ]
  },
  {
   "cell_type": "markdown",
   "metadata": {},
   "source": [
    "# What is PEP-8?"
   ]
  },
  {
   "cell_type": "markdown",
   "metadata": {},
   "source": [
    "#### Styling guide used for writing python code"
   ]
  },
  {
   "cell_type": "markdown",
   "metadata": {},
   "source": [
    "# What are some different ways to treat missing values?"
   ]
  },
  {
   "cell_type": "markdown",
   "metadata": {},
   "source": [
    "#### Impute (mean of column, mean of group), drop. All depends on the amount of missing variables. (5% missing can just keep going)?"
   ]
  },
  {
   "cell_type": "markdown",
   "metadata": {},
   "source": [
    "# What is the difference between artificial intelligence and machine learning?"
   ]
  },
  {
   "cell_type": "markdown",
   "metadata": {},
   "source": [
    "#### AI is the field whereas machine learning is taking in data to perform analysis on the data based on algorithms "
   ]
  },
  {
   "cell_type": "markdown",
   "metadata": {},
   "source": [
    "# What are some metrics for evaluating the performance of linear regression?"
   ]
  },
  {
   "cell_type": "markdown",
   "metadata": {},
   "source": [
    "#### R**2, MAE, MSE, MAPE, MPE"
   ]
  },
  {
   "cell_type": "markdown",
   "metadata": {},
   "source": [
    "# What are some metrics for evaluating the performance of classification?"
   ]
  },
  {
   "cell_type": "markdown",
   "metadata": {},
   "source": [
    "### Log loss(smaller the better, penalize misclassification more), Accuracy (Precision and Recal), AUC."
   ]
  },
  {
   "cell_type": "markdown",
   "metadata": {},
   "source": [
    "# Write a function that asks the user for a string, then print whether the string is a palindrome. A palindrome is a string that reads the same forwards and backwards."
   ]
  },
  {
   "cell_type": "code",
   "execution_count": 8,
   "metadata": {},
   "outputs": [
    {
     "name": "stdout",
     "output_type": "stream",
     "text": [
      "please type something :D Hannah\n",
      "Hannah is a palindrome\n"
     ]
    }
   ],
   "source": [
    "string = input('please type something :D ')\n",
    "l_string = string.lower()\n",
    "b_string = l_string[::-1]\n",
    "if l_string == b_string:\n",
    "    print(f'{string} is a palindrome')\n",
    "else:\n",
    "    print(f'{string} is not a palindrome')"
   ]
  },
  {
   "cell_type": "markdown",
   "metadata": {},
   "source": [
    "# What does the LIMIT clause do in SQL?"
   ]
  },
  {
   "cell_type": "markdown",
   "metadata": {},
   "source": [
    "#### limits the amount of results that are returned in a SQL query"
   ]
  },
  {
   "cell_type": "markdown",
   "metadata": {},
   "source": [
    "# What is underfitting and how do you prevent it?"
   ]
  },
  {
   "cell_type": "markdown",
   "metadata": {},
   "source": [
    "#### a model that is not trained enough to predict the target. Adding features and data prevents this"
   ]
  },
  {
   "cell_type": "markdown",
   "metadata": {},
   "source": [
    "# What is a nonparametric model? What are its advantages and disadvantages?"
   ]
  },
  {
   "cell_type": "markdown",
   "metadata": {},
   "source": [
    "#### Model with no assumptions about a variable's distribution. More flexible less powerful insights.\n",
    "#### Good when you have a lot of data and no prior knowledge, and when you don’t want to worry too much about choosing just the right features.\n",
    "#### EG:\n",
    "- Decision Trees\n",
    "- K-Nearest Neighbor\n",
    "- Support Vector Machines with Gaussian Kernels\n",
    "- Artificial Neural Networks"
   ]
  },
  {
   "cell_type": "markdown",
   "metadata": {},
   "source": [
    "# What is a parametric model? What are its advantages and disadvantages?"
   ]
  },
  {
   "cell_type": "markdown",
   "metadata": {},
   "source": [
    "# A learning model that summarizes data with a set of parameters of fixed size (independent of the number of training examples). No matter how much data you throw at a parametric model, it won’t change its mind about how many parameters it needs.\n",
    "#### Some examples of parametric machine learning algorithms are:\n",
    "\n",
    "- Linear Regression\n",
    "- Linear Support Vector Machines\n",
    "- Logistic Regression\n",
    "- Naive Bayes\n",
    "- Perceptron"
   ]
  },
  {
   "cell_type": "markdown",
   "metadata": {},
   "source": [
    "# What is the difference between a for loop and a while loop?"
   ]
  },
  {
   "cell_type": "markdown",
   "metadata": {},
   "source": [
    "#### For goes through the elements, while does something while a condition is met"
   ]
  },
  {
   "cell_type": "markdown",
   "metadata": {},
   "source": [
    "# What is the difference between statistics and machine learning?"
   ]
  },
  {
   "cell_type": "markdown",
   "metadata": {},
   "source": [
    "#### stats is the study of casual relations with data driven hypothesis. Machine learning is using programed algorithms with predictive accuracy"
   ]
  },
  {
   "cell_type": "markdown",
   "metadata": {},
   "source": [
    "# What is the output of -12 // 10?"
   ]
  },
  {
   "cell_type": "markdown",
   "metadata": {},
   "source": [
    "#### -2. The double dash divides into a whole number without including remainders"
   ]
  },
  {
   "cell_type": "markdown",
   "metadata": {},
   "source": [
    "# Write a function that asks the user for a number and then prints out a list of all the divisors of that number."
   ]
  },
  {
   "cell_type": "code",
   "execution_count": 9,
   "metadata": {},
   "outputs": [
    {
     "name": "stdout",
     "output_type": "stream",
     "text": [
      "Please type a number: 30\n",
      "[1, 2, 3, 5, 6, 10, 15, 30]\n"
     ]
    }
   ],
   "source": [
    "nums = int(input('Please type a number: '))\n",
    "parts = list(range(1, nums+1))\n",
    "divisors = []\n",
    "\n",
    "for number in parts:\n",
    "    if nums%number==0:\n",
    "        divisors.append(number)\n",
    "\n",
    "print(divisors)"
   ]
  },
  {
   "cell_type": "markdown",
   "metadata": {},
   "source": [
    "# When might you use a random forest versus a support vector machine and why?"
   ]
  },
  {
   "cell_type": "markdown",
   "metadata": {},
   "source": [
    "- Random forest is really good for multiple perpendicular lines\n",
    "- SVM is super good for multi-dimensional classification\n"
   ]
  },
  {
   "cell_type": "markdown",
   "metadata": {},
   "source": [
    "# The Fibonnaci sequence is a sequence of numbers where the next number in the sequence is the sum of the previous two numbers in the sequence. The sequence looks like this: 1, 1, 2, 3, 5, 8, 13, … Write a function that asks the user how many Fibonnaci numbers to generate and then generates them.\n"
   ]
  },
  {
   "cell_type": "code",
   "execution_count": 10,
   "metadata": {},
   "outputs": [
    {
     "name": "stdout",
     "output_type": "stream",
     "text": [
      "How many fibonnaci numbers do you want?: 10\n",
      "[1, 1, 2, 3, 5, 8, 13, 21, 34, 55]\n"
     ]
    }
   ],
   "source": [
    "def fib_nums(quantity):\n",
    "    fib_num = []\n",
    "    i=1\n",
    "    if nums == 0:\n",
    "        print(\"Smart. You'll get nothing and like it.\")\n",
    "    elif nums == 1:\n",
    "        fib_num = 0\n",
    "    elif nums == 2:\n",
    "        fib_num = [1,0]\n",
    "    elif nums > 2:\n",
    "        fib_num = [1,1]\n",
    "        while i < (nums-1):\n",
    "            fib_num.append(fib_num[i]+fib_num[i-1])\n",
    "            i+=1\n",
    "\n",
    "    return fib_num\n",
    "\n",
    "\n",
    "nums= int(input('How many fibonnaci numbers do you want?: '))\n",
    "print(fib_nums(nums))"
   ]
  },
  {
   "cell_type": "markdown",
   "metadata": {},
   "source": [
    "# What is an autoencoder?"
   ]
  },
  {
   "cell_type": "markdown",
   "metadata": {},
   "source": [
    "#### Something for reconstructing the original image with a bootleneck in the middle"
   ]
  },
  {
   "cell_type": "markdown",
   "metadata": {},
   "source": [
    "# What is bagging and boosting in an ensemble model?"
   ]
  },
  {
   "cell_type": "markdown",
   "metadata": {},
   "source": [
    "- Bagging is when features have the same probablility to appear in the dataset\n",
    "- Boosting is when observations are weighted"
   ]
  },
  {
   "cell_type": "markdown",
   "metadata": {},
   "source": [
    "# What is a loss function in a neural network?"
   ]
  },
  {
   "cell_type": "markdown",
   "metadata": {},
   "source": [
    "#### A loss function is a function that describes the amoutn of unexplained data in a machine learning model"
   ]
  },
  {
   "cell_type": "markdown",
   "metadata": {},
   "source": [
    "# What is an RDBMS?"
   ]
  },
  {
   "cell_type": "markdown",
   "metadata": {},
   "source": [
    "#### A relational database management system maintains data records and fields in tables. Relationships between data entities are expressed in these tables."
   ]
  },
  {
   "cell_type": "markdown",
   "metadata": {},
   "source": [
    "# What is regularization and why is it useful?"
   ]
  },
  {
   "cell_type": "markdown",
   "metadata": {},
   "source": [
    "#### Regularization helps to prevent overfitting and helps with generalizing a model. Lasso, Ridge, and Elasticnet are examples.\n",
    "- Ridge is good for penalizing large coeficients.\n",
    "- Lasso is good for being able to shrink to 0 and not penalizing large coef as much. useless var too"
   ]
  },
  {
   "cell_type": "markdown",
   "metadata": {},
   "source": [
    "# Explain a false positive and false negative. When might one be more important than another?"
   ]
  },
  {
   "cell_type": "markdown",
   "metadata": {},
   "source": [
    "#### A false positive means the qualification is not met but the algorithm returns a positive. This could be bad for predicting a stock increase or a positive benefit from certain chemical compounds when they are actually harmful\n",
    "\n",
    "#### A false negative is something that should be positive, but is actually negative. This is bad for most medical tests as well as weapon detection in airports"
   ]
  },
  {
   "cell_type": "markdown",
   "metadata": {},
   "source": [
    "# What are the main types of distributions and phenomena that follow these distributions?"
   ]
  },
  {
   "cell_type": "markdown",
   "metadata": {},
   "source": [
    "- Bernoulli: Countable number of possible values done one time\n",
    " - Coin flip, die toss, etc.\n",
    "- Binomial: Count the number of successes of an event with two or more distinct outcomes. Massive repetition of Bernoulli\n",
    " - Any bernoulli thing done a ton\n",
    "- Gausian: Normal distribution\n",
    "- Poisson: How many times something happens during a time interval\n",
    "    -Phone calls to a radio show\n",
    "- Gamma: The time until something happens (Starts out unlikely, more likely then unlikely again). Waiting time between poisson distributed events\n",
    " - People dying, Amount of people arriving "
   ]
  },
  {
   "cell_type": "markdown",
   "metadata": {},
   "source": [
    "# Write a function that takes a list and returns a new list containing all unique elements of the first list (i.e., no duplicates)."
   ]
  },
  {
   "cell_type": "code",
   "execution_count": 11,
   "metadata": {},
   "outputs": [
    {
     "name": "stdout",
     "output_type": "stream",
     "text": [
      "please type a list1 5 6 6 85 8 5 5 3 \n",
      "['1', '5', '6', '85', '8', '3']\n"
     ]
    }
   ],
   "source": [
    "def find_duplicates(list):\n",
    "    new_list = []\n",
    "\n",
    "    for elem in range(len(list)):\n",
    "        if list[elem] not in new_list:\n",
    "            new_list.append(list[elem])\n",
    "\n",
    "    print(new_list)\n",
    "\n",
    "user_time = input('please type a list')\n",
    "user_time = user_time.split()\n",
    "find_duplicates(user_time)"
   ]
  },
  {
   "cell_type": "markdown",
   "metadata": {},
   "source": [
    "# Why is the area under the curve a better evaluation metric than raw accuracy?"
   ]
  },
  {
   "cell_type": "markdown",
   "metadata": {},
   "source": [
    "#### Under the curve looks at the entire dataset rather than at specific cutoff points\n"
   ]
  },
  {
   "cell_type": "markdown",
   "metadata": {},
   "source": [
    "# What is the bias/variance tradeoff?"
   ]
  },
  {
   "cell_type": "markdown",
   "metadata": {},
   "source": [
    "#### Too simple(few features) could have high bias and low variance, but with too many features it can have a higher variance. \n",
    "- Bias:Data skews the same direction/degree\n",
    "- Variance: Prediction is off by a ton"
   ]
  },
  {
   "cell_type": "markdown",
   "metadata": {},
   "source": [
    "# Make a two-player Rock-Paper-Scissors game. Ask the players to input plays, compare them, then print a message of congratulations to a winner and ask if the players want to play again."
   ]
  },
  {
   "cell_type": "code",
   "execution_count": 12,
   "metadata": {},
   "outputs": [
    {
     "name": "stdout",
     "output_type": "stream",
     "text": [
      "Player 1, please type your name: Thinkful\n",
      "Player 2, please type your name: Chegg\n",
      "Thinkful, please type 'Rock', 'Paper', or 'Scissors': Rock\n",
      "Chegg, please type 'Rock', 'Paper', or 'Scissors': Scissors\n",
      "Congratulations Thinkful wins!\n"
     ]
    }
   ],
   "source": [
    "def rpz_game(move_1, move_2):\n",
    "    if move_1 == 'rock':\n",
    "        if move_2 == 'paper':\n",
    "            print(f'Congratulations {player_2} wins!')\n",
    "        elif move_2 == move_1:\n",
    "            print(\"It's a tie!\")\n",
    "        elif move_2 =='scissors':\n",
    "            print(f'Congratulations {player_1} wins!')\n",
    "        else:\n",
    "            print('Beep boop can not compute')\n",
    "    elif move_1 == 'paper':\n",
    "        if move_2 == 'scissors':\n",
    "            print(f'Congratulations {player_2} wins!')\n",
    "        elif move_2 == move_1:\n",
    "            print(\"It's a tie!\")\n",
    "        elif move_2 == 'rock':\n",
    "            print(f'Congratulations {player_1} wins!')\n",
    "        else:\n",
    "            print('Beep boop can not compute')\n",
    "    elif move_1 =='scissors':\n",
    "        if move_2 == 'rock':\n",
    "            print(f'Congratulations {player_2} wins!')\n",
    "        elif move_2 == move_1:\n",
    "            print(\"It's a tie!\")\n",
    "        elif move_2 == 'paper':\n",
    "            print(f'Congratulations {player_1} wins!')\n",
    "        else:\n",
    "            print('Beep boop can not compute')\n",
    "    else:\n",
    "        print('Beep boop can not compute')\n",
    "player_1 = input(\"Player 1, please type your name: \")\n",
    "player_2 = input(\"Player 2, please type your name: \")\n",
    "move_1 = input(f\"{player_1}, please type 'Rock', 'Paper', or 'Scissors': \")\n",
    "move_2 = input(f\"{player_2}, please type 'Rock', 'Paper', or 'Scissors': \")\n",
    "move_1 =  move_1.lower()\n",
    "move_2 = move_2.lower()\n",
    "\n",
    "rpz_game(move_1, move_2)"
   ]
  },
  {
   "cell_type": "markdown",
   "metadata": {},
   "source": [
    "# What is selection bias?"
   ]
  },
  {
   "cell_type": "markdown",
   "metadata": {},
   "source": [
    "#### When a sample isn't representitive of an entire population (sampling, lack of quantity of responses, etc.)"
   ]
  },
  {
   "cell_type": "markdown",
   "metadata": {},
   "source": [
    "# What are precision and recall?"
   ]
  },
  {
   "cell_type": "markdown",
   "metadata": {},
   "source": [
    "- Precision: Amount of positive predictions that were correct (TP/TP+FP)\n",
    "- Recal: Amount of actual positives that were identified correctly(TP/TP+FN)"
   ]
  },
  {
   "cell_type": "markdown",
   "metadata": {},
   "source": [
    "# What is a perceptron"
   ]
  },
  {
   "cell_type": "markdown",
   "metadata": {},
   "source": [
    "#### A perceptron is an algorithm for supervised classification of the input into one of several possible non-binary outputs."
   ]
  },
  {
   "cell_type": "markdown",
   "metadata": {},
   "source": [
    "# Write a function that takes a list of numbers and returns a list of only the first and last elements of that list."
   ]
  },
  {
   "cell_type": "code",
   "execution_count": 1,
   "metadata": {},
   "outputs": [],
   "source": [
    "def list_end(list):\n",
    "    print(list[0], list[-1])"
   ]
  },
  {
   "cell_type": "code",
   "execution_count": 2,
   "metadata": {},
   "outputs": [
    {
     "name": "stdout",
     "output_type": "stream",
     "text": [
      "1 5\n"
     ]
    }
   ],
   "source": [
    "pls_work = [1,2,3,4,5]\n",
    "list_end(pls_work)"
   ]
  },
  {
   "cell_type": "code",
   "execution_count": null,
   "metadata": {},
   "outputs": [],
   "source": []
  }
 ],
 "metadata": {
  "kernelspec": {
   "display_name": "Python 3",
   "language": "python",
   "name": "python3"
  },
  "language_info": {
   "codemirror_mode": {
    "name": "ipython",
    "version": 3
   },
   "file_extension": ".py",
   "mimetype": "text/x-python",
   "name": "python",
   "nbconvert_exporter": "python",
   "pygments_lexer": "ipython3",
   "version": "3.7.6"
  }
 },
 "nbformat": 4,
 "nbformat_minor": 4
}
