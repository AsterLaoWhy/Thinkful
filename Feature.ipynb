{
 "cells": [
  {
   "cell_type": "code",
   "execution_count": 1,
   "metadata": {},
   "outputs": [],
   "source": [
    "import matplotlib.pyplot as plt\n",
    "import seaborn as sns\n",
    "import numpy as np\n",
    "import pandas as pd\n",
    "import seaborn as sns\n",
    "import scipy.stats as stats\n",
    "from scipy.stats.mstats import winsorize\n",
    "from sqlalchemy import create_engine\n",
    "import warnings\n",
    "from scipy.stats import jarque_bera\n",
    "from scipy.stats import normaltest\n",
    "from scipy.stats import boxcox\n",
    "warnings.filterwarnings('ignore')"
   ]
  },
  {
   "cell_type": "code",
   "execution_count": 2,
   "metadata": {},
   "outputs": [],
   "source": [
    "postgres_user = 'dsbc_student'\n",
    "postgres_pw = '7*.8G9QH21'\n",
    "postgres_host = '142.93.121.174'\n",
    "postgres_port = '5432'\n",
    "postgres_db = 'studentsperformance'\n",
    "engine = create_engine('postgresql://{}:{}@{}:{}/{}'.format(\n",
    "    postgres_user, postgres_pw, postgres_host, postgres_port, postgres_db))\n",
    "\n",
    "df = pd.read_sql_query('SELECT * FROM studentsperformance', con = engine)\n",
    "engine.dispose()\n"
   ]
  },
  {
   "cell_type": "code",
   "execution_count": 3,
   "metadata": {},
   "outputs": [
    {
     "data": {
      "text/html": [
       "<div>\n",
       "<style scoped>\n",
       "    .dataframe tbody tr th:only-of-type {\n",
       "        vertical-align: middle;\n",
       "    }\n",
       "\n",
       "    .dataframe tbody tr th {\n",
       "        vertical-align: top;\n",
       "    }\n",
       "\n",
       "    .dataframe thead th {\n",
       "        text-align: right;\n",
       "    }\n",
       "</style>\n",
       "<table border=\"1\" class=\"dataframe\">\n",
       "  <thead>\n",
       "    <tr style=\"text-align: right;\">\n",
       "      <th></th>\n",
       "      <th>gender</th>\n",
       "      <th>race/ethnicity</th>\n",
       "      <th>parental level of education</th>\n",
       "      <th>lunch</th>\n",
       "      <th>test preparation course</th>\n",
       "      <th>math score</th>\n",
       "      <th>reading score</th>\n",
       "      <th>writing score</th>\n",
       "    </tr>\n",
       "  </thead>\n",
       "  <tbody>\n",
       "    <tr>\n",
       "      <td>0</td>\n",
       "      <td>female</td>\n",
       "      <td>group B</td>\n",
       "      <td>bachelor's degree</td>\n",
       "      <td>standard</td>\n",
       "      <td>none</td>\n",
       "      <td>72</td>\n",
       "      <td>72</td>\n",
       "      <td>74</td>\n",
       "    </tr>\n",
       "    <tr>\n",
       "      <td>1</td>\n",
       "      <td>female</td>\n",
       "      <td>group C</td>\n",
       "      <td>some college</td>\n",
       "      <td>standard</td>\n",
       "      <td>completed</td>\n",
       "      <td>69</td>\n",
       "      <td>90</td>\n",
       "      <td>88</td>\n",
       "    </tr>\n",
       "    <tr>\n",
       "      <td>2</td>\n",
       "      <td>female</td>\n",
       "      <td>group B</td>\n",
       "      <td>master's degree</td>\n",
       "      <td>standard</td>\n",
       "      <td>none</td>\n",
       "      <td>90</td>\n",
       "      <td>95</td>\n",
       "      <td>93</td>\n",
       "    </tr>\n",
       "    <tr>\n",
       "      <td>3</td>\n",
       "      <td>male</td>\n",
       "      <td>group A</td>\n",
       "      <td>associate's degree</td>\n",
       "      <td>free/reduced</td>\n",
       "      <td>none</td>\n",
       "      <td>47</td>\n",
       "      <td>57</td>\n",
       "      <td>44</td>\n",
       "    </tr>\n",
       "    <tr>\n",
       "      <td>4</td>\n",
       "      <td>male</td>\n",
       "      <td>group C</td>\n",
       "      <td>some college</td>\n",
       "      <td>standard</td>\n",
       "      <td>none</td>\n",
       "      <td>76</td>\n",
       "      <td>78</td>\n",
       "      <td>75</td>\n",
       "    </tr>\n",
       "  </tbody>\n",
       "</table>\n",
       "</div>"
      ],
      "text/plain": [
       "   gender race/ethnicity parental level of education         lunch  \\\n",
       "0  female        group B           bachelor's degree      standard   \n",
       "1  female        group C                some college      standard   \n",
       "2  female        group B             master's degree      standard   \n",
       "3    male        group A          associate's degree  free/reduced   \n",
       "4    male        group C                some college      standard   \n",
       "\n",
       "  test preparation course  math score  reading score  writing score  \n",
       "0                    none          72             72             74  \n",
       "1               completed          69             90             88  \n",
       "2                    none          90             95             93  \n",
       "3                    none          47             57             44  \n",
       "4                    none          76             78             75  "
      ]
     },
     "execution_count": 3,
     "metadata": {},
     "output_type": "execute_result"
    }
   ],
   "source": [
    "df.head()"
   ]
  },
  {
   "cell_type": "code",
   "execution_count": 4,
   "metadata": {},
   "outputs": [
    {
     "data": {
      "image/png": "[encoded data removed]",
      "text/plain": [
       "<Figure size 720x720 with 3 Axes>"
      ]
     },
     "metadata": {
      "needs_background": "light"
     },
     "output_type": "display_data"
    }
   ],
   "source": [
    "plt.figure(figsize = (10,10))\n",
    "\n",
    "plt.subplot(1,3,1)\n",
    "plt.hist(df['math score'])\n",
    "plt.title('Math')\n",
    "\n",
    "\n",
    "plt.subplot(1,3,2)\n",
    "plt.hist(df['reading score'])\n",
    "plt.title('reading')\n",
    "\n",
    "\n",
    "plt.subplot(1,3,3)\n",
    "plt.hist(df['writing score'])\n",
    "plt.title('writing')\n",
    "\n",
    "plt.show()"
   ]
  },
  {
   "cell_type": "code",
   "execution_count": 5,
   "metadata": {},
   "outputs": [
    {
     "name": "stdout",
     "output_type": "stream",
     "text": [
      "Jarque-Bera is 15.912256686712709 and p value is 0.0003505075386818213\n",
      "Normality is 15.408960513931822 and p value is 0.00045080293869937836\n",
      "Jarque-Bera is 11.383300575987892 and p value is 0.0033740202672214448\n",
      "Normality is 11.11741279628622 and p value is 0.003853758403576582\n",
      "Jarque-Bera is 13.98509448257235 and p value is 0.0009187033894586527\n",
      "Normality is 13.606450837263859 and p value is 0.0011101885439899974\n"
     ]
    }
   ],
   "source": [
    "#That isn't normal\n",
    "\n",
    "mathJ = jarque_bera(df['math score'])\n",
    "mathN = normaltest(df['math score'])\n",
    "readingJ = jarque_bera(df['reading score'])\n",
    "readingN = normaltest(df['reading score'])\n",
    "writingJ = jarque_bera(df['writing score'])\n",
    "writingN = normaltest(df['writing score'])\n",
    "\n",
    "print('Jarque-Bera is {0} and p value is {1}'.format(mathJ[0], mathJ[1]))\n",
    "print('Normality is {0} and p value is {1}'.format(mathN[0], mathN[1]))\n",
    "\n",
    "\n",
    "\n",
    "\n",
    "print('Jarque-Bera is {0} and p value is {1}'.format(readingJ[0], readingJ[1]))\n",
    "print('Normality is {0} and p value is {1}'.format(readingN[0], readingN[1]))\n",
    "\n",
    "\n",
    "print('Jarque-Bera is {0} and p value is {1}'.format(writingJ[0], writingJ[1]))\n",
    "print('Normality is {0} and p value is {1}'.format(writingN[0], writingN[1]))"
   ]
  },
  {
   "cell_type": "code",
   "execution_count": 6,
   "metadata": {},
   "outputs": [
    {
     "data": {
      "image/png": "[encoded data removed]",
      "text/plain": [
       "<Figure size 360x360 with 3 Axes>"
      ]
     },
     "metadata": {
      "needs_background": "light"
     },
     "output_type": "display_data"
    }
   ],
   "source": [
    "\n",
    "MathB,_ = boxcox(df[df['math score']>0]['math score'])\n",
    "ReadingB,_ = boxcox(df['reading score'])\n",
    "WritingB,_ = boxcox(df['writing score'])\n",
    "\n",
    "plt.figure(figsize = (5,5))\n",
    "\n",
    "plt.subplot(1,3,1)\n",
    "plt.hist(MathB)\n",
    "plt.title('Box Math')\n",
    "\n",
    "\n",
    "plt.subplot(1,3,2)\n",
    "plt.hist(ReadingB)\n",
    "plt.title('Box Reading')\n",
    "\n",
    "plt.subplot(1,3,3)\n",
    "plt.hist(WritingB)\n",
    "plt.title('Box Writing')\n",
    "\n",
    "\n",
    "plt.show()"
   ]
  },
  {
   "cell_type": "code",
   "execution_count": 7,
   "metadata": {},
   "outputs": [
    {
     "name": "stdout",
     "output_type": "stream",
     "text": [
      "Jarque-Bera is 1.7200982636836308 and p value is 0.42314129209599327\n",
      "Normality is 1.8323075851586939 and p value is 0.4000547794685686\n",
      "Jarque-Bera is 4.119778573559666 and p value is 0.127468081515408\n",
      "Normality is 5.282274606965809 and p value is 0.07128015626992971\n",
      "Jarque-Bera is 4.746478090042761 and p value is 0.09317842784043195\n",
      "Normality is 6.267311355052559 and p value is 0.04355827085003712\n"
     ]
    }
   ],
   "source": [
    "NmathJ = jarque_bera(MathB)\n",
    "NmathN = normaltest(MathB)\n",
    "NreadingJ = jarque_bera(ReadingB)\n",
    "NreadingN = normaltest(ReadingB)\n",
    "NwritingJ = jarque_bera(WritingB)\n",
    "NwritingN = normaltest(WritingB)\n",
    "\n",
    "\n",
    "print('Jarque-Bera is {0} and p value is {1}'.format(NmathJ[0], NmathJ[1]))\n",
    "print('Normality is {0} and p value is {1}'.format(NmathN[0], NmathN[1]))\n",
    "\n",
    "\n",
    "\n",
    "\n",
    "print('Jarque-Bera is {0} and p value is {1}'.format(NreadingJ[0], NreadingJ[1]))\n",
    "print('Normality is {0} and p value is {1}'.format(NreadingN[0], NreadingN[1]))\n",
    "\n",
    "\n",
    "print('Jarque-Bera is {0} and p value is {1}'.format(NwritingJ[0], NwritingJ[1]))\n",
    "print('Normality is {0} and p value is {1}'.format(NwritingN[0], NwritingN[1]))"
   ]
  },
  {
   "cell_type": "markdown",
   "metadata": {},
   "source": [
    "# That looks more normal"
   ]
  },
  {
   "cell_type": "code",
   "execution_count": 14,
   "metadata": {},
   "outputs": [
    {
     "data": {
      "text/plain": [
       "(array([  1.,   5.,  12.,  40., 124., 178., 262., 210., 122.,  46.]),\n",
       " array([  9. ,  18.1,  27.2,  36.3,  45.4,  54.5,  63.6,  72.7,  81.8,\n",
       "         90.9, 100. ]),\n",
       " <a list of 10 Patch objects>)"
      ]
     },
     "execution_count": 14,
     "metadata": {},
     "output_type": "execute_result"
    },
    {
     "data": {
      "image/png": "[encoded data removed]",
      "text/plain": [
       "<Figure size 432x288 with 1 Axes>"
      ]
     },
     "metadata": {
      "needs_background": "light"
     },
     "output_type": "display_data"
    }
   ],
   "source": [
    "score = (df['math score'] + df['reading score'] + df['writing score'])/3\n",
    "plt.hist(score)\n",
    "#eh kinda"
   ]
  },
  {
   "cell_type": "code",
   "execution_count": 17,
   "metadata": {},
   "outputs": [
    {
     "name": "stdout",
     "output_type": "stream",
     "text": [
      "Jarque-Bera is 15.453387913085168 and p value is 0.00044089934264401887\n",
      "Normality is 15.186721327231322 and p value is 0.0005037851534494478\n",
      "Box Jarque-Bera is 2.4353989331279173 and p value is 0.29591013563984203\n",
      "Box Normality is 2.779857602227616 and p value is 0.24909303914726724\n"
     ]
    }
   ],
   "source": [
    "Jscore = jarque_bera(score)\n",
    "Nscore = normaltest(score)\n",
    "Bscore,_ = boxcox(score)\n",
    "BJscore = jarque_bera(Bscore)\n",
    "BNscore,_ = boxcox(score)\n",
    "BNscore = normaltest(BNscore)\n",
    "\n",
    "print('Jarque-Bera is {0} and p value is {1}'.format(Jscore[0], Jscore[1]))\n",
    "print('Normality is {0} and p value is {1}'.format(Nscore[0], Nscore[1]))\n",
    "\n",
    "\n",
    "print('Box Jarque-Bera is {0} and p value is {1}'.format(BJscore[0], BJscore[1]))\n",
    "print('Box Normality is {0} and p value is {1}'.format(BNscore[0], BNscore[1]))\n"
   ]
  },
  {
   "cell_type": "code",
   "execution_count": 40,
   "metadata": {},
   "outputs": [
    {
     "data": {
      "text/plain": [
       "<BarContainer object of 2 artists>"
      ]
     },
     "execution_count": 40,
     "metadata": {},
     "output_type": "execute_result"
    },
    {
     "data": {
      "image/png": "[encoded data removed]",
      "text/plain": [
       "<Figure size 2880x720 with 5 Axes>"
      ]
     },
     "metadata": {
      "needs_background": "light"
     },
     "output_type": "display_data"
    }
   ],
   "source": [
    "df['total score'] = score\n",
    "\n",
    "plt.figure(figsize = (40, 10))\n",
    "\n",
    "plt.subplot(3,3,1)\n",
    "plt.bar(df.groupby('gender')\n",
    "            ['total score'].mean().index, df.groupby('gender')['total score'].mean())\n",
    "\n",
    "plt.subplot(3,3,2)\n",
    "plt.bar(df.groupby('race/ethnicity')\n",
    "            ['total score'].mean().index, df.groupby('race/ethnicity')['total score'].mean())\n",
    "\n",
    "\n",
    "plt.subplot(3,3,3)\n",
    "plt.bar(df.groupby('parental level of education')\n",
    "            ['total score'].mean().index, df.groupby('parental level of education')['total score'].mean())\n",
    "\n",
    "plt.subplot(3,3,4)\n",
    "plt.bar(df.groupby('lunch')\n",
    "            ['total score'].mean().index, df.groupby('lunch')['total score'].mean())\n",
    "\n",
    "\n",
    "plt.subplot(3,3,5)\n",
    "plt.bar(df.groupby('test preparation course')\n",
    "            ['total score'].mean().index, df.groupby('test preparation course')['total score'].mean())"
   ]
  },
  {
   "cell_type": "code",
   "execution_count": null,
   "metadata": {},
   "outputs": [],
   "source": []
  }
 ],
 "metadata": {
  "kernelspec": {
   "display_name": "Python 3",
   "language": "python",
   "name": "python3"
  },
  "language_info": {
   "codemirror_mode": {
    "name": "ipython",
    "version": 3
   },
   "file_extension": ".py",
   "mimetype": "text/x-python",
   "name": "python",
   "nbconvert_exporter": "python",
   "pygments_lexer": "ipython3",
   "version": "3.7.4"
  }
 },
 "nbformat": 4,
 "nbformat_minor": 2
}
