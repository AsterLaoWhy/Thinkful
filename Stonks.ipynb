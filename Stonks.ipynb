{
 "cells": [
  {
   "cell_type": "markdown",
   "metadata": {},
   "source": [
    "# THE VISUALIZATIONS ARE COMMENTED OUT FOR SPACE SAKE! PLEASE UNCOMMENT TO SEE THEM. IF I UPLOAD WITH VISUALIZATIONS, THE FILE IS TOO LARGE!"
   ]
  },
  {
   "cell_type": "code",
   "execution_count": 1,
   "metadata": {},
   "outputs": [
    {
     "data": {
      "application/javascript": [
       "\n",
       "            setTimeout(function() {\n",
       "                var nbb_cell_id = 1;\n",
       "                var nbb_unformatted_code = \"%load_ext nb_black\\nfrom collections import Counter\\nfrom umap import UMAP\\nimport pandas as pd\\nimport numpy as np\\nimport matplotlib.pyplot as plt\\nimport plotly.express as px\\nimport seaborn as sns\\nfrom factor_analyzer import FactorAnalyzer\\nfrom sklearn.cluster import KMeans, AgglomerativeClustering\\nfrom scipy.cluster.hierarchy import dendrogram\\nfrom scipy.spatial.distance import pdist, squareform\\nfrom sklearn.decomposition import PCA\\nfrom sklearn.metrics import silhouette_score, davies_bouldin_score\\nfrom sklearn.preprocessing import StandardScaler\";\n",
       "                var nbb_formatted_code = \"%load_ext nb_black\\nfrom collections import Counter\\nfrom umap import UMAP\\nimport pandas as pd\\nimport numpy as np\\nimport matplotlib.pyplot as plt\\nimport plotly.express as px\\nimport seaborn as sns\\nfrom factor_analyzer import FactorAnalyzer\\nfrom sklearn.cluster import KMeans, AgglomerativeClustering\\nfrom scipy.cluster.hierarchy import dendrogram\\nfrom scipy.spatial.distance import pdist, squareform\\nfrom sklearn.decomposition import PCA\\nfrom sklearn.metrics import silhouette_score, davies_bouldin_score\\nfrom sklearn.preprocessing import StandardScaler\";\n",
       "                var nbb_cells = Jupyter.notebook.get_cells();\n",
       "                for (var i = 0; i < nbb_cells.length; ++i) {\n",
       "                    if (nbb_cells[i].input_prompt_number == nbb_cell_id) {\n",
       "                        if (nbb_cells[i].get_text() == nbb_unformatted_code) {\n",
       "                             nbb_cells[i].set_text(nbb_formatted_code);\n",
       "                        }\n",
       "                        break;\n",
       "                    }\n",
       "                }\n",
       "            }, 500);\n",
       "            "
      ],
      "text/plain": [
       "<IPython.core.display.Javascript object>"
      ]
     },
     "metadata": {},
     "output_type": "display_data"
    }
   ],
   "source": [
    "%load_ext nb_black\n",
    "from collections import Counter\n",
    "from umap import UMAP\n",
    "import pandas as pd\n",
    "import numpy as np\n",
    "import matplotlib.pyplot as plt\n",
    "import plotly.express as px\n",
    "import seaborn as sns\n",
    "from factor_analyzer import FactorAnalyzer\n",
    "from sklearn.cluster import KMeans, AgglomerativeClustering\n",
    "from scipy.cluster.hierarchy import dendrogram\n",
    "from scipy.spatial.distance import pdist, squareform\n",
    "from sklearn.decomposition import PCA\n",
    "from sklearn.metrics import silhouette_score, davies_bouldin_score\n",
    "from sklearn.preprocessing import StandardScaler"
   ]
  },
  {
   "cell_type": "code",
   "execution_count": 2,
   "metadata": {},
   "outputs": [
    {
     "data": {
      "application/javascript": [
       "\n",
       "            setTimeout(function() {\n",
       "                var nbb_cell_id = 2;\n",
       "                var nbb_unformatted_code = \"# useful functions\\ndef pca_loadings(pca):\\n    return pca.components_.T * np.sqrt(pca.explained_variance_)\\n\\n\\ndef plot_dendrogram(model, **kwargs):\\n    \\\"\\\"\\\"\\n    A function for plotting a dendrogram. Sourced from the following link:\\n    https://github.com/scikit-learn/scikit-learn/blob/70cf4a676caa2d2dad2e3f6e4478d64bcb0506f7/examples/cluster/plot_hierarchical_clustering_dendrogram.py\\n    \\n    Parameters:\\n        model (object of class sklearn.cluster.hierarchical.AgglomerativeClustering): a fitted scikit-learn hierarchical clustering model.\\n    \\n    Output: a dendrogram based on the model based in the parameters.\\n    \\n    Returns: None   \\n    \\\"\\\"\\\"\\n    # Children of hierarchical clustering\\n    children = model.children_\\n\\n    # Distances between each pair of children\\n    # Since we don't have this information, we can use a uniform one for plotting\\n    distance = np.arange(children.shape[0])\\n\\n    # The number of observations contained in each cluster level\\n    no_of_observations = np.arange(2, children.shape[0] + 2)\\n\\n    # Create linkage matrix and then plot the dendrogram\\n    linkage_matrix = np.column_stack([children, distance, no_of_observations]).astype(\\n        float\\n    )\\n\\n    # Plot the corresponding dendrogram\\n    dendrogram(linkage_matrix, **kwargs)\\n\\n\\ndef hide_current_axis(*args, **kwds):\\n    plt.gca().set_visible(False)\";\n",
       "                var nbb_formatted_code = \"# useful functions\\ndef pca_loadings(pca):\\n    return pca.components_.T * np.sqrt(pca.explained_variance_)\\n\\n\\ndef plot_dendrogram(model, **kwargs):\\n    \\\"\\\"\\\"\\n    A function for plotting a dendrogram. Sourced from the following link:\\n    https://github.com/scikit-learn/scikit-learn/blob/70cf4a676caa2d2dad2e3f6e4478d64bcb0506f7/examples/cluster/plot_hierarchical_clustering_dendrogram.py\\n    \\n    Parameters:\\n        model (object of class sklearn.cluster.hierarchical.AgglomerativeClustering): a fitted scikit-learn hierarchical clustering model.\\n    \\n    Output: a dendrogram based on the model based in the parameters.\\n    \\n    Returns: None   \\n    \\\"\\\"\\\"\\n    # Children of hierarchical clustering\\n    children = model.children_\\n\\n    # Distances between each pair of children\\n    # Since we don't have this information, we can use a uniform one for plotting\\n    distance = np.arange(children.shape[0])\\n\\n    # The number of observations contained in each cluster level\\n    no_of_observations = np.arange(2, children.shape[0] + 2)\\n\\n    # Create linkage matrix and then plot the dendrogram\\n    linkage_matrix = np.column_stack([children, distance, no_of_observations]).astype(\\n        float\\n    )\\n\\n    # Plot the corresponding dendrogram\\n    dendrogram(linkage_matrix, **kwargs)\\n\\n\\ndef hide_current_axis(*args, **kwds):\\n    plt.gca().set_visible(False)\";\n",
       "                var nbb_cells = Jupyter.notebook.get_cells();\n",
       "                for (var i = 0; i < nbb_cells.length; ++i) {\n",
       "                    if (nbb_cells[i].input_prompt_number == nbb_cell_id) {\n",
       "                        if (nbb_cells[i].get_text() == nbb_unformatted_code) {\n",
       "                             nbb_cells[i].set_text(nbb_formatted_code);\n",
       "                        }\n",
       "                        break;\n",
       "                    }\n",
       "                }\n",
       "            }, 500);\n",
       "            "
      ],
      "text/plain": [
       "<IPython.core.display.Javascript object>"
      ]
     },
     "metadata": {},
     "output_type": "display_data"
    }
   ],
   "source": [
    "# useful functions\n",
    "def pca_loadings(pca):\n",
    "    return pca.components_.T * np.sqrt(pca.explained_variance_)\n",
    "\n",
    "\n",
    "def plot_dendrogram(model, **kwargs):\n",
    "    \"\"\"\n",
    "    A function for plotting a dendrogram. Sourced from the following link:\n",
    "    https://github.com/scikit-learn/scikit-learn/blob/70cf4a676caa2d2dad2e3f6e4478d64bcb0506f7/examples/cluster/plot_hierarchical_clustering_dendrogram.py\n",
    "    \n",
    "    Parameters:\n",
    "        model (object of class sklearn.cluster.hierarchical.AgglomerativeClustering): a fitted scikit-learn hierarchical clustering model.\n",
    "    \n",
    "    Output: a dendrogram based on the model based in the parameters.\n",
    "    \n",
    "    Returns: None   \n",
    "    \"\"\"\n",
    "    # Children of hierarchical clustering\n",
    "    children = model.children_\n",
    "\n",
    "    # Distances between each pair of children\n",
    "    # Since we don't have this information, we can use a uniform one for plotting\n",
    "    distance = np.arange(children.shape[0])\n",
    "\n",
    "    # The number of observations contained in each cluster level\n",
    "    no_of_observations = np.arange(2, children.shape[0] + 2)\n",
    "\n",
    "    # Create linkage matrix and then plot the dendrogram\n",
    "    linkage_matrix = np.column_stack([children, distance, no_of_observations]).astype(\n",
    "        float\n",
    "    )\n",
    "\n",
    "    # Plot the corresponding dendrogram\n",
    "    dendrogram(linkage_matrix, **kwargs)\n",
    "\n",
    "\n",
    "def hide_current_axis(*args, **kwds):\n",
    "    plt.gca().set_visible(False)"
   ]
  },
  {
   "cell_type": "code",
   "execution_count": 3,
   "metadata": {},
   "outputs": [
    {
     "data": {
      "text/html": [
       "<div>\n",
       "<style scoped>\n",
       "    .dataframe tbody tr th:only-of-type {\n",
       "        vertical-align: middle;\n",
       "    }\n",
       "\n",
       "    .dataframe tbody tr th {\n",
       "        vertical-align: top;\n",
       "    }\n",
       "\n",
       "    .dataframe thead th {\n",
       "        text-align: right;\n",
       "    }\n",
       "</style>\n",
       "<table border=\"1\" class=\"dataframe\">\n",
       "  <thead>\n",
       "    <tr style=\"text-align: right;\">\n",
       "      <th></th>\n",
       "      <th>date</th>\n",
       "      <th>symbol</th>\n",
       "      <th>open</th>\n",
       "      <th>close</th>\n",
       "      <th>low</th>\n",
       "      <th>high</th>\n",
       "      <th>volume</th>\n",
       "    </tr>\n",
       "  </thead>\n",
       "  <tbody>\n",
       "    <tr>\n",
       "      <th>0</th>\n",
       "      <td>2016-01-05 00:00:00</td>\n",
       "      <td>WLTW</td>\n",
       "      <td>123.430000</td>\n",
       "      <td>125.839996</td>\n",
       "      <td>122.309998</td>\n",
       "      <td>126.250000</td>\n",
       "      <td>2163600.0</td>\n",
       "    </tr>\n",
       "    <tr>\n",
       "      <th>1</th>\n",
       "      <td>2016-01-06 00:00:00</td>\n",
       "      <td>WLTW</td>\n",
       "      <td>125.239998</td>\n",
       "      <td>119.980003</td>\n",
       "      <td>119.940002</td>\n",
       "      <td>125.540001</td>\n",
       "      <td>2386400.0</td>\n",
       "    </tr>\n",
       "    <tr>\n",
       "      <th>2</th>\n",
       "      <td>2016-01-07 00:00:00</td>\n",
       "      <td>WLTW</td>\n",
       "      <td>116.379997</td>\n",
       "      <td>114.949997</td>\n",
       "      <td>114.930000</td>\n",
       "      <td>119.739998</td>\n",
       "      <td>2489500.0</td>\n",
       "    </tr>\n",
       "    <tr>\n",
       "      <th>3</th>\n",
       "      <td>2016-01-08 00:00:00</td>\n",
       "      <td>WLTW</td>\n",
       "      <td>115.480003</td>\n",
       "      <td>116.620003</td>\n",
       "      <td>113.500000</td>\n",
       "      <td>117.440002</td>\n",
       "      <td>2006300.0</td>\n",
       "    </tr>\n",
       "    <tr>\n",
       "      <th>4</th>\n",
       "      <td>2016-01-11 00:00:00</td>\n",
       "      <td>WLTW</td>\n",
       "      <td>117.010002</td>\n",
       "      <td>114.970001</td>\n",
       "      <td>114.089996</td>\n",
       "      <td>117.330002</td>\n",
       "      <td>1408600.0</td>\n",
       "    </tr>\n",
       "  </tbody>\n",
       "</table>\n",
       "</div>"
      ],
      "text/plain": [
       "                  date symbol        open       close         low        high  \\\n",
       "0  2016-01-05 00:00:00   WLTW  123.430000  125.839996  122.309998  126.250000   \n",
       "1  2016-01-06 00:00:00   WLTW  125.239998  119.980003  119.940002  125.540001   \n",
       "2  2016-01-07 00:00:00   WLTW  116.379997  114.949997  114.930000  119.739998   \n",
       "3  2016-01-08 00:00:00   WLTW  115.480003  116.620003  113.500000  117.440002   \n",
       "4  2016-01-11 00:00:00   WLTW  117.010002  114.970001  114.089996  117.330002   \n",
       "\n",
       "      volume  \n",
       "0  2163600.0  \n",
       "1  2386400.0  \n",
       "2  2489500.0  \n",
       "3  2006300.0  \n",
       "4  1408600.0  "
      ]
     },
     "execution_count": 3,
     "metadata": {},
     "output_type": "execute_result"
    },
    {
     "data": {
      "application/javascript": [
       "\n",
       "            setTimeout(function() {\n",
       "                var nbb_cell_id = 3;\n",
       "                var nbb_unformatted_code = \"df = pd.read_csv(r\\\"C:\\\\Users\\\\jonat\\\\Desktop\\\\Stocks\\\\prices.csv\\\")\\ndf.head()\";\n",
       "                var nbb_formatted_code = \"df = pd.read_csv(r\\\"C:\\\\Users\\\\jonat\\\\Desktop\\\\Stocks\\\\prices.csv\\\")\\ndf.head()\";\n",
       "                var nbb_cells = Jupyter.notebook.get_cells();\n",
       "                for (var i = 0; i < nbb_cells.length; ++i) {\n",
       "                    if (nbb_cells[i].input_prompt_number == nbb_cell_id) {\n",
       "                        if (nbb_cells[i].get_text() == nbb_unformatted_code) {\n",
       "                             nbb_cells[i].set_text(nbb_formatted_code);\n",
       "                        }\n",
       "                        break;\n",
       "                    }\n",
       "                }\n",
       "            }, 500);\n",
       "            "
      ],
      "text/plain": [
       "<IPython.core.display.Javascript object>"
      ]
     },
     "metadata": {},
     "output_type": "display_data"
    }
   ],
   "source": [
    "df = pd.read_csv(r\"C:\\Users\\jonat\\Desktop\\Stocks\\prices.csv\")\n",
    "df.head()"
   ]
  },
  {
   "cell_type": "code",
   "execution_count": 4,
   "metadata": {},
   "outputs": [
    {
     "data": {
      "application/javascript": [
       "\n",
       "            setTimeout(function() {\n",
       "                var nbb_cell_id = 4;\n",
       "                var nbb_unformatted_code = \"# That is pretty... pretty cluttered. We should prob try to group stocks\\n# px.scatter(x=\\\"date\\\", y=\\\"open\\\", color=\\\"symbol\\\", data_frame=df)\";\n",
       "                var nbb_formatted_code = \"# That is pretty... pretty cluttered. We should prob try to group stocks\\n# px.scatter(x=\\\"date\\\", y=\\\"open\\\", color=\\\"symbol\\\", data_frame=df)\";\n",
       "                var nbb_cells = Jupyter.notebook.get_cells();\n",
       "                for (var i = 0; i < nbb_cells.length; ++i) {\n",
       "                    if (nbb_cells[i].input_prompt_number == nbb_cell_id) {\n",
       "                        if (nbb_cells[i].get_text() == nbb_unformatted_code) {\n",
       "                             nbb_cells[i].set_text(nbb_formatted_code);\n",
       "                        }\n",
       "                        break;\n",
       "                    }\n",
       "                }\n",
       "            }, 500);\n",
       "            "
      ],
      "text/plain": [
       "<IPython.core.display.Javascript object>"
      ]
     },
     "metadata": {},
     "output_type": "display_data"
    }
   ],
   "source": [
    "# That is pretty... pretty cluttered. We should prob try to group stocks\n",
    "# px.scatter(x=\"date\", y=\"open\", color=\"symbol\", data_frame=df)"
   ]
  },
  {
   "cell_type": "code",
   "execution_count": 5,
   "metadata": {},
   "outputs": [
    {
     "data": {
      "application/javascript": [
       "\n",
       "            setTimeout(function() {\n",
       "                var nbb_cell_id = 5;\n",
       "                var nbb_unformatted_code = \"# Let's make date date-time and separate based on month, day, and year.\\ndf[\\\"date\\\"] = df[\\\"date\\\"].str.replace(\\\"00:00:00\\\", \\\"\\\")\\ndf[\\\"date\\\"] = pd.to_datetime(df[\\\"date\\\"])\\ndf[\\\"year\\\"] = df[\\\"date\\\"].dt.year\\ndf[\\\"month\\\"] = df[\\\"date\\\"].dt.month\\ndf[\\\"day\\\"] = df[\\\"date\\\"].dt.day\\n# now we drop date since it's kinda useless to us\\ndf = df.drop(columns=\\\"date\\\")\";\n",
       "                var nbb_formatted_code = \"# Let's make date date-time and separate based on month, day, and year.\\ndf[\\\"date\\\"] = df[\\\"date\\\"].str.replace(\\\"00:00:00\\\", \\\"\\\")\\ndf[\\\"date\\\"] = pd.to_datetime(df[\\\"date\\\"])\\ndf[\\\"year\\\"] = df[\\\"date\\\"].dt.year\\ndf[\\\"month\\\"] = df[\\\"date\\\"].dt.month\\ndf[\\\"day\\\"] = df[\\\"date\\\"].dt.day\\n# now we drop date since it's kinda useless to us\\ndf = df.drop(columns=\\\"date\\\")\";\n",
       "                var nbb_cells = Jupyter.notebook.get_cells();\n",
       "                for (var i = 0; i < nbb_cells.length; ++i) {\n",
       "                    if (nbb_cells[i].input_prompt_number == nbb_cell_id) {\n",
       "                        if (nbb_cells[i].get_text() == nbb_unformatted_code) {\n",
       "                             nbb_cells[i].set_text(nbb_formatted_code);\n",
       "                        }\n",
       "                        break;\n",
       "                    }\n",
       "                }\n",
       "            }, 500);\n",
       "            "
      ],
      "text/plain": [
       "<IPython.core.display.Javascript object>"
      ]
     },
     "metadata": {},
     "output_type": "display_data"
    }
   ],
   "source": [
    "# Let's make date date-time and separate based on month, day, and year.\n",
    "df[\"date\"] = df[\"date\"].str.replace(\"00:00:00\", \"\")\n",
    "df[\"date\"] = pd.to_datetime(df[\"date\"])\n",
    "df[\"year\"] = df[\"date\"].dt.year\n",
    "df[\"month\"] = df[\"date\"].dt.month\n",
    "df[\"day\"] = df[\"date\"].dt.day\n",
    "# now we drop date since it's kinda useless to us\n",
    "df = df.drop(columns=\"date\")"
   ]
  },
  {
   "cell_type": "code",
   "execution_count": 6,
   "metadata": {},
   "outputs": [
    {
     "data": {
      "text/html": [
       "<div>\n",
       "<style scoped>\n",
       "    .dataframe tbody tr th:only-of-type {\n",
       "        vertical-align: middle;\n",
       "    }\n",
       "\n",
       "    .dataframe tbody tr th {\n",
       "        vertical-align: top;\n",
       "    }\n",
       "\n",
       "    .dataframe thead th {\n",
       "        text-align: right;\n",
       "    }\n",
       "</style>\n",
       "<table border=\"1\" class=\"dataframe\">\n",
       "  <thead>\n",
       "    <tr style=\"text-align: right;\">\n",
       "      <th></th>\n",
       "      <th>symbol</th>\n",
       "      <th>open</th>\n",
       "      <th>close</th>\n",
       "      <th>low</th>\n",
       "      <th>high</th>\n",
       "      <th>volume</th>\n",
       "      <th>year</th>\n",
       "      <th>month</th>\n",
       "      <th>day</th>\n",
       "    </tr>\n",
       "  </thead>\n",
       "  <tbody>\n",
       "    <tr>\n",
       "      <th>0</th>\n",
       "      <td>WLTW</td>\n",
       "      <td>123.430000</td>\n",
       "      <td>125.839996</td>\n",
       "      <td>122.309998</td>\n",
       "      <td>126.250000</td>\n",
       "      <td>2163600.0</td>\n",
       "      <td>2016</td>\n",
       "      <td>1</td>\n",
       "      <td>5</td>\n",
       "    </tr>\n",
       "    <tr>\n",
       "      <th>1</th>\n",
       "      <td>WLTW</td>\n",
       "      <td>125.239998</td>\n",
       "      <td>119.980003</td>\n",
       "      <td>119.940002</td>\n",
       "      <td>125.540001</td>\n",
       "      <td>2386400.0</td>\n",
       "      <td>2016</td>\n",
       "      <td>1</td>\n",
       "      <td>6</td>\n",
       "    </tr>\n",
       "    <tr>\n",
       "      <th>2</th>\n",
       "      <td>WLTW</td>\n",
       "      <td>116.379997</td>\n",
       "      <td>114.949997</td>\n",
       "      <td>114.930000</td>\n",
       "      <td>119.739998</td>\n",
       "      <td>2489500.0</td>\n",
       "      <td>2016</td>\n",
       "      <td>1</td>\n",
       "      <td>7</td>\n",
       "    </tr>\n",
       "    <tr>\n",
       "      <th>3</th>\n",
       "      <td>WLTW</td>\n",
       "      <td>115.480003</td>\n",
       "      <td>116.620003</td>\n",
       "      <td>113.500000</td>\n",
       "      <td>117.440002</td>\n",
       "      <td>2006300.0</td>\n",
       "      <td>2016</td>\n",
       "      <td>1</td>\n",
       "      <td>8</td>\n",
       "    </tr>\n",
       "    <tr>\n",
       "      <th>4</th>\n",
       "      <td>WLTW</td>\n",
       "      <td>117.010002</td>\n",
       "      <td>114.970001</td>\n",
       "      <td>114.089996</td>\n",
       "      <td>117.330002</td>\n",
       "      <td>1408600.0</td>\n",
       "      <td>2016</td>\n",
       "      <td>1</td>\n",
       "      <td>11</td>\n",
       "    </tr>\n",
       "    <tr>\n",
       "      <th>...</th>\n",
       "      <td>...</td>\n",
       "      <td>...</td>\n",
       "      <td>...</td>\n",
       "      <td>...</td>\n",
       "      <td>...</td>\n",
       "      <td>...</td>\n",
       "      <td>...</td>\n",
       "      <td>...</td>\n",
       "      <td>...</td>\n",
       "    </tr>\n",
       "    <tr>\n",
       "      <th>851259</th>\n",
       "      <td>ZBH</td>\n",
       "      <td>103.309998</td>\n",
       "      <td>103.199997</td>\n",
       "      <td>102.849998</td>\n",
       "      <td>103.930000</td>\n",
       "      <td>973800.0</td>\n",
       "      <td>2016</td>\n",
       "      <td>12</td>\n",
       "      <td>30</td>\n",
       "    </tr>\n",
       "    <tr>\n",
       "      <th>851260</th>\n",
       "      <td>ZION</td>\n",
       "      <td>43.070000</td>\n",
       "      <td>43.040001</td>\n",
       "      <td>42.689999</td>\n",
       "      <td>43.310001</td>\n",
       "      <td>1938100.0</td>\n",
       "      <td>2016</td>\n",
       "      <td>12</td>\n",
       "      <td>30</td>\n",
       "    </tr>\n",
       "    <tr>\n",
       "      <th>851261</th>\n",
       "      <td>ZTS</td>\n",
       "      <td>53.639999</td>\n",
       "      <td>53.529999</td>\n",
       "      <td>53.270000</td>\n",
       "      <td>53.740002</td>\n",
       "      <td>1701200.0</td>\n",
       "      <td>2016</td>\n",
       "      <td>12</td>\n",
       "      <td>30</td>\n",
       "    </tr>\n",
       "    <tr>\n",
       "      <th>851262</th>\n",
       "      <td>AIV</td>\n",
       "      <td>44.730000</td>\n",
       "      <td>45.450001</td>\n",
       "      <td>44.410000</td>\n",
       "      <td>45.590000</td>\n",
       "      <td>1380900.0</td>\n",
       "      <td>2016</td>\n",
       "      <td>12</td>\n",
       "      <td>30</td>\n",
       "    </tr>\n",
       "    <tr>\n",
       "      <th>851263</th>\n",
       "      <td>FTV</td>\n",
       "      <td>54.200001</td>\n",
       "      <td>53.630001</td>\n",
       "      <td>53.389999</td>\n",
       "      <td>54.480000</td>\n",
       "      <td>705100.0</td>\n",
       "      <td>2016</td>\n",
       "      <td>12</td>\n",
       "      <td>30</td>\n",
       "    </tr>\n",
       "  </tbody>\n",
       "</table>\n",
       "<p>851264 rows × 9 columns</p>\n",
       "</div>"
      ],
      "text/plain": [
       "       symbol        open       close         low        high     volume  \\\n",
       "0        WLTW  123.430000  125.839996  122.309998  126.250000  2163600.0   \n",
       "1        WLTW  125.239998  119.980003  119.940002  125.540001  2386400.0   \n",
       "2        WLTW  116.379997  114.949997  114.930000  119.739998  2489500.0   \n",
       "3        WLTW  115.480003  116.620003  113.500000  117.440002  2006300.0   \n",
       "4        WLTW  117.010002  114.970001  114.089996  117.330002  1408600.0   \n",
       "...       ...         ...         ...         ...         ...        ...   \n",
       "851259    ZBH  103.309998  103.199997  102.849998  103.930000   973800.0   \n",
       "851260   ZION   43.070000   43.040001   42.689999   43.310001  1938100.0   \n",
       "851261    ZTS   53.639999   53.529999   53.270000   53.740002  1701200.0   \n",
       "851262    AIV   44.730000   45.450001   44.410000   45.590000  1380900.0   \n",
       "851263    FTV   54.200001   53.630001   53.389999   54.480000   705100.0   \n",
       "\n",
       "        year  month  day  \n",
       "0       2016      1    5  \n",
       "1       2016      1    6  \n",
       "2       2016      1    7  \n",
       "3       2016      1    8  \n",
       "4       2016      1   11  \n",
       "...      ...    ...  ...  \n",
       "851259  2016     12   30  \n",
       "851260  2016     12   30  \n",
       "851261  2016     12   30  \n",
       "851262  2016     12   30  \n",
       "851263  2016     12   30  \n",
       "\n",
       "[851264 rows x 9 columns]"
      ]
     },
     "execution_count": 6,
     "metadata": {},
     "output_type": "execute_result"
    },
    {
     "data": {
      "application/javascript": [
       "\n",
       "            setTimeout(function() {\n",
       "                var nbb_cell_id = 6;\n",
       "                var nbb_unformatted_code = \"df\";\n",
       "                var nbb_formatted_code = \"df\";\n",
       "                var nbb_cells = Jupyter.notebook.get_cells();\n",
       "                for (var i = 0; i < nbb_cells.length; ++i) {\n",
       "                    if (nbb_cells[i].input_prompt_number == nbb_cell_id) {\n",
       "                        if (nbb_cells[i].get_text() == nbb_unformatted_code) {\n",
       "                             nbb_cells[i].set_text(nbb_formatted_code);\n",
       "                        }\n",
       "                        break;\n",
       "                    }\n",
       "                }\n",
       "            }, 500);\n",
       "            "
      ],
      "text/plain": [
       "<IPython.core.display.Javascript object>"
      ]
     },
     "metadata": {},
     "output_type": "display_data"
    }
   ],
   "source": [
    "df"
   ]
  },
  {
   "cell_type": "code",
   "execution_count": 7,
   "metadata": {
    "scrolled": true
   },
   "outputs": [
    {
     "name": "stdout",
     "output_type": "stream",
     "text": [
      "<class 'pandas.core.frame.DataFrame'>\n",
      "RangeIndex: 851264 entries, 0 to 851263\n",
      "Data columns (total 9 columns):\n",
      " #   Column  Non-Null Count   Dtype  \n",
      "---  ------  --------------   -----  \n",
      " 0   symbol  851264 non-null  object \n",
      " 1   open    851264 non-null  float64\n",
      " 2   close   851264 non-null  float64\n",
      " 3   low     851264 non-null  float64\n",
      " 4   high    851264 non-null  float64\n",
      " 5   volume  851264 non-null  float64\n",
      " 6   year    851264 non-null  int64  \n",
      " 7   month   851264 non-null  int64  \n",
      " 8   day     851264 non-null  int64  \n",
      "dtypes: float64(5), int64(3), object(1)\n",
      "memory usage: 58.5+ MB\n"
     ]
    },
    {
     "data": {
      "application/javascript": [
       "\n",
       "            setTimeout(function() {\n",
       "                var nbb_cell_id = 7;\n",
       "                var nbb_unformatted_code = \"# I don't want the date to be an object. Datetime is easier to work with for groupings\\ndf.info()\";\n",
       "                var nbb_formatted_code = \"# I don't want the date to be an object. Datetime is easier to work with for groupings\\ndf.info()\";\n",
       "                var nbb_cells = Jupyter.notebook.get_cells();\n",
       "                for (var i = 0; i < nbb_cells.length; ++i) {\n",
       "                    if (nbb_cells[i].input_prompt_number == nbb_cell_id) {\n",
       "                        if (nbb_cells[i].get_text() == nbb_unformatted_code) {\n",
       "                             nbb_cells[i].set_text(nbb_formatted_code);\n",
       "                        }\n",
       "                        break;\n",
       "                    }\n",
       "                }\n",
       "            }, 500);\n",
       "            "
      ],
      "text/plain": [
       "<IPython.core.display.Javascript object>"
      ]
     },
     "metadata": {},
     "output_type": "display_data"
    }
   ],
   "source": [
    "# I don't want the date to be an object. Datetime is easier to work with for groupings\n",
    "df.info()"
   ]
  },
  {
   "cell_type": "code",
   "execution_count": 8,
   "metadata": {},
   "outputs": [
    {
     "data": {
      "text/plain": [
       "symbol    0.0\n",
       "open      0.0\n",
       "close     0.0\n",
       "low       0.0\n",
       "high      0.0\n",
       "volume    0.0\n",
       "year      0.0\n",
       "month     0.0\n",
       "day       0.0\n",
       "dtype: float64"
      ]
     },
     "execution_count": 8,
     "metadata": {},
     "output_type": "execute_result"
    },
    {
     "data": {
      "application/javascript": [
       "\n",
       "            setTimeout(function() {\n",
       "                var nbb_cell_id = 8;\n",
       "                var nbb_unformatted_code = \"# Are there any NA?\\ndf.isna().mean()\";\n",
       "                var nbb_formatted_code = \"# Are there any NA?\\ndf.isna().mean()\";\n",
       "                var nbb_cells = Jupyter.notebook.get_cells();\n",
       "                for (var i = 0; i < nbb_cells.length; ++i) {\n",
       "                    if (nbb_cells[i].input_prompt_number == nbb_cell_id) {\n",
       "                        if (nbb_cells[i].get_text() == nbb_unformatted_code) {\n",
       "                             nbb_cells[i].set_text(nbb_formatted_code);\n",
       "                        }\n",
       "                        break;\n",
       "                    }\n",
       "                }\n",
       "            }, 500);\n",
       "            "
      ],
      "text/plain": [
       "<IPython.core.display.Javascript object>"
      ]
     },
     "metadata": {},
     "output_type": "display_data"
    }
   ],
   "source": [
    "# Are there any NA?\n",
    "df.isna().mean()"
   ]
  },
  {
   "cell_type": "code",
   "execution_count": 9,
   "metadata": {
    "scrolled": true
   },
   "outputs": [
    {
     "data": {
      "text/plain": [
       "Counter({1762: 467,\n",
       "         1761: 1,\n",
       "         1683: 1,\n",
       "         1540: 1,\n",
       "         1008: 13,\n",
       "         987: 1,\n",
       "         896: 1,\n",
       "         894: 1,\n",
       "         892: 2,\n",
       "         853: 1,\n",
       "         786: 1,\n",
       "         504: 4,\n",
       "         385: 1,\n",
       "         378: 2,\n",
       "         304: 1,\n",
       "         284: 1,\n",
       "         251: 1,\n",
       "         126: 1})"
      ]
     },
     "execution_count": 9,
     "metadata": {},
     "output_type": "execute_result"
    },
    {
     "data": {
      "application/javascript": [
       "\n",
       "            setTimeout(function() {\n",
       "                var nbb_cell_id = 9;\n",
       "                var nbb_unformatted_code = \"low_stocks = df.symbol.value_counts()\\nCounter(low_stocks)\";\n",
       "                var nbb_formatted_code = \"low_stocks = df.symbol.value_counts()\\nCounter(low_stocks)\";\n",
       "                var nbb_cells = Jupyter.notebook.get_cells();\n",
       "                for (var i = 0; i < nbb_cells.length; ++i) {\n",
       "                    if (nbb_cells[i].input_prompt_number == nbb_cell_id) {\n",
       "                        if (nbb_cells[i].get_text() == nbb_unformatted_code) {\n",
       "                             nbb_cells[i].set_text(nbb_formatted_code);\n",
       "                        }\n",
       "                        break;\n",
       "                    }\n",
       "                }\n",
       "            }, 500);\n",
       "            "
      ],
      "text/plain": [
       "<IPython.core.display.Javascript object>"
      ]
     },
     "metadata": {},
     "output_type": "display_data"
    }
   ],
   "source": [
    "low_stocks = df.symbol.value_counts()\n",
    "Counter(low_stocks)"
   ]
  },
  {
   "cell_type": "code",
   "execution_count": 10,
   "metadata": {},
   "outputs": [
    {
     "name": "stdout",
     "output_type": "stream",
     "text": [
      "467\n"
     ]
    },
    {
     "data": {
      "application/javascript": [
       "\n",
       "            setTimeout(function() {\n",
       "                var nbb_cell_id = 10;\n",
       "                var nbb_unformatted_code = \"# I want to see how many full counts we have. Will look at full then set everything to minimum dates.\\n# For now, dropping those who don't have 1762\\ncount = 0\\nfor i in low_stocks:\\n    if i == 1762:\\n        count += 1\\n    else:\\n        count = count\\n\\nprint(count)\";\n",
       "                var nbb_formatted_code = \"# I want to see how many full counts we have. Will look at full then set everything to minimum dates.\\n# For now, dropping those who don't have 1762\\ncount = 0\\nfor i in low_stocks:\\n    if i == 1762:\\n        count += 1\\n    else:\\n        count = count\\n\\nprint(count)\";\n",
       "                var nbb_cells = Jupyter.notebook.get_cells();\n",
       "                for (var i = 0; i < nbb_cells.length; ++i) {\n",
       "                    if (nbb_cells[i].input_prompt_number == nbb_cell_id) {\n",
       "                        if (nbb_cells[i].get_text() == nbb_unformatted_code) {\n",
       "                             nbb_cells[i].set_text(nbb_formatted_code);\n",
       "                        }\n",
       "                        break;\n",
       "                    }\n",
       "                }\n",
       "            }, 500);\n",
       "            "
      ],
      "text/plain": [
       "<IPython.core.display.Javascript object>"
      ]
     },
     "metadata": {},
     "output_type": "display_data"
    }
   ],
   "source": [
    "# I want to see how many full counts we have. Will look at full then set everything to minimum dates.\n",
    "# For now, dropping those who don't have 1762\n",
    "count = 0\n",
    "for i in low_stocks:\n",
    "    if i == 1762:\n",
    "        count += 1\n",
    "    else:\n",
    "        count = count\n",
    "\n",
    "print(count)"
   ]
  },
  {
   "cell_type": "code",
   "execution_count": 11,
   "metadata": {},
   "outputs": [
    {
     "data": {
      "text/plain": [
       "0          NaN\n",
       "1          NaN\n",
       "2          NaN\n",
       "3          NaN\n",
       "4          NaN\n",
       "          ... \n",
       "851259     ZBH\n",
       "851260    ZION\n",
       "851261     NaN\n",
       "851262     AIV\n",
       "851263     NaN\n",
       "Name: symbol, Length: 851264, dtype: object"
      ]
     },
     "execution_count": 11,
     "metadata": {},
     "output_type": "execute_result"
    },
    {
     "data": {
      "application/javascript": [
       "\n",
       "            setTimeout(function() {\n",
       "                var nbb_cell_id = 11;\n",
       "                var nbb_unformatted_code = \"# keeping CHTR because it's only missing one\\nto_drop = low_stocks.tail(34)\\npls_work = to_drop.reset_index()\\ndrop = pls_work[\\\"index\\\"].values\\ndf[\\\"symbol\\\"] = df[\\\"symbol\\\"].replace(drop, \\\"NaN\\\")\\ndf[\\\"symbol\\\"]\";\n",
       "                var nbb_formatted_code = \"# keeping CHTR because it's only missing one\\nto_drop = low_stocks.tail(34)\\npls_work = to_drop.reset_index()\\ndrop = pls_work[\\\"index\\\"].values\\ndf[\\\"symbol\\\"] = df[\\\"symbol\\\"].replace(drop, \\\"NaN\\\")\\ndf[\\\"symbol\\\"]\";\n",
       "                var nbb_cells = Jupyter.notebook.get_cells();\n",
       "                for (var i = 0; i < nbb_cells.length; ++i) {\n",
       "                    if (nbb_cells[i].input_prompt_number == nbb_cell_id) {\n",
       "                        if (nbb_cells[i].get_text() == nbb_unformatted_code) {\n",
       "                             nbb_cells[i].set_text(nbb_formatted_code);\n",
       "                        }\n",
       "                        break;\n",
       "                    }\n",
       "                }\n",
       "            }, 500);\n",
       "            "
      ],
      "text/plain": [
       "<IPython.core.display.Javascript object>"
      ]
     },
     "metadata": {},
     "output_type": "display_data"
    }
   ],
   "source": [
    "# keeping CHTR because it's only missing one\n",
    "to_drop = low_stocks.tail(34)\n",
    "pls_work = to_drop.reset_index()\n",
    "drop = pls_work[\"index\"].values\n",
    "df[\"symbol\"] = df[\"symbol\"].replace(drop, \"NaN\")\n",
    "df[\"symbol\"]"
   ]
  },
  {
   "cell_type": "code",
   "execution_count": 12,
   "metadata": {
    "scrolled": false
   },
   "outputs": [
    {
     "data": {
      "text/plain": [
       "WEC     1762\n",
       "MO      1762\n",
       "TMO     1762\n",
       "OKE     1762\n",
       "TDC     1762\n",
       "        ... \n",
       "KEY     1762\n",
       "EFX     1762\n",
       "AMGN    1762\n",
       "SWK     1762\n",
       "DVN     1762\n",
       "Name: symbol, Length: 467, dtype: int64"
      ]
     },
     "execution_count": 12,
     "metadata": {},
     "output_type": "execute_result"
    },
    {
     "data": {
      "application/javascript": [
       "\n",
       "            setTimeout(function() {\n",
       "                var nbb_cell_id = 12;\n",
       "                var nbb_unformatted_code = \"df_full = df[~df[\\\"symbol\\\"].str.contains(\\\"NaN\\\")]\\ndf_full[\\\"symbol\\\"].value_counts()\";\n",
       "                var nbb_formatted_code = \"df_full = df[~df[\\\"symbol\\\"].str.contains(\\\"NaN\\\")]\\ndf_full[\\\"symbol\\\"].value_counts()\";\n",
       "                var nbb_cells = Jupyter.notebook.get_cells();\n",
       "                for (var i = 0; i < nbb_cells.length; ++i) {\n",
       "                    if (nbb_cells[i].input_prompt_number == nbb_cell_id) {\n",
       "                        if (nbb_cells[i].get_text() == nbb_unformatted_code) {\n",
       "                             nbb_cells[i].set_text(nbb_formatted_code);\n",
       "                        }\n",
       "                        break;\n",
       "                    }\n",
       "                }\n",
       "            }, 500);\n",
       "            "
      ],
      "text/plain": [
       "<IPython.core.display.Javascript object>"
      ]
     },
     "metadata": {},
     "output_type": "display_data"
    }
   ],
   "source": [
    "df_full = df[~df[\"symbol\"].str.contains(\"NaN\")]\n",
    "df_full[\"symbol\"].value_counts()"
   ]
  },
  {
   "cell_type": "code",
   "execution_count": 13,
   "metadata": {},
   "outputs": [
    {
     "data": {
      "text/html": [
       "<div>\n",
       "<style scoped>\n",
       "    .dataframe tbody tr th:only-of-type {\n",
       "        vertical-align: middle;\n",
       "    }\n",
       "\n",
       "    .dataframe tbody tr th {\n",
       "        vertical-align: top;\n",
       "    }\n",
       "\n",
       "    .dataframe thead th {\n",
       "        text-align: right;\n",
       "    }\n",
       "</style>\n",
       "<table border=\"1\" class=\"dataframe\">\n",
       "  <thead>\n",
       "    <tr style=\"text-align: right;\">\n",
       "      <th></th>\n",
       "      <th>symbol</th>\n",
       "      <th>open</th>\n",
       "      <th>close</th>\n",
       "      <th>low</th>\n",
       "      <th>high</th>\n",
       "      <th>volume</th>\n",
       "      <th>year</th>\n",
       "      <th>month</th>\n",
       "      <th>day</th>\n",
       "    </tr>\n",
       "  </thead>\n",
       "  <tbody>\n",
       "    <tr>\n",
       "      <th>251</th>\n",
       "      <td>A</td>\n",
       "      <td>31.389999</td>\n",
       "      <td>31.300001</td>\n",
       "      <td>31.130000</td>\n",
       "      <td>31.630001</td>\n",
       "      <td>3815500.0</td>\n",
       "      <td>2010</td>\n",
       "      <td>1</td>\n",
       "      <td>4</td>\n",
       "    </tr>\n",
       "    <tr>\n",
       "      <th>252</th>\n",
       "      <td>AAL</td>\n",
       "      <td>4.840000</td>\n",
       "      <td>4.770000</td>\n",
       "      <td>4.660000</td>\n",
       "      <td>4.940000</td>\n",
       "      <td>9837300.0</td>\n",
       "      <td>2010</td>\n",
       "      <td>1</td>\n",
       "      <td>4</td>\n",
       "    </tr>\n",
       "    <tr>\n",
       "      <th>253</th>\n",
       "      <td>AAP</td>\n",
       "      <td>40.700001</td>\n",
       "      <td>40.380001</td>\n",
       "      <td>40.360001</td>\n",
       "      <td>41.040001</td>\n",
       "      <td>1701700.0</td>\n",
       "      <td>2010</td>\n",
       "      <td>1</td>\n",
       "      <td>4</td>\n",
       "    </tr>\n",
       "    <tr>\n",
       "      <th>254</th>\n",
       "      <td>AAPL</td>\n",
       "      <td>213.429998</td>\n",
       "      <td>214.009998</td>\n",
       "      <td>212.380001</td>\n",
       "      <td>214.499996</td>\n",
       "      <td>123432400.0</td>\n",
       "      <td>2010</td>\n",
       "      <td>1</td>\n",
       "      <td>4</td>\n",
       "    </tr>\n",
       "    <tr>\n",
       "      <th>255</th>\n",
       "      <td>ABC</td>\n",
       "      <td>26.290001</td>\n",
       "      <td>26.629999</td>\n",
       "      <td>26.139999</td>\n",
       "      <td>26.690001</td>\n",
       "      <td>2455900.0</td>\n",
       "      <td>2010</td>\n",
       "      <td>1</td>\n",
       "      <td>4</td>\n",
       "    </tr>\n",
       "    <tr>\n",
       "      <th>...</th>\n",
       "      <td>...</td>\n",
       "      <td>...</td>\n",
       "      <td>...</td>\n",
       "      <td>...</td>\n",
       "      <td>...</td>\n",
       "      <td>...</td>\n",
       "      <td>...</td>\n",
       "      <td>...</td>\n",
       "      <td>...</td>\n",
       "    </tr>\n",
       "    <tr>\n",
       "      <th>851257</th>\n",
       "      <td>YHOO</td>\n",
       "      <td>38.720001</td>\n",
       "      <td>38.669998</td>\n",
       "      <td>38.430000</td>\n",
       "      <td>39.000000</td>\n",
       "      <td>6431600.0</td>\n",
       "      <td>2016</td>\n",
       "      <td>12</td>\n",
       "      <td>30</td>\n",
       "    </tr>\n",
       "    <tr>\n",
       "      <th>851258</th>\n",
       "      <td>YUM</td>\n",
       "      <td>63.930000</td>\n",
       "      <td>63.330002</td>\n",
       "      <td>63.160000</td>\n",
       "      <td>63.939999</td>\n",
       "      <td>1887100.0</td>\n",
       "      <td>2016</td>\n",
       "      <td>12</td>\n",
       "      <td>30</td>\n",
       "    </tr>\n",
       "    <tr>\n",
       "      <th>851259</th>\n",
       "      <td>ZBH</td>\n",
       "      <td>103.309998</td>\n",
       "      <td>103.199997</td>\n",
       "      <td>102.849998</td>\n",
       "      <td>103.930000</td>\n",
       "      <td>973800.0</td>\n",
       "      <td>2016</td>\n",
       "      <td>12</td>\n",
       "      <td>30</td>\n",
       "    </tr>\n",
       "    <tr>\n",
       "      <th>851260</th>\n",
       "      <td>ZION</td>\n",
       "      <td>43.070000</td>\n",
       "      <td>43.040001</td>\n",
       "      <td>42.689999</td>\n",
       "      <td>43.310001</td>\n",
       "      <td>1938100.0</td>\n",
       "      <td>2016</td>\n",
       "      <td>12</td>\n",
       "      <td>30</td>\n",
       "    </tr>\n",
       "    <tr>\n",
       "      <th>851262</th>\n",
       "      <td>AIV</td>\n",
       "      <td>44.730000</td>\n",
       "      <td>45.450001</td>\n",
       "      <td>44.410000</td>\n",
       "      <td>45.590000</td>\n",
       "      <td>1380900.0</td>\n",
       "      <td>2016</td>\n",
       "      <td>12</td>\n",
       "      <td>30</td>\n",
       "    </tr>\n",
       "  </tbody>\n",
       "</table>\n",
       "<p>822854 rows × 9 columns</p>\n",
       "</div>"
      ],
      "text/plain": [
       "       symbol        open       close         low        high       volume  \\\n",
       "251         A   31.389999   31.300001   31.130000   31.630001    3815500.0   \n",
       "252       AAL    4.840000    4.770000    4.660000    4.940000    9837300.0   \n",
       "253       AAP   40.700001   40.380001   40.360001   41.040001    1701700.0   \n",
       "254      AAPL  213.429998  214.009998  212.380001  214.499996  123432400.0   \n",
       "255       ABC   26.290001   26.629999   26.139999   26.690001    2455900.0   \n",
       "...       ...         ...         ...         ...         ...          ...   \n",
       "851257   YHOO   38.720001   38.669998   38.430000   39.000000    6431600.0   \n",
       "851258    YUM   63.930000   63.330002   63.160000   63.939999    1887100.0   \n",
       "851259    ZBH  103.309998  103.199997  102.849998  103.930000     973800.0   \n",
       "851260   ZION   43.070000   43.040001   42.689999   43.310001    1938100.0   \n",
       "851262    AIV   44.730000   45.450001   44.410000   45.590000    1380900.0   \n",
       "\n",
       "        year  month  day  \n",
       "251     2010      1    4  \n",
       "252     2010      1    4  \n",
       "253     2010      1    4  \n",
       "254     2010      1    4  \n",
       "255     2010      1    4  \n",
       "...      ...    ...  ...  \n",
       "851257  2016     12   30  \n",
       "851258  2016     12   30  \n",
       "851259  2016     12   30  \n",
       "851260  2016     12   30  \n",
       "851262  2016     12   30  \n",
       "\n",
       "[822854 rows x 9 columns]"
      ]
     },
     "execution_count": 13,
     "metadata": {},
     "output_type": "execute_result"
    },
    {
     "data": {
      "application/javascript": [
       "\n",
       "            setTimeout(function() {\n",
       "                var nbb_cell_id = 13;\n",
       "                var nbb_unformatted_code = \"df_full\";\n",
       "                var nbb_formatted_code = \"df_full\";\n",
       "                var nbb_cells = Jupyter.notebook.get_cells();\n",
       "                for (var i = 0; i < nbb_cells.length; ++i) {\n",
       "                    if (nbb_cells[i].input_prompt_number == nbb_cell_id) {\n",
       "                        if (nbb_cells[i].get_text() == nbb_unformatted_code) {\n",
       "                             nbb_cells[i].set_text(nbb_formatted_code);\n",
       "                        }\n",
       "                        break;\n",
       "                    }\n",
       "                }\n",
       "            }, 500);\n",
       "            "
      ],
      "text/plain": [
       "<IPython.core.display.Javascript object>"
      ]
     },
     "metadata": {},
     "output_type": "display_data"
    }
   ],
   "source": [
    "df_full"
   ]
  },
  {
   "cell_type": "code",
   "execution_count": 14,
   "metadata": {},
   "outputs": [
    {
     "data": {
      "text/plain": [
       "Index(['symbol', 'open', 'close', 'low', 'high', 'volume', 'year', 'month',\n",
       "       'day'],\n",
       "      dtype='object')"
      ]
     },
     "execution_count": 14,
     "metadata": {},
     "output_type": "execute_result"
    },
    {
     "data": {
      "application/javascript": [
       "\n",
       "            setTimeout(function() {\n",
       "                var nbb_cell_id = 14;\n",
       "                var nbb_unformatted_code = \"df_full.columns\";\n",
       "                var nbb_formatted_code = \"df_full.columns\";\n",
       "                var nbb_cells = Jupyter.notebook.get_cells();\n",
       "                for (var i = 0; i < nbb_cells.length; ++i) {\n",
       "                    if (nbb_cells[i].input_prompt_number == nbb_cell_id) {\n",
       "                        if (nbb_cells[i].get_text() == nbb_unformatted_code) {\n",
       "                             nbb_cells[i].set_text(nbb_formatted_code);\n",
       "                        }\n",
       "                        break;\n",
       "                    }\n",
       "                }\n",
       "            }, 500);\n",
       "            "
      ],
      "text/plain": [
       "<IPython.core.display.Javascript object>"
      ]
     },
     "metadata": {},
     "output_type": "display_data"
    }
   ],
   "source": [
    "df_full.columns"
   ]
  },
  {
   "cell_type": "code",
   "execution_count": 15,
   "metadata": {},
   "outputs": [
    {
     "data": {
      "application/javascript": [
       "\n",
       "            setTimeout(function() {\n",
       "                var nbb_cell_id = 15;\n",
       "                var nbb_unformatted_code = \"# df_full[\\\"label\\\"] = number[\\\"label\\\"]\\n# px.scatter(x=\\\"date\\\", y=\\\"open\\\", color=\\\"label\\\", data_frame=df_full)\";\n",
       "                var nbb_formatted_code = \"# df_full[\\\"label\\\"] = number[\\\"label\\\"]\\n# px.scatter(x=\\\"date\\\", y=\\\"open\\\", color=\\\"label\\\", data_frame=df_full)\";\n",
       "                var nbb_cells = Jupyter.notebook.get_cells();\n",
       "                for (var i = 0; i < nbb_cells.length; ++i) {\n",
       "                    if (nbb_cells[i].input_prompt_number == nbb_cell_id) {\n",
       "                        if (nbb_cells[i].get_text() == nbb_unformatted_code) {\n",
       "                             nbb_cells[i].set_text(nbb_formatted_code);\n",
       "                        }\n",
       "                        break;\n",
       "                    }\n",
       "                }\n",
       "            }, 500);\n",
       "            "
      ],
      "text/plain": [
       "<IPython.core.display.Javascript object>"
      ]
     },
     "metadata": {},
     "output_type": "display_data"
    }
   ],
   "source": [
    "# df_full[\"label\"] = number[\"label\"]\n",
    "# px.scatter(x=\"date\", y=\"open\", color=\"label\", data_frame=df_full)"
   ]
  },
  {
   "cell_type": "code",
   "execution_count": 16,
   "metadata": {
    "scrolled": true
   },
   "outputs": [
    {
     "name": "stderr",
     "output_type": "stream",
     "text": [
      "C:\\Users\\jonat\\anaconda3\\lib\\site-packages\\ipykernel_launcher.py:1: SettingWithCopyWarning: \n",
      "A value is trying to be set on a copy of a slice from a DataFrame.\n",
      "Try using .loc[row_indexer,col_indexer] = value instead\n",
      "\n",
      "See the caveats in the documentation: https://pandas.pydata.org/pandas-docs/stable/user_guide/indexing.html#returning-a-view-versus-a-copy\n",
      "  \"\"\"Entry point for launching an IPython kernel.\n",
      "C:\\Users\\jonat\\anaconda3\\lib\\site-packages\\ipykernel_launcher.py:2: SettingWithCopyWarning: \n",
      "A value is trying to be set on a copy of a slice from a DataFrame.\n",
      "Try using .loc[row_indexer,col_indexer] = value instead\n",
      "\n",
      "See the caveats in the documentation: https://pandas.pydata.org/pandas-docs/stable/user_guide/indexing.html#returning-a-view-versus-a-copy\n",
      "  \n"
     ]
    },
    {
     "data": {
      "application/javascript": [
       "\n",
       "            setTimeout(function() {\n",
       "                var nbb_cell_id = 16;\n",
       "                var nbb_unformatted_code = \"df_full[\\\"co_dif\\\"] = df_full[\\\"close\\\"] - df_full[\\\"open\\\"]\\ndf_full[\\\"hl_dif\\\"] = df_full[\\\"high\\\"] - df_full[\\\"low\\\"]\\ndf_full = df_full.reset_index().drop(columns=\\\"index\\\")\\n# df_full\";\n",
       "                var nbb_formatted_code = \"df_full[\\\"co_dif\\\"] = df_full[\\\"close\\\"] - df_full[\\\"open\\\"]\\ndf_full[\\\"hl_dif\\\"] = df_full[\\\"high\\\"] - df_full[\\\"low\\\"]\\ndf_full = df_full.reset_index().drop(columns=\\\"index\\\")\\n# df_full\";\n",
       "                var nbb_cells = Jupyter.notebook.get_cells();\n",
       "                for (var i = 0; i < nbb_cells.length; ++i) {\n",
       "                    if (nbb_cells[i].input_prompt_number == nbb_cell_id) {\n",
       "                        if (nbb_cells[i].get_text() == nbb_unformatted_code) {\n",
       "                             nbb_cells[i].set_text(nbb_formatted_code);\n",
       "                        }\n",
       "                        break;\n",
       "                    }\n",
       "                }\n",
       "            }, 500);\n",
       "            "
      ],
      "text/plain": [
       "<IPython.core.display.Javascript object>"
      ]
     },
     "metadata": {},
     "output_type": "display_data"
    }
   ],
   "source": [
    "df_full[\"co_dif\"] = df_full[\"close\"] - df_full[\"open\"]\n",
    "df_full[\"hl_dif\"] = df_full[\"high\"] - df_full[\"low\"]\n",
    "df_full = df_full.reset_index().drop(columns=\"index\")\n",
    "# df_full"
   ]
  },
  {
   "cell_type": "code",
   "execution_count": 17,
   "metadata": {},
   "outputs": [
    {
     "data": {
      "application/javascript": [
       "\n",
       "            setTimeout(function() {\n",
       "                var nbb_cell_id = 17;\n",
       "                var nbb_unformatted_code = \"# There's decent relation between open, close, low, and high. Not too big of a shock\\nnumber = df_full.drop(columns=\\\"symbol\\\")\\n# sns.pairplot(number)\";\n",
       "                var nbb_formatted_code = \"# There's decent relation between open, close, low, and high. Not too big of a shock\\nnumber = df_full.drop(columns=\\\"symbol\\\")\\n# sns.pairplot(number)\";\n",
       "                var nbb_cells = Jupyter.notebook.get_cells();\n",
       "                for (var i = 0; i < nbb_cells.length; ++i) {\n",
       "                    if (nbb_cells[i].input_prompt_number == nbb_cell_id) {\n",
       "                        if (nbb_cells[i].get_text() == nbb_unformatted_code) {\n",
       "                             nbb_cells[i].set_text(nbb_formatted_code);\n",
       "                        }\n",
       "                        break;\n",
       "                    }\n",
       "                }\n",
       "            }, 500);\n",
       "            "
      ],
      "text/plain": [
       "<IPython.core.display.Javascript object>"
      ]
     },
     "metadata": {},
     "output_type": "display_data"
    }
   ],
   "source": [
    "# There's decent relation between open, close, low, and high. Not too big of a shock\n",
    "number = df_full.drop(columns=\"symbol\")\n",
    "# sns.pairplot(number)"
   ]
  },
  {
   "cell_type": "markdown",
   "metadata": {},
   "source": [
    "# We knew open, close, low, and high were correlated before but will be dropped since the actual value isn't important. What is important, is the H/L split and C/O difference"
   ]
  },
  {
   "cell_type": "code",
   "execution_count": 18,
   "metadata": {},
   "outputs": [
    {
     "data": {
      "application/javascript": [
       "\n",
       "            setTimeout(function() {\n",
       "                var nbb_cell_id = 18;\n",
       "                var nbb_unformatted_code = \"number = number.drop(columns=[\\\"open\\\", \\\"close\\\", \\\"low\\\", \\\"high\\\"])\";\n",
       "                var nbb_formatted_code = \"number = number.drop(columns=[\\\"open\\\", \\\"close\\\", \\\"low\\\", \\\"high\\\"])\";\n",
       "                var nbb_cells = Jupyter.notebook.get_cells();\n",
       "                for (var i = 0; i < nbb_cells.length; ++i) {\n",
       "                    if (nbb_cells[i].input_prompt_number == nbb_cell_id) {\n",
       "                        if (nbb_cells[i].get_text() == nbb_unformatted_code) {\n",
       "                             nbb_cells[i].set_text(nbb_formatted_code);\n",
       "                        }\n",
       "                        break;\n",
       "                    }\n",
       "                }\n",
       "            }, 500);\n",
       "            "
      ],
      "text/plain": [
       "<IPython.core.display.Javascript object>"
      ]
     },
     "metadata": {},
     "output_type": "display_data"
    }
   ],
   "source": [
    "number = number.drop(columns=[\"open\", \"close\", \"low\", \"high\"])"
   ]
  },
  {
   "cell_type": "markdown",
   "metadata": {},
   "source": [
    "# We should probably get some more features based on amount change and change per day. These could be valuable to traders. If a stock consistantly has a big high low split, it'd be a good stock to day-trade/scalp. If the open is usually bigger than close, it'd be a good stock to hold longterm, etc.\n",
    "# The expected goal is to group cells based on their high/low split in respect to open and close to see their stability as well as looking at volume as another stability metric"
   ]
  },
  {
   "cell_type": "code",
   "execution_count": 19,
   "metadata": {},
   "outputs": [
    {
     "data": {
      "application/javascript": [
       "\n",
       "            setTimeout(function() {\n",
       "                var nbb_cell_id = 19;\n",
       "                var nbb_unformatted_code = \"scaler = StandardScaler()\\nscaled = scaler.fit_transform(number)\\nscaled_df = pd.DataFrame(scaled, index=number.index, columns=number.columns)\";\n",
       "                var nbb_formatted_code = \"scaler = StandardScaler()\\nscaled = scaler.fit_transform(number)\\nscaled_df = pd.DataFrame(scaled, index=number.index, columns=number.columns)\";\n",
       "                var nbb_cells = Jupyter.notebook.get_cells();\n",
       "                for (var i = 0; i < nbb_cells.length; ++i) {\n",
       "                    if (nbb_cells[i].input_prompt_number == nbb_cell_id) {\n",
       "                        if (nbb_cells[i].get_text() == nbb_unformatted_code) {\n",
       "                             nbb_cells[i].set_text(nbb_formatted_code);\n",
       "                        }\n",
       "                        break;\n",
       "                    }\n",
       "                }\n",
       "            }, 500);\n",
       "            "
      ],
      "text/plain": [
       "<IPython.core.display.Javascript object>"
      ]
     },
     "metadata": {},
     "output_type": "display_data"
    }
   ],
   "source": [
    "scaler = StandardScaler()\n",
    "scaled = scaler.fit_transform(number)\n",
    "scaled_df = pd.DataFrame(scaled, index=number.index, columns=number.columns)"
   ]
  },
  {
   "cell_type": "code",
   "execution_count": 20,
   "metadata": {},
   "outputs": [
    {
     "data": {
      "image/png": "[encoded data removed]",
      "text/plain": [
       "<Figure size 720x576 with 2 Axes>"
      ]
     },
     "metadata": {
      "needs_background": "light"
     },
     "output_type": "display_data"
    },
    {
     "data": {
      "application/javascript": [
       "\n",
       "            setTimeout(function() {\n",
       "                var nbb_cell_id = 20;\n",
       "                var nbb_unformatted_code = \"plt.figure(figsize=(10, 8))\\nsns.heatmap(scaled_df.corr(), vmin=-1, vmax=1)\\nplt.show()\";\n",
       "                var nbb_formatted_code = \"plt.figure(figsize=(10, 8))\\nsns.heatmap(scaled_df.corr(), vmin=-1, vmax=1)\\nplt.show()\";\n",
       "                var nbb_cells = Jupyter.notebook.get_cells();\n",
       "                for (var i = 0; i < nbb_cells.length; ++i) {\n",
       "                    if (nbb_cells[i].input_prompt_number == nbb_cell_id) {\n",
       "                        if (nbb_cells[i].get_text() == nbb_unformatted_code) {\n",
       "                             nbb_cells[i].set_text(nbb_formatted_code);\n",
       "                        }\n",
       "                        break;\n",
       "                    }\n",
       "                }\n",
       "            }, 500);\n",
       "            "
      ],
      "text/plain": [
       "<IPython.core.display.Javascript object>"
      ]
     },
     "metadata": {},
     "output_type": "display_data"
    }
   ],
   "source": [
    "plt.figure(figsize=(10, 8))\n",
    "sns.heatmap(scaled_df.corr(), vmin=-1, vmax=1)\n",
    "plt.show()"
   ]
  },
  {
   "cell_type": "markdown",
   "metadata": {},
   "source": [
    "# Not too much coorelation. This looks good"
   ]
  },
  {
   "cell_type": "code",
   "execution_count": 21,
   "metadata": {},
   "outputs": [
    {
     "data": {
      "application/javascript": [
       "\n",
       "            setTimeout(function() {\n",
       "                var nbb_cell_id = 21;\n",
       "                var nbb_unformatted_code = \"fa = FactorAnalyzer(n_factors=25, rotation=\\\"varimax\\\")\\n_ = fa.fit_transform(number)\\nev, _ = fa.get_eigenvalues()\";\n",
       "                var nbb_formatted_code = \"fa = FactorAnalyzer(n_factors=25, rotation=\\\"varimax\\\")\\n_ = fa.fit_transform(number)\\nev, _ = fa.get_eigenvalues()\";\n",
       "                var nbb_cells = Jupyter.notebook.get_cells();\n",
       "                for (var i = 0; i < nbb_cells.length; ++i) {\n",
       "                    if (nbb_cells[i].input_prompt_number == nbb_cell_id) {\n",
       "                        if (nbb_cells[i].get_text() == nbb_unformatted_code) {\n",
       "                             nbb_cells[i].set_text(nbb_formatted_code);\n",
       "                        }\n",
       "                        break;\n",
       "                    }\n",
       "                }\n",
       "            }, 500);\n",
       "            "
      ],
      "text/plain": [
       "<IPython.core.display.Javascript object>"
      ]
     },
     "metadata": {},
     "output_type": "display_data"
    }
   ],
   "source": [
    "fa = FactorAnalyzer(n_factors=25, rotation=\"varimax\")\n",
    "_ = fa.fit_transform(number)\n",
    "ev, _ = fa.get_eigenvalues()"
   ]
  },
  {
   "cell_type": "code",
   "execution_count": 22,
   "metadata": {},
   "outputs": [
    {
     "data": {
      "application/javascript": [
       "\n",
       "            setTimeout(function() {\n",
       "                var nbb_cell_id = 22;\n",
       "                var nbb_unformatted_code = \"# # Plot eigenvalues as a scree plot\\n# idx = range(1, len(ev) + 1)\\n# plt.plot(idx, ev, marker=\\\".\\\")\\n\\n# # Highlight points above threshold value of 1\\n# ev_above_thresh = ev[np.where(ev > 1)]\\n# idx = range(1, len(ev_above_thresh) + 1)\\n# plt.scatter(idx, ev_above_thresh, c=\\\"orange\\\", zorder=5)\\n\\n# # Plot threshold of 1\\n# plt.axhline(y=1, c=\\\"black\\\", linestyle=\\\"--\\\")\\n\\n# # Pretty up\\n# plt.title(\\\"Scree Plot\\\")\\n# plt.xlabel(\\\"Factors\\\")\\n# plt.ylabel(\\\"Eigenvalue\\\")\\n# plt.show()\";\n",
       "                var nbb_formatted_code = \"# # Plot eigenvalues as a scree plot\\n# idx = range(1, len(ev) + 1)\\n# plt.plot(idx, ev, marker=\\\".\\\")\\n\\n# # Highlight points above threshold value of 1\\n# ev_above_thresh = ev[np.where(ev > 1)]\\n# idx = range(1, len(ev_above_thresh) + 1)\\n# plt.scatter(idx, ev_above_thresh, c=\\\"orange\\\", zorder=5)\\n\\n# # Plot threshold of 1\\n# plt.axhline(y=1, c=\\\"black\\\", linestyle=\\\"--\\\")\\n\\n# # Pretty up\\n# plt.title(\\\"Scree Plot\\\")\\n# plt.xlabel(\\\"Factors\\\")\\n# plt.ylabel(\\\"Eigenvalue\\\")\\n# plt.show()\";\n",
       "                var nbb_cells = Jupyter.notebook.get_cells();\n",
       "                for (var i = 0; i < nbb_cells.length; ++i) {\n",
       "                    if (nbb_cells[i].input_prompt_number == nbb_cell_id) {\n",
       "                        if (nbb_cells[i].get_text() == nbb_unformatted_code) {\n",
       "                             nbb_cells[i].set_text(nbb_formatted_code);\n",
       "                        }\n",
       "                        break;\n",
       "                    }\n",
       "                }\n",
       "            }, 500);\n",
       "            "
      ],
      "text/plain": [
       "<IPython.core.display.Javascript object>"
      ]
     },
     "metadata": {},
     "output_type": "display_data"
    }
   ],
   "source": [
    "# # Plot eigenvalues as a scree plot\n",
    "# idx = range(1, len(ev) + 1)\n",
    "# plt.plot(idx, ev, marker=\".\")\n",
    "\n",
    "# # Highlight points above threshold value of 1\n",
    "# ev_above_thresh = ev[np.where(ev > 1)]\n",
    "# idx = range(1, len(ev_above_thresh) + 1)\n",
    "# plt.scatter(idx, ev_above_thresh, c=\"orange\", zorder=5)\n",
    "\n",
    "# # Plot threshold of 1\n",
    "# plt.axhline(y=1, c=\"black\", linestyle=\"--\")\n",
    "\n",
    "# # Pretty up\n",
    "# plt.title(\"Scree Plot\")\n",
    "# plt.xlabel(\"Factors\")\n",
    "# plt.ylabel(\"Eigenvalue\")\n",
    "# plt.show()"
   ]
  },
  {
   "cell_type": "markdown",
   "metadata": {},
   "source": [
    "# This scree plot shows 2,3,4 all over but similar. 5 features is a little under but still worth looking at"
   ]
  },
  {
   "cell_type": "code",
   "execution_count": 23,
   "metadata": {},
   "outputs": [
    {
     "data": {
      "application/javascript": [
       "\n",
       "            setTimeout(function() {\n",
       "                var nbb_cell_id = 23;\n",
       "                var nbb_unformatted_code = \"k_means_5 = KMeans(n_clusters=5, random_state=69)\\nk_means_5.fit(scaled)\\ny_pred = k_means_5.predict(scaled)\\ncentroids_5 = scaler.inverse_transform(k_means_5.cluster_centers_)\\nnumber[\\\"label5\\\"] = k_means_5.labels_\";\n",
       "                var nbb_formatted_code = \"k_means_5 = KMeans(n_clusters=5, random_state=69)\\nk_means_5.fit(scaled)\\ny_pred = k_means_5.predict(scaled)\\ncentroids_5 = scaler.inverse_transform(k_means_5.cluster_centers_)\\nnumber[\\\"label5\\\"] = k_means_5.labels_\";\n",
       "                var nbb_cells = Jupyter.notebook.get_cells();\n",
       "                for (var i = 0; i < nbb_cells.length; ++i) {\n",
       "                    if (nbb_cells[i].input_prompt_number == nbb_cell_id) {\n",
       "                        if (nbb_cells[i].get_text() == nbb_unformatted_code) {\n",
       "                             nbb_cells[i].set_text(nbb_formatted_code);\n",
       "                        }\n",
       "                        break;\n",
       "                    }\n",
       "                }\n",
       "            }, 500);\n",
       "            "
      ],
      "text/plain": [
       "<IPython.core.display.Javascript object>"
      ]
     },
     "metadata": {},
     "output_type": "display_data"
    }
   ],
   "source": [
    "k_means_5 = KMeans(n_clusters=5, random_state=69)\n",
    "k_means_5.fit(scaled)\n",
    "y_pred = k_means_5.predict(scaled)\n",
    "centroids_5 = scaler.inverse_transform(k_means_5.cluster_centers_)\n",
    "number[\"label5\"] = k_means_5.labels_"
   ]
  },
  {
   "cell_type": "code",
   "execution_count": 24,
   "metadata": {},
   "outputs": [
    {
     "data": {
      "application/javascript": [
       "\n",
       "            setTimeout(function() {\n",
       "                var nbb_cell_id = 24;\n",
       "                var nbb_unformatted_code = \"k_means_4 = KMeans(n_clusters=4, random_state=69)\\nk_means_4.fit(scaled)\\ny_pred = k_means_4.predict(scaled)\\ncentroids_4 = scaler.inverse_transform(k_means_4.cluster_centers_)\\nnumber[\\\"label4\\\"] = k_means_4.labels_\";\n",
       "                var nbb_formatted_code = \"k_means_4 = KMeans(n_clusters=4, random_state=69)\\nk_means_4.fit(scaled)\\ny_pred = k_means_4.predict(scaled)\\ncentroids_4 = scaler.inverse_transform(k_means_4.cluster_centers_)\\nnumber[\\\"label4\\\"] = k_means_4.labels_\";\n",
       "                var nbb_cells = Jupyter.notebook.get_cells();\n",
       "                for (var i = 0; i < nbb_cells.length; ++i) {\n",
       "                    if (nbb_cells[i].input_prompt_number == nbb_cell_id) {\n",
       "                        if (nbb_cells[i].get_text() == nbb_unformatted_code) {\n",
       "                             nbb_cells[i].set_text(nbb_formatted_code);\n",
       "                        }\n",
       "                        break;\n",
       "                    }\n",
       "                }\n",
       "            }, 500);\n",
       "            "
      ],
      "text/plain": [
       "<IPython.core.display.Javascript object>"
      ]
     },
     "metadata": {},
     "output_type": "display_data"
    }
   ],
   "source": [
    "k_means_4 = KMeans(n_clusters=4, random_state=69)\n",
    "k_means_4.fit(scaled)\n",
    "y_pred = k_means_4.predict(scaled)\n",
    "centroids_4 = scaler.inverse_transform(k_means_4.cluster_centers_)\n",
    "number[\"label4\"] = k_means_4.labels_\n",
    "\n",
    "\n",
    "\n"
   ]
  },
  {
   "cell_type": "code",
   "execution_count": 25,
   "metadata": {},
   "outputs": [
    {
     "data": {
      "application/javascript": [
       "\n",
       "            setTimeout(function() {\n",
       "                var nbb_cell_id = 25;\n",
       "                var nbb_unformatted_code = \"k_means_3 = KMeans(n_clusters=3, random_state=69)\\nk_means_3.fit(scaled)\\ny_pred = k_means_3.predict(scaled)\\ncentroids_3 = scaler.inverse_transform(k_means_3.cluster_centers_)\\nnumber[\\\"label3\\\"] = k_means_3.labels_\";\n",
       "                var nbb_formatted_code = \"k_means_3 = KMeans(n_clusters=3, random_state=69)\\nk_means_3.fit(scaled)\\ny_pred = k_means_3.predict(scaled)\\ncentroids_3 = scaler.inverse_transform(k_means_3.cluster_centers_)\\nnumber[\\\"label3\\\"] = k_means_3.labels_\";\n",
       "                var nbb_cells = Jupyter.notebook.get_cells();\n",
       "                for (var i = 0; i < nbb_cells.length; ++i) {\n",
       "                    if (nbb_cells[i].input_prompt_number == nbb_cell_id) {\n",
       "                        if (nbb_cells[i].get_text() == nbb_unformatted_code) {\n",
       "                             nbb_cells[i].set_text(nbb_formatted_code);\n",
       "                        }\n",
       "                        break;\n",
       "                    }\n",
       "                }\n",
       "            }, 500);\n",
       "            "
      ],
      "text/plain": [
       "<IPython.core.display.Javascript object>"
      ]
     },
     "metadata": {},
     "output_type": "display_data"
    }
   ],
   "source": [
    "k_means_3 = KMeans(n_clusters=3, random_state=69)\n",
    "k_means_3.fit(scaled)\n",
    "y_pred = k_means_3.predict(scaled)\n",
    "centroids_3 = scaler.inverse_transform(k_means_3.cluster_centers_)\n",
    "number[\"label3\"] = k_means_3.labels_\n",
    "\n"
   ]
  },
  {
   "cell_type": "code",
   "execution_count": 26,
   "metadata": {},
   "outputs": [
    {
     "data": {
      "application/javascript": [
       "\n",
       "            setTimeout(function() {\n",
       "                var nbb_cell_id = 26;\n",
       "                var nbb_unformatted_code = \"k_means_2 = KMeans(n_clusters=2, random_state=69)\\nk_means_2.fit(scaled)\\ny_pred = k_means_2.predict(scaled)\\ncentroids_2 = scaler.inverse_transform(k_means_2.cluster_centers_)\\nnumber[\\\"label2\\\"] = k_means_2.labels_\";\n",
       "                var nbb_formatted_code = \"k_means_2 = KMeans(n_clusters=2, random_state=69)\\nk_means_2.fit(scaled)\\ny_pred = k_means_2.predict(scaled)\\ncentroids_2 = scaler.inverse_transform(k_means_2.cluster_centers_)\\nnumber[\\\"label2\\\"] = k_means_2.labels_\";\n",
       "                var nbb_cells = Jupyter.notebook.get_cells();\n",
       "                for (var i = 0; i < nbb_cells.length; ++i) {\n",
       "                    if (nbb_cells[i].input_prompt_number == nbb_cell_id) {\n",
       "                        if (nbb_cells[i].get_text() == nbb_unformatted_code) {\n",
       "                             nbb_cells[i].set_text(nbb_formatted_code);\n",
       "                        }\n",
       "                        break;\n",
       "                    }\n",
       "                }\n",
       "            }, 500);\n",
       "            "
      ],
      "text/plain": [
       "<IPython.core.display.Javascript object>"
      ]
     },
     "metadata": {},
     "output_type": "display_data"
    }
   ],
   "source": [
    "k_means_2 = KMeans(n_clusters=2, random_state=69)\n",
    "k_means_2.fit(scaled)\n",
    "y_pred = k_means_2.predict(scaled)\n",
    "centroids_2 = scaler.inverse_transform(k_means_2.cluster_centers_)\n",
    "number[\"label2\"] = k_means_2.labels_\n"
   ]
  },
  {
   "cell_type": "code",
   "execution_count": 27,
   "metadata": {},
   "outputs": [
    {
     "data": {
      "text/html": [
       "<div>\n",
       "<style scoped>\n",
       "    .dataframe tbody tr th:only-of-type {\n",
       "        vertical-align: middle;\n",
       "    }\n",
       "\n",
       "    .dataframe tbody tr th {\n",
       "        vertical-align: top;\n",
       "    }\n",
       "\n",
       "    .dataframe thead th {\n",
       "        text-align: right;\n",
       "    }\n",
       "</style>\n",
       "<table border=\"1\" class=\"dataframe\">\n",
       "  <thead>\n",
       "    <tr style=\"text-align: right;\">\n",
       "      <th></th>\n",
       "      <th>volume</th>\n",
       "      <th>year</th>\n",
       "      <th>month</th>\n",
       "      <th>day</th>\n",
       "      <th>co_dif</th>\n",
       "      <th>hl_dif</th>\n",
       "      <th>label5</th>\n",
       "      <th>label4</th>\n",
       "      <th>label3</th>\n",
       "      <th>label2</th>\n",
       "    </tr>\n",
       "  </thead>\n",
       "  <tbody>\n",
       "    <tr>\n",
       "      <th>0</th>\n",
       "      <td>3815500.0</td>\n",
       "      <td>2010</td>\n",
       "      <td>1</td>\n",
       "      <td>4</td>\n",
       "      <td>-0.089998</td>\n",
       "      <td>0.500001</td>\n",
       "      <td>0</td>\n",
       "      <td>2</td>\n",
       "      <td>1</td>\n",
       "      <td>0</td>\n",
       "    </tr>\n",
       "    <tr>\n",
       "      <th>1</th>\n",
       "      <td>9837300.0</td>\n",
       "      <td>2010</td>\n",
       "      <td>1</td>\n",
       "      <td>4</td>\n",
       "      <td>-0.070000</td>\n",
       "      <td>0.280000</td>\n",
       "      <td>0</td>\n",
       "      <td>2</td>\n",
       "      <td>1</td>\n",
       "      <td>0</td>\n",
       "    </tr>\n",
       "    <tr>\n",
       "      <th>2</th>\n",
       "      <td>1701700.0</td>\n",
       "      <td>2010</td>\n",
       "      <td>1</td>\n",
       "      <td>4</td>\n",
       "      <td>-0.320000</td>\n",
       "      <td>0.680000</td>\n",
       "      <td>0</td>\n",
       "      <td>2</td>\n",
       "      <td>1</td>\n",
       "      <td>0</td>\n",
       "    </tr>\n",
       "    <tr>\n",
       "      <th>3</th>\n",
       "      <td>123432400.0</td>\n",
       "      <td>2010</td>\n",
       "      <td>1</td>\n",
       "      <td>4</td>\n",
       "      <td>0.580000</td>\n",
       "      <td>2.119995</td>\n",
       "      <td>4</td>\n",
       "      <td>2</td>\n",
       "      <td>1</td>\n",
       "      <td>0</td>\n",
       "    </tr>\n",
       "    <tr>\n",
       "      <th>4</th>\n",
       "      <td>2455900.0</td>\n",
       "      <td>2010</td>\n",
       "      <td>1</td>\n",
       "      <td>4</td>\n",
       "      <td>0.339998</td>\n",
       "      <td>0.550002</td>\n",
       "      <td>0</td>\n",
       "      <td>2</td>\n",
       "      <td>1</td>\n",
       "      <td>0</td>\n",
       "    </tr>\n",
       "    <tr>\n",
       "      <th>...</th>\n",
       "      <td>...</td>\n",
       "      <td>...</td>\n",
       "      <td>...</td>\n",
       "      <td>...</td>\n",
       "      <td>...</td>\n",
       "      <td>...</td>\n",
       "      <td>...</td>\n",
       "      <td>...</td>\n",
       "      <td>...</td>\n",
       "      <td>...</td>\n",
       "    </tr>\n",
       "    <tr>\n",
       "      <th>822849</th>\n",
       "      <td>6431600.0</td>\n",
       "      <td>2016</td>\n",
       "      <td>12</td>\n",
       "      <td>30</td>\n",
       "      <td>-0.050003</td>\n",
       "      <td>0.570000</td>\n",
       "      <td>3</td>\n",
       "      <td>0</td>\n",
       "      <td>0</td>\n",
       "      <td>1</td>\n",
       "    </tr>\n",
       "    <tr>\n",
       "      <th>822850</th>\n",
       "      <td>1887100.0</td>\n",
       "      <td>2016</td>\n",
       "      <td>12</td>\n",
       "      <td>30</td>\n",
       "      <td>-0.599998</td>\n",
       "      <td>0.779999</td>\n",
       "      <td>3</td>\n",
       "      <td>0</td>\n",
       "      <td>0</td>\n",
       "      <td>1</td>\n",
       "    </tr>\n",
       "    <tr>\n",
       "      <th>822851</th>\n",
       "      <td>973800.0</td>\n",
       "      <td>2016</td>\n",
       "      <td>12</td>\n",
       "      <td>30</td>\n",
       "      <td>-0.110001</td>\n",
       "      <td>1.080002</td>\n",
       "      <td>3</td>\n",
       "      <td>0</td>\n",
       "      <td>0</td>\n",
       "      <td>1</td>\n",
       "    </tr>\n",
       "    <tr>\n",
       "      <th>822852</th>\n",
       "      <td>1938100.0</td>\n",
       "      <td>2016</td>\n",
       "      <td>12</td>\n",
       "      <td>30</td>\n",
       "      <td>-0.029999</td>\n",
       "      <td>0.620002</td>\n",
       "      <td>3</td>\n",
       "      <td>0</td>\n",
       "      <td>0</td>\n",
       "      <td>1</td>\n",
       "    </tr>\n",
       "    <tr>\n",
       "      <th>822853</th>\n",
       "      <td>1380900.0</td>\n",
       "      <td>2016</td>\n",
       "      <td>12</td>\n",
       "      <td>30</td>\n",
       "      <td>0.720001</td>\n",
       "      <td>1.180000</td>\n",
       "      <td>3</td>\n",
       "      <td>0</td>\n",
       "      <td>0</td>\n",
       "      <td>1</td>\n",
       "    </tr>\n",
       "  </tbody>\n",
       "</table>\n",
       "<p>822854 rows × 10 columns</p>\n",
       "</div>"
      ],
      "text/plain": [
       "             volume  year  month  day    co_dif    hl_dif  label5  label4  \\\n",
       "0         3815500.0  2010      1    4 -0.089998  0.500001       0       2   \n",
       "1         9837300.0  2010      1    4 -0.070000  0.280000       0       2   \n",
       "2         1701700.0  2010      1    4 -0.320000  0.680000       0       2   \n",
       "3       123432400.0  2010      1    4  0.580000  2.119995       4       2   \n",
       "4         2455900.0  2010      1    4  0.339998  0.550002       0       2   \n",
       "...             ...   ...    ...  ...       ...       ...     ...     ...   \n",
       "822849    6431600.0  2016     12   30 -0.050003  0.570000       3       0   \n",
       "822850    1887100.0  2016     12   30 -0.599998  0.779999       3       0   \n",
       "822851     973800.0  2016     12   30 -0.110001  1.080002       3       0   \n",
       "822852    1938100.0  2016     12   30 -0.029999  0.620002       3       0   \n",
       "822853    1380900.0  2016     12   30  0.720001  1.180000       3       0   \n",
       "\n",
       "        label3  label2  \n",
       "0            1       0  \n",
       "1            1       0  \n",
       "2            1       0  \n",
       "3            1       0  \n",
       "4            1       0  \n",
       "...        ...     ...  \n",
       "822849       0       1  \n",
       "822850       0       1  \n",
       "822851       0       1  \n",
       "822852       0       1  \n",
       "822853       0       1  \n",
       "\n",
       "[822854 rows x 10 columns]"
      ]
     },
     "execution_count": 27,
     "metadata": {},
     "output_type": "execute_result"
    },
    {
     "data": {
      "application/javascript": [
       "\n",
       "            setTimeout(function() {\n",
       "                var nbb_cell_id = 27;\n",
       "                var nbb_unformatted_code = \"number\";\n",
       "                var nbb_formatted_code = \"number\";\n",
       "                var nbb_cells = Jupyter.notebook.get_cells();\n",
       "                for (var i = 0; i < nbb_cells.length; ++i) {\n",
       "                    if (nbb_cells[i].input_prompt_number == nbb_cell_id) {\n",
       "                        if (nbb_cells[i].get_text() == nbb_unformatted_code) {\n",
       "                             nbb_cells[i].set_text(nbb_formatted_code);\n",
       "                        }\n",
       "                        break;\n",
       "                    }\n",
       "                }\n",
       "            }, 500);\n",
       "            "
      ],
      "text/plain": [
       "<IPython.core.display.Javascript object>"
      ]
     },
     "metadata": {},
     "output_type": "display_data"
    }
   ],
   "source": [
    "number"
   ]
  },
  {
   "cell_type": "code",
   "execution_count": 28,
   "metadata": {
    "scrolled": true
   },
   "outputs": [
    {
     "data": {
      "text/html": [
       "<div>\n",
       "<style scoped>\n",
       "    .dataframe tbody tr th:only-of-type {\n",
       "        vertical-align: middle;\n",
       "    }\n",
       "\n",
       "    .dataframe tbody tr th {\n",
       "        vertical-align: top;\n",
       "    }\n",
       "\n",
       "    .dataframe thead th {\n",
       "        text-align: right;\n",
       "    }\n",
       "</style>\n",
       "<table border=\"1\" class=\"dataframe\">\n",
       "  <thead>\n",
       "    <tr style=\"text-align: right;\">\n",
       "      <th></th>\n",
       "      <th>volume</th>\n",
       "      <th>year</th>\n",
       "      <th>month</th>\n",
       "      <th>day</th>\n",
       "      <th>co_dif</th>\n",
       "      <th>hl_dif</th>\n",
       "    </tr>\n",
       "  </thead>\n",
       "  <tbody>\n",
       "    <tr>\n",
       "      <th>356109</th>\n",
       "      <td>1201400.0</td>\n",
       "      <td>2013</td>\n",
       "      <td>1</td>\n",
       "      <td>14</td>\n",
       "      <td>-0.080000</td>\n",
       "      <td>0.539999</td>\n",
       "    </tr>\n",
       "    <tr>\n",
       "      <th>801647</th>\n",
       "      <td>1552000.0</td>\n",
       "      <td>2016</td>\n",
       "      <td>10</td>\n",
       "      <td>26</td>\n",
       "      <td>0.020000</td>\n",
       "      <td>0.649997</td>\n",
       "    </tr>\n",
       "    <tr>\n",
       "      <th>600505</th>\n",
       "      <td>2928400.0</td>\n",
       "      <td>2015</td>\n",
       "      <td>2</td>\n",
       "      <td>11</td>\n",
       "      <td>-0.479999</td>\n",
       "      <td>0.830002</td>\n",
       "    </tr>\n",
       "    <tr>\n",
       "      <th>506341</th>\n",
       "      <td>1224500.0</td>\n",
       "      <td>2014</td>\n",
       "      <td>4</td>\n",
       "      <td>25</td>\n",
       "      <td>-3.830002</td>\n",
       "      <td>5.059998</td>\n",
       "    </tr>\n",
       "    <tr>\n",
       "      <th>663406</th>\n",
       "      <td>4786500.0</td>\n",
       "      <td>2015</td>\n",
       "      <td>8</td>\n",
       "      <td>25</td>\n",
       "      <td>-2.569999</td>\n",
       "      <td>2.710003</td>\n",
       "    </tr>\n",
       "    <tr>\n",
       "      <th>...</th>\n",
       "      <td>...</td>\n",
       "      <td>...</td>\n",
       "      <td>...</td>\n",
       "      <td>...</td>\n",
       "      <td>...</td>\n",
       "      <td>...</td>\n",
       "    </tr>\n",
       "    <tr>\n",
       "      <th>385512</th>\n",
       "      <td>5709500.0</td>\n",
       "      <td>2013</td>\n",
       "      <td>4</td>\n",
       "      <td>16</td>\n",
       "      <td>-0.100001</td>\n",
       "      <td>0.430000</td>\n",
       "    </tr>\n",
       "    <tr>\n",
       "      <th>343432</th>\n",
       "      <td>19057200.0</td>\n",
       "      <td>2012</td>\n",
       "      <td>12</td>\n",
       "      <td>4</td>\n",
       "      <td>0.000000</td>\n",
       "      <td>0.280000</td>\n",
       "    </tr>\n",
       "    <tr>\n",
       "      <th>549130</th>\n",
       "      <td>473400.0</td>\n",
       "      <td>2014</td>\n",
       "      <td>9</td>\n",
       "      <td>4</td>\n",
       "      <td>-0.400001</td>\n",
       "      <td>0.560001</td>\n",
       "    </tr>\n",
       "    <tr>\n",
       "      <th>752250</th>\n",
       "      <td>978500.0</td>\n",
       "      <td>2016</td>\n",
       "      <td>5</td>\n",
       "      <td>26</td>\n",
       "      <td>-0.180000</td>\n",
       "      <td>0.990002</td>\n",
       "    </tr>\n",
       "    <tr>\n",
       "      <th>152136</th>\n",
       "      <td>4361400.0</td>\n",
       "      <td>2011</td>\n",
       "      <td>4</td>\n",
       "      <td>18</td>\n",
       "      <td>0.259994</td>\n",
       "      <td>1.650001</td>\n",
       "    </tr>\n",
       "  </tbody>\n",
       "</table>\n",
       "<p>12345 rows × 6 columns</p>\n",
       "</div>"
      ],
      "text/plain": [
       "            volume  year  month  day    co_dif    hl_dif\n",
       "356109   1201400.0  2013      1   14 -0.080000  0.539999\n",
       "801647   1552000.0  2016     10   26  0.020000  0.649997\n",
       "600505   2928400.0  2015      2   11 -0.479999  0.830002\n",
       "506341   1224500.0  2014      4   25 -3.830002  5.059998\n",
       "663406   4786500.0  2015      8   25 -2.569999  2.710003\n",
       "...            ...   ...    ...  ...       ...       ...\n",
       "385512   5709500.0  2013      4   16 -0.100001  0.430000\n",
       "343432  19057200.0  2012     12    4  0.000000  0.280000\n",
       "549130    473400.0  2014      9    4 -0.400001  0.560001\n",
       "752250    978500.0  2016      5   26 -0.180000  0.990002\n",
       "152136   4361400.0  2011      4   18  0.259994  1.650001\n",
       "\n",
       "[12345 rows x 6 columns]"
      ]
     },
     "execution_count": 28,
     "metadata": {},
     "output_type": "execute_result"
    },
    {
     "data": {
      "application/javascript": [
       "\n",
       "            setTimeout(function() {\n",
       "                var nbb_cell_id = 28;\n",
       "                var nbb_unformatted_code = \"sampled = number.copy()\\nsampled = sampled.loc[:, ~sampled.columns.str.startswith(\\\"label\\\")]\\nsample = sampled.sample(n=12345, random_state=69)\\nsample\";\n",
       "                var nbb_formatted_code = \"sampled = number.copy()\\nsampled = sampled.loc[:, ~sampled.columns.str.startswith(\\\"label\\\")]\\nsample = sampled.sample(n=12345, random_state=69)\\nsample\";\n",
       "                var nbb_cells = Jupyter.notebook.get_cells();\n",
       "                for (var i = 0; i < nbb_cells.length; ++i) {\n",
       "                    if (nbb_cells[i].input_prompt_number == nbb_cell_id) {\n",
       "                        if (nbb_cells[i].get_text() == nbb_unformatted_code) {\n",
       "                             nbb_cells[i].set_text(nbb_formatted_code);\n",
       "                        }\n",
       "                        break;\n",
       "                    }\n",
       "                }\n",
       "            }, 500);\n",
       "            "
      ],
      "text/plain": [
       "<IPython.core.display.Javascript object>"
      ]
     },
     "metadata": {},
     "output_type": "display_data"
    }
   ],
   "source": [
    "sampled = number.copy()\n",
    "sampled = sampled.loc[:, ~sampled.columns.str.startswith(\"label\")]\n",
    "sample = sampled.sample(n=12345, random_state=69)\n",
    "sample"
   ]
  },
  {
   "cell_type": "code",
   "execution_count": 29,
   "metadata": {},
   "outputs": [
    {
     "data": {
      "text/plain": [
       "AgglomerativeClustering(affinity='euclidean', compute_full_tree='auto',\n",
       "                        connectivity=None, distance_threshold=None,\n",
       "                        linkage='ward', memory=None, n_clusters=5)"
      ]
     },
     "execution_count": 29,
     "metadata": {},
     "output_type": "execute_result"
    },
    {
     "data": {
      "application/javascript": [
       "\n",
       "            setTimeout(function() {\n",
       "                var nbb_cell_id = 29;\n",
       "                var nbb_unformatted_code = \"# Trying hierarchical for comparison\\ndist_mat = squareform(pdist(sample, metric=\\\"euclid\\\"))\\nclst = AgglomerativeClustering(n_clusters=5, linkage=\\\"ward\\\", affinity=\\\"euclidean\\\")\\nclst.fit(sample)\";\n",
       "                var nbb_formatted_code = \"# Trying hierarchical for comparison\\ndist_mat = squareform(pdist(sample, metric=\\\"euclid\\\"))\\nclst = AgglomerativeClustering(n_clusters=5, linkage=\\\"ward\\\", affinity=\\\"euclidean\\\")\\nclst.fit(sample)\";\n",
       "                var nbb_cells = Jupyter.notebook.get_cells();\n",
       "                for (var i = 0; i < nbb_cells.length; ++i) {\n",
       "                    if (nbb_cells[i].input_prompt_number == nbb_cell_id) {\n",
       "                        if (nbb_cells[i].get_text() == nbb_unformatted_code) {\n",
       "                             nbb_cells[i].set_text(nbb_formatted_code);\n",
       "                        }\n",
       "                        break;\n",
       "                    }\n",
       "                }\n",
       "            }, 500);\n",
       "            "
      ],
      "text/plain": [
       "<IPython.core.display.Javascript object>"
      ]
     },
     "metadata": {},
     "output_type": "display_data"
    }
   ],
   "source": [
    "# Trying hierarchical for comparison\n",
    "dist_mat = squareform(pdist(sample, metric=\"euclid\"))\n",
    "clst = AgglomerativeClustering(n_clusters=5, linkage=\"ward\", affinity=\"euclidean\")\n",
    "clst.fit(sample)"
   ]
  },
  {
   "cell_type": "code",
   "execution_count": 30,
   "metadata": {},
   "outputs": [
    {
     "data": {
      "application/javascript": [
       "\n",
       "            setTimeout(function() {\n",
       "                var nbb_cell_id = 30;\n",
       "                var nbb_unformatted_code = \"# That's pretty useless imo\\n# plt.figure(figsize=(20, 10))\\n# plot_dendrogram(clst)\";\n",
       "                var nbb_formatted_code = \"# That's pretty useless imo\\n# plt.figure(figsize=(20, 10))\\n# plot_dendrogram(clst)\";\n",
       "                var nbb_cells = Jupyter.notebook.get_cells();\n",
       "                for (var i = 0; i < nbb_cells.length; ++i) {\n",
       "                    if (nbb_cells[i].input_prompt_number == nbb_cell_id) {\n",
       "                        if (nbb_cells[i].get_text() == nbb_unformatted_code) {\n",
       "                             nbb_cells[i].set_text(nbb_formatted_code);\n",
       "                        }\n",
       "                        break;\n",
       "                    }\n",
       "                }\n",
       "            }, 500);\n",
       "            "
      ],
      "text/plain": [
       "<IPython.core.display.Javascript object>"
      ]
     },
     "metadata": {},
     "output_type": "display_data"
    }
   ],
   "source": [
    "# That's pretty useless imo\n",
    "# plt.figure(figsize=(20, 10))\n",
    "# plot_dendrogram(clst)"
   ]
  },
  {
   "cell_type": "code",
   "execution_count": 31,
   "metadata": {
    "scrolled": true
   },
   "outputs": [
    {
     "data": {
      "text/html": [
       "<div>\n",
       "<style scoped>\n",
       "    .dataframe tbody tr th:only-of-type {\n",
       "        vertical-align: middle;\n",
       "    }\n",
       "\n",
       "    .dataframe tbody tr th {\n",
       "        vertical-align: top;\n",
       "    }\n",
       "\n",
       "    .dataframe thead th {\n",
       "        text-align: right;\n",
       "    }\n",
       "</style>\n",
       "<table border=\"1\" class=\"dataframe\">\n",
       "  <thead>\n",
       "    <tr style=\"text-align: right;\">\n",
       "      <th></th>\n",
       "      <th>volume</th>\n",
       "      <th>year</th>\n",
       "      <th>month</th>\n",
       "      <th>day</th>\n",
       "      <th>co_dif</th>\n",
       "      <th>hl_dif</th>\n",
       "    </tr>\n",
       "    <tr>\n",
       "      <th>label</th>\n",
       "      <th></th>\n",
       "      <th></th>\n",
       "      <th></th>\n",
       "      <th></th>\n",
       "      <th></th>\n",
       "      <th></th>\n",
       "    </tr>\n",
       "  </thead>\n",
       "  <tbody>\n",
       "    <tr>\n",
       "      <th>0</th>\n",
       "      <td>2.176055e+08</td>\n",
       "      <td>2012.000000</td>\n",
       "      <td>5.294118</td>\n",
       "      <td>13.705882</td>\n",
       "      <td>-0.632352</td>\n",
       "      <td>2.005883</td>\n",
       "    </tr>\n",
       "    <tr>\n",
       "      <th>1</th>\n",
       "      <td>7.602710e+07</td>\n",
       "      <td>2012.047619</td>\n",
       "      <td>6.753968</td>\n",
       "      <td>15.674603</td>\n",
       "      <td>0.217936</td>\n",
       "      <td>1.831031</td>\n",
       "    </tr>\n",
       "    <tr>\n",
       "      <th>2</th>\n",
       "      <td>2.331232e+06</td>\n",
       "      <td>2013.068788</td>\n",
       "      <td>6.572062</td>\n",
       "      <td>15.928492</td>\n",
       "      <td>0.039151</td>\n",
       "      <td>1.443668</td>\n",
       "    </tr>\n",
       "    <tr>\n",
       "      <th>3</th>\n",
       "      <td>2.939342e+07</td>\n",
       "      <td>2012.536471</td>\n",
       "      <td>5.962353</td>\n",
       "      <td>15.764706</td>\n",
       "      <td>-0.034941</td>\n",
       "      <td>1.087482</td>\n",
       "    </tr>\n",
       "    <tr>\n",
       "      <th>4</th>\n",
       "      <td>1.042587e+07</td>\n",
       "      <td>2012.656385</td>\n",
       "      <td>6.358225</td>\n",
       "      <td>15.490801</td>\n",
       "      <td>-0.039118</td>\n",
       "      <td>1.269389</td>\n",
       "    </tr>\n",
       "  </tbody>\n",
       "</table>\n",
       "</div>"
      ],
      "text/plain": [
       "             volume         year     month        day    co_dif    hl_dif\n",
       "label                                                                    \n",
       "0      2.176055e+08  2012.000000  5.294118  13.705882 -0.632352  2.005883\n",
       "1      7.602710e+07  2012.047619  6.753968  15.674603  0.217936  1.831031\n",
       "2      2.331232e+06  2013.068788  6.572062  15.928492  0.039151  1.443668\n",
       "3      2.939342e+07  2012.536471  5.962353  15.764706 -0.034941  1.087482\n",
       "4      1.042587e+07  2012.656385  6.358225  15.490801 -0.039118  1.269389"
      ]
     },
     "execution_count": 31,
     "metadata": {},
     "output_type": "execute_result"
    },
    {
     "data": {
      "application/javascript": [
       "\n",
       "            setTimeout(function() {\n",
       "                var nbb_cell_id = 31;\n",
       "                var nbb_unformatted_code = \"# Well... These clusters seem like they're not grouped well. Let's check value counts\\nsample[\\\"label\\\"] = clst.labels_\\nsample.groupby(\\\"label\\\").mean()\";\n",
       "                var nbb_formatted_code = \"# Well... These clusters seem like they're not grouped well. Let's check value counts\\nsample[\\\"label\\\"] = clst.labels_\\nsample.groupby(\\\"label\\\").mean()\";\n",
       "                var nbb_cells = Jupyter.notebook.get_cells();\n",
       "                for (var i = 0; i < nbb_cells.length; ++i) {\n",
       "                    if (nbb_cells[i].input_prompt_number == nbb_cell_id) {\n",
       "                        if (nbb_cells[i].get_text() == nbb_unformatted_code) {\n",
       "                             nbb_cells[i].set_text(nbb_formatted_code);\n",
       "                        }\n",
       "                        break;\n",
       "                    }\n",
       "                }\n",
       "            }, 500);\n",
       "            "
      ],
      "text/plain": [
       "<IPython.core.display.Javascript object>"
      ]
     },
     "metadata": {},
     "output_type": "display_data"
    }
   ],
   "source": [
    "# Well... These clusters seem like they're not grouped well. Let's check value counts\n",
    "sample[\"label\"] = clst.labels_\n",
    "sample.groupby(\"label\").mean()"
   ]
  },
  {
   "cell_type": "code",
   "execution_count": 39,
   "metadata": {},
   "outputs": [
    {
     "data": {
      "application/javascript": [
       "\n",
       "            setTimeout(function() {\n",
       "                var nbb_cell_id = 39;\n",
       "                var nbb_unformatted_code = \"dist_mat = squareform(pdist(sample, metric=\\\"euclid\\\"))\\nclst = AgglomerativeClustering(n_clusters=4, linkage=\\\"ward\\\", affinity=\\\"euclidean\\\")\\nclst.fit(sample)\\nsample[\\\"label4\\\"] = clst.labels_\";\n",
       "                var nbb_formatted_code = \"dist_mat = squareform(pdist(sample, metric=\\\"euclid\\\"))\\nclst = AgglomerativeClustering(n_clusters=4, linkage=\\\"ward\\\", affinity=\\\"euclidean\\\")\\nclst.fit(sample)\\nsample[\\\"label4\\\"] = clst.labels_\";\n",
       "                var nbb_cells = Jupyter.notebook.get_cells();\n",
       "                for (var i = 0; i < nbb_cells.length; ++i) {\n",
       "                    if (nbb_cells[i].input_prompt_number == nbb_cell_id) {\n",
       "                        if (nbb_cells[i].get_text() == nbb_unformatted_code) {\n",
       "                             nbb_cells[i].set_text(nbb_formatted_code);\n",
       "                        }\n",
       "                        break;\n",
       "                    }\n",
       "                }\n",
       "            }, 500);\n",
       "            "
      ],
      "text/plain": [
       "<IPython.core.display.Javascript object>"
      ]
     },
     "metadata": {},
     "output_type": "display_data"
    }
   ],
   "source": [
    "dist_mat = squareform(pdist(sample, metric=\"euclid\"))\n",
    "clst = AgglomerativeClustering(n_clusters=4, linkage=\"ward\", affinity=\"euclidean\")\n",
    "clst.fit(sample)\n",
    "sample[\"label4\"] = clst.labels_"
   ]
  },
  {
   "cell_type": "code",
   "execution_count": 40,
   "metadata": {},
   "outputs": [
    {
     "data": {
      "application/javascript": [
       "\n",
       "            setTimeout(function() {\n",
       "                var nbb_cell_id = 40;\n",
       "                var nbb_unformatted_code = \"dist_mat = squareform(pdist(sample, metric=\\\"euclid\\\"))\\nclst = AgglomerativeClustering(n_clusters=3, linkage=\\\"ward\\\", affinity=\\\"euclidean\\\")\\nclst.fit(sample)\\nsample[\\\"label3\\\"] = clst.labels_\";\n",
       "                var nbb_formatted_code = \"dist_mat = squareform(pdist(sample, metric=\\\"euclid\\\"))\\nclst = AgglomerativeClustering(n_clusters=3, linkage=\\\"ward\\\", affinity=\\\"euclidean\\\")\\nclst.fit(sample)\\nsample[\\\"label3\\\"] = clst.labels_\";\n",
       "                var nbb_cells = Jupyter.notebook.get_cells();\n",
       "                for (var i = 0; i < nbb_cells.length; ++i) {\n",
       "                    if (nbb_cells[i].input_prompt_number == nbb_cell_id) {\n",
       "                        if (nbb_cells[i].get_text() == nbb_unformatted_code) {\n",
       "                             nbb_cells[i].set_text(nbb_formatted_code);\n",
       "                        }\n",
       "                        break;\n",
       "                    }\n",
       "                }\n",
       "            }, 500);\n",
       "            "
      ],
      "text/plain": [
       "<IPython.core.display.Javascript object>"
      ]
     },
     "metadata": {},
     "output_type": "display_data"
    }
   ],
   "source": [
    "dist_mat = squareform(pdist(sample, metric=\"euclid\"))\n",
    "clst = AgglomerativeClustering(n_clusters=3, linkage=\"ward\", affinity=\"euclidean\")\n",
    "clst.fit(sample)\n",
    "sample[\"label3\"] = clst.labels_"
   ]
  },
  {
   "cell_type": "code",
   "execution_count": 41,
   "metadata": {},
   "outputs": [
    {
     "data": {
      "application/javascript": [
       "\n",
       "            setTimeout(function() {\n",
       "                var nbb_cell_id = 41;\n",
       "                var nbb_unformatted_code = \"dist_mat = squareform(pdist(sample, metric=\\\"euclid\\\"))\\nclst = AgglomerativeClustering(n_clusters=2, linkage=\\\"ward\\\", affinity=\\\"euclidean\\\")\\nclst.fit(sample)\\nsample[\\\"label2\\\"] = clst.labels_\";\n",
       "                var nbb_formatted_code = \"dist_mat = squareform(pdist(sample, metric=\\\"euclid\\\"))\\nclst = AgglomerativeClustering(n_clusters=2, linkage=\\\"ward\\\", affinity=\\\"euclidean\\\")\\nclst.fit(sample)\\nsample[\\\"label2\\\"] = clst.labels_\";\n",
       "                var nbb_cells = Jupyter.notebook.get_cells();\n",
       "                for (var i = 0; i < nbb_cells.length; ++i) {\n",
       "                    if (nbb_cells[i].input_prompt_number == nbb_cell_id) {\n",
       "                        if (nbb_cells[i].get_text() == nbb_unformatted_code) {\n",
       "                             nbb_cells[i].set_text(nbb_formatted_code);\n",
       "                        }\n",
       "                        break;\n",
       "                    }\n",
       "                }\n",
       "            }, 500);\n",
       "            "
      ],
      "text/plain": [
       "<IPython.core.display.Javascript object>"
      ]
     },
     "metadata": {},
     "output_type": "display_data"
    }
   ],
   "source": [
    "dist_mat = squareform(pdist(sample, metric=\"euclid\"))\n",
    "clst = AgglomerativeClustering(n_clusters=2, linkage=\"ward\", affinity=\"euclidean\")\n",
    "clst.fit(sample)\n",
    "sample[\"label2\"] = clst.labels_"
   ]
  },
  {
   "cell_type": "code",
   "execution_count": 38,
   "metadata": {},
   "outputs": [
    {
     "data": {
      "image/png": "[encoded data removed]",
      "text/plain": [
       "<Figure size 432x288 with 1 Axes>"
      ]
     },
     "metadata": {
      "needs_background": "light"
     },
     "output_type": "display_data"
    },
    {
     "data": {
      "application/javascript": [
       "\n",
       "            setTimeout(function() {\n",
       "                var nbb_cell_id = 38;\n",
       "                var nbb_unformatted_code = \"#hierarchical \\nsns.countplot(x=\\\"label\\\", data=sample)\\nplt.ylabel(\\\"Count\\\")\\nplt.show()\";\n",
       "                var nbb_formatted_code = \"# hierarchical\\nsns.countplot(x=\\\"label\\\", data=sample)\\nplt.ylabel(\\\"Count\\\")\\nplt.show()\";\n",
       "                var nbb_cells = Jupyter.notebook.get_cells();\n",
       "                for (var i = 0; i < nbb_cells.length; ++i) {\n",
       "                    if (nbb_cells[i].input_prompt_number == nbb_cell_id) {\n",
       "                        if (nbb_cells[i].get_text() == nbb_unformatted_code) {\n",
       "                             nbb_cells[i].set_text(nbb_formatted_code);\n",
       "                        }\n",
       "                        break;\n",
       "                    }\n",
       "                }\n",
       "            }, 500);\n",
       "            "
      ],
      "text/plain": [
       "<IPython.core.display.Javascript object>"
      ]
     },
     "metadata": {},
     "output_type": "display_data"
    }
   ],
   "source": [
    "# hierarchical 5\n",
    "# sns.countplot(x=\"label\", data=sample)\n",
    "# plt.ylabel(\"Count\")\n",
    "# plt.show()"
   ]
  },
  {
   "cell_type": "code",
   "execution_count": 42,
   "metadata": {},
   "outputs": [
    {
     "data": {
      "image/png": "[encoded data removed]",
      "text/plain": [
       "<Figure size 432x288 with 1 Axes>"
      ]
     },
     "metadata": {
      "needs_background": "light"
     },
     "output_type": "display_data"
    },
    {
     "data": {
      "application/javascript": [
       "\n",
       "            setTimeout(function() {\n",
       "                var nbb_cell_id = 42;\n",
       "                var nbb_unformatted_code = \"sns.countplot(x=\\\"label4\\\", data=sample)\\nplt.ylabel(\\\"Count\\\")\\nplt.show()\";\n",
       "                var nbb_formatted_code = \"sns.countplot(x=\\\"label4\\\", data=sample)\\nplt.ylabel(\\\"Count\\\")\\nplt.show()\";\n",
       "                var nbb_cells = Jupyter.notebook.get_cells();\n",
       "                for (var i = 0; i < nbb_cells.length; ++i) {\n",
       "                    if (nbb_cells[i].input_prompt_number == nbb_cell_id) {\n",
       "                        if (nbb_cells[i].get_text() == nbb_unformatted_code) {\n",
       "                             nbb_cells[i].set_text(nbb_formatted_code);\n",
       "                        }\n",
       "                        break;\n",
       "                    }\n",
       "                }\n",
       "            }, 500);\n",
       "            "
      ],
      "text/plain": [
       "<IPython.core.display.Javascript object>"
      ]
     },
     "metadata": {},
     "output_type": "display_data"
    }
   ],
   "source": [
    "# sns.countplot(x=\"label4\", data=sample)\n",
    "# plt.ylabel(\"Count\")\n",
    "# plt.show()"
   ]
  },
  {
   "cell_type": "code",
   "execution_count": 43,
   "metadata": {},
   "outputs": [
    {
     "data": {
      "image/png": "[encoded data removed]",
      "text/plain": [
       "<Figure size 432x288 with 1 Axes>"
      ]
     },
     "metadata": {
      "needs_background": "light"
     },
     "output_type": "display_data"
    },
    {
     "data": {
      "application/javascript": [
       "\n",
       "            setTimeout(function() {\n",
       "                var nbb_cell_id = 43;\n",
       "                var nbb_unformatted_code = \"sns.countplot(x=\\\"label3\\\", data=sample)\\nplt.ylabel(\\\"Count\\\")\\nplt.show()\";\n",
       "                var nbb_formatted_code = \"sns.countplot(x=\\\"label3\\\", data=sample)\\nplt.ylabel(\\\"Count\\\")\\nplt.show()\";\n",
       "                var nbb_cells = Jupyter.notebook.get_cells();\n",
       "                for (var i = 0; i < nbb_cells.length; ++i) {\n",
       "                    if (nbb_cells[i].input_prompt_number == nbb_cell_id) {\n",
       "                        if (nbb_cells[i].get_text() == nbb_unformatted_code) {\n",
       "                             nbb_cells[i].set_text(nbb_formatted_code);\n",
       "                        }\n",
       "                        break;\n",
       "                    }\n",
       "                }\n",
       "            }, 500);\n",
       "            "
      ],
      "text/plain": [
       "<IPython.core.display.Javascript object>"
      ]
     },
     "metadata": {},
     "output_type": "display_data"
    }
   ],
   "source": [
    "# sns.countplot(x=\"label3\", data=sample)\n",
    "# plt.ylabel(\"Count\")\n",
    "# plt.show()"
   ]
  },
  {
   "cell_type": "code",
   "execution_count": 44,
   "metadata": {},
   "outputs": [
    {
     "data": {
      "image/png": "[encoded data removed]",
      "text/plain": [
       "<Figure size 432x288 with 1 Axes>"
      ]
     },
     "metadata": {
      "needs_background": "light"
     },
     "output_type": "display_data"
    },
    {
     "data": {
      "application/javascript": [
       "\n",
       "            setTimeout(function() {\n",
       "                var nbb_cell_id = 44;\n",
       "                var nbb_unformatted_code = \"sns.countplot(x=\\\"label2\\\", data=sample)\\nplt.ylabel(\\\"Count\\\")\\nplt.show()\";\n",
       "                var nbb_formatted_code = \"sns.countplot(x=\\\"label2\\\", data=sample)\\nplt.ylabel(\\\"Count\\\")\\nplt.show()\";\n",
       "                var nbb_cells = Jupyter.notebook.get_cells();\n",
       "                for (var i = 0; i < nbb_cells.length; ++i) {\n",
       "                    if (nbb_cells[i].input_prompt_number == nbb_cell_id) {\n",
       "                        if (nbb_cells[i].get_text() == nbb_unformatted_code) {\n",
       "                             nbb_cells[i].set_text(nbb_formatted_code);\n",
       "                        }\n",
       "                        break;\n",
       "                    }\n",
       "                }\n",
       "            }, 500);\n",
       "            "
      ],
      "text/plain": [
       "<IPython.core.display.Javascript object>"
      ]
     },
     "metadata": {},
     "output_type": "display_data"
    }
   ],
   "source": [
    "# sns.countplot(x=\"label2\", data=sample)\n",
    "# plt.ylabel(\"Count\")\n",
    "# plt.show()"
   ]
  },
  {
   "cell_type": "code",
   "execution_count": 33,
   "metadata": {},
   "outputs": [
    {
     "data": {
      "image/png": "[encoded data removed]",
      "text/plain": [
       "<Figure size 432x288 with 1 Axes>"
      ]
     },
     "metadata": {
      "needs_background": "light"
     },
     "output_type": "display_data"
    },
    {
     "data": {
      "application/javascript": [
       "\n",
       "            setTimeout(function() {\n",
       "                var nbb_cell_id = 33;\n",
       "                var nbb_unformatted_code = \"sns.countplot(x = 'label2', data = number)\\nplt.ylabel(\\\"Count\\\")\\nplt.show()\";\n",
       "                var nbb_formatted_code = \"sns.countplot(x=\\\"label2\\\", data=number)\\nplt.ylabel(\\\"Count\\\")\\nplt.show()\";\n",
       "                var nbb_cells = Jupyter.notebook.get_cells();\n",
       "                for (var i = 0; i < nbb_cells.length; ++i) {\n",
       "                    if (nbb_cells[i].input_prompt_number == nbb_cell_id) {\n",
       "                        if (nbb_cells[i].get_text() == nbb_unformatted_code) {\n",
       "                             nbb_cells[i].set_text(nbb_formatted_code);\n",
       "                        }\n",
       "                        break;\n",
       "                    }\n",
       "                }\n",
       "            }, 500);\n",
       "            "
      ],
      "text/plain": [
       "<IPython.core.display.Javascript object>"
      ]
     },
     "metadata": {},
     "output_type": "display_data"
    }
   ],
   "source": [
    "#2 Clusters\n",
    "# sns.countplot(x=\"label2\", data=number)\n",
    "# plt.ylabel(\"Count\")\n",
    "# plt.show()"
   ]
  },
  {
   "cell_type": "code",
   "execution_count": 35,
   "metadata": {},
   "outputs": [
    {
     "data": {
      "image/png": "[encoded data removed]",
      "text/plain": [
       "<Figure size 432x288 with 1 Axes>"
      ]
     },
     "metadata": {
      "needs_background": "light"
     },
     "output_type": "display_data"
    },
    {
     "data": {
      "application/javascript": [
       "\n",
       "            setTimeout(function() {\n",
       "                var nbb_cell_id = 35;\n",
       "                var nbb_unformatted_code = \"# 4 Clusters\\nsns.countplot(x=\\\"label3\\\", data=number)\\nplt.ylabel(\\\"Count\\\")\\nplt.show()\";\n",
       "                var nbb_formatted_code = \"# 4 Clusters\\nsns.countplot(x=\\\"label3\\\", data=number)\\nplt.ylabel(\\\"Count\\\")\\nplt.show()\";\n",
       "                var nbb_cells = Jupyter.notebook.get_cells();\n",
       "                for (var i = 0; i < nbb_cells.length; ++i) {\n",
       "                    if (nbb_cells[i].input_prompt_number == nbb_cell_id) {\n",
       "                        if (nbb_cells[i].get_text() == nbb_unformatted_code) {\n",
       "                             nbb_cells[i].set_text(nbb_formatted_code);\n",
       "                        }\n",
       "                        break;\n",
       "                    }\n",
       "                }\n",
       "            }, 500);\n",
       "            "
      ],
      "text/plain": [
       "<IPython.core.display.Javascript object>"
      ]
     },
     "metadata": {},
     "output_type": "display_data"
    }
   ],
   "source": [
    "# 3 Clusters\n",
    "# sns.countplot(x=\"label3\", data=number)\n",
    "# plt.ylabel(\"Count\")\n",
    "# plt.show()"
   ]
  },
  {
   "cell_type": "code",
   "execution_count": 45,
   "metadata": {},
   "outputs": [
    {
     "data": {
      "image/png": "[encoded data removed]",
      "text/plain": [
       "<Figure size 432x288 with 1 Axes>"
      ]
     },
     "metadata": {
      "needs_background": "light"
     },
     "output_type": "display_data"
    },
    {
     "data": {
      "application/javascript": [
       "\n",
       "            setTimeout(function() {\n",
       "                var nbb_cell_id = 45;\n",
       "                var nbb_unformatted_code = \"#4 clusters\\nsns.countplot(x=\\\"label4\\\", data=number)\\nplt.xlabel('Clusters')\\nplt.ylabel(\\\"Count\\\")\\nplt.show()\";\n",
       "                var nbb_formatted_code = \"# 4 clusters\\nsns.countplot(x=\\\"label4\\\", data=number)\\nplt.xlabel(\\\"Clusters\\\")\\nplt.ylabel(\\\"Count\\\")\\nplt.show()\";\n",
       "                var nbb_cells = Jupyter.notebook.get_cells();\n",
       "                for (var i = 0; i < nbb_cells.length; ++i) {\n",
       "                    if (nbb_cells[i].input_prompt_number == nbb_cell_id) {\n",
       "                        if (nbb_cells[i].get_text() == nbb_unformatted_code) {\n",
       "                             nbb_cells[i].set_text(nbb_formatted_code);\n",
       "                        }\n",
       "                        break;\n",
       "                    }\n",
       "                }\n",
       "            }, 500);\n",
       "            "
      ],
      "text/plain": [
       "<IPython.core.display.Javascript object>"
      ]
     },
     "metadata": {},
     "output_type": "display_data"
    }
   ],
   "source": [
    "# # 4 clusters\n",
    "# sns.countplot(x=\"label4\", data=number)\n",
    "# plt.xlabel(\"Clusters\")\n",
    "# plt.ylabel(\"Count\")\n",
    "# plt.show()"
   ]
  },
  {
   "cell_type": "code",
   "execution_count": 37,
   "metadata": {},
   "outputs": [
    {
     "data": {
      "image/png": "[encoded data removed]",
      "text/plain": [
       "<Figure size 432x288 with 1 Axes>"
      ]
     },
     "metadata": {
      "needs_background": "light"
     },
     "output_type": "display_data"
    },
    {
     "data": {
      "application/javascript": [
       "\n",
       "            setTimeout(function() {\n",
       "                var nbb_cell_id = 37;\n",
       "                var nbb_unformatted_code = \"#2 clusters\\nsns.countplot(x=\\\"label5\\\", data=number)\\nplt.ylabel(\\\"Count\\\")\\nplt.show()\";\n",
       "                var nbb_formatted_code = \"# 2 clusters\\nsns.countplot(x=\\\"label5\\\", data=number)\\nplt.ylabel(\\\"Count\\\")\\nplt.show()\";\n",
       "                var nbb_cells = Jupyter.notebook.get_cells();\n",
       "                for (var i = 0; i < nbb_cells.length; ++i) {\n",
       "                    if (nbb_cells[i].input_prompt_number == nbb_cell_id) {\n",
       "                        if (nbb_cells[i].get_text() == nbb_unformatted_code) {\n",
       "                             nbb_cells[i].set_text(nbb_formatted_code);\n",
       "                        }\n",
       "                        break;\n",
       "                    }\n",
       "                }\n",
       "            }, 500);\n",
       "            "
      ],
      "text/plain": [
       "<IPython.core.display.Javascript object>"
      ]
     },
     "metadata": {},
     "output_type": "display_data"
    }
   ],
   "source": [
    "# 5 clusters\n",
    "# sns.countplot(x=\"label5\", data=number)\n",
    "# plt.ylabel(\"Count\")\n",
    "# plt.show()"
   ]
  },
  {
   "cell_type": "markdown",
   "metadata": {},
   "source": [
    "# K-means is clearly better. 4 clusters seem to be best since there are multiple columns and only one small one"
   ]
  },
  {
   "cell_type": "markdown",
   "metadata": {},
   "source": [
    "# Now let's check dimension reduction techniques to see if they are helpful at all for better distinguishing clusters"
   ]
  },
  {
   "cell_type": "code",
   "execution_count": 48,
   "metadata": {},
   "outputs": [
    {
     "data": {
      "application/javascript": [
       "\n",
       "            setTimeout(function() {\n",
       "                var nbb_cell_id = 48;\n",
       "                var nbb_unformatted_code = \"number1 = number.loc[:, ~number.columns.str.startswith(\\\"label\\\")]\\npca = PCA(n_components=5)\\npca_df_full = pca.fit_transform(scaled)\\nloadings = pca_loadings(pca)\\nloadings = pd.DataFrame(loadings)\\nloadings.index = number1.columns\\nloadings.columns = [f\\\"component_{i}\\\" for i in range(loadings.shape[1])]\";\n",
       "                var nbb_formatted_code = \"number1 = number.loc[:, ~number.columns.str.startswith(\\\"label\\\")]\\npca = PCA(n_components=5)\\npca_df_full = pca.fit_transform(scaled)\\nloadings = pca_loadings(pca)\\nloadings = pd.DataFrame(loadings)\\nloadings.index = number1.columns\\nloadings.columns = [f\\\"component_{i}\\\" for i in range(loadings.shape[1])]\";\n",
       "                var nbb_cells = Jupyter.notebook.get_cells();\n",
       "                for (var i = 0; i < nbb_cells.length; ++i) {\n",
       "                    if (nbb_cells[i].input_prompt_number == nbb_cell_id) {\n",
       "                        if (nbb_cells[i].get_text() == nbb_unformatted_code) {\n",
       "                             nbb_cells[i].set_text(nbb_formatted_code);\n",
       "                        }\n",
       "                        break;\n",
       "                    }\n",
       "                }\n",
       "            }, 500);\n",
       "            "
      ],
      "text/plain": [
       "<IPython.core.display.Javascript object>"
      ]
     },
     "metadata": {},
     "output_type": "display_data"
    }
   ],
   "source": [
    "number1 = number.loc[:, ~number.columns.str.startswith(\"label\")]\n",
    "pca = PCA(n_components=5)\n",
    "pca_df_full = pca.fit_transform(scaled)\n",
    "loadings = pca_loadings(pca)\n",
    "loadings = pd.DataFrame(loadings)\n",
    "loadings.index = number1.columns\n",
    "loadings.columns = [f\"component_{i}\" for i in range(loadings.shape[1])]"
   ]
  },
  {
   "cell_type": "code",
   "execution_count": 63,
   "metadata": {},
   "outputs": [
    {
     "data": {
      "text/plain": [
       "array([0.18797589, 0.17309604, 0.16781853, 0.16675884, 0.16004107])"
      ]
     },
     "execution_count": 63,
     "metadata": {},
     "output_type": "execute_result"
    },
    {
     "data": {
      "application/javascript": [
       "\n",
       "            setTimeout(function() {\n",
       "                var nbb_cell_id = 63;\n",
       "                var nbb_unformatted_code = \"pca.explained_variance_ratio_\";\n",
       "                var nbb_formatted_code = \"pca.explained_variance_ratio_\";\n",
       "                var nbb_cells = Jupyter.notebook.get_cells();\n",
       "                for (var i = 0; i < nbb_cells.length; ++i) {\n",
       "                    if (nbb_cells[i].input_prompt_number == nbb_cell_id) {\n",
       "                        if (nbb_cells[i].get_text() == nbb_unformatted_code) {\n",
       "                             nbb_cells[i].set_text(nbb_formatted_code);\n",
       "                        }\n",
       "                        break;\n",
       "                    }\n",
       "                }\n",
       "            }, 500);\n",
       "            "
      ],
      "text/plain": [
       "<IPython.core.display.Javascript object>"
      ]
     },
     "metadata": {},
     "output_type": "display_data"
    }
   ],
   "source": [
    "pca.explained_variance_ratio_"
   ]
  },
  {
   "cell_type": "code",
   "execution_count": 52,
   "metadata": {},
   "outputs": [
    {
     "data": {
      "application/javascript": [
       "\n",
       "            setTimeout(function() {\n",
       "                var nbb_cell_id = 52;\n",
       "                var nbb_unformatted_code = \"pca4 = PCA(n_components=4)\\npca4_df = pca4.fit_transform(scaled)\\nloadings4 = pca_loadings(pca4)\\nloadings4 = pd.DataFrame(loadings4)\\nloadings4.index = number1.columns\\nloadings4.columns = [f\\\"component_{i}\\\" for i in range(loadings4.shape[1])]\";\n",
       "                var nbb_formatted_code = \"pca4 = PCA(n_components=4)\\npca4_df = pca4.fit_transform(scaled)\\nloadings4 = pca_loadings(pca4)\\nloadings4 = pd.DataFrame(loadings4)\\nloadings4.index = number1.columns\\nloadings4.columns = [f\\\"component_{i}\\\" for i in range(loadings4.shape[1])]\";\n",
       "                var nbb_cells = Jupyter.notebook.get_cells();\n",
       "                for (var i = 0; i < nbb_cells.length; ++i) {\n",
       "                    if (nbb_cells[i].input_prompt_number == nbb_cell_id) {\n",
       "                        if (nbb_cells[i].get_text() == nbb_unformatted_code) {\n",
       "                             nbb_cells[i].set_text(nbb_formatted_code);\n",
       "                        }\n",
       "                        break;\n",
       "                    }\n",
       "                }\n",
       "            }, 500);\n",
       "            "
      ],
      "text/plain": [
       "<IPython.core.display.Javascript object>"
      ]
     },
     "metadata": {},
     "output_type": "display_data"
    }
   ],
   "source": [
    "pca4 = PCA(n_components=4)\n",
    "pca4_df = pca4.fit_transform(scaled)\n",
    "loadings4 = pca_loadings(pca4)\n",
    "loadings4 = pd.DataFrame(loadings4)\n",
    "loadings4.index = number1.columns\n",
    "loadings4.columns = [f\"component_{i}\" for i in range(loadings4.shape[1])]"
   ]
  },
  {
   "cell_type": "code",
   "execution_count": 64,
   "metadata": {},
   "outputs": [
    {
     "data": {
      "text/plain": [
       "array([0.18797589, 0.17309604, 0.16781853, 0.16675884])"
      ]
     },
     "execution_count": 64,
     "metadata": {},
     "output_type": "execute_result"
    },
    {
     "data": {
      "application/javascript": [
       "\n",
       "            setTimeout(function() {\n",
       "                var nbb_cell_id = 64;\n",
       "                var nbb_unformatted_code = \"pca4.explained_variance_ratio_\";\n",
       "                var nbb_formatted_code = \"pca4.explained_variance_ratio_\";\n",
       "                var nbb_cells = Jupyter.notebook.get_cells();\n",
       "                for (var i = 0; i < nbb_cells.length; ++i) {\n",
       "                    if (nbb_cells[i].input_prompt_number == nbb_cell_id) {\n",
       "                        if (nbb_cells[i].get_text() == nbb_unformatted_code) {\n",
       "                             nbb_cells[i].set_text(nbb_formatted_code);\n",
       "                        }\n",
       "                        break;\n",
       "                    }\n",
       "                }\n",
       "            }, 500);\n",
       "            "
      ],
      "text/plain": [
       "<IPython.core.display.Javascript object>"
      ]
     },
     "metadata": {},
     "output_type": "display_data"
    }
   ],
   "source": [
    "pca4.explained_variance_ratio_"
   ]
  },
  {
   "cell_type": "code",
   "execution_count": 59,
   "metadata": {},
   "outputs": [
    {
     "data": {
      "application/javascript": [
       "\n",
       "            setTimeout(function() {\n",
       "                var nbb_cell_id = 59;\n",
       "                var nbb_unformatted_code = \"pca3 = PCA(n_components=3)\\npca2_df = pca3.fit_transform(scaled)\\nloadings3 = pca_loadings(pca3)\\nloadings3 = pd.DataFrame(loadings3)\\nloadings3.index = number1.columns\\nloadings3.columns = [f\\\"component_{i}\\\" for i in range(loadings3.shape[1])]\";\n",
       "                var nbb_formatted_code = \"pca3 = PCA(n_components=3)\\npca2_df = pca3.fit_transform(scaled)\\nloadings3 = pca_loadings(pca3)\\nloadings3 = pd.DataFrame(loadings3)\\nloadings3.index = number1.columns\\nloadings3.columns = [f\\\"component_{i}\\\" for i in range(loadings3.shape[1])]\";\n",
       "                var nbb_cells = Jupyter.notebook.get_cells();\n",
       "                for (var i = 0; i < nbb_cells.length; ++i) {\n",
       "                    if (nbb_cells[i].input_prompt_number == nbb_cell_id) {\n",
       "                        if (nbb_cells[i].get_text() == nbb_unformatted_code) {\n",
       "                             nbb_cells[i].set_text(nbb_formatted_code);\n",
       "                        }\n",
       "                        break;\n",
       "                    }\n",
       "                }\n",
       "            }, 500);\n",
       "            "
      ],
      "text/plain": [
       "<IPython.core.display.Javascript object>"
      ]
     },
     "metadata": {},
     "output_type": "display_data"
    }
   ],
   "source": [
    "pca3 = PCA(n_components=3)\n",
    "pca2_df = pca3.fit_transform(scaled)\n",
    "loadings3 = pca_loadings(pca3)\n",
    "loadings3 = pd.DataFrame(loadings3)\n",
    "loadings3.index = number1.columns\n",
    "loadings3.columns = [f\"component_{i}\" for i in range(loadings3.shape[1])]"
   ]
  },
  {
   "cell_type": "code",
   "execution_count": 65,
   "metadata": {},
   "outputs": [
    {
     "data": {
      "text/plain": [
       "array([0.18797589, 0.17309604, 0.16781853])"
      ]
     },
     "execution_count": 65,
     "metadata": {},
     "output_type": "execute_result"
    },
    {
     "data": {
      "application/javascript": [
       "\n",
       "            setTimeout(function() {\n",
       "                var nbb_cell_id = 65;\n",
       "                var nbb_unformatted_code = \"pca3.explained_variance_ratio_\";\n",
       "                var nbb_formatted_code = \"pca3.explained_variance_ratio_\";\n",
       "                var nbb_cells = Jupyter.notebook.get_cells();\n",
       "                for (var i = 0; i < nbb_cells.length; ++i) {\n",
       "                    if (nbb_cells[i].input_prompt_number == nbb_cell_id) {\n",
       "                        if (nbb_cells[i].get_text() == nbb_unformatted_code) {\n",
       "                             nbb_cells[i].set_text(nbb_formatted_code);\n",
       "                        }\n",
       "                        break;\n",
       "                    }\n",
       "                }\n",
       "            }, 500);\n",
       "            "
      ],
      "text/plain": [
       "<IPython.core.display.Javascript object>"
      ]
     },
     "metadata": {},
     "output_type": "display_data"
    }
   ],
   "source": [
    "pca3.explained_variance_ratio_"
   ]
  },
  {
   "cell_type": "code",
   "execution_count": 60,
   "metadata": {},
   "outputs": [
    {
     "data": {
      "application/javascript": [
       "\n",
       "            setTimeout(function() {\n",
       "                var nbb_cell_id = 60;\n",
       "                var nbb_unformatted_code = \"pca2 = PCA(n_components=2)\\npca2_df = pca2.fit_transform(scaled)\\nloadings2 = pca_loadings(pca2)\\nloadings2 = pd.DataFrame(loadings2)\\nloadings2.index = number1.columns\\nloadings2.columns = [f\\\"component_{i}\\\" for i in range(loadings2.shape[1])]\";\n",
       "                var nbb_formatted_code = \"pca2 = PCA(n_components=2)\\npca2_df = pca2.fit_transform(scaled)\\nloadings2 = pca_loadings(pca2)\\nloadings2 = pd.DataFrame(loadings2)\\nloadings2.index = number1.columns\\nloadings2.columns = [f\\\"component_{i}\\\" for i in range(loadings2.shape[1])]\";\n",
       "                var nbb_cells = Jupyter.notebook.get_cells();\n",
       "                for (var i = 0; i < nbb_cells.length; ++i) {\n",
       "                    if (nbb_cells[i].input_prompt_number == nbb_cell_id) {\n",
       "                        if (nbb_cells[i].get_text() == nbb_unformatted_code) {\n",
       "                             nbb_cells[i].set_text(nbb_formatted_code);\n",
       "                        }\n",
       "                        break;\n",
       "                    }\n",
       "                }\n",
       "            }, 500);\n",
       "            "
      ],
      "text/plain": [
       "<IPython.core.display.Javascript object>"
      ]
     },
     "metadata": {},
     "output_type": "display_data"
    }
   ],
   "source": [
    "pca2 = PCA(n_components=2)\n",
    "pca2_df = pca2.fit_transform(scaled)\n",
    "loadings2 = pca_loadings(pca2)\n",
    "loadings2 = pd.DataFrame(loadings2)\n",
    "loadings2.index = number1.columns\n",
    "loadings2.columns = [f\"component_{i}\" for i in range(loadings2.shape[1])]"
   ]
  },
  {
   "cell_type": "code",
   "execution_count": 62,
   "metadata": {},
   "outputs": [
    {
     "data": {
      "text/plain": [
       "array([0.18797589, 0.17309604])"
      ]
     },
     "execution_count": 62,
     "metadata": {},
     "output_type": "execute_result"
    },
    {
     "data": {
      "application/javascript": [
       "\n",
       "            setTimeout(function() {\n",
       "                var nbb_cell_id = 62;\n",
       "                var nbb_unformatted_code = \"pca2.explained_variance_ratio_\";\n",
       "                var nbb_formatted_code = \"pca2.explained_variance_ratio_\";\n",
       "                var nbb_cells = Jupyter.notebook.get_cells();\n",
       "                for (var i = 0; i < nbb_cells.length; ++i) {\n",
       "                    if (nbb_cells[i].input_prompt_number == nbb_cell_id) {\n",
       "                        if (nbb_cells[i].get_text() == nbb_unformatted_code) {\n",
       "                             nbb_cells[i].set_text(nbb_formatted_code);\n",
       "                        }\n",
       "                        break;\n",
       "                    }\n",
       "                }\n",
       "            }, 500);\n",
       "            "
      ],
      "text/plain": [
       "<IPython.core.display.Javascript object>"
      ]
     },
     "metadata": {},
     "output_type": "display_data"
    }
   ],
   "source": [
    "pca2.explained_variance_ratio_"
   ]
  },
  {
   "cell_type": "code",
   "execution_count": 61,
   "metadata": {
    "scrolled": false
   },
   "outputs": [
    {
     "data": {
      "text/html": [
       "<div>\n",
       "<style scoped>\n",
       "    .dataframe tbody tr th:only-of-type {\n",
       "        vertical-align: middle;\n",
       "    }\n",
       "\n",
       "    .dataframe tbody tr th {\n",
       "        vertical-align: top;\n",
       "    }\n",
       "\n",
       "    .dataframe thead th {\n",
       "        text-align: right;\n",
       "    }\n",
       "</style>\n",
       "<table border=\"1\" class=\"dataframe\">\n",
       "  <thead>\n",
       "    <tr style=\"text-align: right;\">\n",
       "      <th></th>\n",
       "      <th>component_0</th>\n",
       "      <th>component_1</th>\n",
       "      <th>component_2</th>\n",
       "      <th>component_3</th>\n",
       "      <th>component_4</th>\n",
       "    </tr>\n",
       "  </thead>\n",
       "  <tbody>\n",
       "    <tr>\n",
       "      <th>volume</th>\n",
       "      <td>-0.429141</td>\n",
       "      <td>0.620503</td>\n",
       "      <td>-0.108788</td>\n",
       "      <td>0.031723</td>\n",
       "      <td>0.509712</td>\n",
       "    </tr>\n",
       "    <tr>\n",
       "      <th>year</th>\n",
       "      <td>0.738119</td>\n",
       "      <td>-0.113574</td>\n",
       "      <td>-0.119921</td>\n",
       "      <td>-0.138030</td>\n",
       "      <td>0.093409</td>\n",
       "    </tr>\n",
       "    <tr>\n",
       "      <th>month</th>\n",
       "      <td>0.090763</td>\n",
       "      <td>-0.225311</td>\n",
       "      <td>0.563242</td>\n",
       "      <td>0.713192</td>\n",
       "      <td>0.332568</td>\n",
       "    </tr>\n",
       "    <tr>\n",
       "      <th>day</th>\n",
       "      <td>-0.017581</td>\n",
       "      <td>-0.063015</td>\n",
       "      <td>0.675881</td>\n",
       "      <td>-0.677557</td>\n",
       "      <td>0.278335</td>\n",
       "    </tr>\n",
       "    <tr>\n",
       "      <th>co_dif</th>\n",
       "      <td>-0.152681</td>\n",
       "      <td>-0.615802</td>\n",
       "      <td>-0.441789</td>\n",
       "      <td>-0.106689</td>\n",
       "      <td>0.611774</td>\n",
       "    </tr>\n",
       "    <tr>\n",
       "      <th>hl_dif</th>\n",
       "      <td>0.605818</td>\n",
       "      <td>0.454650</td>\n",
       "      <td>-0.107064</td>\n",
       "      <td>0.037244</td>\n",
       "      <td>0.359690</td>\n",
       "    </tr>\n",
       "  </tbody>\n",
       "</table>\n",
       "</div>"
      ],
      "text/plain": [
       "        component_0  component_1  component_2  component_3  component_4\n",
       "volume    -0.429141     0.620503    -0.108788     0.031723     0.509712\n",
       "year       0.738119    -0.113574    -0.119921    -0.138030     0.093409\n",
       "month      0.090763    -0.225311     0.563242     0.713192     0.332568\n",
       "day       -0.017581    -0.063015     0.675881    -0.677557     0.278335\n",
       "co_dif    -0.152681    -0.615802    -0.441789    -0.106689     0.611774\n",
       "hl_dif     0.605818     0.454650    -0.107064     0.037244     0.359690"
      ]
     },
     "execution_count": 61,
     "metadata": {},
     "output_type": "execute_result"
    },
    {
     "data": {
      "application/javascript": [
       "\n",
       "            setTimeout(function() {\n",
       "                var nbb_cell_id = 61;\n",
       "                var nbb_unformatted_code = \"# Interesting. Stocks seem to be more expensive at vertain parts of the year. The month can also cheapen a stock\\nloadings\";\n",
       "                var nbb_formatted_code = \"# Interesting. Stocks seem to be more expensive at vertain parts of the year. The month can also cheapen a stock\\nloadings\";\n",
       "                var nbb_cells = Jupyter.notebook.get_cells();\n",
       "                for (var i = 0; i < nbb_cells.length; ++i) {\n",
       "                    if (nbb_cells[i].input_prompt_number == nbb_cell_id) {\n",
       "                        if (nbb_cells[i].get_text() == nbb_unformatted_code) {\n",
       "                             nbb_cells[i].set_text(nbb_formatted_code);\n",
       "                        }\n",
       "                        break;\n",
       "                    }\n",
       "                }\n",
       "            }, 500);\n",
       "            "
      ],
      "text/plain": [
       "<IPython.core.display.Javascript object>"
      ]
     },
     "metadata": {},
     "output_type": "display_data"
    }
   ],
   "source": [
    "# Interesting. Stocks seem to be more expensive at vertain parts of the year. The month can also cheapen a stock\n",
    "loadings"
   ]
  },
  {
   "cell_type": "markdown",
   "metadata": {},
   "source": [
    "# Explaining less than 50% of data, is pretty bad. I'll check UMAP, but not looking good"
   ]
  },
  {
   "cell_type": "markdown",
   "metadata": {},
   "source": [
    "# Let's check on UMAP to see if it does anything PCA doesn't"
   ]
  },
  {
   "cell_type": "code",
   "execution_count": null,
   "metadata": {},
   "outputs": [],
   "source": [
    "# Let's see if another method would be better for dimensionality reduction. UMAP TIME!\n",
    "# if i put in all of scaled, it can't deal with it. Time to random sample\n",
    "umap = UMAP(n_neighbors=6, min_dist=0.3, metric=\"euclidean\")\n",
    "feeling_like_will = umap.fit_transform(sample)\n",
    "\n",
    "# feeling_like_will"
   ]
  },
  {
   "cell_type": "code",
   "execution_count": null,
   "metadata": {},
   "outputs": [],
   "source": [
    "feeling_like_will"
   ]
  },
  {
   "cell_type": "code",
   "execution_count": null,
   "metadata": {},
   "outputs": [],
   "source": [
    "umap_df = pd.DataFrame(feeling_like_will, index=sample.index)\n",
    "# px.scatter(umap_df, x=feeling_like_will[:, 0], y=feeling_like_will[:, 1])"
   ]
  },
  {
   "cell_type": "code",
   "execution_count": null,
   "metadata": {
    "scrolled": true
   },
   "outputs": [],
   "source": [
    "umap = UMAP(n_neighbors=5, min_dist=0.6, metric=\"euclidean\")\n",
    "feeling_like_will = umap.fit_transform(sample)\n",
    "umap_df = pd.DataFrame(feeling_like_will, index=sample.index)\n",
    "# px.scatter(umap_df, x=feeling_like_will[:, 0], y=feeling_like_will[:, 1])"
   ]
  },
  {
   "cell_type": "code",
   "execution_count": null,
   "metadata": {},
   "outputs": [],
   "source": [
    "umap = UMAP(n_neighbors=4, min_dist=0.6, metric=\"euclidean\")\n",
    "feeling_like_will = umap.fit_transform(sample)\n",
    "umap_df = pd.DataFrame(feeling_like_will, index=sample.index)\n",
    "# px.scatter(umap_df, x=feeling_like_will[:, 0], y=feeling_like_will[:, 1])"
   ]
  },
  {
   "cell_type": "markdown",
   "metadata": {},
   "source": [
    "# Please uncomment the above scatter plots to see visualizations of dimensionality reduction"
   ]
  },
  {
   "cell_type": "markdown",
   "metadata": {},
   "source": [
    "# These feature reduction techniques do not group the data too well. I am going to continue with the non-dimensionality reduced data"
   ]
  },
  {
   "cell_type": "code",
   "execution_count": 77,
   "metadata": {},
   "outputs": [
    {
     "data": {
      "text/plain": [
       "0    293687\n",
       "1    263905\n",
       "2    249032\n",
       "3     16230\n",
       "Name: label4, dtype: int64"
      ]
     },
     "execution_count": 77,
     "metadata": {},
     "output_type": "execute_result"
    },
    {
     "data": {
      "application/javascript": [
       "\n",
       "            setTimeout(function() {\n",
       "                var nbb_cell_id = 77;\n",
       "                var nbb_unformatted_code = \"number[\\\"label4\\\"].value_counts()\";\n",
       "                var nbb_formatted_code = \"number[\\\"label4\\\"].value_counts()\";\n",
       "                var nbb_cells = Jupyter.notebook.get_cells();\n",
       "                for (var i = 0; i < nbb_cells.length; ++i) {\n",
       "                    if (nbb_cells[i].input_prompt_number == nbb_cell_id) {\n",
       "                        if (nbb_cells[i].get_text() == nbb_unformatted_code) {\n",
       "                             nbb_cells[i].set_text(nbb_formatted_code);\n",
       "                        }\n",
       "                        break;\n",
       "                    }\n",
       "                }\n",
       "            }, 500);\n",
       "            "
      ],
      "text/plain": [
       "<IPython.core.display.Javascript object>"
      ]
     },
     "metadata": {},
     "output_type": "display_data"
    }
   ],
   "source": [
    "number[\"label4\"].value_counts()"
   ]
  },
  {
   "cell_type": "code",
   "execution_count": 79,
   "metadata": {},
   "outputs": [
    {
     "data": {
      "application/javascript": [
       "\n",
       "            setTimeout(function() {\n",
       "                var nbb_cell_id = 79;\n",
       "                var nbb_unformatted_code = \"number = number.drop(columns = ['label5', 'label3', 'label2'])\";\n",
       "                var nbb_formatted_code = \"number = number.drop(columns=[\\\"label5\\\", \\\"label3\\\", \\\"label2\\\"])\";\n",
       "                var nbb_cells = Jupyter.notebook.get_cells();\n",
       "                for (var i = 0; i < nbb_cells.length; ++i) {\n",
       "                    if (nbb_cells[i].input_prompt_number == nbb_cell_id) {\n",
       "                        if (nbb_cells[i].get_text() == nbb_unformatted_code) {\n",
       "                             nbb_cells[i].set_text(nbb_formatted_code);\n",
       "                        }\n",
       "                        break;\n",
       "                    }\n",
       "                }\n",
       "            }, 500);\n",
       "            "
      ],
      "text/plain": [
       "<IPython.core.display.Javascript object>"
      ]
     },
     "metadata": {},
     "output_type": "display_data"
    }
   ],
   "source": [
    "number = number.drop(columns=[\"label5\", \"label3\", \"label2\"])"
   ]
  },
  {
   "cell_type": "code",
   "execution_count": 88,
   "metadata": {},
   "outputs": [
    {
     "data": {
      "text/plain": [
       "Index(['volume', 'year', 'month', 'day', 'co_dif', 'hl_dif', 'label4'], dtype='object')"
      ]
     },
     "execution_count": 88,
     "metadata": {},
     "output_type": "execute_result"
    },
    {
     "data": {
      "application/javascript": [
       "\n",
       "            setTimeout(function() {\n",
       "                var nbb_cell_id = 88;\n",
       "                var nbb_unformatted_code = \"number.columns\";\n",
       "                var nbb_formatted_code = \"number.columns\";\n",
       "                var nbb_cells = Jupyter.notebook.get_cells();\n",
       "                for (var i = 0; i < nbb_cells.length; ++i) {\n",
       "                    if (nbb_cells[i].input_prompt_number == nbb_cell_id) {\n",
       "                        if (nbb_cells[i].get_text() == nbb_unformatted_code) {\n",
       "                             nbb_cells[i].set_text(nbb_formatted_code);\n",
       "                        }\n",
       "                        break;\n",
       "                    }\n",
       "                }\n",
       "            }, 500);\n",
       "            "
      ],
      "text/plain": [
       "<IPython.core.display.Javascript object>"
      ]
     },
     "metadata": {},
     "output_type": "display_data"
    }
   ],
   "source": [
    "number.columns"
   ]
  },
  {
   "cell_type": "code",
   "execution_count": 93,
   "metadata": {},
   "outputs": [
    {
     "name": "stdout",
     "output_type": "stream",
     "text": [
      "total clustered: 822854\n",
      "cluster distribution\n",
      "0    293687\n",
      "1    263905\n",
      "2    249032\n",
      "3     16230\n",
      "Name: label, dtype: int64\n",
      "Largest ranges between cluster means\n",
      "\n",
      " * ranges were calc-ed on scaled means (unscaled cluster means displayed)\n",
      " * sorted largest range -> smallest\n",
      " * grouped into 3 categories that are not related to range\n",
      "\n",
      "\n",
      "General differences:\n"
     ]
    },
    {
     "data": {
      "text/html": [
       "<style  type=\"text/css\" >\n",
       "    #T_98706dde_9b7f_11ea_a828_7085c2f4b037row0_col0 {\n",
       "            background-color:  #fef6fa;\n",
       "            color:  #000000;\n",
       "        }    #T_98706dde_9b7f_11ea_a828_7085c2f4b037row0_col1 {\n",
       "            background-color:  #fbf4f9;\n",
       "            color:  #000000;\n",
       "        }    #T_98706dde_9b7f_11ea_a828_7085c2f4b037row0_col2 {\n",
       "            background-color:  #fff7fb;\n",
       "            color:  #000000;\n",
       "        }    #T_98706dde_9b7f_11ea_a828_7085c2f4b037row0_col3 {\n",
       "            background-color:  #023858;\n",
       "            color:  #f1f1f1;\n",
       "        }    #T_98706dde_9b7f_11ea_a828_7085c2f4b037row1_col0 {\n",
       "            background-color:  #348ebf;\n",
       "            color:  #000000;\n",
       "        }    #T_98706dde_9b7f_11ea_a828_7085c2f4b037row1_col1 {\n",
       "            background-color:  #023858;\n",
       "            color:  #f1f1f1;\n",
       "        }    #T_98706dde_9b7f_11ea_a828_7085c2f4b037row1_col2 {\n",
       "            background-color:  #fff7fb;\n",
       "            color:  #000000;\n",
       "        }    #T_98706dde_9b7f_11ea_a828_7085c2f4b037row1_col3 {\n",
       "            background-color:  #157ab5;\n",
       "            color:  #000000;\n",
       "        }    #T_98706dde_9b7f_11ea_a828_7085c2f4b037row2_col0 {\n",
       "            background-color:  #023858;\n",
       "            color:  #f1f1f1;\n",
       "        }    #T_98706dde_9b7f_11ea_a828_7085c2f4b037row2_col1 {\n",
       "            background-color:  #fff7fb;\n",
       "            color:  #000000;\n",
       "        }    #T_98706dde_9b7f_11ea_a828_7085c2f4b037row2_col2 {\n",
       "            background-color:  #ece7f2;\n",
       "            color:  #000000;\n",
       "        }    #T_98706dde_9b7f_11ea_a828_7085c2f4b037row2_col3 {\n",
       "            background-color:  #9ab8d8;\n",
       "            color:  #000000;\n",
       "        }    #T_98706dde_9b7f_11ea_a828_7085c2f4b037row3_col0 {\n",
       "            background-color:  #faf2f8;\n",
       "            color:  #000000;\n",
       "        }    #T_98706dde_9b7f_11ea_a828_7085c2f4b037row3_col1 {\n",
       "            background-color:  #fff7fb;\n",
       "            color:  #000000;\n",
       "        }    #T_98706dde_9b7f_11ea_a828_7085c2f4b037row3_col2 {\n",
       "            background-color:  #509ac6;\n",
       "            color:  #000000;\n",
       "        }    #T_98706dde_9b7f_11ea_a828_7085c2f4b037row3_col3 {\n",
       "            background-color:  #023858;\n",
       "            color:  #f1f1f1;\n",
       "        }    #T_98706dde_9b7f_11ea_a828_7085c2f4b037row4_col0 {\n",
       "            background-color:  #045585;\n",
       "            color:  #f1f1f1;\n",
       "        }    #T_98706dde_9b7f_11ea_a828_7085c2f4b037row4_col1 {\n",
       "            background-color:  #023858;\n",
       "            color:  #f1f1f1;\n",
       "        }    #T_98706dde_9b7f_11ea_a828_7085c2f4b037row4_col2 {\n",
       "            background-color:  #034b76;\n",
       "            color:  #f1f1f1;\n",
       "        }    #T_98706dde_9b7f_11ea_a828_7085c2f4b037row4_col3 {\n",
       "            background-color:  #fff7fb;\n",
       "            color:  #000000;\n",
       "        }    #T_98706dde_9b7f_11ea_a828_7085c2f4b037row5_col0 {\n",
       "            background-color:  #1077b4;\n",
       "            color:  #f1f1f1;\n",
       "        }    #T_98706dde_9b7f_11ea_a828_7085c2f4b037row5_col1 {\n",
       "            background-color:  #023e62;\n",
       "            color:  #f1f1f1;\n",
       "        }    #T_98706dde_9b7f_11ea_a828_7085c2f4b037row5_col2 {\n",
       "            background-color:  #fff7fb;\n",
       "            color:  #000000;\n",
       "        }    #T_98706dde_9b7f_11ea_a828_7085c2f4b037row5_col3 {\n",
       "            background-color:  #023858;\n",
       "            color:  #f1f1f1;\n",
       "        }</style><table id=\"T_98706dde_9b7f_11ea_a828_7085c2f4b037\" ><thead>    <tr>        <th class=\"index_name level0\" >label4</th>        <th class=\"col_heading level0 col0\" >0</th>        <th class=\"col_heading level0 col1\" >1</th>        <th class=\"col_heading level0 col2\" >2</th>        <th class=\"col_heading level0 col3\" >3</th>    </tr></thead><tbody>\n",
       "                <tr>\n",
       "                        <th id=\"T_98706dde_9b7f_11ea_a828_7085c2f4b037level0_row0\" class=\"row_heading level0 row0\" >hl_dif</th>\n",
       "                        <td id=\"T_98706dde_9b7f_11ea_a828_7085c2f4b037row0_col0\" class=\"data row0 col0\" >1.201111</td>\n",
       "                        <td id=\"T_98706dde_9b7f_11ea_a828_7085c2f4b037row0_col1\" class=\"data row0 col1\" >1.352705</td>\n",
       "                        <td id=\"T_98706dde_9b7f_11ea_a828_7085c2f4b037row0_col2\" class=\"data row0 col2\" >1.079496</td>\n",
       "                        <td id=\"T_98706dde_9b7f_11ea_a828_7085c2f4b037row0_col3\" class=\"data row0 col3\" >12.021120</td>\n",
       "            </tr>\n",
       "            <tr>\n",
       "                        <th id=\"T_98706dde_9b7f_11ea_a828_7085c2f4b037level0_row1\" class=\"row_heading level0 row1\" >year</th>\n",
       "                        <td id=\"T_98706dde_9b7f_11ea_a828_7085c2f4b037row1_col0\" class=\"data row1 col0\" >2013.262766</td>\n",
       "                        <td id=\"T_98706dde_9b7f_11ea_a828_7085c2f4b037row1_col1\" class=\"data row1 col1\" >2014.629507</td>\n",
       "                        <td id=\"T_98706dde_9b7f_11ea_a828_7085c2f4b037row1_col2\" class=\"data row1 col2\" >2010.931157</td>\n",
       "                        <td id=\"T_98706dde_9b7f_11ea_a828_7085c2f4b037row1_col3\" class=\"data row1 col3\" >2013.550585</td>\n",
       "            </tr>\n",
       "            <tr>\n",
       "                        <th id=\"T_98706dde_9b7f_11ea_a828_7085c2f4b037level0_row2\" class=\"row_heading level0 row2\" >day</th>\n",
       "                        <td id=\"T_98706dde_9b7f_11ea_a828_7085c2f4b037row2_col0\" class=\"data row2 col0\" >24.935857</td>\n",
       "                        <td id=\"T_98706dde_9b7f_11ea_a828_7085c2f4b037row2_col1\" class=\"data row2 col1\" >9.467437</td>\n",
       "                        <td id=\"T_98706dde_9b7f_11ea_a828_7085c2f4b037row2_col2\" class=\"data row2 col2\" >11.424913</td>\n",
       "                        <td id=\"T_98706dde_9b7f_11ea_a828_7085c2f4b037row2_col3\" class=\"data row2 col3\" >15.733025</td>\n",
       "            </tr>\n",
       "            <tr>\n",
       "                        <th id=\"T_98706dde_9b7f_11ea_a828_7085c2f4b037level0_row3\" class=\"row_heading level0 row3\" >volume</th>\n",
       "                        <td id=\"T_98706dde_9b7f_11ea_a828_7085c2f4b037row3_col0\" class=\"data row3 col0\" >4284170.836639</td>\n",
       "                        <td id=\"T_98706dde_9b7f_11ea_a828_7085c2f4b037row3_col1\" class=\"data row3 col1\" >4035752.031981</td>\n",
       "                        <td id=\"T_98706dde_9b7f_11ea_a828_7085c2f4b037row3_col2\" class=\"data row3 col2\" >7865137.180362</td>\n",
       "                        <td id=\"T_98706dde_9b7f_11ea_a828_7085c2f4b037row3_col3\" class=\"data row3 col3\" >10725740.203327</td>\n",
       "            </tr>\n",
       "            <tr>\n",
       "                        <th id=\"T_98706dde_9b7f_11ea_a828_7085c2f4b037level0_row4\" class=\"row_heading level0 row4\" >co_dif</th>\n",
       "                        <td id=\"T_98706dde_9b7f_11ea_a828_7085c2f4b037row4_col0\" class=\"data row4 col0\" >0.009028</td>\n",
       "                        <td id=\"T_98706dde_9b7f_11ea_a828_7085c2f4b037row4_col1\" class=\"data row4 col1\" >0.054250</td>\n",
       "                        <td id=\"T_98706dde_9b7f_11ea_a828_7085c2f4b037row4_col2\" class=\"data row4 col2\" >0.023742</td>\n",
       "                        <td id=\"T_98706dde_9b7f_11ea_a828_7085c2f4b037row4_col3\" class=\"data row4 col3\" >-0.373608</td>\n",
       "            </tr>\n",
       "            <tr>\n",
       "                        <th id=\"T_98706dde_9b7f_11ea_a828_7085c2f4b037level0_row5\" class=\"row_heading level0 row5\" >month</th>\n",
       "                        <td id=\"T_98706dde_9b7f_11ea_a828_7085c2f4b037row5_col0\" class=\"data row5 col0\" >6.558949</td>\n",
       "                        <td id=\"T_98706dde_9b7f_11ea_a828_7085c2f4b037row5_col1\" class=\"data row5 col1\" >6.576507</td>\n",
       "                        <td id=\"T_98706dde_9b7f_11ea_a828_7085c2f4b037row5_col2\" class=\"data row5 col2\" >6.509324</td>\n",
       "                        <td id=\"T_98706dde_9b7f_11ea_a828_7085c2f4b037row5_col3\" class=\"data row5 col3\" >6.578312</td>\n",
       "            </tr>\n",
       "    </tbody></table>"
      ],
      "text/plain": [
       "<pandas.io.formats.style.Styler at 0x1ac81234188>"
      ]
     },
     "metadata": {},
     "output_type": "display_data"
    },
    {
     "data": {
      "application/javascript": [
       "\n",
       "            setTimeout(function() {\n",
       "                var nbb_cell_id = 93;\n",
       "                var nbb_unformatted_code = \"clst_df = number1.copy()\\nclst_df[\\\"label\\\"] = number[\\\"label4\\\"]\\nclst_means = number.groupby(\\\"label4\\\").mean()\\nclst_means_tall = clst_means.T\\nscaled_df = pd.DataFrame(scaled, columns=number1.columns)\\nscaled_df[\\\"label\\\"] = number[\\\"label4\\\"]\\nscaled_clst_means = scaled_df.groupby(\\\"label\\\").mean()\\n\\nscaled_means_tall = scaled_clst_means.T\\n\\n# fmt: off\\nscaled_means_tall[\\\"range\\\"] = (\\n    scaled_means_tall.max(axis=1) - scaled_means_tall.min(axis=1)\\n)\\n# fmt: on\\nscaled_means_tall[\\\"sd\\\"] = scaled_means_tall.std(axis=1)\\n\\ntop_distinct = scaled_means_tall.sort_values(\\\"range\\\", ascending=False)\\n\\nis_how_often = top_distinct.index.str.contains(\\\"how often do you\\\")\\nis_how_involved = top_distinct.index.str.contains(\\\"how involved\\\")\\n\\ntop_dem = top_distinct[~is_how_often & ~is_how_involved]\\ntop_often = top_distinct[is_how_often]\\ntop_involved = top_distinct[is_how_involved]\\n\\nprint(f\\\"total clustered: {clst_df.shape[0]}\\\")\\n\\nprint(\\\"cluster distribution\\\")\\nprint(clst_df[\\\"label\\\"].value_counts())\\n\\nprint(\\\"Largest ranges between cluster means\\\\n\\\")\\nprint(\\\" * ranges were calc-ed on scaled means (unscaled cluster means displayed)\\\")\\nprint(\\\" * sorted largest range -> smallest\\\")\\nprint(\\\" * grouped into 3 categories that are not related to range\\\")\\n\\nprint(\\\"\\\\n\\\\nGeneral differences:\\\")\\ndisplay(clst_means_tall.loc[top_dem.index].style.background_gradient(axis=1))\";\n",
       "                var nbb_formatted_code = \"clst_df = number1.copy()\\nclst_df[\\\"label\\\"] = number[\\\"label4\\\"]\\nclst_means = number.groupby(\\\"label4\\\").mean()\\nclst_means_tall = clst_means.T\\nscaled_df = pd.DataFrame(scaled, columns=number1.columns)\\nscaled_df[\\\"label\\\"] = number[\\\"label4\\\"]\\nscaled_clst_means = scaled_df.groupby(\\\"label\\\").mean()\\n\\nscaled_means_tall = scaled_clst_means.T\\n\\n# fmt: off\\nscaled_means_tall[\\\"range\\\"] = (\\n    scaled_means_tall.max(axis=1) - scaled_means_tall.min(axis=1)\\n)\\n# fmt: on\\nscaled_means_tall[\\\"sd\\\"] = scaled_means_tall.std(axis=1)\\n\\ntop_distinct = scaled_means_tall.sort_values(\\\"range\\\", ascending=False)\\n\\nis_how_often = top_distinct.index.str.contains(\\\"how often do you\\\")\\nis_how_involved = top_distinct.index.str.contains(\\\"how involved\\\")\\n\\ntop_dem = top_distinct[~is_how_often & ~is_how_involved]\\ntop_often = top_distinct[is_how_often]\\ntop_involved = top_distinct[is_how_involved]\\n\\nprint(f\\\"total clustered: {clst_df.shape[0]}\\\")\\n\\nprint(\\\"cluster distribution\\\")\\nprint(clst_df[\\\"label\\\"].value_counts())\\n\\nprint(\\\"Largest ranges between cluster means\\\\n\\\")\\nprint(\\\" * ranges were calc-ed on scaled means (unscaled cluster means displayed)\\\")\\nprint(\\\" * sorted largest range -> smallest\\\")\\nprint(\\\" * grouped into 3 categories that are not related to range\\\")\\n\\nprint(\\\"\\\\n\\\\nGeneral differences:\\\")\\ndisplay(clst_means_tall.loc[top_dem.index].style.background_gradient(axis=1))\";\n",
       "                var nbb_cells = Jupyter.notebook.get_cells();\n",
       "                for (var i = 0; i < nbb_cells.length; ++i) {\n",
       "                    if (nbb_cells[i].input_prompt_number == nbb_cell_id) {\n",
       "                        if (nbb_cells[i].get_text() == nbb_unformatted_code) {\n",
       "                             nbb_cells[i].set_text(nbb_formatted_code);\n",
       "                        }\n",
       "                        break;\n",
       "                    }\n",
       "                }\n",
       "            }, 500);\n",
       "            "
      ],
      "text/plain": [
       "<IPython.core.display.Javascript object>"
      ]
     },
     "metadata": {},
     "output_type": "display_data"
    }
   ],
   "source": [
    "clst_df = number1.copy()\n",
    "clst_df[\"label\"] = number[\"label4\"]\n",
    "clst_means = number.groupby(\"label4\").mean()\n",
    "clst_means_tall = clst_means.T\n",
    "scaled_df = pd.DataFrame(scaled, columns=number1.columns)\n",
    "scaled_df[\"label\"] = number[\"label4\"]\n",
    "scaled_clst_means = scaled_df.groupby(\"label\").mean()\n",
    "\n",
    "scaled_means_tall = scaled_clst_means.T\n",
    "\n",
    "# fmt: off\n",
    "scaled_means_tall[\"range\"] = (\n",
    "    scaled_means_tall.max(axis=1) - scaled_means_tall.min(axis=1)\n",
    ")\n",
    "# fmt: on\n",
    "scaled_means_tall[\"sd\"] = scaled_means_tall.std(axis=1)\n",
    "\n",
    "top_distinct = scaled_means_tall.sort_values(\"range\", ascending=False)\n",
    "\n",
    "is_how_often = top_distinct.index.str.contains(\"how often do you\")\n",
    "is_how_involved = top_distinct.index.str.contains(\"how involved\")\n",
    "\n",
    "top_dem = top_distinct[~is_how_often & ~is_how_involved]\n",
    "top_often = top_distinct[is_how_often]\n",
    "top_involved = top_distinct[is_how_involved]\n",
    "\n",
    "print(f\"total clustered: {clst_df.shape[0]}\")\n",
    "\n",
    "print(\"cluster distribution\")\n",
    "print(clst_df[\"label\"].value_counts())\n",
    "\n",
    "print(\"Largest ranges between cluster means\\n\")\n",
    "print(\" * ranges were calc-ed on scaled means (unscaled cluster means displayed)\")\n",
    "print(\" * sorted largest range -> smallest\")\n",
    "print(\" * grouped into 3 categories that are not related to range\")\n",
    "\n",
    "print(\"\\n\\nGeneral differences:\")\n",
    "display(clst_means_tall.loc[top_dem.index].style.background_gradient(axis=1))\n",
    "\n"
   ]
  },
  {
   "cell_type": "code",
   "execution_count": 81,
   "metadata": {},
   "outputs": [
    {
     "data": {
      "application/javascript": [
       "\n",
       "            setTimeout(function() {\n",
       "                var nbb_cell_id = 81;\n",
       "                var nbb_unformatted_code = \"# number = number.drop(columns=\\\"label4\\\")\\n# sns.pairplot(number, hue=\\\"label\\\")\\n# plt.show()\";\n",
       "                var nbb_formatted_code = \"# number = number.drop(columns=\\\"label4\\\")\\n# sns.pairplot(number, hue=\\\"label\\\")\\n# plt.show()\";\n",
       "                var nbb_cells = Jupyter.notebook.get_cells();\n",
       "                for (var i = 0; i < nbb_cells.length; ++i) {\n",
       "                    if (nbb_cells[i].input_prompt_number == nbb_cell_id) {\n",
       "                        if (nbb_cells[i].get_text() == nbb_unformatted_code) {\n",
       "                             nbb_cells[i].set_text(nbb_formatted_code);\n",
       "                        }\n",
       "                        break;\n",
       "                    }\n",
       "                }\n",
       "            }, 500);\n",
       "            "
      ],
      "text/plain": [
       "<IPython.core.display.Javascript object>"
      ]
     },
     "metadata": {},
     "output_type": "display_data"
    }
   ],
   "source": [
    "# number = number.drop(columns=\"label4\")\n",
    "# sns.pairplot(number, hue=\"label\")\n",
    "# plt.show()"
   ]
  },
  {
   "cell_type": "code",
   "execution_count": 82,
   "metadata": {},
   "outputs": [
    {
     "data": {
      "application/javascript": [
       "\n",
       "            setTimeout(function() {\n",
       "                var nbb_cell_id = 82;\n",
       "                var nbb_unformatted_code = \"df_full[\\\"label\\\"] = number[\\\"label4\\\"]\";\n",
       "                var nbb_formatted_code = \"df_full[\\\"label\\\"] = number[\\\"label4\\\"]\";\n",
       "                var nbb_cells = Jupyter.notebook.get_cells();\n",
       "                for (var i = 0; i < nbb_cells.length; ++i) {\n",
       "                    if (nbb_cells[i].input_prompt_number == nbb_cell_id) {\n",
       "                        if (nbb_cells[i].get_text() == nbb_unformatted_code) {\n",
       "                             nbb_cells[i].set_text(nbb_formatted_code);\n",
       "                        }\n",
       "                        break;\n",
       "                    }\n",
       "                }\n",
       "            }, 500);\n",
       "            "
      ],
      "text/plain": [
       "<IPython.core.display.Javascript object>"
      ]
     },
     "metadata": {},
     "output_type": "display_data"
    }
   ],
   "source": [
    "df_full[\"label\"] = number[\"label4\"]"
   ]
  },
  {
   "cell_type": "code",
   "execution_count": 83,
   "metadata": {},
   "outputs": [
    {
     "data": {
      "text/html": [
       "<div>\n",
       "<style scoped>\n",
       "    .dataframe tbody tr th:only-of-type {\n",
       "        vertical-align: middle;\n",
       "    }\n",
       "\n",
       "    .dataframe tbody tr th {\n",
       "        vertical-align: top;\n",
       "    }\n",
       "\n",
       "    .dataframe thead th {\n",
       "        text-align: right;\n",
       "    }\n",
       "</style>\n",
       "<table border=\"1\" class=\"dataframe\">\n",
       "  <thead>\n",
       "    <tr style=\"text-align: right;\">\n",
       "      <th></th>\n",
       "      <th>symbol</th>\n",
       "      <th>open</th>\n",
       "      <th>close</th>\n",
       "      <th>low</th>\n",
       "      <th>high</th>\n",
       "      <th>volume</th>\n",
       "      <th>year</th>\n",
       "      <th>month</th>\n",
       "      <th>day</th>\n",
       "      <th>co_dif</th>\n",
       "      <th>hl_dif</th>\n",
       "      <th>label</th>\n",
       "    </tr>\n",
       "  </thead>\n",
       "  <tbody>\n",
       "    <tr>\n",
       "      <th>1122</th>\n",
       "      <td>GOOG</td>\n",
       "      <td>625.861078</td>\n",
       "      <td>608.261023</td>\n",
       "      <td>606.361042</td>\n",
       "      <td>625.861078</td>\n",
       "      <td>7987100.0</td>\n",
       "      <td>2010</td>\n",
       "      <td>1</td>\n",
       "      <td>6</td>\n",
       "      <td>-17.600055</td>\n",
       "      <td>19.500036</td>\n",
       "      <td>3</td>\n",
       "    </tr>\n",
       "    <tr>\n",
       "      <th>1123</th>\n",
       "      <td>GOOGL</td>\n",
       "      <td>625.860033</td>\n",
       "      <td>608.260035</td>\n",
       "      <td>606.360021</td>\n",
       "      <td>625.860033</td>\n",
       "      <td>7949400.0</td>\n",
       "      <td>2010</td>\n",
       "      <td>1</td>\n",
       "      <td>6</td>\n",
       "      <td>-17.599998</td>\n",
       "      <td>19.500012</td>\n",
       "      <td>3</td>\n",
       "    </tr>\n",
       "    <tr>\n",
       "      <th>1262</th>\n",
       "      <td>PCLN</td>\n",
       "      <td>225.119995</td>\n",
       "      <td>219.080002</td>\n",
       "      <td>218.149994</td>\n",
       "      <td>226.419998</td>\n",
       "      <td>1007800.0</td>\n",
       "      <td>2010</td>\n",
       "      <td>1</td>\n",
       "      <td>6</td>\n",
       "      <td>-6.039993</td>\n",
       "      <td>8.270004</td>\n",
       "      <td>3</td>\n",
       "    </tr>\n",
       "    <tr>\n",
       "      <th>1589</th>\n",
       "      <td>GOOG</td>\n",
       "      <td>609.401025</td>\n",
       "      <td>594.101005</td>\n",
       "      <td>592.651008</td>\n",
       "      <td>610.001045</td>\n",
       "      <td>12876600.0</td>\n",
       "      <td>2010</td>\n",
       "      <td>1</td>\n",
       "      <td>7</td>\n",
       "      <td>-15.300020</td>\n",
       "      <td>17.350037</td>\n",
       "      <td>3</td>\n",
       "    </tr>\n",
       "    <tr>\n",
       "      <th>1590</th>\n",
       "      <td>GOOGL</td>\n",
       "      <td>609.400008</td>\n",
       "      <td>594.100015</td>\n",
       "      <td>592.649990</td>\n",
       "      <td>609.999993</td>\n",
       "      <td>12815700.0</td>\n",
       "      <td>2010</td>\n",
       "      <td>1</td>\n",
       "      <td>7</td>\n",
       "      <td>-15.299993</td>\n",
       "      <td>17.350003</td>\n",
       "      <td>3</td>\n",
       "    </tr>\n",
       "    <tr>\n",
       "      <th>...</th>\n",
       "      <td>...</td>\n",
       "      <td>...</td>\n",
       "      <td>...</td>\n",
       "      <td>...</td>\n",
       "      <td>...</td>\n",
       "      <td>...</td>\n",
       "      <td>...</td>\n",
       "      <td>...</td>\n",
       "      <td>...</td>\n",
       "      <td>...</td>\n",
       "      <td>...</td>\n",
       "      <td>...</td>\n",
       "    </tr>\n",
       "    <tr>\n",
       "      <th>822478</th>\n",
       "      <td>CMG</td>\n",
       "      <td>376.519989</td>\n",
       "      <td>377.320007</td>\n",
       "      <td>375.160004</td>\n",
       "      <td>382.489990</td>\n",
       "      <td>888100.0</td>\n",
       "      <td>2016</td>\n",
       "      <td>12</td>\n",
       "      <td>30</td>\n",
       "      <td>0.800018</td>\n",
       "      <td>7.329986</td>\n",
       "      <td>3</td>\n",
       "    </tr>\n",
       "    <tr>\n",
       "      <th>822575</th>\n",
       "      <td>GOOG</td>\n",
       "      <td>782.750000</td>\n",
       "      <td>771.820007</td>\n",
       "      <td>770.409973</td>\n",
       "      <td>782.780029</td>\n",
       "      <td>1760200.0</td>\n",
       "      <td>2016</td>\n",
       "      <td>12</td>\n",
       "      <td>30</td>\n",
       "      <td>-10.929993</td>\n",
       "      <td>12.370056</td>\n",
       "      <td>3</td>\n",
       "    </tr>\n",
       "    <tr>\n",
       "      <th>822576</th>\n",
       "      <td>GOOGL</td>\n",
       "      <td>803.210022</td>\n",
       "      <td>792.450012</td>\n",
       "      <td>789.619995</td>\n",
       "      <td>803.289978</td>\n",
       "      <td>1728300.0</td>\n",
       "      <td>2016</td>\n",
       "      <td>12</td>\n",
       "      <td>30</td>\n",
       "      <td>-10.760010</td>\n",
       "      <td>13.669983</td>\n",
       "      <td>3</td>\n",
       "    </tr>\n",
       "    <tr>\n",
       "      <th>822715</th>\n",
       "      <td>PCLN</td>\n",
       "      <td>1483.489990</td>\n",
       "      <td>1466.060059</td>\n",
       "      <td>1462.339966</td>\n",
       "      <td>1483.489990</td>\n",
       "      <td>405100.0</td>\n",
       "      <td>2016</td>\n",
       "      <td>12</td>\n",
       "      <td>30</td>\n",
       "      <td>-17.429931</td>\n",
       "      <td>21.150024</td>\n",
       "      <td>3</td>\n",
       "    </tr>\n",
       "    <tr>\n",
       "      <th>822744</th>\n",
       "      <td>REGN</td>\n",
       "      <td>375.299988</td>\n",
       "      <td>367.089996</td>\n",
       "      <td>364.920013</td>\n",
       "      <td>375.299988</td>\n",
       "      <td>612900.0</td>\n",
       "      <td>2016</td>\n",
       "      <td>12</td>\n",
       "      <td>30</td>\n",
       "      <td>-8.209992</td>\n",
       "      <td>10.379975</td>\n",
       "      <td>3</td>\n",
       "    </tr>\n",
       "  </tbody>\n",
       "</table>\n",
       "<p>16230 rows × 12 columns</p>\n",
       "</div>"
      ],
      "text/plain": [
       "       symbol         open        close          low         high      volume  \\\n",
       "1122     GOOG   625.861078   608.261023   606.361042   625.861078   7987100.0   \n",
       "1123    GOOGL   625.860033   608.260035   606.360021   625.860033   7949400.0   \n",
       "1262     PCLN   225.119995   219.080002   218.149994   226.419998   1007800.0   \n",
       "1589     GOOG   609.401025   594.101005   592.651008   610.001045  12876600.0   \n",
       "1590    GOOGL   609.400008   594.100015   592.649990   609.999993  12815700.0   \n",
       "...       ...          ...          ...          ...          ...         ...   \n",
       "822478    CMG   376.519989   377.320007   375.160004   382.489990    888100.0   \n",
       "822575   GOOG   782.750000   771.820007   770.409973   782.780029   1760200.0   \n",
       "822576  GOOGL   803.210022   792.450012   789.619995   803.289978   1728300.0   \n",
       "822715   PCLN  1483.489990  1466.060059  1462.339966  1483.489990    405100.0   \n",
       "822744   REGN   375.299988   367.089996   364.920013   375.299988    612900.0   \n",
       "\n",
       "        year  month  day     co_dif     hl_dif  label  \n",
       "1122    2010      1    6 -17.600055  19.500036      3  \n",
       "1123    2010      1    6 -17.599998  19.500012      3  \n",
       "1262    2010      1    6  -6.039993   8.270004      3  \n",
       "1589    2010      1    7 -15.300020  17.350037      3  \n",
       "1590    2010      1    7 -15.299993  17.350003      3  \n",
       "...      ...    ...  ...        ...        ...    ...  \n",
       "822478  2016     12   30   0.800018   7.329986      3  \n",
       "822575  2016     12   30 -10.929993  12.370056      3  \n",
       "822576  2016     12   30 -10.760010  13.669983      3  \n",
       "822715  2016     12   30 -17.429931  21.150024      3  \n",
       "822744  2016     12   30  -8.209992  10.379975      3  \n",
       "\n",
       "[16230 rows x 12 columns]"
      ]
     },
     "execution_count": 83,
     "metadata": {},
     "output_type": "execute_result"
    },
    {
     "data": {
      "application/javascript": [
       "\n",
       "            setTimeout(function() {\n",
       "                var nbb_cell_id = 83;\n",
       "                var nbb_unformatted_code = \"df_full[df_full[\\\"label\\\"] == 3]\";\n",
       "                var nbb_formatted_code = \"df_full[df_full[\\\"label\\\"] == 3]\";\n",
       "                var nbb_cells = Jupyter.notebook.get_cells();\n",
       "                for (var i = 0; i < nbb_cells.length; ++i) {\n",
       "                    if (nbb_cells[i].input_prompt_number == nbb_cell_id) {\n",
       "                        if (nbb_cells[i].get_text() == nbb_unformatted_code) {\n",
       "                             nbb_cells[i].set_text(nbb_formatted_code);\n",
       "                        }\n",
       "                        break;\n",
       "                    }\n",
       "                }\n",
       "            }, 500);\n",
       "            "
      ],
      "text/plain": [
       "<IPython.core.display.Javascript object>"
      ]
     },
     "metadata": {},
     "output_type": "display_data"
    }
   ],
   "source": [
    "df_full[df_full[\"label\"] == 3]"
   ]
  },
  {
   "cell_type": "code",
   "execution_count": 123,
   "metadata": {
    "scrolled": true
   },
   "outputs": [
    {
     "name": "stderr",
     "output_type": "stream",
     "text": [
      "No handles with labels found to put in legend.\n"
     ]
    },
    {
     "data": {
      "image/png": "[encoded data removed]",
      "text/plain": [
       "<Figure size 432x288 with 1 Axes>"
      ]
     },
     "metadata": {
      "needs_background": "light"
     },
     "output_type": "display_data"
    },
    {
     "data": {
      "application/javascript": [
       "\n",
       "            setTimeout(function() {\n",
       "                var nbb_cell_id = 123;\n",
       "                var nbb_unformatted_code = \"sns.barplot(df_full[\\\"label\\\"], df_full[\\\"hl_dif\\\"], ci=None)\\nplt.xlabel(\\\"Cluster\\\")\\nplt.ylabel(\\\"Difference\\\")\\nplt.title(\\\"Daily High and Low Difference\\\")\\nplt.legend(title=\\\"\\\", loc=\\\"center left\\\", bbox_to_anchor=(1.0, 0.5))\\nplt.show()\";\n",
       "                var nbb_formatted_code = \"sns.barplot(df_full[\\\"label\\\"], df_full[\\\"hl_dif\\\"], ci=None)\\nplt.xlabel(\\\"Cluster\\\")\\nplt.ylabel(\\\"Difference\\\")\\nplt.title(\\\"Daily High and Low Difference\\\")\\nplt.legend(title=\\\"\\\", loc=\\\"center left\\\", bbox_to_anchor=(1.0, 0.5))\\nplt.show()\";\n",
       "                var nbb_cells = Jupyter.notebook.get_cells();\n",
       "                for (var i = 0; i < nbb_cells.length; ++i) {\n",
       "                    if (nbb_cells[i].input_prompt_number == nbb_cell_id) {\n",
       "                        if (nbb_cells[i].get_text() == nbb_unformatted_code) {\n",
       "                             nbb_cells[i].set_text(nbb_formatted_code);\n",
       "                        }\n",
       "                        break;\n",
       "                    }\n",
       "                }\n",
       "            }, 500);\n",
       "            "
      ],
      "text/plain": [
       "<IPython.core.display.Javascript object>"
      ]
     },
     "metadata": {},
     "output_type": "display_data"
    }
   ],
   "source": [
    "sns.barplot(df_full[\"label\"], df_full[\"hl_dif\"], ci=None)\n",
    "plt.xlabel(\"Cluster\")\n",
    "plt.ylabel(\"Difference\")\n",
    "plt.title(\"Daily High and Low Difference\")\n",
    "plt.legend(title=\"\", loc=\"center left\", bbox_to_anchor=(1.0, 0.5))\n",
    "plt.show()"
   ]
  },
  {
   "cell_type": "code",
   "execution_count": 124,
   "metadata": {},
   "outputs": [
    {
     "name": "stderr",
     "output_type": "stream",
     "text": [
      "No handles with labels found to put in legend.\n"
     ]
    },
    {
     "data": {
      "image/png": "[encoded data removed]",
      "text/plain": [
       "<Figure size 432x288 with 1 Axes>"
      ]
     },
     "metadata": {
      "needs_background": "light"
     },
     "output_type": "display_data"
    },
    {
     "data": {
      "application/javascript": [
       "\n",
       "            setTimeout(function() {\n",
       "                var nbb_cell_id = 124;\n",
       "                var nbb_unformatted_code = \"sns.barplot(df_full[\\\"label\\\"], df_full[\\\"co_dif\\\"], ci=None)\\nplt.xlabel(\\\"Cluster\\\")\\nplt.ylabel(\\\"Difference\\\")\\nplt.title(\\\"Daily Close and Open Difference\\\")\\nplt.legend(title=\\\"\\\", loc=\\\"center left\\\", bbox_to_anchor=(1.0, 0.5))\\nplt.show()\";\n",
       "                var nbb_formatted_code = \"sns.barplot(df_full[\\\"label\\\"], df_full[\\\"co_dif\\\"], ci=None)\\nplt.xlabel(\\\"Cluster\\\")\\nplt.ylabel(\\\"Difference\\\")\\nplt.title(\\\"Daily Close and Open Difference\\\")\\nplt.legend(title=\\\"\\\", loc=\\\"center left\\\", bbox_to_anchor=(1.0, 0.5))\\nplt.show()\";\n",
       "                var nbb_cells = Jupyter.notebook.get_cells();\n",
       "                for (var i = 0; i < nbb_cells.length; ++i) {\n",
       "                    if (nbb_cells[i].input_prompt_number == nbb_cell_id) {\n",
       "                        if (nbb_cells[i].get_text() == nbb_unformatted_code) {\n",
       "                             nbb_cells[i].set_text(nbb_formatted_code);\n",
       "                        }\n",
       "                        break;\n",
       "                    }\n",
       "                }\n",
       "            }, 500);\n",
       "            "
      ],
      "text/plain": [
       "<IPython.core.display.Javascript object>"
      ]
     },
     "metadata": {},
     "output_type": "display_data"
    }
   ],
   "source": [
    "sns.barplot(df_full[\"label\"], df_full[\"co_dif\"], ci=None)\n",
    "plt.xlabel(\"Cluster\")\n",
    "plt.ylabel(\"Difference\")\n",
    "plt.title(\"Daily Close and Open Difference\")\n",
    "plt.legend(title=\"\", loc=\"center left\", bbox_to_anchor=(1.0, 0.5))\n",
    "plt.show()"
   ]
  },
  {
   "cell_type": "code",
   "execution_count": 131,
   "metadata": {},
   "outputs": [
    {
     "name": "stderr",
     "output_type": "stream",
     "text": [
      "No handles with labels found to put in legend.\n"
     ]
    },
    {
     "data": {
      "image/png": "[encoded data removed]",
      "text/plain": [
       "<Figure size 432x288 with 1 Axes>"
      ]
     },
     "metadata": {
      "needs_background": "light"
     },
     "output_type": "display_data"
    },
    {
     "data": {
      "application/javascript": [
       "\n",
       "            setTimeout(function() {\n",
       "                var nbb_cell_id = 131;\n",
       "                var nbb_unformatted_code = \"sns.barplot(df_full[\\\"label\\\"], df_full[\\\"volume\\\"], ci=None)\\nplt.xlabel(\\\"Cluster\\\")\\nplt.ylabel(\\\"Difference\\\")\\nplt.title(\\\"Daily Volume Difference\\\")\\nplt.legend(title=\\\"\\\", loc=\\\"center left\\\", bbox_to_anchor=(1.0, 0.5))\\nplt.show()\";\n",
       "                var nbb_formatted_code = \"sns.barplot(df_full[\\\"label\\\"], df_full[\\\"volume\\\"], ci=None)\\nplt.xlabel(\\\"Cluster\\\")\\nplt.ylabel(\\\"Difference\\\")\\nplt.title(\\\"Daily Volume Difference\\\")\\nplt.legend(title=\\\"\\\", loc=\\\"center left\\\", bbox_to_anchor=(1.0, 0.5))\\nplt.show()\";\n",
       "                var nbb_cells = Jupyter.notebook.get_cells();\n",
       "                for (var i = 0; i < nbb_cells.length; ++i) {\n",
       "                    if (nbb_cells[i].input_prompt_number == nbb_cell_id) {\n",
       "                        if (nbb_cells[i].get_text() == nbb_unformatted_code) {\n",
       "                             nbb_cells[i].set_text(nbb_formatted_code);\n",
       "                        }\n",
       "                        break;\n",
       "                    }\n",
       "                }\n",
       "            }, 500);\n",
       "            "
      ],
      "text/plain": [
       "<IPython.core.display.Javascript object>"
      ]
     },
     "metadata": {},
     "output_type": "display_data"
    }
   ],
   "source": [
    "sns.barplot(df_full[\"label\"], df_full[\"volume\"], ci=None)\n",
    "plt.xlabel(\"Cluster\")\n",
    "plt.ylabel(\"Difference\")\n",
    "plt.title(\"Daily Volume Difference\")\n",
    "plt.legend(title=\"\", loc=\"center left\", bbox_to_anchor=(1.0, 0.5))\n",
    "plt.show()"
   ]
  },
  {
   "cell_type": "code",
   "execution_count": 132,
   "metadata": {},
   "outputs": [
    {
     "name": "stderr",
     "output_type": "stream",
     "text": [
      "No handles with labels found to put in legend.\n"
     ]
    },
    {
     "data": {
      "image/png": "[encoded data removed]",
      "text/plain": [
       "<Figure size 432x288 with 1 Axes>"
      ]
     },
     "metadata": {
      "needs_background": "light"
     },
     "output_type": "display_data"
    },
    {
     "data": {
      "application/javascript": [
       "\n",
       "            setTimeout(function() {\n",
       "                var nbb_cell_id = 132;\n",
       "                var nbb_unformatted_code = \"sns.barplot(df_full[\\\"label\\\"], df_full[\\\"year\\\"], ci=None)\\nplt.xlabel(\\\"Cluster\\\")\\nplt.ylabel(\\\"Difference\\\")\\nplt.title(\\\"Year Difference\\\")\\nplt.legend(title=\\\"\\\", loc=\\\"center left\\\", bbox_to_anchor=(1.0, 0.5))\\nplt.show()\";\n",
       "                var nbb_formatted_code = \"sns.barplot(df_full[\\\"label\\\"], df_full[\\\"year\\\"], ci=None)\\nplt.xlabel(\\\"Cluster\\\")\\nplt.ylabel(\\\"Difference\\\")\\nplt.title(\\\"Year Difference\\\")\\nplt.legend(title=\\\"\\\", loc=\\\"center left\\\", bbox_to_anchor=(1.0, 0.5))\\nplt.show()\";\n",
       "                var nbb_cells = Jupyter.notebook.get_cells();\n",
       "                for (var i = 0; i < nbb_cells.length; ++i) {\n",
       "                    if (nbb_cells[i].input_prompt_number == nbb_cell_id) {\n",
       "                        if (nbb_cells[i].get_text() == nbb_unformatted_code) {\n",
       "                             nbb_cells[i].set_text(nbb_formatted_code);\n",
       "                        }\n",
       "                        break;\n",
       "                    }\n",
       "                }\n",
       "            }, 500);\n",
       "            "
      ],
      "text/plain": [
       "<IPython.core.display.Javascript object>"
      ]
     },
     "metadata": {},
     "output_type": "display_data"
    }
   ],
   "source": [
    "sns.barplot(df_full[\"label\"], df_full[\"year\"], ci=None)\n",
    "plt.xlabel(\"Cluster\")\n",
    "plt.ylabel(\"Difference\")\n",
    "plt.title(\"Year Difference\")\n",
    "plt.legend(title=\"\", loc=\"center left\", bbox_to_anchor=(1.0, 0.5))\n",
    "plt.show()"
   ]
  },
  {
   "cell_type": "code",
   "execution_count": 134,
   "metadata": {},
   "outputs": [
    {
     "name": "stderr",
     "output_type": "stream",
     "text": [
      "No handles with labels found to put in legend.\n"
     ]
    },
    {
     "data": {
      "image/png": "[encoded data removed]",
      "text/plain": [
       "<Figure size 432x288 with 1 Axes>"
      ]
     },
     "metadata": {
      "needs_background": "light"
     },
     "output_type": "display_data"
    },
    {
     "data": {
      "application/javascript": [
       "\n",
       "            setTimeout(function() {\n",
       "                var nbb_cell_id = 134;\n",
       "                var nbb_unformatted_code = \"sns.barplot(df_full[\\\"label\\\"], df_full[\\\"month\\\"], ci=None)\\nplt.xlabel(\\\"Cluster\\\")\\nplt.ylabel(\\\"Difference\\\")\\nplt.title(\\\"Month Difference\\\")\\nplt.legend(title=\\\"\\\", loc=\\\"center left\\\", bbox_to_anchor=(1.0, 0.5))\\nplt.show()\";\n",
       "                var nbb_formatted_code = \"sns.barplot(df_full[\\\"label\\\"], df_full[\\\"month\\\"], ci=None)\\nplt.xlabel(\\\"Cluster\\\")\\nplt.ylabel(\\\"Difference\\\")\\nplt.title(\\\"Month Difference\\\")\\nplt.legend(title=\\\"\\\", loc=\\\"center left\\\", bbox_to_anchor=(1.0, 0.5))\\nplt.show()\";\n",
       "                var nbb_cells = Jupyter.notebook.get_cells();\n",
       "                for (var i = 0; i < nbb_cells.length; ++i) {\n",
       "                    if (nbb_cells[i].input_prompt_number == nbb_cell_id) {\n",
       "                        if (nbb_cells[i].get_text() == nbb_unformatted_code) {\n",
       "                             nbb_cells[i].set_text(nbb_formatted_code);\n",
       "                        }\n",
       "                        break;\n",
       "                    }\n",
       "                }\n",
       "            }, 500);\n",
       "            "
      ],
      "text/plain": [
       "<IPython.core.display.Javascript object>"
      ]
     },
     "metadata": {},
     "output_type": "display_data"
    }
   ],
   "source": [
    "sns.barplot(df_full[\"label\"], df_full[\"month\"], ci=None)\n",
    "plt.xlabel(\"Cluster\")\n",
    "plt.ylabel(\"Difference\")\n",
    "plt.title(\"Month Difference\")\n",
    "plt.legend(title=\"\", loc=\"center left\", bbox_to_anchor=(1.0, 0.5))\n",
    "plt.show()"
   ]
  },
  {
   "cell_type": "code",
   "execution_count": 135,
   "metadata": {},
   "outputs": [
    {
     "name": "stderr",
     "output_type": "stream",
     "text": [
      "No handles with labels found to put in legend.\n"
     ]
    },
    {
     "data": {
      "image/png": "[encoded data removed]",
      "text/plain": [
       "<Figure size 432x288 with 1 Axes>"
      ]
     },
     "metadata": {
      "needs_background": "light"
     },
     "output_type": "display_data"
    },
    {
     "data": {
      "application/javascript": [
       "\n",
       "            setTimeout(function() {\n",
       "                var nbb_cell_id = 135;\n",
       "                var nbb_unformatted_code = \"sns.barplot(df_full[\\\"label\\\"], df_full[\\\"day\\\"], ci=None)\\nplt.xlabel(\\\"Cluster\\\")\\nplt.ylabel(\\\"Difference\\\")\\nplt.title(\\\"Day Difference\\\")\\nplt.legend(title=\\\"\\\", loc=\\\"center left\\\", bbox_to_anchor=(1.0, 0.5))\\nplt.show()\";\n",
       "                var nbb_formatted_code = \"sns.barplot(df_full[\\\"label\\\"], df_full[\\\"day\\\"], ci=None)\\nplt.xlabel(\\\"Cluster\\\")\\nplt.ylabel(\\\"Difference\\\")\\nplt.title(\\\"Day Difference\\\")\\nplt.legend(title=\\\"\\\", loc=\\\"center left\\\", bbox_to_anchor=(1.0, 0.5))\\nplt.show()\";\n",
       "                var nbb_cells = Jupyter.notebook.get_cells();\n",
       "                for (var i = 0; i < nbb_cells.length; ++i) {\n",
       "                    if (nbb_cells[i].input_prompt_number == nbb_cell_id) {\n",
       "                        if (nbb_cells[i].get_text() == nbb_unformatted_code) {\n",
       "                             nbb_cells[i].set_text(nbb_formatted_code);\n",
       "                        }\n",
       "                        break;\n",
       "                    }\n",
       "                }\n",
       "            }, 500);\n",
       "            "
      ],
      "text/plain": [
       "<IPython.core.display.Javascript object>"
      ]
     },
     "metadata": {},
     "output_type": "display_data"
    }
   ],
   "source": [
    "sns.barplot(df_full[\"label\"], df_full[\"day\"], ci=None)\n",
    "plt.xlabel(\"Cluster\")\n",
    "plt.ylabel(\"Difference\")\n",
    "plt.title(\"Day Difference\")\n",
    "plt.legend(title=\"\", loc=\"center left\", bbox_to_anchor=(1.0, 0.5))\n",
    "plt.show()"
   ]
  },
  {
   "cell_type": "markdown",
   "metadata": {},
   "source": [
    "# Well some conclusions based on the above data:"
   ]
  },
  {
   "cell_type": "markdown",
   "metadata": {},
   "source": [
    "# General: Groups 0 , and 2 seem to be similar in terms of open, close, low and high but differ on the difference in those. Ideally, it seems group 3 would be the one to day trade among all of these\n",
    "\n",
    "- Cluster 0 (293687 members):\n",
    " - most likely to be the end of the month\n",
    " - Very slow gain. Most likely very stable shares\n",
    "\n",
    "- Cluster 1 (263905 Members):\n",
    " - Very good day trade starter stocks\n",
    " - Can hold for a day and sell\n",
    " - Low stress\n",
    "- Cluster 2(249032 Members):\n",
    " - These are popular stocks that most people are trading\n",
    " - Very good for those to start trading since there's positive differences and can follow more experienced\n",
    "- Cluster 3(16230 Members):\n",
    " - These are where the most risk and money is to be made\n",
    " - Due to the volume, it is clearly underexplored by multiple people but has massive potential"
   ]
  },
  {
   "cell_type": "markdown",
   "metadata": {},
   "source": [
    "# Let's visualize these differences"
   ]
  },
  {
   "cell_type": "code",
   "execution_count": null,
   "metadata": {},
   "outputs": [],
   "source": [
    "sns.barplot()"
   ]
  },
  {
   "cell_type": "markdown",
   "metadata": {},
   "source": [
    "# Tl;Dr Conclusion and key takeouts:\n",
    "\n",
    "- Stocks in group 3 should be looked at closer for possible profit gain\n",
    "\n",
    "- Stocks in group 2 should have long term analysis to see if they are beginner friendly\n",
    "\n",
    "- "
   ]
  },
  {
   "cell_type": "code",
   "execution_count": 70,
   "metadata": {},
   "outputs": [
    {
     "data": {
      "application/javascript": [
       "\n",
       "            setTimeout(function() {\n",
       "                var nbb_cell_id = 70;\n",
       "                var nbb_unformatted_code = \"# format is open close low high volume year month day co_dif hl_dif\\nchegg = [[2725077, 2020, 5, 20, -0.59, 1.67]]\\napple = [[50980000, 2020, 5, 20, 2.48, 3.32]]\\ncars = [[289208, 2020, 5, 20, -1.88, 37.97]]\\nsearch = [[1864967, 2020, 5, 20, 20.02, 55]]\\nclust_1 = [[405100, 2016, 12, 30, -17.429931, 21.150024,]]\\ndisney = [[25700000, 2020, 5, 20, 3.49, 4.83]]\\nthinkful = k_means_4.predict(scaler.transform(chegg))\\npomme = k_means_4.predict(scaler.transform(apple))\\nauto_zone = k_means_4.predict(scaler.transform(cars))\\ngoogle = k_means_4.predict(scaler.transform(search))\\nwe_know = k_means_4.predict(scaler.transform(clust_1))\\nmouse = k_means_4.predict(scaler.transform(disney))\";\n",
       "                var nbb_formatted_code = \"# format is open close low high volume year month day co_dif hl_dif\\nchegg = [[2725077, 2020, 5, 20, -0.59, 1.67]]\\napple = [[50980000, 2020, 5, 20, 2.48, 3.32]]\\ncars = [[289208, 2020, 5, 20, -1.88, 37.97]]\\nsearch = [[1864967, 2020, 5, 20, 20.02, 55]]\\nclust_1 = [[405100, 2016, 12, 30, -17.429931, 21.150024,]]\\ndisney = [[25700000, 2020, 5, 20, 3.49, 4.83]]\\nthinkful = k_means_4.predict(scaler.transform(chegg))\\npomme = k_means_4.predict(scaler.transform(apple))\\nauto_zone = k_means_4.predict(scaler.transform(cars))\\ngoogle = k_means_4.predict(scaler.transform(search))\\nwe_know = k_means_4.predict(scaler.transform(clust_1))\\nmouse = k_means_4.predict(scaler.transform(disney))\";\n",
       "                var nbb_cells = Jupyter.notebook.get_cells();\n",
       "                for (var i = 0; i < nbb_cells.length; ++i) {\n",
       "                    if (nbb_cells[i].input_prompt_number == nbb_cell_id) {\n",
       "                        if (nbb_cells[i].get_text() == nbb_unformatted_code) {\n",
       "                             nbb_cells[i].set_text(nbb_formatted_code);\n",
       "                        }\n",
       "                        break;\n",
       "                    }\n",
       "                }\n",
       "            }, 500);\n",
       "            "
      ],
      "text/plain": [
       "<IPython.core.display.Javascript object>"
      ]
     },
     "metadata": {},
     "output_type": "display_data"
    }
   ],
   "source": [
    "# format is open close low high volume year month day co_dif hl_dif\n",
    "chegg = [[2725077, 2020, 5, 20, -0.59, 1.67]]\n",
    "apple = [[50980000, 2020, 5, 20, 2.48, 3.32]]\n",
    "cars = [[289208, 2020, 5, 20, -1.88, 37.97]]\n",
    "search = [[1864967, 2020, 5, 20, 20.02, 55]]\n",
    "clust_1 = [[405100, 2016, 12, 30, -17.429931, 21.150024,]]\n",
    "disney = [[25700000, 2020, 5, 20, 3.49, 4.83]]\n",
    "thinkful = k_means_4.predict(scaler.transform(chegg))\n",
    "pomme = k_means_4.predict(scaler.transform(apple))\n",
    "auto_zone = k_means_4.predict(scaler.transform(cars))\n",
    "google = k_means_4.predict(scaler.transform(search))\n",
    "we_know = k_means_4.predict(scaler.transform(clust_1))\n",
    "mouse = k_means_4.predict(scaler.transform(disney))"
   ]
  },
  {
   "cell_type": "code",
   "execution_count": 71,
   "metadata": {},
   "outputs": [
    {
     "name": "stdout",
     "output_type": "stream",
     "text": [
      "[1]\n"
     ]
    },
    {
     "data": {
      "application/javascript": [
       "\n",
       "            setTimeout(function() {\n",
       "                var nbb_cell_id = 71;\n",
       "                var nbb_unformatted_code = \"print(thinkful)\";\n",
       "                var nbb_formatted_code = \"print(thinkful)\";\n",
       "                var nbb_cells = Jupyter.notebook.get_cells();\n",
       "                for (var i = 0; i < nbb_cells.length; ++i) {\n",
       "                    if (nbb_cells[i].input_prompt_number == nbb_cell_id) {\n",
       "                        if (nbb_cells[i].get_text() == nbb_unformatted_code) {\n",
       "                             nbb_cells[i].set_text(nbb_formatted_code);\n",
       "                        }\n",
       "                        break;\n",
       "                    }\n",
       "                }\n",
       "            }, 500);\n",
       "            "
      ],
      "text/plain": [
       "<IPython.core.display.Javascript object>"
      ]
     },
     "metadata": {},
     "output_type": "display_data"
    }
   ],
   "source": [
    "print(thinkful)"
   ]
  },
  {
   "cell_type": "code",
   "execution_count": 72,
   "metadata": {},
   "outputs": [
    {
     "name": "stdout",
     "output_type": "stream",
     "text": [
      "[1]\n"
     ]
    },
    {
     "data": {
      "application/javascript": [
       "\n",
       "            setTimeout(function() {\n",
       "                var nbb_cell_id = 72;\n",
       "                var nbb_unformatted_code = \"print(pomme)\";\n",
       "                var nbb_formatted_code = \"print(pomme)\";\n",
       "                var nbb_cells = Jupyter.notebook.get_cells();\n",
       "                for (var i = 0; i < nbb_cells.length; ++i) {\n",
       "                    if (nbb_cells[i].input_prompt_number == nbb_cell_id) {\n",
       "                        if (nbb_cells[i].get_text() == nbb_unformatted_code) {\n",
       "                             nbb_cells[i].set_text(nbb_formatted_code);\n",
       "                        }\n",
       "                        break;\n",
       "                    }\n",
       "                }\n",
       "            }, 500);\n",
       "            "
      ],
      "text/plain": [
       "<IPython.core.display.Javascript object>"
      ]
     },
     "metadata": {},
     "output_type": "display_data"
    }
   ],
   "source": [
    "print(pomme)"
   ]
  },
  {
   "cell_type": "code",
   "execution_count": 73,
   "metadata": {},
   "outputs": [
    {
     "name": "stdout",
     "output_type": "stream",
     "text": [
      "[3]\n"
     ]
    },
    {
     "data": {
      "application/javascript": [
       "\n",
       "            setTimeout(function() {\n",
       "                var nbb_cell_id = 73;\n",
       "                var nbb_unformatted_code = \"print(auto_zone)\";\n",
       "                var nbb_formatted_code = \"print(auto_zone)\";\n",
       "                var nbb_cells = Jupyter.notebook.get_cells();\n",
       "                for (var i = 0; i < nbb_cells.length; ++i) {\n",
       "                    if (nbb_cells[i].input_prompt_number == nbb_cell_id) {\n",
       "                        if (nbb_cells[i].get_text() == nbb_unformatted_code) {\n",
       "                             nbb_cells[i].set_text(nbb_formatted_code);\n",
       "                        }\n",
       "                        break;\n",
       "                    }\n",
       "                }\n",
       "            }, 500);\n",
       "            "
      ],
      "text/plain": [
       "<IPython.core.display.Javascript object>"
      ]
     },
     "metadata": {},
     "output_type": "display_data"
    }
   ],
   "source": [
    "print(auto_zone)"
   ]
  },
  {
   "cell_type": "code",
   "execution_count": 74,
   "metadata": {},
   "outputs": [
    {
     "name": "stdout",
     "output_type": "stream",
     "text": [
      "[3]\n"
     ]
    },
    {
     "data": {
      "application/javascript": [
       "\n",
       "            setTimeout(function() {\n",
       "                var nbb_cell_id = 74;\n",
       "                var nbb_unformatted_code = \"print(google)\";\n",
       "                var nbb_formatted_code = \"print(google)\";\n",
       "                var nbb_cells = Jupyter.notebook.get_cells();\n",
       "                for (var i = 0; i < nbb_cells.length; ++i) {\n",
       "                    if (nbb_cells[i].input_prompt_number == nbb_cell_id) {\n",
       "                        if (nbb_cells[i].get_text() == nbb_unformatted_code) {\n",
       "                             nbb_cells[i].set_text(nbb_formatted_code);\n",
       "                        }\n",
       "                        break;\n",
       "                    }\n",
       "                }\n",
       "            }, 500);\n",
       "            "
      ],
      "text/plain": [
       "<IPython.core.display.Javascript object>"
      ]
     },
     "metadata": {},
     "output_type": "display_data"
    }
   ],
   "source": [
    "print(google)"
   ]
  },
  {
   "cell_type": "code",
   "execution_count": 75,
   "metadata": {},
   "outputs": [
    {
     "name": "stdout",
     "output_type": "stream",
     "text": [
      "[3]\n"
     ]
    },
    {
     "data": {
      "application/javascript": [
       "\n",
       "            setTimeout(function() {\n",
       "                var nbb_cell_id = 75;\n",
       "                var nbb_unformatted_code = \"# making sure that the predictor is working\\nprint(we_know)\";\n",
       "                var nbb_formatted_code = \"# making sure that the predictor is working\\nprint(we_know)\";\n",
       "                var nbb_cells = Jupyter.notebook.get_cells();\n",
       "                for (var i = 0; i < nbb_cells.length; ++i) {\n",
       "                    if (nbb_cells[i].input_prompt_number == nbb_cell_id) {\n",
       "                        if (nbb_cells[i].get_text() == nbb_unformatted_code) {\n",
       "                             nbb_cells[i].set_text(nbb_formatted_code);\n",
       "                        }\n",
       "                        break;\n",
       "                    }\n",
       "                }\n",
       "            }, 500);\n",
       "            "
      ],
      "text/plain": [
       "<IPython.core.display.Javascript object>"
      ]
     },
     "metadata": {},
     "output_type": "display_data"
    }
   ],
   "source": [
    "# making sure that the predictor is working\n",
    "print(we_know)"
   ]
  },
  {
   "cell_type": "code",
   "execution_count": 76,
   "metadata": {},
   "outputs": [
    {
     "name": "stdout",
     "output_type": "stream",
     "text": [
      "[1]\n"
     ]
    },
    {
     "data": {
      "application/javascript": [
       "\n",
       "            setTimeout(function() {\n",
       "                var nbb_cell_id = 76;\n",
       "                var nbb_unformatted_code = \"print(mouse)\";\n",
       "                var nbb_formatted_code = \"print(mouse)\";\n",
       "                var nbb_cells = Jupyter.notebook.get_cells();\n",
       "                for (var i = 0; i < nbb_cells.length; ++i) {\n",
       "                    if (nbb_cells[i].input_prompt_number == nbb_cell_id) {\n",
       "                        if (nbb_cells[i].get_text() == nbb_unformatted_code) {\n",
       "                             nbb_cells[i].set_text(nbb_formatted_code);\n",
       "                        }\n",
       "                        break;\n",
       "                    }\n",
       "                }\n",
       "            }, 500);\n",
       "            "
      ],
      "text/plain": [
       "<IPython.core.display.Javascript object>"
      ]
     },
     "metadata": {},
     "output_type": "display_data"
    }
   ],
   "source": [
    "print(mouse)"
   ]
  },
  {
   "cell_type": "code",
   "execution_count": null,
   "metadata": {},
   "outputs": [],
   "source": []
  }
 ],
 "metadata": {
  "kernelspec": {
   "display_name": "Python 3",
   "language": "python",
   "name": "python3"
  },
  "language_info": {
   "codemirror_mode": {
    "name": "ipython",
    "version": 3
   },
   "file_extension": ".py",
   "mimetype": "text/x-python",
   "name": "python",
   "nbconvert_exporter": "python",
   "pygments_lexer": "ipython3",
   "version": "3.7.6"
  }
 },
 "nbformat": 4,
 "nbformat_minor": 4
}
