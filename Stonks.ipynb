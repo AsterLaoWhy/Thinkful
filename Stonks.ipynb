{
 "cells": [
  {
   "cell_type": "code",
   "execution_count": 1,
   "metadata": {},
   "outputs": [
    {
     "data": {
      "application/javascript": [
       "\n",
       "            setTimeout(function() {\n",
       "                var nbb_cell_id = 1;\n",
       "                var nbb_unformatted_code = \"%load_ext nb_black\\nfrom collections import Counter\\nfrom umap import UMAP\\nimport pandas as pd\\nimport numpy as np\\nimport matplotlib.pyplot as plt\\nimport plotly.express as px\\nimport seaborn as sns\\nfrom factor_analyzer import FactorAnalyzer\\nfrom sklearn.cluster import KMeans, AgglomerativeClustering\\nfrom scipy.cluster.hierarchy import dendrogram\\nfrom scipy.spatial.distance import pdist, squareform\\nfrom sklearn.decomposition import PCA\\nfrom sklearn.preprocessing import StandardScaler\";\n",
       "                var nbb_formatted_code = \"%load_ext nb_black\\nfrom collections import Counter\\nfrom umap import UMAP\\nimport pandas as pd\\nimport numpy as np\\nimport matplotlib.pyplot as plt\\nimport plotly.express as px\\nimport seaborn as sns\\nfrom factor_analyzer import FactorAnalyzer\\nfrom sklearn.cluster import KMeans, AgglomerativeClustering\\nfrom scipy.cluster.hierarchy import dendrogram\\nfrom scipy.spatial.distance import pdist, squareform\\nfrom sklearn.decomposition import PCA\\nfrom sklearn.preprocessing import StandardScaler\";\n",
       "                var nbb_cells = Jupyter.notebook.get_cells();\n",
       "                for (var i = 0; i < nbb_cells.length; ++i) {\n",
       "                    if (nbb_cells[i].input_prompt_number == nbb_cell_id) {\n",
       "                        if (nbb_cells[i].get_text() == nbb_unformatted_code) {\n",
       "                             nbb_cells[i].set_text(nbb_formatted_code);\n",
       "                        }\n",
       "                        break;\n",
       "                    }\n",
       "                }\n",
       "            }, 500);\n",
       "            "
      ],
      "text/plain": [
       "<IPython.core.display.Javascript object>"
      ]
     },
     "metadata": {},
     "output_type": "display_data"
    }
   ],
   "source": [
    "%load_ext nb_black\n",
    "from collections import Counter\n",
    "from umap import UMAP\n",
    "import pandas as pd\n",
    "import numpy as np\n",
    "import matplotlib.pyplot as plt\n",
    "import plotly.express as px\n",
    "import seaborn as sns\n",
    "from factor_analyzer import FactorAnalyzer\n",
    "from sklearn.cluster import KMeans, AgglomerativeClustering\n",
    "from scipy.cluster.hierarchy import dendrogram\n",
    "from scipy.spatial.distance import pdist, squareform\n",
    "from sklearn.decomposition import PCA\n",
    "from sklearn.preprocessing import StandardScaler"
   ]
  },
  {
   "cell_type": "code",
   "execution_count": 2,
   "metadata": {},
   "outputs": [
    {
     "data": {
      "application/javascript": [
       "\n",
       "            setTimeout(function() {\n",
       "                var nbb_cell_id = 2;\n",
       "                var nbb_unformatted_code = \"# useful functions\\ndef pca_loadings(pca):\\n    return pca.components_.T * np.sqrt(pca.explained_variance_)\\n\\n\\ndef plot_dendrogram(model, **kwargs):\\n    \\\"\\\"\\\"\\n    A function for plotting a dendrogram. Sourced from the following link:\\n    https://github.com/scikit-learn/scikit-learn/blob/70cf4a676caa2d2dad2e3f6e4478d64bcb0506f7/examples/cluster/plot_hierarchical_clustering_dendrogram.py\\n    \\n    Parameters:\\n        model (object of class sklearn.cluster.hierarchical.AgglomerativeClustering): a fitted scikit-learn hierarchical clustering model.\\n    \\n    Output: a dendrogram based on the model based in the parameters.\\n    \\n    Returns: None   \\n    \\\"\\\"\\\"\\n    # Children of hierarchical clustering\\n    children = model.children_\\n\\n    # Distances between each pair of children\\n    # Since we don't have this information, we can use a uniform one for plotting\\n    distance = np.arange(children.shape[0])\\n\\n    # The number of observations contained in each cluster level\\n    no_of_observations = np.arange(2, children.shape[0] + 2)\\n\\n    # Create linkage matrix and then plot the dendrogram\\n    linkage_matrix = np.column_stack([children, distance, no_of_observations]).astype(\\n        float\\n    )\\n\\n    # Plot the corresponding dendrogram\\n    dendrogram(linkage_matrix, **kwargs)\\n\\n\\ndef hide_current_axis(*args, **kwds):\\n    plt.gca().set_visible(False)\";\n",
       "                var nbb_formatted_code = \"# useful functions\\ndef pca_loadings(pca):\\n    return pca.components_.T * np.sqrt(pca.explained_variance_)\\n\\n\\ndef plot_dendrogram(model, **kwargs):\\n    \\\"\\\"\\\"\\n    A function for plotting a dendrogram. Sourced from the following link:\\n    https://github.com/scikit-learn/scikit-learn/blob/70cf4a676caa2d2dad2e3f6e4478d64bcb0506f7/examples/cluster/plot_hierarchical_clustering_dendrogram.py\\n    \\n    Parameters:\\n        model (object of class sklearn.cluster.hierarchical.AgglomerativeClustering): a fitted scikit-learn hierarchical clustering model.\\n    \\n    Output: a dendrogram based on the model based in the parameters.\\n    \\n    Returns: None   \\n    \\\"\\\"\\\"\\n    # Children of hierarchical clustering\\n    children = model.children_\\n\\n    # Distances between each pair of children\\n    # Since we don't have this information, we can use a uniform one for plotting\\n    distance = np.arange(children.shape[0])\\n\\n    # The number of observations contained in each cluster level\\n    no_of_observations = np.arange(2, children.shape[0] + 2)\\n\\n    # Create linkage matrix and then plot the dendrogram\\n    linkage_matrix = np.column_stack([children, distance, no_of_observations]).astype(\\n        float\\n    )\\n\\n    # Plot the corresponding dendrogram\\n    dendrogram(linkage_matrix, **kwargs)\\n\\n\\ndef hide_current_axis(*args, **kwds):\\n    plt.gca().set_visible(False)\";\n",
       "                var nbb_cells = Jupyter.notebook.get_cells();\n",
       "                for (var i = 0; i < nbb_cells.length; ++i) {\n",
       "                    if (nbb_cells[i].input_prompt_number == nbb_cell_id) {\n",
       "                        if (nbb_cells[i].get_text() == nbb_unformatted_code) {\n",
       "                             nbb_cells[i].set_text(nbb_formatted_code);\n",
       "                        }\n",
       "                        break;\n",
       "                    }\n",
       "                }\n",
       "            }, 500);\n",
       "            "
      ],
      "text/plain": [
       "<IPython.core.display.Javascript object>"
      ]
     },
     "metadata": {},
     "output_type": "display_data"
    }
   ],
   "source": [
    "# useful functions\n",
    "def pca_loadings(pca):\n",
    "    return pca.components_.T * np.sqrt(pca.explained_variance_)\n",
    "\n",
    "\n",
    "def plot_dendrogram(model, **kwargs):\n",
    "    \"\"\"\n",
    "    A function for plotting a dendrogram. Sourced from the following link:\n",
    "    https://github.com/scikit-learn/scikit-learn/blob/70cf4a676caa2d2dad2e3f6e4478d64bcb0506f7/examples/cluster/plot_hierarchical_clustering_dendrogram.py\n",
    "    \n",
    "    Parameters:\n",
    "        model (object of class sklearn.cluster.hierarchical.AgglomerativeClustering): a fitted scikit-learn hierarchical clustering model.\n",
    "    \n",
    "    Output: a dendrogram based on the model based in the parameters.\n",
    "    \n",
    "    Returns: None   \n",
    "    \"\"\"\n",
    "    # Children of hierarchical clustering\n",
    "    children = model.children_\n",
    "\n",
    "    # Distances between each pair of children\n",
    "    # Since we don't have this information, we can use a uniform one for plotting\n",
    "    distance = np.arange(children.shape[0])\n",
    "\n",
    "    # The number of observations contained in each cluster level\n",
    "    no_of_observations = np.arange(2, children.shape[0] + 2)\n",
    "\n",
    "    # Create linkage matrix and then plot the dendrogram\n",
    "    linkage_matrix = np.column_stack([children, distance, no_of_observations]).astype(\n",
    "        float\n",
    "    )\n",
    "\n",
    "    # Plot the corresponding dendrogram\n",
    "    dendrogram(linkage_matrix, **kwargs)\n",
    "\n",
    "\n",
    "def hide_current_axis(*args, **kwds):\n",
    "    plt.gca().set_visible(False)"
   ]
  },
  {
   "cell_type": "code",
   "execution_count": 3,
   "metadata": {},
   "outputs": [
    {
     "data": {
      "text/html": [
       "<div>\n",
       "<style scoped>\n",
       "    .dataframe tbody tr th:only-of-type {\n",
       "        vertical-align: middle;\n",
       "    }\n",
       "\n",
       "    .dataframe tbody tr th {\n",
       "        vertical-align: top;\n",
       "    }\n",
       "\n",
       "    .dataframe thead th {\n",
       "        text-align: right;\n",
       "    }\n",
       "</style>\n",
       "<table border=\"1\" class=\"dataframe\">\n",
       "  <thead>\n",
       "    <tr style=\"text-align: right;\">\n",
       "      <th></th>\n",
       "      <th>date</th>\n",
       "      <th>symbol</th>\n",
       "      <th>open</th>\n",
       "      <th>close</th>\n",
       "      <th>low</th>\n",
       "      <th>high</th>\n",
       "      <th>volume</th>\n",
       "    </tr>\n",
       "  </thead>\n",
       "  <tbody>\n",
       "    <tr>\n",
       "      <th>0</th>\n",
       "      <td>2016-01-05 00:00:00</td>\n",
       "      <td>WLTW</td>\n",
       "      <td>123.430000</td>\n",
       "      <td>125.839996</td>\n",
       "      <td>122.309998</td>\n",
       "      <td>126.250000</td>\n",
       "      <td>2163600.0</td>\n",
       "    </tr>\n",
       "    <tr>\n",
       "      <th>1</th>\n",
       "      <td>2016-01-06 00:00:00</td>\n",
       "      <td>WLTW</td>\n",
       "      <td>125.239998</td>\n",
       "      <td>119.980003</td>\n",
       "      <td>119.940002</td>\n",
       "      <td>125.540001</td>\n",
       "      <td>2386400.0</td>\n",
       "    </tr>\n",
       "    <tr>\n",
       "      <th>2</th>\n",
       "      <td>2016-01-07 00:00:00</td>\n",
       "      <td>WLTW</td>\n",
       "      <td>116.379997</td>\n",
       "      <td>114.949997</td>\n",
       "      <td>114.930000</td>\n",
       "      <td>119.739998</td>\n",
       "      <td>2489500.0</td>\n",
       "    </tr>\n",
       "    <tr>\n",
       "      <th>3</th>\n",
       "      <td>2016-01-08 00:00:00</td>\n",
       "      <td>WLTW</td>\n",
       "      <td>115.480003</td>\n",
       "      <td>116.620003</td>\n",
       "      <td>113.500000</td>\n",
       "      <td>117.440002</td>\n",
       "      <td>2006300.0</td>\n",
       "    </tr>\n",
       "    <tr>\n",
       "      <th>4</th>\n",
       "      <td>2016-01-11 00:00:00</td>\n",
       "      <td>WLTW</td>\n",
       "      <td>117.010002</td>\n",
       "      <td>114.970001</td>\n",
       "      <td>114.089996</td>\n",
       "      <td>117.330002</td>\n",
       "      <td>1408600.0</td>\n",
       "    </tr>\n",
       "  </tbody>\n",
       "</table>\n",
       "</div>"
      ],
      "text/plain": [
       "                  date symbol        open       close         low        high  \\\n",
       "0  2016-01-05 00:00:00   WLTW  123.430000  125.839996  122.309998  126.250000   \n",
       "1  2016-01-06 00:00:00   WLTW  125.239998  119.980003  119.940002  125.540001   \n",
       "2  2016-01-07 00:00:00   WLTW  116.379997  114.949997  114.930000  119.739998   \n",
       "3  2016-01-08 00:00:00   WLTW  115.480003  116.620003  113.500000  117.440002   \n",
       "4  2016-01-11 00:00:00   WLTW  117.010002  114.970001  114.089996  117.330002   \n",
       "\n",
       "      volume  \n",
       "0  2163600.0  \n",
       "1  2386400.0  \n",
       "2  2489500.0  \n",
       "3  2006300.0  \n",
       "4  1408600.0  "
      ]
     },
     "execution_count": 3,
     "metadata": {},
     "output_type": "execute_result"
    },
    {
     "data": {
      "application/javascript": [
       "\n",
       "            setTimeout(function() {\n",
       "                var nbb_cell_id = 3;\n",
       "                var nbb_unformatted_code = \"df = pd.read_csv(r\\\"C:\\\\Users\\\\jonat\\\\Desktop\\\\Stocks\\\\prices.csv\\\")\\ndf.head()\";\n",
       "                var nbb_formatted_code = \"df = pd.read_csv(r\\\"C:\\\\Users\\\\jonat\\\\Desktop\\\\Stocks\\\\prices.csv\\\")\\ndf.head()\";\n",
       "                var nbb_cells = Jupyter.notebook.get_cells();\n",
       "                for (var i = 0; i < nbb_cells.length; ++i) {\n",
       "                    if (nbb_cells[i].input_prompt_number == nbb_cell_id) {\n",
       "                        if (nbb_cells[i].get_text() == nbb_unformatted_code) {\n",
       "                             nbb_cells[i].set_text(nbb_formatted_code);\n",
       "                        }\n",
       "                        break;\n",
       "                    }\n",
       "                }\n",
       "            }, 500);\n",
       "            "
      ],
      "text/plain": [
       "<IPython.core.display.Javascript object>"
      ]
     },
     "metadata": {},
     "output_type": "display_data"
    }
   ],
   "source": [
    "df = pd.read_csv(r\"C:\\Users\\jonat\\Desktop\\Stocks\\prices.csv\")\n",
    "df.head()"
   ]
  },
  {
   "cell_type": "code",
   "execution_count": 4,
   "metadata": {},
   "outputs": [
    {
     "data": {
      "application/javascript": [
       "\n",
       "            setTimeout(function() {\n",
       "                var nbb_cell_id = 4;\n",
       "                var nbb_unformatted_code = \"# That is pretty... pretty cluttered. We should prob try to group stocks\\n#px.scatter(x=\\\"date\\\", y=\\\"open\\\", color=\\\"symbol\\\", data_frame=df)\";\n",
       "                var nbb_formatted_code = \"# That is pretty... pretty cluttered. We should prob try to group stocks\\n# px.scatter(x=\\\"date\\\", y=\\\"open\\\", color=\\\"symbol\\\", data_frame=df)\";\n",
       "                var nbb_cells = Jupyter.notebook.get_cells();\n",
       "                for (var i = 0; i < nbb_cells.length; ++i) {\n",
       "                    if (nbb_cells[i].input_prompt_number == nbb_cell_id) {\n",
       "                        if (nbb_cells[i].get_text() == nbb_unformatted_code) {\n",
       "                             nbb_cells[i].set_text(nbb_formatted_code);\n",
       "                        }\n",
       "                        break;\n",
       "                    }\n",
       "                }\n",
       "            }, 500);\n",
       "            "
      ],
      "text/plain": [
       "<IPython.core.display.Javascript object>"
      ]
     },
     "metadata": {},
     "output_type": "display_data"
    }
   ],
   "source": [
    "# That is pretty... pretty cluttered. We should prob try to group stocks\n",
    "# px.scatter(x=\"date\", y=\"open\", color=\"symbol\", data_frame=df)"
   ]
  },
  {
   "cell_type": "code",
   "execution_count": 5,
   "metadata": {},
   "outputs": [
    {
     "data": {
      "application/javascript": [
       "\n",
       "            setTimeout(function() {\n",
       "                var nbb_cell_id = 5;\n",
       "                var nbb_unformatted_code = \"# Let's make date date-time and separate based on month, day, and year.\\ndf[\\\"date\\\"] = df[\\\"date\\\"].str.replace(\\\"00:00:00\\\", \\\"\\\")\\ndf[\\\"date\\\"] = pd.to_datetime(df[\\\"date\\\"])\\ndf[\\\"year\\\"] = df[\\\"date\\\"].dt.year\\ndf[\\\"month\\\"] = df[\\\"date\\\"].dt.month\\ndf[\\\"day\\\"] = df[\\\"date\\\"].dt.day\\n# now we drop date since it's kinda useless to us\\ndf = df.drop(columns=\\\"date\\\")\";\n",
       "                var nbb_formatted_code = \"# Let's make date date-time and separate based on month, day, and year.\\ndf[\\\"date\\\"] = df[\\\"date\\\"].str.replace(\\\"00:00:00\\\", \\\"\\\")\\ndf[\\\"date\\\"] = pd.to_datetime(df[\\\"date\\\"])\\ndf[\\\"year\\\"] = df[\\\"date\\\"].dt.year\\ndf[\\\"month\\\"] = df[\\\"date\\\"].dt.month\\ndf[\\\"day\\\"] = df[\\\"date\\\"].dt.day\\n# now we drop date since it's kinda useless to us\\ndf = df.drop(columns=\\\"date\\\")\";\n",
       "                var nbb_cells = Jupyter.notebook.get_cells();\n",
       "                for (var i = 0; i < nbb_cells.length; ++i) {\n",
       "                    if (nbb_cells[i].input_prompt_number == nbb_cell_id) {\n",
       "                        if (nbb_cells[i].get_text() == nbb_unformatted_code) {\n",
       "                             nbb_cells[i].set_text(nbb_formatted_code);\n",
       "                        }\n",
       "                        break;\n",
       "                    }\n",
       "                }\n",
       "            }, 500);\n",
       "            "
      ],
      "text/plain": [
       "<IPython.core.display.Javascript object>"
      ]
     },
     "metadata": {},
     "output_type": "display_data"
    }
   ],
   "source": [
    "# Let's make date date-time and separate based on month, day, and year.\n",
    "df[\"date\"] = df[\"date\"].str.replace(\"00:00:00\", \"\")\n",
    "df[\"date\"] = pd.to_datetime(df[\"date\"])\n",
    "df[\"year\"] = df[\"date\"].dt.year\n",
    "df[\"month\"] = df[\"date\"].dt.month\n",
    "df[\"day\"] = df[\"date\"].dt.day\n",
    "# now we drop date since it's kinda useless to us\n",
    "df = df.drop(columns=\"date\")"
   ]
  },
  {
   "cell_type": "code",
   "execution_count": 6,
   "metadata": {},
   "outputs": [
    {
     "data": {
      "text/html": [
       "<div>\n",
       "<style scoped>\n",
       "    .dataframe tbody tr th:only-of-type {\n",
       "        vertical-align: middle;\n",
       "    }\n",
       "\n",
       "    .dataframe tbody tr th {\n",
       "        vertical-align: top;\n",
       "    }\n",
       "\n",
       "    .dataframe thead th {\n",
       "        text-align: right;\n",
       "    }\n",
       "</style>\n",
       "<table border=\"1\" class=\"dataframe\">\n",
       "  <thead>\n",
       "    <tr style=\"text-align: right;\">\n",
       "      <th></th>\n",
       "      <th>symbol</th>\n",
       "      <th>open</th>\n",
       "      <th>close</th>\n",
       "      <th>low</th>\n",
       "      <th>high</th>\n",
       "      <th>volume</th>\n",
       "      <th>year</th>\n",
       "      <th>month</th>\n",
       "      <th>day</th>\n",
       "    </tr>\n",
       "  </thead>\n",
       "  <tbody>\n",
       "    <tr>\n",
       "      <th>0</th>\n",
       "      <td>WLTW</td>\n",
       "      <td>123.430000</td>\n",
       "      <td>125.839996</td>\n",
       "      <td>122.309998</td>\n",
       "      <td>126.250000</td>\n",
       "      <td>2163600.0</td>\n",
       "      <td>2016</td>\n",
       "      <td>1</td>\n",
       "      <td>5</td>\n",
       "    </tr>\n",
       "    <tr>\n",
       "      <th>1</th>\n",
       "      <td>WLTW</td>\n",
       "      <td>125.239998</td>\n",
       "      <td>119.980003</td>\n",
       "      <td>119.940002</td>\n",
       "      <td>125.540001</td>\n",
       "      <td>2386400.0</td>\n",
       "      <td>2016</td>\n",
       "      <td>1</td>\n",
       "      <td>6</td>\n",
       "    </tr>\n",
       "    <tr>\n",
       "      <th>2</th>\n",
       "      <td>WLTW</td>\n",
       "      <td>116.379997</td>\n",
       "      <td>114.949997</td>\n",
       "      <td>114.930000</td>\n",
       "      <td>119.739998</td>\n",
       "      <td>2489500.0</td>\n",
       "      <td>2016</td>\n",
       "      <td>1</td>\n",
       "      <td>7</td>\n",
       "    </tr>\n",
       "    <tr>\n",
       "      <th>3</th>\n",
       "      <td>WLTW</td>\n",
       "      <td>115.480003</td>\n",
       "      <td>116.620003</td>\n",
       "      <td>113.500000</td>\n",
       "      <td>117.440002</td>\n",
       "      <td>2006300.0</td>\n",
       "      <td>2016</td>\n",
       "      <td>1</td>\n",
       "      <td>8</td>\n",
       "    </tr>\n",
       "    <tr>\n",
       "      <th>4</th>\n",
       "      <td>WLTW</td>\n",
       "      <td>117.010002</td>\n",
       "      <td>114.970001</td>\n",
       "      <td>114.089996</td>\n",
       "      <td>117.330002</td>\n",
       "      <td>1408600.0</td>\n",
       "      <td>2016</td>\n",
       "      <td>1</td>\n",
       "      <td>11</td>\n",
       "    </tr>\n",
       "    <tr>\n",
       "      <th>...</th>\n",
       "      <td>...</td>\n",
       "      <td>...</td>\n",
       "      <td>...</td>\n",
       "      <td>...</td>\n",
       "      <td>...</td>\n",
       "      <td>...</td>\n",
       "      <td>...</td>\n",
       "      <td>...</td>\n",
       "      <td>...</td>\n",
       "    </tr>\n",
       "    <tr>\n",
       "      <th>851259</th>\n",
       "      <td>ZBH</td>\n",
       "      <td>103.309998</td>\n",
       "      <td>103.199997</td>\n",
       "      <td>102.849998</td>\n",
       "      <td>103.930000</td>\n",
       "      <td>973800.0</td>\n",
       "      <td>2016</td>\n",
       "      <td>12</td>\n",
       "      <td>30</td>\n",
       "    </tr>\n",
       "    <tr>\n",
       "      <th>851260</th>\n",
       "      <td>ZION</td>\n",
       "      <td>43.070000</td>\n",
       "      <td>43.040001</td>\n",
       "      <td>42.689999</td>\n",
       "      <td>43.310001</td>\n",
       "      <td>1938100.0</td>\n",
       "      <td>2016</td>\n",
       "      <td>12</td>\n",
       "      <td>30</td>\n",
       "    </tr>\n",
       "    <tr>\n",
       "      <th>851261</th>\n",
       "      <td>ZTS</td>\n",
       "      <td>53.639999</td>\n",
       "      <td>53.529999</td>\n",
       "      <td>53.270000</td>\n",
       "      <td>53.740002</td>\n",
       "      <td>1701200.0</td>\n",
       "      <td>2016</td>\n",
       "      <td>12</td>\n",
       "      <td>30</td>\n",
       "    </tr>\n",
       "    <tr>\n",
       "      <th>851262</th>\n",
       "      <td>AIV</td>\n",
       "      <td>44.730000</td>\n",
       "      <td>45.450001</td>\n",
       "      <td>44.410000</td>\n",
       "      <td>45.590000</td>\n",
       "      <td>1380900.0</td>\n",
       "      <td>2016</td>\n",
       "      <td>12</td>\n",
       "      <td>30</td>\n",
       "    </tr>\n",
       "    <tr>\n",
       "      <th>851263</th>\n",
       "      <td>FTV</td>\n",
       "      <td>54.200001</td>\n",
       "      <td>53.630001</td>\n",
       "      <td>53.389999</td>\n",
       "      <td>54.480000</td>\n",
       "      <td>705100.0</td>\n",
       "      <td>2016</td>\n",
       "      <td>12</td>\n",
       "      <td>30</td>\n",
       "    </tr>\n",
       "  </tbody>\n",
       "</table>\n",
       "<p>851264 rows × 9 columns</p>\n",
       "</div>"
      ],
      "text/plain": [
       "       symbol        open       close         low        high     volume  \\\n",
       "0        WLTW  123.430000  125.839996  122.309998  126.250000  2163600.0   \n",
       "1        WLTW  125.239998  119.980003  119.940002  125.540001  2386400.0   \n",
       "2        WLTW  116.379997  114.949997  114.930000  119.739998  2489500.0   \n",
       "3        WLTW  115.480003  116.620003  113.500000  117.440002  2006300.0   \n",
       "4        WLTW  117.010002  114.970001  114.089996  117.330002  1408600.0   \n",
       "...       ...         ...         ...         ...         ...        ...   \n",
       "851259    ZBH  103.309998  103.199997  102.849998  103.930000   973800.0   \n",
       "851260   ZION   43.070000   43.040001   42.689999   43.310001  1938100.0   \n",
       "851261    ZTS   53.639999   53.529999   53.270000   53.740002  1701200.0   \n",
       "851262    AIV   44.730000   45.450001   44.410000   45.590000  1380900.0   \n",
       "851263    FTV   54.200001   53.630001   53.389999   54.480000   705100.0   \n",
       "\n",
       "        year  month  day  \n",
       "0       2016      1    5  \n",
       "1       2016      1    6  \n",
       "2       2016      1    7  \n",
       "3       2016      1    8  \n",
       "4       2016      1   11  \n",
       "...      ...    ...  ...  \n",
       "851259  2016     12   30  \n",
       "851260  2016     12   30  \n",
       "851261  2016     12   30  \n",
       "851262  2016     12   30  \n",
       "851263  2016     12   30  \n",
       "\n",
       "[851264 rows x 9 columns]"
      ]
     },
     "execution_count": 6,
     "metadata": {},
     "output_type": "execute_result"
    },
    {
     "data": {
      "application/javascript": [
       "\n",
       "            setTimeout(function() {\n",
       "                var nbb_cell_id = 6;\n",
       "                var nbb_unformatted_code = \"df\";\n",
       "                var nbb_formatted_code = \"df\";\n",
       "                var nbb_cells = Jupyter.notebook.get_cells();\n",
       "                for (var i = 0; i < nbb_cells.length; ++i) {\n",
       "                    if (nbb_cells[i].input_prompt_number == nbb_cell_id) {\n",
       "                        if (nbb_cells[i].get_text() == nbb_unformatted_code) {\n",
       "                             nbb_cells[i].set_text(nbb_formatted_code);\n",
       "                        }\n",
       "                        break;\n",
       "                    }\n",
       "                }\n",
       "            }, 500);\n",
       "            "
      ],
      "text/plain": [
       "<IPython.core.display.Javascript object>"
      ]
     },
     "metadata": {},
     "output_type": "display_data"
    }
   ],
   "source": [
    "df"
   ]
  },
  {
   "cell_type": "code",
   "execution_count": 7,
   "metadata": {
    "scrolled": true
   },
   "outputs": [
    {
     "name": "stdout",
     "output_type": "stream",
     "text": [
      "<class 'pandas.core.frame.DataFrame'>\n",
      "RangeIndex: 851264 entries, 0 to 851263\n",
      "Data columns (total 9 columns):\n",
      " #   Column  Non-Null Count   Dtype  \n",
      "---  ------  --------------   -----  \n",
      " 0   symbol  851264 non-null  object \n",
      " 1   open    851264 non-null  float64\n",
      " 2   close   851264 non-null  float64\n",
      " 3   low     851264 non-null  float64\n",
      " 4   high    851264 non-null  float64\n",
      " 5   volume  851264 non-null  float64\n",
      " 6   year    851264 non-null  int64  \n",
      " 7   month   851264 non-null  int64  \n",
      " 8   day     851264 non-null  int64  \n",
      "dtypes: float64(5), int64(3), object(1)\n",
      "memory usage: 58.5+ MB\n"
     ]
    },
    {
     "data": {
      "application/javascript": [
       "\n",
       "            setTimeout(function() {\n",
       "                var nbb_cell_id = 7;\n",
       "                var nbb_unformatted_code = \"# I don't want the date to be an object. Datetime is easier to work with for groupings\\ndf.info()\";\n",
       "                var nbb_formatted_code = \"# I don't want the date to be an object. Datetime is easier to work with for groupings\\ndf.info()\";\n",
       "                var nbb_cells = Jupyter.notebook.get_cells();\n",
       "                for (var i = 0; i < nbb_cells.length; ++i) {\n",
       "                    if (nbb_cells[i].input_prompt_number == nbb_cell_id) {\n",
       "                        if (nbb_cells[i].get_text() == nbb_unformatted_code) {\n",
       "                             nbb_cells[i].set_text(nbb_formatted_code);\n",
       "                        }\n",
       "                        break;\n",
       "                    }\n",
       "                }\n",
       "            }, 500);\n",
       "            "
      ],
      "text/plain": [
       "<IPython.core.display.Javascript object>"
      ]
     },
     "metadata": {},
     "output_type": "display_data"
    }
   ],
   "source": [
    "# I don't want the date to be an object. Datetime is easier to work with for groupings\n",
    "df.info()"
   ]
  },
  {
   "cell_type": "code",
   "execution_count": 8,
   "metadata": {},
   "outputs": [
    {
     "data": {
      "text/plain": [
       "symbol    0.0\n",
       "open      0.0\n",
       "close     0.0\n",
       "low       0.0\n",
       "high      0.0\n",
       "volume    0.0\n",
       "year      0.0\n",
       "month     0.0\n",
       "day       0.0\n",
       "dtype: float64"
      ]
     },
     "execution_count": 8,
     "metadata": {},
     "output_type": "execute_result"
    },
    {
     "data": {
      "application/javascript": [
       "\n",
       "            setTimeout(function() {\n",
       "                var nbb_cell_id = 8;\n",
       "                var nbb_unformatted_code = \"# Are there any NA?\\ndf.isna().mean()\";\n",
       "                var nbb_formatted_code = \"# Are there any NA?\\ndf.isna().mean()\";\n",
       "                var nbb_cells = Jupyter.notebook.get_cells();\n",
       "                for (var i = 0; i < nbb_cells.length; ++i) {\n",
       "                    if (nbb_cells[i].input_prompt_number == nbb_cell_id) {\n",
       "                        if (nbb_cells[i].get_text() == nbb_unformatted_code) {\n",
       "                             nbb_cells[i].set_text(nbb_formatted_code);\n",
       "                        }\n",
       "                        break;\n",
       "                    }\n",
       "                }\n",
       "            }, 500);\n",
       "            "
      ],
      "text/plain": [
       "<IPython.core.display.Javascript object>"
      ]
     },
     "metadata": {},
     "output_type": "display_data"
    }
   ],
   "source": [
    "# Are there any NA?\n",
    "df.isna().mean()"
   ]
  },
  {
   "cell_type": "code",
   "execution_count": 9,
   "metadata": {
    "scrolled": true
   },
   "outputs": [
    {
     "data": {
      "text/plain": [
       "Counter({1762: 467,\n",
       "         1761: 1,\n",
       "         1683: 1,\n",
       "         1540: 1,\n",
       "         1008: 13,\n",
       "         987: 1,\n",
       "         896: 1,\n",
       "         894: 1,\n",
       "         892: 2,\n",
       "         853: 1,\n",
       "         786: 1,\n",
       "         504: 4,\n",
       "         385: 1,\n",
       "         378: 2,\n",
       "         304: 1,\n",
       "         284: 1,\n",
       "         251: 1,\n",
       "         126: 1})"
      ]
     },
     "execution_count": 9,
     "metadata": {},
     "output_type": "execute_result"
    },
    {
     "data": {
      "application/javascript": [
       "\n",
       "            setTimeout(function() {\n",
       "                var nbb_cell_id = 9;\n",
       "                var nbb_unformatted_code = \"low_stocks = df.symbol.value_counts()\\nCounter(low_stocks)\";\n",
       "                var nbb_formatted_code = \"low_stocks = df.symbol.value_counts()\\nCounter(low_stocks)\";\n",
       "                var nbb_cells = Jupyter.notebook.get_cells();\n",
       "                for (var i = 0; i < nbb_cells.length; ++i) {\n",
       "                    if (nbb_cells[i].input_prompt_number == nbb_cell_id) {\n",
       "                        if (nbb_cells[i].get_text() == nbb_unformatted_code) {\n",
       "                             nbb_cells[i].set_text(nbb_formatted_code);\n",
       "                        }\n",
       "                        break;\n",
       "                    }\n",
       "                }\n",
       "            }, 500);\n",
       "            "
      ],
      "text/plain": [
       "<IPython.core.display.Javascript object>"
      ]
     },
     "metadata": {},
     "output_type": "display_data"
    }
   ],
   "source": [
    "low_stocks = df.symbol.value_counts()\n",
    "Counter(low_stocks)"
   ]
  },
  {
   "cell_type": "code",
   "execution_count": 10,
   "metadata": {},
   "outputs": [
    {
     "name": "stdout",
     "output_type": "stream",
     "text": [
      "467\n"
     ]
    },
    {
     "data": {
      "application/javascript": [
       "\n",
       "            setTimeout(function() {\n",
       "                var nbb_cell_id = 10;\n",
       "                var nbb_unformatted_code = \"# I want to see how many full counts we have. Will look at full then set everything to minimum dates.\\n# For now, dropping those who don't have 1762\\ncount = 0\\nfor i in low_stocks:\\n    if i == 1762:\\n        count += 1\\n    else:\\n        count = count\\n\\nprint(count)\";\n",
       "                var nbb_formatted_code = \"# I want to see how many full counts we have. Will look at full then set everything to minimum dates.\\n# For now, dropping those who don't have 1762\\ncount = 0\\nfor i in low_stocks:\\n    if i == 1762:\\n        count += 1\\n    else:\\n        count = count\\n\\nprint(count)\";\n",
       "                var nbb_cells = Jupyter.notebook.get_cells();\n",
       "                for (var i = 0; i < nbb_cells.length; ++i) {\n",
       "                    if (nbb_cells[i].input_prompt_number == nbb_cell_id) {\n",
       "                        if (nbb_cells[i].get_text() == nbb_unformatted_code) {\n",
       "                             nbb_cells[i].set_text(nbb_formatted_code);\n",
       "                        }\n",
       "                        break;\n",
       "                    }\n",
       "                }\n",
       "            }, 500);\n",
       "            "
      ],
      "text/plain": [
       "<IPython.core.display.Javascript object>"
      ]
     },
     "metadata": {},
     "output_type": "display_data"
    }
   ],
   "source": [
    "# I want to see how many full counts we have. Will look at full then set everything to minimum dates.\n",
    "# For now, dropping those who don't have 1762\n",
    "count = 0\n",
    "for i in low_stocks:\n",
    "    if i == 1762:\n",
    "        count += 1\n",
    "    else:\n",
    "        count = count\n",
    "\n",
    "print(count)"
   ]
  },
  {
   "cell_type": "code",
   "execution_count": 11,
   "metadata": {},
   "outputs": [
    {
     "data": {
      "text/plain": [
       "0          NaN\n",
       "1          NaN\n",
       "2          NaN\n",
       "3          NaN\n",
       "4          NaN\n",
       "          ... \n",
       "851259     ZBH\n",
       "851260    ZION\n",
       "851261     NaN\n",
       "851262     AIV\n",
       "851263     NaN\n",
       "Name: symbol, Length: 851264, dtype: object"
      ]
     },
     "execution_count": 11,
     "metadata": {},
     "output_type": "execute_result"
    },
    {
     "data": {
      "application/javascript": [
       "\n",
       "            setTimeout(function() {\n",
       "                var nbb_cell_id = 11;\n",
       "                var nbb_unformatted_code = \"# keeping CHTR because it's only missing one\\nto_drop = low_stocks.tail(34)\\npls_work = to_drop.reset_index()\\ndrop = pls_work[\\\"index\\\"].values\\ndf[\\\"symbol\\\"] = df[\\\"symbol\\\"].replace(drop, \\\"NaN\\\")\\ndf[\\\"symbol\\\"]\";\n",
       "                var nbb_formatted_code = \"# keeping CHTR because it's only missing one\\nto_drop = low_stocks.tail(34)\\npls_work = to_drop.reset_index()\\ndrop = pls_work[\\\"index\\\"].values\\ndf[\\\"symbol\\\"] = df[\\\"symbol\\\"].replace(drop, \\\"NaN\\\")\\ndf[\\\"symbol\\\"]\";\n",
       "                var nbb_cells = Jupyter.notebook.get_cells();\n",
       "                for (var i = 0; i < nbb_cells.length; ++i) {\n",
       "                    if (nbb_cells[i].input_prompt_number == nbb_cell_id) {\n",
       "                        if (nbb_cells[i].get_text() == nbb_unformatted_code) {\n",
       "                             nbb_cells[i].set_text(nbb_formatted_code);\n",
       "                        }\n",
       "                        break;\n",
       "                    }\n",
       "                }\n",
       "            }, 500);\n",
       "            "
      ],
      "text/plain": [
       "<IPython.core.display.Javascript object>"
      ]
     },
     "metadata": {},
     "output_type": "display_data"
    }
   ],
   "source": [
    "# keeping CHTR because it's only missing one\n",
    "to_drop = low_stocks.tail(34)\n",
    "pls_work = to_drop.reset_index()\n",
    "drop = pls_work[\"index\"].values\n",
    "df[\"symbol\"] = df[\"symbol\"].replace(drop, \"NaN\")\n",
    "df[\"symbol\"]"
   ]
  },
  {
   "cell_type": "code",
   "execution_count": 12,
   "metadata": {
    "scrolled": false
   },
   "outputs": [
    {
     "data": {
      "text/plain": [
       "APD     1762\n",
       "D       1762\n",
       "ROP     1762\n",
       "FLS     1762\n",
       "AON     1762\n",
       "        ... \n",
       "SRCL    1762\n",
       "RTN     1762\n",
       "MSI     1762\n",
       "GRMN    1762\n",
       "LB      1762\n",
       "Name: symbol, Length: 467, dtype: int64"
      ]
     },
     "execution_count": 12,
     "metadata": {},
     "output_type": "execute_result"
    },
    {
     "data": {
      "application/javascript": [
       "\n",
       "            setTimeout(function() {\n",
       "                var nbb_cell_id = 12;\n",
       "                var nbb_unformatted_code = \"df_full = df[~df[\\\"symbol\\\"].str.contains(\\\"NaN\\\")]\\ndf_full[\\\"symbol\\\"].value_counts()\";\n",
       "                var nbb_formatted_code = \"df_full = df[~df[\\\"symbol\\\"].str.contains(\\\"NaN\\\")]\\ndf_full[\\\"symbol\\\"].value_counts()\";\n",
       "                var nbb_cells = Jupyter.notebook.get_cells();\n",
       "                for (var i = 0; i < nbb_cells.length; ++i) {\n",
       "                    if (nbb_cells[i].input_prompt_number == nbb_cell_id) {\n",
       "                        if (nbb_cells[i].get_text() == nbb_unformatted_code) {\n",
       "                             nbb_cells[i].set_text(nbb_formatted_code);\n",
       "                        }\n",
       "                        break;\n",
       "                    }\n",
       "                }\n",
       "            }, 500);\n",
       "            "
      ],
      "text/plain": [
       "<IPython.core.display.Javascript object>"
      ]
     },
     "metadata": {},
     "output_type": "display_data"
    }
   ],
   "source": [
    "df_full = df[~df[\"symbol\"].str.contains(\"NaN\")]\n",
    "df_full[\"symbol\"].value_counts()"
   ]
  },
  {
   "cell_type": "code",
   "execution_count": 13,
   "metadata": {},
   "outputs": [
    {
     "data": {
      "text/html": [
       "<div>\n",
       "<style scoped>\n",
       "    .dataframe tbody tr th:only-of-type {\n",
       "        vertical-align: middle;\n",
       "    }\n",
       "\n",
       "    .dataframe tbody tr th {\n",
       "        vertical-align: top;\n",
       "    }\n",
       "\n",
       "    .dataframe thead th {\n",
       "        text-align: right;\n",
       "    }\n",
       "</style>\n",
       "<table border=\"1\" class=\"dataframe\">\n",
       "  <thead>\n",
       "    <tr style=\"text-align: right;\">\n",
       "      <th></th>\n",
       "      <th>symbol</th>\n",
       "      <th>open</th>\n",
       "      <th>close</th>\n",
       "      <th>low</th>\n",
       "      <th>high</th>\n",
       "      <th>volume</th>\n",
       "      <th>year</th>\n",
       "      <th>month</th>\n",
       "      <th>day</th>\n",
       "    </tr>\n",
       "  </thead>\n",
       "  <tbody>\n",
       "    <tr>\n",
       "      <th>251</th>\n",
       "      <td>A</td>\n",
       "      <td>31.389999</td>\n",
       "      <td>31.300001</td>\n",
       "      <td>31.130000</td>\n",
       "      <td>31.630001</td>\n",
       "      <td>3815500.0</td>\n",
       "      <td>2010</td>\n",
       "      <td>1</td>\n",
       "      <td>4</td>\n",
       "    </tr>\n",
       "    <tr>\n",
       "      <th>252</th>\n",
       "      <td>AAL</td>\n",
       "      <td>4.840000</td>\n",
       "      <td>4.770000</td>\n",
       "      <td>4.660000</td>\n",
       "      <td>4.940000</td>\n",
       "      <td>9837300.0</td>\n",
       "      <td>2010</td>\n",
       "      <td>1</td>\n",
       "      <td>4</td>\n",
       "    </tr>\n",
       "    <tr>\n",
       "      <th>253</th>\n",
       "      <td>AAP</td>\n",
       "      <td>40.700001</td>\n",
       "      <td>40.380001</td>\n",
       "      <td>40.360001</td>\n",
       "      <td>41.040001</td>\n",
       "      <td>1701700.0</td>\n",
       "      <td>2010</td>\n",
       "      <td>1</td>\n",
       "      <td>4</td>\n",
       "    </tr>\n",
       "    <tr>\n",
       "      <th>254</th>\n",
       "      <td>AAPL</td>\n",
       "      <td>213.429998</td>\n",
       "      <td>214.009998</td>\n",
       "      <td>212.380001</td>\n",
       "      <td>214.499996</td>\n",
       "      <td>123432400.0</td>\n",
       "      <td>2010</td>\n",
       "      <td>1</td>\n",
       "      <td>4</td>\n",
       "    </tr>\n",
       "    <tr>\n",
       "      <th>255</th>\n",
       "      <td>ABC</td>\n",
       "      <td>26.290001</td>\n",
       "      <td>26.629999</td>\n",
       "      <td>26.139999</td>\n",
       "      <td>26.690001</td>\n",
       "      <td>2455900.0</td>\n",
       "      <td>2010</td>\n",
       "      <td>1</td>\n",
       "      <td>4</td>\n",
       "    </tr>\n",
       "    <tr>\n",
       "      <th>...</th>\n",
       "      <td>...</td>\n",
       "      <td>...</td>\n",
       "      <td>...</td>\n",
       "      <td>...</td>\n",
       "      <td>...</td>\n",
       "      <td>...</td>\n",
       "      <td>...</td>\n",
       "      <td>...</td>\n",
       "      <td>...</td>\n",
       "    </tr>\n",
       "    <tr>\n",
       "      <th>851257</th>\n",
       "      <td>YHOO</td>\n",
       "      <td>38.720001</td>\n",
       "      <td>38.669998</td>\n",
       "      <td>38.430000</td>\n",
       "      <td>39.000000</td>\n",
       "      <td>6431600.0</td>\n",
       "      <td>2016</td>\n",
       "      <td>12</td>\n",
       "      <td>30</td>\n",
       "    </tr>\n",
       "    <tr>\n",
       "      <th>851258</th>\n",
       "      <td>YUM</td>\n",
       "      <td>63.930000</td>\n",
       "      <td>63.330002</td>\n",
       "      <td>63.160000</td>\n",
       "      <td>63.939999</td>\n",
       "      <td>1887100.0</td>\n",
       "      <td>2016</td>\n",
       "      <td>12</td>\n",
       "      <td>30</td>\n",
       "    </tr>\n",
       "    <tr>\n",
       "      <th>851259</th>\n",
       "      <td>ZBH</td>\n",
       "      <td>103.309998</td>\n",
       "      <td>103.199997</td>\n",
       "      <td>102.849998</td>\n",
       "      <td>103.930000</td>\n",
       "      <td>973800.0</td>\n",
       "      <td>2016</td>\n",
       "      <td>12</td>\n",
       "      <td>30</td>\n",
       "    </tr>\n",
       "    <tr>\n",
       "      <th>851260</th>\n",
       "      <td>ZION</td>\n",
       "      <td>43.070000</td>\n",
       "      <td>43.040001</td>\n",
       "      <td>42.689999</td>\n",
       "      <td>43.310001</td>\n",
       "      <td>1938100.0</td>\n",
       "      <td>2016</td>\n",
       "      <td>12</td>\n",
       "      <td>30</td>\n",
       "    </tr>\n",
       "    <tr>\n",
       "      <th>851262</th>\n",
       "      <td>AIV</td>\n",
       "      <td>44.730000</td>\n",
       "      <td>45.450001</td>\n",
       "      <td>44.410000</td>\n",
       "      <td>45.590000</td>\n",
       "      <td>1380900.0</td>\n",
       "      <td>2016</td>\n",
       "      <td>12</td>\n",
       "      <td>30</td>\n",
       "    </tr>\n",
       "  </tbody>\n",
       "</table>\n",
       "<p>822854 rows × 9 columns</p>\n",
       "</div>"
      ],
      "text/plain": [
       "       symbol        open       close         low        high       volume  \\\n",
       "251         A   31.389999   31.300001   31.130000   31.630001    3815500.0   \n",
       "252       AAL    4.840000    4.770000    4.660000    4.940000    9837300.0   \n",
       "253       AAP   40.700001   40.380001   40.360001   41.040001    1701700.0   \n",
       "254      AAPL  213.429998  214.009998  212.380001  214.499996  123432400.0   \n",
       "255       ABC   26.290001   26.629999   26.139999   26.690001    2455900.0   \n",
       "...       ...         ...         ...         ...         ...          ...   \n",
       "851257   YHOO   38.720001   38.669998   38.430000   39.000000    6431600.0   \n",
       "851258    YUM   63.930000   63.330002   63.160000   63.939999    1887100.0   \n",
       "851259    ZBH  103.309998  103.199997  102.849998  103.930000     973800.0   \n",
       "851260   ZION   43.070000   43.040001   42.689999   43.310001    1938100.0   \n",
       "851262    AIV   44.730000   45.450001   44.410000   45.590000    1380900.0   \n",
       "\n",
       "        year  month  day  \n",
       "251     2010      1    4  \n",
       "252     2010      1    4  \n",
       "253     2010      1    4  \n",
       "254     2010      1    4  \n",
       "255     2010      1    4  \n",
       "...      ...    ...  ...  \n",
       "851257  2016     12   30  \n",
       "851258  2016     12   30  \n",
       "851259  2016     12   30  \n",
       "851260  2016     12   30  \n",
       "851262  2016     12   30  \n",
       "\n",
       "[822854 rows x 9 columns]"
      ]
     },
     "execution_count": 13,
     "metadata": {},
     "output_type": "execute_result"
    },
    {
     "data": {
      "application/javascript": [
       "\n",
       "            setTimeout(function() {\n",
       "                var nbb_cell_id = 13;\n",
       "                var nbb_unformatted_code = \"df_full\";\n",
       "                var nbb_formatted_code = \"df_full\";\n",
       "                var nbb_cells = Jupyter.notebook.get_cells();\n",
       "                for (var i = 0; i < nbb_cells.length; ++i) {\n",
       "                    if (nbb_cells[i].input_prompt_number == nbb_cell_id) {\n",
       "                        if (nbb_cells[i].get_text() == nbb_unformatted_code) {\n",
       "                             nbb_cells[i].set_text(nbb_formatted_code);\n",
       "                        }\n",
       "                        break;\n",
       "                    }\n",
       "                }\n",
       "            }, 500);\n",
       "            "
      ],
      "text/plain": [
       "<IPython.core.display.Javascript object>"
      ]
     },
     "metadata": {},
     "output_type": "display_data"
    }
   ],
   "source": [
    "df_full"
   ]
  },
  {
   "cell_type": "code",
   "execution_count": 15,
   "metadata": {},
   "outputs": [
    {
     "data": {
      "text/plain": [
       "Index(['symbol', 'open', 'close', 'low', 'high', 'volume', 'year', 'month',\n",
       "       'day'],\n",
       "      dtype='object')"
      ]
     },
     "execution_count": 15,
     "metadata": {},
     "output_type": "execute_result"
    },
    {
     "data": {
      "application/javascript": [
       "\n",
       "            setTimeout(function() {\n",
       "                var nbb_cell_id = 15;\n",
       "                var nbb_unformatted_code = \"df_full.columns\";\n",
       "                var nbb_formatted_code = \"df_full.columns\";\n",
       "                var nbb_cells = Jupyter.notebook.get_cells();\n",
       "                for (var i = 0; i < nbb_cells.length; ++i) {\n",
       "                    if (nbb_cells[i].input_prompt_number == nbb_cell_id) {\n",
       "                        if (nbb_cells[i].get_text() == nbb_unformatted_code) {\n",
       "                             nbb_cells[i].set_text(nbb_formatted_code);\n",
       "                        }\n",
       "                        break;\n",
       "                    }\n",
       "                }\n",
       "            }, 500);\n",
       "            "
      ],
      "text/plain": [
       "<IPython.core.display.Javascript object>"
      ]
     },
     "metadata": {},
     "output_type": "display_data"
    }
   ],
   "source": [
    "df_full.columns"
   ]
  },
  {
   "cell_type": "code",
   "execution_count": 16,
   "metadata": {},
   "outputs": [
    {
     "data": {
      "application/javascript": [
       "\n",
       "            setTimeout(function() {\n",
       "                var nbb_cell_id = 16;\n",
       "                var nbb_unformatted_code = \"# df_full[\\\"label\\\"] = number[\\\"label\\\"]\\n# px.scatter(x=\\\"date\\\", y=\\\"open\\\", color=\\\"label\\\", data_frame=df_full)\";\n",
       "                var nbb_formatted_code = \"# df_full[\\\"label\\\"] = number[\\\"label\\\"]\\n# px.scatter(x=\\\"date\\\", y=\\\"open\\\", color=\\\"label\\\", data_frame=df_full)\";\n",
       "                var nbb_cells = Jupyter.notebook.get_cells();\n",
       "                for (var i = 0; i < nbb_cells.length; ++i) {\n",
       "                    if (nbb_cells[i].input_prompt_number == nbb_cell_id) {\n",
       "                        if (nbb_cells[i].get_text() == nbb_unformatted_code) {\n",
       "                             nbb_cells[i].set_text(nbb_formatted_code);\n",
       "                        }\n",
       "                        break;\n",
       "                    }\n",
       "                }\n",
       "            }, 500);\n",
       "            "
      ],
      "text/plain": [
       "<IPython.core.display.Javascript object>"
      ]
     },
     "metadata": {},
     "output_type": "display_data"
    }
   ],
   "source": [
    "# df_full[\"label\"] = number[\"label\"]\n",
    "# px.scatter(x=\"date\", y=\"open\", color=\"label\", data_frame=df_full)"
   ]
  },
  {
   "cell_type": "code",
   "execution_count": 17,
   "metadata": {
    "scrolled": true
   },
   "outputs": [
    {
     "name": "stderr",
     "output_type": "stream",
     "text": [
      "C:\\Users\\jonat\\anaconda3\\lib\\site-packages\\ipykernel_launcher.py:1: SettingWithCopyWarning: \n",
      "A value is trying to be set on a copy of a slice from a DataFrame.\n",
      "Try using .loc[row_indexer,col_indexer] = value instead\n",
      "\n",
      "See the caveats in the documentation: https://pandas.pydata.org/pandas-docs/stable/user_guide/indexing.html#returning-a-view-versus-a-copy\n",
      "  \"\"\"Entry point for launching an IPython kernel.\n",
      "C:\\Users\\jonat\\anaconda3\\lib\\site-packages\\ipykernel_launcher.py:2: SettingWithCopyWarning: \n",
      "A value is trying to be set on a copy of a slice from a DataFrame.\n",
      "Try using .loc[row_indexer,col_indexer] = value instead\n",
      "\n",
      "See the caveats in the documentation: https://pandas.pydata.org/pandas-docs/stable/user_guide/indexing.html#returning-a-view-versus-a-copy\n",
      "  \n"
     ]
    },
    {
     "data": {
      "application/javascript": [
       "\n",
       "            setTimeout(function() {\n",
       "                var nbb_cell_id = 17;\n",
       "                var nbb_unformatted_code = \"df_full[\\\"co_dif\\\"] = df_full[\\\"close\\\"] - df_full[\\\"open\\\"]\\ndf_full[\\\"hl_dif\\\"] = df_full[\\\"high\\\"] - df_full[\\\"low\\\"]\\ndf_full = df_full.reset_index().drop(columns=\\\"index\\\")\\n# df_full\";\n",
       "                var nbb_formatted_code = \"df_full[\\\"co_dif\\\"] = df_full[\\\"close\\\"] - df_full[\\\"open\\\"]\\ndf_full[\\\"hl_dif\\\"] = df_full[\\\"high\\\"] - df_full[\\\"low\\\"]\\ndf_full = df_full.reset_index().drop(columns=\\\"index\\\")\\n# df_full\";\n",
       "                var nbb_cells = Jupyter.notebook.get_cells();\n",
       "                for (var i = 0; i < nbb_cells.length; ++i) {\n",
       "                    if (nbb_cells[i].input_prompt_number == nbb_cell_id) {\n",
       "                        if (nbb_cells[i].get_text() == nbb_unformatted_code) {\n",
       "                             nbb_cells[i].set_text(nbb_formatted_code);\n",
       "                        }\n",
       "                        break;\n",
       "                    }\n",
       "                }\n",
       "            }, 500);\n",
       "            "
      ],
      "text/plain": [
       "<IPython.core.display.Javascript object>"
      ]
     },
     "metadata": {},
     "output_type": "display_data"
    }
   ],
   "source": [
    "df_full[\"co_dif\"] = df_full[\"close\"] - df_full[\"open\"]\n",
    "df_full[\"hl_dif\"] = df_full[\"high\"] - df_full[\"low\"]\n",
    "df_full = df_full.reset_index().drop(columns=\"index\")\n",
    "# df_full"
   ]
  },
  {
   "cell_type": "code",
   "execution_count": 18,
   "metadata": {},
   "outputs": [
    {
     "data": {
      "application/javascript": [
       "\n",
       "            setTimeout(function() {\n",
       "                var nbb_cell_id = 18;\n",
       "                var nbb_unformatted_code = \"# There's decent relation between open, close, low, and high. Not too big of a shock\\nnumber = df_full.drop(columns=\\\"symbol\\\")\\n# sns.pairplot(number)\";\n",
       "                var nbb_formatted_code = \"# There's decent relation between open, close, low, and high. Not too big of a shock\\nnumber = df_full.drop(columns=\\\"symbol\\\")\\n# sns.pairplot(number)\";\n",
       "                var nbb_cells = Jupyter.notebook.get_cells();\n",
       "                for (var i = 0; i < nbb_cells.length; ++i) {\n",
       "                    if (nbb_cells[i].input_prompt_number == nbb_cell_id) {\n",
       "                        if (nbb_cells[i].get_text() == nbb_unformatted_code) {\n",
       "                             nbb_cells[i].set_text(nbb_formatted_code);\n",
       "                        }\n",
       "                        break;\n",
       "                    }\n",
       "                }\n",
       "            }, 500);\n",
       "            "
      ],
      "text/plain": [
       "<IPython.core.display.Javascript object>"
      ]
     },
     "metadata": {},
     "output_type": "display_data"
    }
   ],
   "source": [
    "# There's decent relation between open, close, low, and high. Not too big of a shock\n",
    "number = df_full.drop(columns=\"symbol\")\n",
    "# sns.pairplot(number)"
   ]
  },
  {
   "cell_type": "code",
   "execution_count": 19,
   "metadata": {},
   "outputs": [
    {
     "data": {
      "application/javascript": [
       "\n",
       "            setTimeout(function() {\n",
       "                var nbb_cell_id = 19;\n",
       "                var nbb_unformatted_code = \"# number\";\n",
       "                var nbb_formatted_code = \"# number\";\n",
       "                var nbb_cells = Jupyter.notebook.get_cells();\n",
       "                for (var i = 0; i < nbb_cells.length; ++i) {\n",
       "                    if (nbb_cells[i].input_prompt_number == nbb_cell_id) {\n",
       "                        if (nbb_cells[i].get_text() == nbb_unformatted_code) {\n",
       "                             nbb_cells[i].set_text(nbb_formatted_code);\n",
       "                        }\n",
       "                        break;\n",
       "                    }\n",
       "                }\n",
       "            }, 500);\n",
       "            "
      ],
      "text/plain": [
       "<IPython.core.display.Javascript object>"
      ]
     },
     "metadata": {},
     "output_type": "display_data"
    }
   ],
   "source": [
    "# number"
   ]
  },
  {
   "cell_type": "markdown",
   "metadata": {},
   "source": [
    "# We should probably get some more features based on amount change and change per day. These could be valuable to traders. If a stock consistantly has a big high low split, it'd be a good stock to day-trade/scalp. If the open is usually bigger than close, it'd be a good stock to hold longterm, etc."
   ]
  },
  {
   "cell_type": "code",
   "execution_count": 20,
   "metadata": {},
   "outputs": [
    {
     "data": {
      "application/javascript": [
       "\n",
       "            setTimeout(function() {\n",
       "                var nbb_cell_id = 20;\n",
       "                var nbb_unformatted_code = \"scaler = StandardScaler()\\nscaled = scaler.fit_transform(number)\\nk_means = KMeans(n_clusters=6, random_state=69)\\nk_means.fit(scaled)\\ny_pred = k_means.predict(scaled)\";\n",
       "                var nbb_formatted_code = \"scaler = StandardScaler()\\nscaled = scaler.fit_transform(number)\\nk_means = KMeans(n_clusters=6, random_state=69)\\nk_means.fit(scaled)\\ny_pred = k_means.predict(scaled)\";\n",
       "                var nbb_cells = Jupyter.notebook.get_cells();\n",
       "                for (var i = 0; i < nbb_cells.length; ++i) {\n",
       "                    if (nbb_cells[i].input_prompt_number == nbb_cell_id) {\n",
       "                        if (nbb_cells[i].get_text() == nbb_unformatted_code) {\n",
       "                             nbb_cells[i].set_text(nbb_formatted_code);\n",
       "                        }\n",
       "                        break;\n",
       "                    }\n",
       "                }\n",
       "            }, 500);\n",
       "            "
      ],
      "text/plain": [
       "<IPython.core.display.Javascript object>"
      ]
     },
     "metadata": {},
     "output_type": "display_data"
    }
   ],
   "source": [
    "scaler = StandardScaler()\n",
    "scaled = scaler.fit_transform(number)\n",
    "k_means = KMeans(n_clusters=6, random_state=69)\n",
    "k_means.fit(scaled)\n",
    "y_pred = k_means.predict(scaled)"
   ]
  },
  {
   "cell_type": "code",
   "execution_count": 21,
   "metadata": {},
   "outputs": [
    {
     "data": {
      "text/html": [
       "<div>\n",
       "<style scoped>\n",
       "    .dataframe tbody tr th:only-of-type {\n",
       "        vertical-align: middle;\n",
       "    }\n",
       "\n",
       "    .dataframe tbody tr th {\n",
       "        vertical-align: top;\n",
       "    }\n",
       "\n",
       "    .dataframe thead th {\n",
       "        text-align: right;\n",
       "    }\n",
       "</style>\n",
       "<table border=\"1\" class=\"dataframe\">\n",
       "  <thead>\n",
       "    <tr style=\"text-align: right;\">\n",
       "      <th></th>\n",
       "      <th>open</th>\n",
       "      <th>close</th>\n",
       "      <th>low</th>\n",
       "      <th>high</th>\n",
       "      <th>volume</th>\n",
       "      <th>year</th>\n",
       "      <th>month</th>\n",
       "      <th>day</th>\n",
       "      <th>co_dif</th>\n",
       "      <th>hl_dif</th>\n",
       "    </tr>\n",
       "  </thead>\n",
       "  <tbody>\n",
       "    <tr>\n",
       "      <th>0</th>\n",
       "      <td>47.343245</td>\n",
       "      <td>47.364891</td>\n",
       "      <td>46.848297</td>\n",
       "      <td>47.838414</td>\n",
       "      <td>5.152452e+06</td>\n",
       "      <td>2011.618664</td>\n",
       "      <td>9.673676</td>\n",
       "      <td>15.790210</td>\n",
       "      <td>0.021646</td>\n",
       "      <td>0.990117</td>\n",
       "    </tr>\n",
       "    <tr>\n",
       "      <th>1</th>\n",
       "      <td>668.249481</td>\n",
       "      <td>668.119931</td>\n",
       "      <td>661.466763</td>\n",
       "      <td>674.545982</td>\n",
       "      <td>7.626819e+06</td>\n",
       "      <td>2013.678208</td>\n",
       "      <td>6.592173</td>\n",
       "      <td>15.732347</td>\n",
       "      <td>-0.129550</td>\n",
       "      <td>13.079219</td>\n",
       "    </tr>\n",
       "    <tr>\n",
       "      <th>2</th>\n",
       "      <td>47.091435</td>\n",
       "      <td>47.113269</td>\n",
       "      <td>46.613983</td>\n",
       "      <td>47.565536</td>\n",
       "      <td>5.504463e+06</td>\n",
       "      <td>2011.687505</td>\n",
       "      <td>3.335649</td>\n",
       "      <td>15.517443</td>\n",
       "      <td>0.021833</td>\n",
       "      <td>0.951553</td>\n",
       "    </tr>\n",
       "    <tr>\n",
       "      <th>3</th>\n",
       "      <td>57.129551</td>\n",
       "      <td>57.072445</td>\n",
       "      <td>56.228476</td>\n",
       "      <td>57.897231</td>\n",
       "      <td>1.177909e+08</td>\n",
       "      <td>2011.956101</td>\n",
       "      <td>6.237213</td>\n",
       "      <td>15.835481</td>\n",
       "      <td>-0.057106</td>\n",
       "      <td>1.668756</td>\n",
       "    </tr>\n",
       "    <tr>\n",
       "      <th>4</th>\n",
       "      <td>66.437910</td>\n",
       "      <td>66.454266</td>\n",
       "      <td>65.829629</td>\n",
       "      <td>67.038986</td>\n",
       "      <td>4.070163e+06</td>\n",
       "      <td>2015.030012</td>\n",
       "      <td>6.622313</td>\n",
       "      <td>15.793045</td>\n",
       "      <td>0.016357</td>\n",
       "      <td>1.209357</td>\n",
       "    </tr>\n",
       "    <tr>\n",
       "      <th>5</th>\n",
       "      <td>196.773724</td>\n",
       "      <td>196.836492</td>\n",
       "      <td>194.586390</td>\n",
       "      <td>198.931015</td>\n",
       "      <td>2.599974e+06</td>\n",
       "      <td>2013.978857</td>\n",
       "      <td>6.749978</td>\n",
       "      <td>15.667754</td>\n",
       "      <td>0.062769</td>\n",
       "      <td>4.344625</td>\n",
       "    </tr>\n",
       "  </tbody>\n",
       "</table>\n",
       "</div>"
      ],
      "text/plain": [
       "         open       close         low        high        volume         year  \\\n",
       "0   47.343245   47.364891   46.848297   47.838414  5.152452e+06  2011.618664   \n",
       "1  668.249481  668.119931  661.466763  674.545982  7.626819e+06  2013.678208   \n",
       "2   47.091435   47.113269   46.613983   47.565536  5.504463e+06  2011.687505   \n",
       "3   57.129551   57.072445   56.228476   57.897231  1.177909e+08  2011.956101   \n",
       "4   66.437910   66.454266   65.829629   67.038986  4.070163e+06  2015.030012   \n",
       "5  196.773724  196.836492  194.586390  198.931015  2.599974e+06  2013.978857   \n",
       "\n",
       "      month        day    co_dif     hl_dif  \n",
       "0  9.673676  15.790210  0.021646   0.990117  \n",
       "1  6.592173  15.732347 -0.129550  13.079219  \n",
       "2  3.335649  15.517443  0.021833   0.951553  \n",
       "3  6.237213  15.835481 -0.057106   1.668756  \n",
       "4  6.622313  15.793045  0.016357   1.209357  \n",
       "5  6.749978  15.667754  0.062769   4.344625  "
      ]
     },
     "execution_count": 21,
     "metadata": {},
     "output_type": "execute_result"
    },
    {
     "data": {
      "application/javascript": [
       "\n",
       "            setTimeout(function() {\n",
       "                var nbb_cell_id = 21;\n",
       "                var nbb_unformatted_code = \"columns = number.columns\\ncentroids = scaler.inverse_transform(k_means.cluster_centers_)\\ncentroids_df = pd.DataFrame(centroids, columns=number.columns)\\ncentroids_df\";\n",
       "                var nbb_formatted_code = \"columns = number.columns\\ncentroids = scaler.inverse_transform(k_means.cluster_centers_)\\ncentroids_df = pd.DataFrame(centroids, columns=number.columns)\\ncentroids_df\";\n",
       "                var nbb_cells = Jupyter.notebook.get_cells();\n",
       "                for (var i = 0; i < nbb_cells.length; ++i) {\n",
       "                    if (nbb_cells[i].input_prompt_number == nbb_cell_id) {\n",
       "                        if (nbb_cells[i].get_text() == nbb_unformatted_code) {\n",
       "                             nbb_cells[i].set_text(nbb_formatted_code);\n",
       "                        }\n",
       "                        break;\n",
       "                    }\n",
       "                }\n",
       "            }, 500);\n",
       "            "
      ],
      "text/plain": [
       "<IPython.core.display.Javascript object>"
      ]
     },
     "metadata": {},
     "output_type": "display_data"
    }
   ],
   "source": [
    "columns = number.columns\n",
    "centroids = scaler.inverse_transform(k_means.cluster_centers_)\n",
    "centroids_df = pd.DataFrame(centroids, columns=number.columns)\n",
    "centroids_df"
   ]
  },
  {
   "cell_type": "code",
   "execution_count": 22,
   "metadata": {},
   "outputs": [
    {
     "data": {
      "application/javascript": [
       "\n",
       "            setTimeout(function() {\n",
       "                var nbb_cell_id = 22;\n",
       "                var nbb_unformatted_code = \"number[\\\"label\\\"] = k_means.labels_\\n# sns.pairplot(number, hue=\\\"label\\\")\\n# plt.show()\";\n",
       "                var nbb_formatted_code = \"number[\\\"label\\\"] = k_means.labels_\\n# sns.pairplot(number, hue=\\\"label\\\")\\n# plt.show()\";\n",
       "                var nbb_cells = Jupyter.notebook.get_cells();\n",
       "                for (var i = 0; i < nbb_cells.length; ++i) {\n",
       "                    if (nbb_cells[i].input_prompt_number == nbb_cell_id) {\n",
       "                        if (nbb_cells[i].get_text() == nbb_unformatted_code) {\n",
       "                             nbb_cells[i].set_text(nbb_formatted_code);\n",
       "                        }\n",
       "                        break;\n",
       "                    }\n",
       "                }\n",
       "            }, 500);\n",
       "            "
      ],
      "text/plain": [
       "<IPython.core.display.Javascript object>"
      ]
     },
     "metadata": {},
     "output_type": "display_data"
    }
   ],
   "source": [
    "number[\"label\"] = k_means.labels_\n",
    "# sns.pairplot(number, hue=\"label\")\n",
    "# plt.show()"
   ]
  },
  {
   "cell_type": "code",
   "execution_count": 23,
   "metadata": {},
   "outputs": [
    {
     "data": {
      "application/javascript": [
       "\n",
       "            setTimeout(function() {\n",
       "                var nbb_cell_id = 23;\n",
       "                var nbb_unformatted_code = \"k_means_4 = KMeans(n_clusters=4, random_state=69)\\nk_means_4.fit(scaled)\\ny_pred = k_means_4.predict(scaled)\\ncentroids_4 = scaler.inverse_transform(k_means_4.cluster_centers_)\\nnumber[\\\"label4\\\"] = k_means_4.labels_\";\n",
       "                var nbb_formatted_code = \"k_means_4 = KMeans(n_clusters=4, random_state=69)\\nk_means_4.fit(scaled)\\ny_pred = k_means_4.predict(scaled)\\ncentroids_4 = scaler.inverse_transform(k_means_4.cluster_centers_)\\nnumber[\\\"label4\\\"] = k_means_4.labels_\";\n",
       "                var nbb_cells = Jupyter.notebook.get_cells();\n",
       "                for (var i = 0; i < nbb_cells.length; ++i) {\n",
       "                    if (nbb_cells[i].input_prompt_number == nbb_cell_id) {\n",
       "                        if (nbb_cells[i].get_text() == nbb_unformatted_code) {\n",
       "                             nbb_cells[i].set_text(nbb_formatted_code);\n",
       "                        }\n",
       "                        break;\n",
       "                    }\n",
       "                }\n",
       "            }, 500);\n",
       "            "
      ],
      "text/plain": [
       "<IPython.core.display.Javascript object>"
      ]
     },
     "metadata": {},
     "output_type": "display_data"
    }
   ],
   "source": [
    "k_means_4 = KMeans(n_clusters=4, random_state=69)\n",
    "k_means_4.fit(scaled)\n",
    "y_pred = k_means_4.predict(scaled)\n",
    "centroids_4 = scaler.inverse_transform(k_means_4.cluster_centers_)\n",
    "number[\"label4\"] = k_means_4.labels_"
   ]
  },
  {
   "cell_type": "code",
   "execution_count": 24,
   "metadata": {},
   "outputs": [
    {
     "data": {
      "text/plain": [
       "Index(['open', 'close', 'low', 'high', 'volume', 'year', 'month', 'day',\n",
       "       'co_dif', 'hl_dif', 'label4'],\n",
       "      dtype='object')"
      ]
     },
     "execution_count": 24,
     "metadata": {},
     "output_type": "execute_result"
    },
    {
     "data": {
      "application/javascript": [
       "\n",
       "            setTimeout(function() {\n",
       "                var nbb_cell_id = 24;\n",
       "                var nbb_unformatted_code = \"# # Now let's look at 4 to see if those two need to be in there\\nnumber4 = number.drop(columns=\\\"label\\\")\\nnumber4.columns\\n# sns.pairplot(number4, hue=\\\"label4\\\").map_upper(hide_current_axis)\\n# plt.show()\";\n",
       "                var nbb_formatted_code = \"# # Now let's look at 4 to see if those two need to be in there\\nnumber4 = number.drop(columns=\\\"label\\\")\\nnumber4.columns\\n# sns.pairplot(number4, hue=\\\"label4\\\").map_upper(hide_current_axis)\\n# plt.show()\";\n",
       "                var nbb_cells = Jupyter.notebook.get_cells();\n",
       "                for (var i = 0; i < nbb_cells.length; ++i) {\n",
       "                    if (nbb_cells[i].input_prompt_number == nbb_cell_id) {\n",
       "                        if (nbb_cells[i].get_text() == nbb_unformatted_code) {\n",
       "                             nbb_cells[i].set_text(nbb_formatted_code);\n",
       "                        }\n",
       "                        break;\n",
       "                    }\n",
       "                }\n",
       "            }, 500);\n",
       "            "
      ],
      "text/plain": [
       "<IPython.core.display.Javascript object>"
      ]
     },
     "metadata": {},
     "output_type": "display_data"
    }
   ],
   "source": [
    "# # Now let's look at 4 to see if those two need to be in there\n",
    "number4 = number.drop(columns=\"label\")\n",
    "number4.columns\n",
    "# sns.pairplot(number4, hue=\"label4\").map_upper(hide_current_axis)\n",
    "# plt.show()"
   ]
  },
  {
   "cell_type": "code",
   "execution_count": 25,
   "metadata": {},
   "outputs": [
    {
     "data": {
      "text/html": [
       "<div>\n",
       "<style scoped>\n",
       "    .dataframe tbody tr th:only-of-type {\n",
       "        vertical-align: middle;\n",
       "    }\n",
       "\n",
       "    .dataframe tbody tr th {\n",
       "        vertical-align: top;\n",
       "    }\n",
       "\n",
       "    .dataframe thead th {\n",
       "        text-align: right;\n",
       "    }\n",
       "</style>\n",
       "<table border=\"1\" class=\"dataframe\">\n",
       "  <thead>\n",
       "    <tr style=\"text-align: right;\">\n",
       "      <th></th>\n",
       "      <th>open</th>\n",
       "      <th>close</th>\n",
       "      <th>low</th>\n",
       "      <th>high</th>\n",
       "      <th>volume</th>\n",
       "      <th>year</th>\n",
       "      <th>month</th>\n",
       "      <th>day</th>\n",
       "      <th>co_dif</th>\n",
       "      <th>hl_dif</th>\n",
       "      <th>label</th>\n",
       "      <th>label4</th>\n",
       "    </tr>\n",
       "  </thead>\n",
       "  <tbody>\n",
       "    <tr>\n",
       "      <th>356109</th>\n",
       "      <td>22.440001</td>\n",
       "      <td>22.360001</td>\n",
       "      <td>22.180000</td>\n",
       "      <td>22.719999</td>\n",
       "      <td>1201400.0</td>\n",
       "      <td>2013</td>\n",
       "      <td>1</td>\n",
       "      <td>14</td>\n",
       "      <td>-0.080000</td>\n",
       "      <td>0.539999</td>\n",
       "      <td>2</td>\n",
       "      <td>1</td>\n",
       "    </tr>\n",
       "    <tr>\n",
       "      <th>801647</th>\n",
       "      <td>60.529999</td>\n",
       "      <td>60.549999</td>\n",
       "      <td>60.110001</td>\n",
       "      <td>60.759998</td>\n",
       "      <td>1552000.0</td>\n",
       "      <td>2016</td>\n",
       "      <td>10</td>\n",
       "      <td>26</td>\n",
       "      <td>0.020000</td>\n",
       "      <td>0.649997</td>\n",
       "      <td>4</td>\n",
       "      <td>0</td>\n",
       "    </tr>\n",
       "    <tr>\n",
       "      <th>600505</th>\n",
       "      <td>40.709999</td>\n",
       "      <td>40.230000</td>\n",
       "      <td>40.049999</td>\n",
       "      <td>40.880001</td>\n",
       "      <td>2928400.0</td>\n",
       "      <td>2015</td>\n",
       "      <td>2</td>\n",
       "      <td>11</td>\n",
       "      <td>-0.479999</td>\n",
       "      <td>0.830002</td>\n",
       "      <td>4</td>\n",
       "      <td>0</td>\n",
       "    </tr>\n",
       "    <tr>\n",
       "      <th>506341</th>\n",
       "      <td>132.529999</td>\n",
       "      <td>128.699997</td>\n",
       "      <td>128.020004</td>\n",
       "      <td>133.080002</td>\n",
       "      <td>1224500.0</td>\n",
       "      <td>2014</td>\n",
       "      <td>4</td>\n",
       "      <td>25</td>\n",
       "      <td>-3.830002</td>\n",
       "      <td>5.059998</td>\n",
       "      <td>5</td>\n",
       "      <td>3</td>\n",
       "    </tr>\n",
       "    <tr>\n",
       "      <th>663406</th>\n",
       "      <td>45.720001</td>\n",
       "      <td>43.150002</td>\n",
       "      <td>43.009998</td>\n",
       "      <td>45.720001</td>\n",
       "      <td>4786500.0</td>\n",
       "      <td>2015</td>\n",
       "      <td>8</td>\n",
       "      <td>25</td>\n",
       "      <td>-2.569999</td>\n",
       "      <td>2.710003</td>\n",
       "      <td>4</td>\n",
       "      <td>0</td>\n",
       "    </tr>\n",
       "    <tr>\n",
       "      <th>...</th>\n",
       "      <td>...</td>\n",
       "      <td>...</td>\n",
       "      <td>...</td>\n",
       "      <td>...</td>\n",
       "      <td>...</td>\n",
       "      <td>...</td>\n",
       "      <td>...</td>\n",
       "      <td>...</td>\n",
       "      <td>...</td>\n",
       "      <td>...</td>\n",
       "      <td>...</td>\n",
       "      <td>...</td>\n",
       "    </tr>\n",
       "    <tr>\n",
       "      <th>385512</th>\n",
       "      <td>18.240000</td>\n",
       "      <td>18.139999</td>\n",
       "      <td>17.910000</td>\n",
       "      <td>18.340000</td>\n",
       "      <td>5709500.0</td>\n",
       "      <td>2013</td>\n",
       "      <td>4</td>\n",
       "      <td>16</td>\n",
       "      <td>-0.100001</td>\n",
       "      <td>0.430000</td>\n",
       "      <td>2</td>\n",
       "      <td>1</td>\n",
       "    </tr>\n",
       "    <tr>\n",
       "      <th>343432</th>\n",
       "      <td>12.220000</td>\n",
       "      <td>12.220000</td>\n",
       "      <td>12.100000</td>\n",
       "      <td>12.380000</td>\n",
       "      <td>19057200.0</td>\n",
       "      <td>2012</td>\n",
       "      <td>12</td>\n",
       "      <td>4</td>\n",
       "      <td>0.000000</td>\n",
       "      <td>0.280000</td>\n",
       "      <td>0</td>\n",
       "      <td>1</td>\n",
       "    </tr>\n",
       "    <tr>\n",
       "      <th>549130</th>\n",
       "      <td>54.560001</td>\n",
       "      <td>54.160000</td>\n",
       "      <td>54.119999</td>\n",
       "      <td>54.680000</td>\n",
       "      <td>473400.0</td>\n",
       "      <td>2014</td>\n",
       "      <td>9</td>\n",
       "      <td>4</td>\n",
       "      <td>-0.400001</td>\n",
       "      <td>0.560001</td>\n",
       "      <td>4</td>\n",
       "      <td>0</td>\n",
       "    </tr>\n",
       "    <tr>\n",
       "      <th>752250</th>\n",
       "      <td>62.849998</td>\n",
       "      <td>62.669998</td>\n",
       "      <td>62.369999</td>\n",
       "      <td>63.360001</td>\n",
       "      <td>978500.0</td>\n",
       "      <td>2016</td>\n",
       "      <td>5</td>\n",
       "      <td>26</td>\n",
       "      <td>-0.180000</td>\n",
       "      <td>0.990002</td>\n",
       "      <td>4</td>\n",
       "      <td>0</td>\n",
       "    </tr>\n",
       "    <tr>\n",
       "      <th>152136</th>\n",
       "      <td>73.910004</td>\n",
       "      <td>74.169998</td>\n",
       "      <td>72.949997</td>\n",
       "      <td>74.599998</td>\n",
       "      <td>4361400.0</td>\n",
       "      <td>2011</td>\n",
       "      <td>4</td>\n",
       "      <td>18</td>\n",
       "      <td>0.259994</td>\n",
       "      <td>1.650001</td>\n",
       "      <td>2</td>\n",
       "      <td>1</td>\n",
       "    </tr>\n",
       "  </tbody>\n",
       "</table>\n",
       "<p>12345 rows × 12 columns</p>\n",
       "</div>"
      ],
      "text/plain": [
       "              open       close         low        high      volume  year  \\\n",
       "356109   22.440001   22.360001   22.180000   22.719999   1201400.0  2013   \n",
       "801647   60.529999   60.549999   60.110001   60.759998   1552000.0  2016   \n",
       "600505   40.709999   40.230000   40.049999   40.880001   2928400.0  2015   \n",
       "506341  132.529999  128.699997  128.020004  133.080002   1224500.0  2014   \n",
       "663406   45.720001   43.150002   43.009998   45.720001   4786500.0  2015   \n",
       "...            ...         ...         ...         ...         ...   ...   \n",
       "385512   18.240000   18.139999   17.910000   18.340000   5709500.0  2013   \n",
       "343432   12.220000   12.220000   12.100000   12.380000  19057200.0  2012   \n",
       "549130   54.560001   54.160000   54.119999   54.680000    473400.0  2014   \n",
       "752250   62.849998   62.669998   62.369999   63.360001    978500.0  2016   \n",
       "152136   73.910004   74.169998   72.949997   74.599998   4361400.0  2011   \n",
       "\n",
       "        month  day    co_dif    hl_dif  label  label4  \n",
       "356109      1   14 -0.080000  0.539999      2       1  \n",
       "801647     10   26  0.020000  0.649997      4       0  \n",
       "600505      2   11 -0.479999  0.830002      4       0  \n",
       "506341      4   25 -3.830002  5.059998      5       3  \n",
       "663406      8   25 -2.569999  2.710003      4       0  \n",
       "...       ...  ...       ...       ...    ...     ...  \n",
       "385512      4   16 -0.100001  0.430000      2       1  \n",
       "343432     12    4  0.000000  0.280000      0       1  \n",
       "549130      9    4 -0.400001  0.560001      4       0  \n",
       "752250      5   26 -0.180000  0.990002      4       0  \n",
       "152136      4   18  0.259994  1.650001      2       1  \n",
       "\n",
       "[12345 rows x 12 columns]"
      ]
     },
     "execution_count": 25,
     "metadata": {},
     "output_type": "execute_result"
    },
    {
     "data": {
      "application/javascript": [
       "\n",
       "            setTimeout(function() {\n",
       "                var nbb_cell_id = 25;\n",
       "                var nbb_unformatted_code = \"sampled = number.copy()\\nsample = sampled.sample(n=12345, random_state=69)\\nsample\";\n",
       "                var nbb_formatted_code = \"sampled = number.copy()\\nsample = sampled.sample(n=12345, random_state=69)\\nsample\";\n",
       "                var nbb_cells = Jupyter.notebook.get_cells();\n",
       "                for (var i = 0; i < nbb_cells.length; ++i) {\n",
       "                    if (nbb_cells[i].input_prompt_number == nbb_cell_id) {\n",
       "                        if (nbb_cells[i].get_text() == nbb_unformatted_code) {\n",
       "                             nbb_cells[i].set_text(nbb_formatted_code);\n",
       "                        }\n",
       "                        break;\n",
       "                    }\n",
       "                }\n",
       "            }, 500);\n",
       "            "
      ],
      "text/plain": [
       "<IPython.core.display.Javascript object>"
      ]
     },
     "metadata": {},
     "output_type": "display_data"
    }
   ],
   "source": [
    "sampled = number.copy()\n",
    "sample = sampled.sample(n=12345, random_state=69)\n",
    "sample"
   ]
  },
  {
   "cell_type": "code",
   "execution_count": 26,
   "metadata": {},
   "outputs": [
    {
     "data": {
      "text/plain": [
       "AgglomerativeClustering(affinity='euclidean', compute_full_tree='auto',\n",
       "                        connectivity=None, distance_threshold=None,\n",
       "                        linkage='ward', memory=None, n_clusters=5)"
      ]
     },
     "execution_count": 26,
     "metadata": {},
     "output_type": "execute_result"
    },
    {
     "data": {
      "application/javascript": [
       "\n",
       "            setTimeout(function() {\n",
       "                var nbb_cell_id = 26;\n",
       "                var nbb_unformatted_code = \"# Trying hierarchical for comparison\\ndist_mat = squareform(pdist(sample, metric=\\\"euclid\\\"))\\nclst = AgglomerativeClustering(n_clusters=5, linkage=\\\"ward\\\", affinity=\\\"euclidean\\\")\\nclst.fit(sample)\";\n",
       "                var nbb_formatted_code = \"# Trying hierarchical for comparison\\ndist_mat = squareform(pdist(sample, metric=\\\"euclid\\\"))\\nclst = AgglomerativeClustering(n_clusters=5, linkage=\\\"ward\\\", affinity=\\\"euclidean\\\")\\nclst.fit(sample)\";\n",
       "                var nbb_cells = Jupyter.notebook.get_cells();\n",
       "                for (var i = 0; i < nbb_cells.length; ++i) {\n",
       "                    if (nbb_cells[i].input_prompt_number == nbb_cell_id) {\n",
       "                        if (nbb_cells[i].get_text() == nbb_unformatted_code) {\n",
       "                             nbb_cells[i].set_text(nbb_formatted_code);\n",
       "                        }\n",
       "                        break;\n",
       "                    }\n",
       "                }\n",
       "            }, 500);\n",
       "            "
      ],
      "text/plain": [
       "<IPython.core.display.Javascript object>"
      ]
     },
     "metadata": {},
     "output_type": "display_data"
    }
   ],
   "source": [
    "# Trying hierarchical for comparison\n",
    "dist_mat = squareform(pdist(sample, metric=\"euclid\"))\n",
    "clst = AgglomerativeClustering(n_clusters=5, linkage=\"ward\", affinity=\"euclidean\")\n",
    "clst.fit(sample)"
   ]
  },
  {
   "cell_type": "code",
   "execution_count": 27,
   "metadata": {},
   "outputs": [
    {
     "data": {
      "application/javascript": [
       "\n",
       "            setTimeout(function() {\n",
       "                var nbb_cell_id = 27;\n",
       "                var nbb_unformatted_code = \"# That's pretty useless imo\\n# plt.figure(figsize=(20, 10))\\n# plot_dendrogram(clst)\";\n",
       "                var nbb_formatted_code = \"# That's pretty useless imo\\n# plt.figure(figsize=(20, 10))\\n# plot_dendrogram(clst)\";\n",
       "                var nbb_cells = Jupyter.notebook.get_cells();\n",
       "                for (var i = 0; i < nbb_cells.length; ++i) {\n",
       "                    if (nbb_cells[i].input_prompt_number == nbb_cell_id) {\n",
       "                        if (nbb_cells[i].get_text() == nbb_unformatted_code) {\n",
       "                             nbb_cells[i].set_text(nbb_formatted_code);\n",
       "                        }\n",
       "                        break;\n",
       "                    }\n",
       "                }\n",
       "            }, 500);\n",
       "            "
      ],
      "text/plain": [
       "<IPython.core.display.Javascript object>"
      ]
     },
     "metadata": {},
     "output_type": "display_data"
    }
   ],
   "source": [
    "# That's pretty useless imo\n",
    "# plt.figure(figsize=(20, 10))\n",
    "# plot_dendrogram(clst)"
   ]
  },
  {
   "cell_type": "code",
   "execution_count": 28,
   "metadata": {
    "scrolled": true
   },
   "outputs": [
    {
     "data": {
      "text/html": [
       "<div>\n",
       "<style scoped>\n",
       "    .dataframe tbody tr th:only-of-type {\n",
       "        vertical-align: middle;\n",
       "    }\n",
       "\n",
       "    .dataframe tbody tr th {\n",
       "        vertical-align: top;\n",
       "    }\n",
       "\n",
       "    .dataframe thead th {\n",
       "        text-align: right;\n",
       "    }\n",
       "</style>\n",
       "<table border=\"1\" class=\"dataframe\">\n",
       "  <thead>\n",
       "    <tr style=\"text-align: right;\">\n",
       "      <th></th>\n",
       "      <th>open</th>\n",
       "      <th>close</th>\n",
       "      <th>low</th>\n",
       "      <th>high</th>\n",
       "      <th>volume</th>\n",
       "      <th>year</th>\n",
       "      <th>month</th>\n",
       "      <th>day</th>\n",
       "      <th>co_dif</th>\n",
       "      <th>hl_dif</th>\n",
       "      <th>label4</th>\n",
       "    </tr>\n",
       "    <tr>\n",
       "      <th>label</th>\n",
       "      <th></th>\n",
       "      <th></th>\n",
       "      <th></th>\n",
       "      <th></th>\n",
       "      <th></th>\n",
       "      <th></th>\n",
       "      <th></th>\n",
       "      <th></th>\n",
       "      <th></th>\n",
       "      <th></th>\n",
       "      <th></th>\n",
       "    </tr>\n",
       "  </thead>\n",
       "  <tbody>\n",
       "    <tr>\n",
       "      <th>0</th>\n",
       "      <td>80.959999</td>\n",
       "      <td>80.327647</td>\n",
       "      <td>79.824705</td>\n",
       "      <td>81.830588</td>\n",
       "      <td>2.176055e+08</td>\n",
       "      <td>2012.000000</td>\n",
       "      <td>5.294118</td>\n",
       "      <td>13.705882</td>\n",
       "      <td>-0.632352</td>\n",
       "      <td>2.005883</td>\n",
       "      <td>1.235294</td>\n",
       "    </tr>\n",
       "    <tr>\n",
       "      <th>1</th>\n",
       "      <td>85.686270</td>\n",
       "      <td>85.904206</td>\n",
       "      <td>84.911667</td>\n",
       "      <td>86.742699</td>\n",
       "      <td>7.602710e+07</td>\n",
       "      <td>2012.047619</td>\n",
       "      <td>6.753968</td>\n",
       "      <td>15.674603</td>\n",
       "      <td>0.217936</td>\n",
       "      <td>1.831031</td>\n",
       "      <td>1.071429</td>\n",
       "    </tr>\n",
       "    <tr>\n",
       "      <th>2</th>\n",
       "      <td>52.747389</td>\n",
       "      <td>52.754880</td>\n",
       "      <td>52.098039</td>\n",
       "      <td>53.373354</td>\n",
       "      <td>7.984637e+06</td>\n",
       "      <td>2012.756020</td>\n",
       "      <td>6.370177</td>\n",
       "      <td>15.612997</td>\n",
       "      <td>0.007491</td>\n",
       "      <td>1.275315</td>\n",
       "      <td>0.667537</td>\n",
       "    </tr>\n",
       "    <tr>\n",
       "      <th>3</th>\n",
       "      <td>37.781529</td>\n",
       "      <td>37.746588</td>\n",
       "      <td>37.214682</td>\n",
       "      <td>38.302164</td>\n",
       "      <td>2.939342e+07</td>\n",
       "      <td>2012.536471</td>\n",
       "      <td>5.962353</td>\n",
       "      <td>15.764706</td>\n",
       "      <td>-0.034941</td>\n",
       "      <td>1.087482</td>\n",
       "      <td>0.748235</td>\n",
       "    </tr>\n",
       "    <tr>\n",
       "      <th>4</th>\n",
       "      <td>79.523441</td>\n",
       "      <td>79.558330</td>\n",
       "      <td>78.782334</td>\n",
       "      <td>80.257003</td>\n",
       "      <td>1.787606e+06</td>\n",
       "      <td>2013.106723</td>\n",
       "      <td>6.608163</td>\n",
       "      <td>15.961945</td>\n",
       "      <td>0.034888</td>\n",
       "      <td>1.474669</td>\n",
       "      <td>0.720408</td>\n",
       "    </tr>\n",
       "  </tbody>\n",
       "</table>\n",
       "</div>"
      ],
      "text/plain": [
       "            open      close        low       high        volume         year  \\\n",
       "label                                                                          \n",
       "0      80.959999  80.327647  79.824705  81.830588  2.176055e+08  2012.000000   \n",
       "1      85.686270  85.904206  84.911667  86.742699  7.602710e+07  2012.047619   \n",
       "2      52.747389  52.754880  52.098039  53.373354  7.984637e+06  2012.756020   \n",
       "3      37.781529  37.746588  37.214682  38.302164  2.939342e+07  2012.536471   \n",
       "4      79.523441  79.558330  78.782334  80.257003  1.787606e+06  2013.106723   \n",
       "\n",
       "          month        day    co_dif    hl_dif    label4  \n",
       "label                                                     \n",
       "0      5.294118  13.705882 -0.632352  2.005883  1.235294  \n",
       "1      6.753968  15.674603  0.217936  1.831031  1.071429  \n",
       "2      6.370177  15.612997  0.007491  1.275315  0.667537  \n",
       "3      5.962353  15.764706 -0.034941  1.087482  0.748235  \n",
       "4      6.608163  15.961945  0.034888  1.474669  0.720408  "
      ]
     },
     "execution_count": 28,
     "metadata": {},
     "output_type": "execute_result"
    },
    {
     "data": {
      "application/javascript": [
       "\n",
       "            setTimeout(function() {\n",
       "                var nbb_cell_id = 28;\n",
       "                var nbb_unformatted_code = \"# Well... These clusters seem like they're not grouped well. Let's check value counts\\nsample[\\\"label\\\"] = clst.labels_\\nsample.groupby(\\\"label\\\").mean()\";\n",
       "                var nbb_formatted_code = \"# Well... These clusters seem like they're not grouped well. Let's check value counts\\nsample[\\\"label\\\"] = clst.labels_\\nsample.groupby(\\\"label\\\").mean()\";\n",
       "                var nbb_cells = Jupyter.notebook.get_cells();\n",
       "                for (var i = 0; i < nbb_cells.length; ++i) {\n",
       "                    if (nbb_cells[i].input_prompt_number == nbb_cell_id) {\n",
       "                        if (nbb_cells[i].get_text() == nbb_unformatted_code) {\n",
       "                             nbb_cells[i].set_text(nbb_formatted_code);\n",
       "                        }\n",
       "                        break;\n",
       "                    }\n",
       "                }\n",
       "            }, 500);\n",
       "            "
      ],
      "text/plain": [
       "<IPython.core.display.Javascript object>"
      ]
     },
     "metadata": {},
     "output_type": "display_data"
    }
   ],
   "source": [
    "# Well... These clusters seem like they're not grouped well. Let's check value counts\n",
    "sample[\"label\"] = clst.labels_\n",
    "sample.groupby(\"label\").mean()"
   ]
  },
  {
   "cell_type": "code",
   "execution_count": 29,
   "metadata": {},
   "outputs": [
    {
     "data": {
      "text/plain": [
       "4    8330\n",
       "2    3447\n",
       "3     425\n",
       "1     126\n",
       "0      17\n",
       "Name: label, dtype: int64"
      ]
     },
     "execution_count": 29,
     "metadata": {},
     "output_type": "execute_result"
    },
    {
     "data": {
      "application/javascript": [
       "\n",
       "            setTimeout(function() {\n",
       "                var nbb_cell_id = 29;\n",
       "                var nbb_unformatted_code = \"sample[\\\"label\\\"].value_counts()\";\n",
       "                var nbb_formatted_code = \"sample[\\\"label\\\"].value_counts()\";\n",
       "                var nbb_cells = Jupyter.notebook.get_cells();\n",
       "                for (var i = 0; i < nbb_cells.length; ++i) {\n",
       "                    if (nbb_cells[i].input_prompt_number == nbb_cell_id) {\n",
       "                        if (nbb_cells[i].get_text() == nbb_unformatted_code) {\n",
       "                             nbb_cells[i].set_text(nbb_formatted_code);\n",
       "                        }\n",
       "                        break;\n",
       "                    }\n",
       "                }\n",
       "            }, 500);\n",
       "            "
      ],
      "text/plain": [
       "<IPython.core.display.Javascript object>"
      ]
     },
     "metadata": {},
     "output_type": "display_data"
    }
   ],
   "source": [
    "sample[\"label\"].value_counts()"
   ]
  },
  {
   "cell_type": "code",
   "execution_count": 30,
   "metadata": {},
   "outputs": [
    {
     "data": {
      "text/plain": [
       "4    283830\n",
       "2    235817\n",
       "0    232880\n",
       "5     55816\n",
       "1      9531\n",
       "3      4980\n",
       "Name: label, dtype: int64"
      ]
     },
     "execution_count": 30,
     "metadata": {},
     "output_type": "execute_result"
    },
    {
     "data": {
      "application/javascript": [
       "\n",
       "            setTimeout(function() {\n",
       "                var nbb_cell_id = 30;\n",
       "                var nbb_unformatted_code = \"number[\\\"label\\\"].value_counts()\";\n",
       "                var nbb_formatted_code = \"number[\\\"label\\\"].value_counts()\";\n",
       "                var nbb_cells = Jupyter.notebook.get_cells();\n",
       "                for (var i = 0; i < nbb_cells.length; ++i) {\n",
       "                    if (nbb_cells[i].input_prompt_number == nbb_cell_id) {\n",
       "                        if (nbb_cells[i].get_text() == nbb_unformatted_code) {\n",
       "                             nbb_cells[i].set_text(nbb_formatted_code);\n",
       "                        }\n",
       "                        break;\n",
       "                    }\n",
       "                }\n",
       "            }, 500);\n",
       "            "
      ],
      "text/plain": [
       "<IPython.core.display.Javascript object>"
      ]
     },
     "metadata": {},
     "output_type": "display_data"
    }
   ],
   "source": [
    "number[\"label\"].value_counts()"
   ]
  },
  {
   "cell_type": "code",
   "execution_count": 31,
   "metadata": {},
   "outputs": [
    {
     "data": {
      "text/plain": [
       "1    384719\n",
       "0    368167\n",
       "3     60195\n",
       "2      9773\n",
       "Name: label4, dtype: int64"
      ]
     },
     "execution_count": 31,
     "metadata": {},
     "output_type": "execute_result"
    },
    {
     "data": {
      "application/javascript": [
       "\n",
       "            setTimeout(function() {\n",
       "                var nbb_cell_id = 31;\n",
       "                var nbb_unformatted_code = \"number[\\\"label4\\\"].value_counts()\";\n",
       "                var nbb_formatted_code = \"number[\\\"label4\\\"].value_counts()\";\n",
       "                var nbb_cells = Jupyter.notebook.get_cells();\n",
       "                for (var i = 0; i < nbb_cells.length; ++i) {\n",
       "                    if (nbb_cells[i].input_prompt_number == nbb_cell_id) {\n",
       "                        if (nbb_cells[i].get_text() == nbb_unformatted_code) {\n",
       "                             nbb_cells[i].set_text(nbb_formatted_code);\n",
       "                        }\n",
       "                        break;\n",
       "                    }\n",
       "                }\n",
       "            }, 500);\n",
       "            "
      ],
      "text/plain": [
       "<IPython.core.display.Javascript object>"
      ]
     },
     "metadata": {},
     "output_type": "display_data"
    }
   ],
   "source": [
    "number[\"label4\"].value_counts()"
   ]
  },
  {
   "cell_type": "code",
   "execution_count": 32,
   "metadata": {},
   "outputs": [
    {
     "data": {
      "text/html": [
       "<div>\n",
       "<style scoped>\n",
       "    .dataframe tbody tr th:only-of-type {\n",
       "        vertical-align: middle;\n",
       "    }\n",
       "\n",
       "    .dataframe tbody tr th {\n",
       "        vertical-align: top;\n",
       "    }\n",
       "\n",
       "    .dataframe thead th {\n",
       "        text-align: right;\n",
       "    }\n",
       "</style>\n",
       "<table border=\"1\" class=\"dataframe\">\n",
       "  <thead>\n",
       "    <tr style=\"text-align: right;\">\n",
       "      <th></th>\n",
       "      <th>open</th>\n",
       "      <th>close</th>\n",
       "      <th>low</th>\n",
       "      <th>high</th>\n",
       "      <th>volume</th>\n",
       "      <th>year</th>\n",
       "      <th>month</th>\n",
       "      <th>day</th>\n",
       "      <th>co_dif</th>\n",
       "      <th>hl_dif</th>\n",
       "      <th>label4</th>\n",
       "    </tr>\n",
       "    <tr>\n",
       "      <th>label</th>\n",
       "      <th></th>\n",
       "      <th></th>\n",
       "      <th></th>\n",
       "      <th></th>\n",
       "      <th></th>\n",
       "      <th></th>\n",
       "      <th></th>\n",
       "      <th></th>\n",
       "      <th></th>\n",
       "      <th></th>\n",
       "      <th></th>\n",
       "    </tr>\n",
       "  </thead>\n",
       "  <tbody>\n",
       "    <tr>\n",
       "      <th>0</th>\n",
       "      <td>80.959999</td>\n",
       "      <td>80.327647</td>\n",
       "      <td>79.824705</td>\n",
       "      <td>81.830588</td>\n",
       "      <td>2.176055e+08</td>\n",
       "      <td>2012.000000</td>\n",
       "      <td>5.294118</td>\n",
       "      <td>13.705882</td>\n",
       "      <td>-0.632352</td>\n",
       "      <td>2.005883</td>\n",
       "      <td>1.235294</td>\n",
       "    </tr>\n",
       "    <tr>\n",
       "      <th>1</th>\n",
       "      <td>85.686270</td>\n",
       "      <td>85.904206</td>\n",
       "      <td>84.911667</td>\n",
       "      <td>86.742699</td>\n",
       "      <td>7.602710e+07</td>\n",
       "      <td>2012.047619</td>\n",
       "      <td>6.753968</td>\n",
       "      <td>15.674603</td>\n",
       "      <td>0.217936</td>\n",
       "      <td>1.831031</td>\n",
       "      <td>1.071429</td>\n",
       "    </tr>\n",
       "    <tr>\n",
       "      <th>2</th>\n",
       "      <td>52.747389</td>\n",
       "      <td>52.754880</td>\n",
       "      <td>52.098039</td>\n",
       "      <td>53.373354</td>\n",
       "      <td>7.984637e+06</td>\n",
       "      <td>2012.756020</td>\n",
       "      <td>6.370177</td>\n",
       "      <td>15.612997</td>\n",
       "      <td>0.007491</td>\n",
       "      <td>1.275315</td>\n",
       "      <td>0.667537</td>\n",
       "    </tr>\n",
       "    <tr>\n",
       "      <th>3</th>\n",
       "      <td>37.781529</td>\n",
       "      <td>37.746588</td>\n",
       "      <td>37.214682</td>\n",
       "      <td>38.302164</td>\n",
       "      <td>2.939342e+07</td>\n",
       "      <td>2012.536471</td>\n",
       "      <td>5.962353</td>\n",
       "      <td>15.764706</td>\n",
       "      <td>-0.034941</td>\n",
       "      <td>1.087482</td>\n",
       "      <td>0.748235</td>\n",
       "    </tr>\n",
       "    <tr>\n",
       "      <th>4</th>\n",
       "      <td>79.523441</td>\n",
       "      <td>79.558330</td>\n",
       "      <td>78.782334</td>\n",
       "      <td>80.257003</td>\n",
       "      <td>1.787606e+06</td>\n",
       "      <td>2013.106723</td>\n",
       "      <td>6.608163</td>\n",
       "      <td>15.961945</td>\n",
       "      <td>0.034888</td>\n",
       "      <td>1.474669</td>\n",
       "      <td>0.720408</td>\n",
       "    </tr>\n",
       "  </tbody>\n",
       "</table>\n",
       "</div>"
      ],
      "text/plain": [
       "            open      close        low       high        volume         year  \\\n",
       "label                                                                          \n",
       "0      80.959999  80.327647  79.824705  81.830588  2.176055e+08  2012.000000   \n",
       "1      85.686270  85.904206  84.911667  86.742699  7.602710e+07  2012.047619   \n",
       "2      52.747389  52.754880  52.098039  53.373354  7.984637e+06  2012.756020   \n",
       "3      37.781529  37.746588  37.214682  38.302164  2.939342e+07  2012.536471   \n",
       "4      79.523441  79.558330  78.782334  80.257003  1.787606e+06  2013.106723   \n",
       "\n",
       "          month        day    co_dif    hl_dif    label4  \n",
       "label                                                     \n",
       "0      5.294118  13.705882 -0.632352  2.005883  1.235294  \n",
       "1      6.753968  15.674603  0.217936  1.831031  1.071429  \n",
       "2      6.370177  15.612997  0.007491  1.275315  0.667537  \n",
       "3      5.962353  15.764706 -0.034941  1.087482  0.748235  \n",
       "4      6.608163  15.961945  0.034888  1.474669  0.720408  "
      ]
     },
     "execution_count": 32,
     "metadata": {},
     "output_type": "execute_result"
    },
    {
     "data": {
      "application/javascript": [
       "\n",
       "            setTimeout(function() {\n",
       "                var nbb_cell_id = 32;\n",
       "                var nbb_unformatted_code = \"sample.groupby(\\\"label\\\").mean()\";\n",
       "                var nbb_formatted_code = \"sample.groupby(\\\"label\\\").mean()\";\n",
       "                var nbb_cells = Jupyter.notebook.get_cells();\n",
       "                for (var i = 0; i < nbb_cells.length; ++i) {\n",
       "                    if (nbb_cells[i].input_prompt_number == nbb_cell_id) {\n",
       "                        if (nbb_cells[i].get_text() == nbb_unformatted_code) {\n",
       "                             nbb_cells[i].set_text(nbb_formatted_code);\n",
       "                        }\n",
       "                        break;\n",
       "                    }\n",
       "                }\n",
       "            }, 500);\n",
       "            "
      ],
      "text/plain": [
       "<IPython.core.display.Javascript object>"
      ]
     },
     "metadata": {},
     "output_type": "display_data"
    }
   ],
   "source": [
    "sample.groupby(\"label\").mean()"
   ]
  },
  {
   "cell_type": "code",
   "execution_count": 33,
   "metadata": {
    "scrolled": false
   },
   "outputs": [
    {
     "data": {
      "text/html": [
       "<div>\n",
       "<style scoped>\n",
       "    .dataframe tbody tr th:only-of-type {\n",
       "        vertical-align: middle;\n",
       "    }\n",
       "\n",
       "    .dataframe tbody tr th {\n",
       "        vertical-align: top;\n",
       "    }\n",
       "\n",
       "    .dataframe thead th {\n",
       "        text-align: right;\n",
       "    }\n",
       "</style>\n",
       "<table border=\"1\" class=\"dataframe\">\n",
       "  <thead>\n",
       "    <tr style=\"text-align: right;\">\n",
       "      <th></th>\n",
       "      <th>open</th>\n",
       "      <th>close</th>\n",
       "      <th>low</th>\n",
       "      <th>high</th>\n",
       "      <th>volume</th>\n",
       "      <th>year</th>\n",
       "      <th>month</th>\n",
       "      <th>day</th>\n",
       "      <th>co_dif</th>\n",
       "      <th>hl_dif</th>\n",
       "      <th>label4</th>\n",
       "    </tr>\n",
       "    <tr>\n",
       "      <th>label</th>\n",
       "      <th></th>\n",
       "      <th></th>\n",
       "      <th></th>\n",
       "      <th></th>\n",
       "      <th></th>\n",
       "      <th></th>\n",
       "      <th></th>\n",
       "      <th></th>\n",
       "      <th></th>\n",
       "      <th></th>\n",
       "      <th></th>\n",
       "    </tr>\n",
       "  </thead>\n",
       "  <tbody>\n",
       "    <tr>\n",
       "      <th>0</th>\n",
       "      <td>47.345127</td>\n",
       "      <td>47.366777</td>\n",
       "      <td>46.850179</td>\n",
       "      <td>47.840323</td>\n",
       "      <td>5.150625e+06</td>\n",
       "      <td>2011.618769</td>\n",
       "      <td>9.673742</td>\n",
       "      <td>15.789926</td>\n",
       "      <td>0.021649</td>\n",
       "      <td>0.990144</td>\n",
       "      <td>0.812715</td>\n",
       "    </tr>\n",
       "    <tr>\n",
       "      <th>1</th>\n",
       "      <td>668.249481</td>\n",
       "      <td>668.119931</td>\n",
       "      <td>661.466763</td>\n",
       "      <td>674.545982</td>\n",
       "      <td>7.626819e+06</td>\n",
       "      <td>2013.678208</td>\n",
       "      <td>6.592173</td>\n",
       "      <td>15.732347</td>\n",
       "      <td>-0.129550</td>\n",
       "      <td>13.079219</td>\n",
       "      <td>2.000000</td>\n",
       "    </tr>\n",
       "    <tr>\n",
       "      <th>2</th>\n",
       "      <td>47.092356</td>\n",
       "      <td>47.114194</td>\n",
       "      <td>46.614895</td>\n",
       "      <td>47.566464</td>\n",
       "      <td>5.503233e+06</td>\n",
       "      <td>2011.687520</td>\n",
       "      <td>3.335667</td>\n",
       "      <td>15.517456</td>\n",
       "      <td>0.021838</td>\n",
       "      <td>0.951569</td>\n",
       "      <td>0.835232</td>\n",
       "    </tr>\n",
       "    <tr>\n",
       "      <th>3</th>\n",
       "      <td>57.027689</td>\n",
       "      <td>56.969843</td>\n",
       "      <td>56.127177</td>\n",
       "      <td>57.793777</td>\n",
       "      <td>1.176353e+08</td>\n",
       "      <td>2011.956024</td>\n",
       "      <td>6.237349</td>\n",
       "      <td>15.830321</td>\n",
       "      <td>-0.057845</td>\n",
       "      <td>1.666600</td>\n",
       "      <td>1.097590</td>\n",
       "    </tr>\n",
       "    <tr>\n",
       "      <th>4</th>\n",
       "      <td>66.436585</td>\n",
       "      <td>66.452960</td>\n",
       "      <td>65.828334</td>\n",
       "      <td>67.037649</td>\n",
       "      <td>4.069846e+06</td>\n",
       "      <td>2015.030067</td>\n",
       "      <td>6.622119</td>\n",
       "      <td>15.793341</td>\n",
       "      <td>0.016375</td>\n",
       "      <td>1.209315</td>\n",
       "      <td>0.023838</td>\n",
       "    </tr>\n",
       "    <tr>\n",
       "      <th>5</th>\n",
       "      <td>196.768452</td>\n",
       "      <td>196.831169</td>\n",
       "      <td>194.581168</td>\n",
       "      <td>198.925613</td>\n",
       "      <td>2.599921e+06</td>\n",
       "      <td>2013.978949</td>\n",
       "      <td>6.750233</td>\n",
       "      <td>15.667819</td>\n",
       "      <td>0.062717</td>\n",
       "      <td>4.344445</td>\n",
       "      <td>2.997868</td>\n",
       "    </tr>\n",
       "  </tbody>\n",
       "</table>\n",
       "</div>"
      ],
      "text/plain": [
       "             open       close         low        high        volume  \\\n",
       "label                                                                 \n",
       "0       47.345127   47.366777   46.850179   47.840323  5.150625e+06   \n",
       "1      668.249481  668.119931  661.466763  674.545982  7.626819e+06   \n",
       "2       47.092356   47.114194   46.614895   47.566464  5.503233e+06   \n",
       "3       57.027689   56.969843   56.127177   57.793777  1.176353e+08   \n",
       "4       66.436585   66.452960   65.828334   67.037649  4.069846e+06   \n",
       "5      196.768452  196.831169  194.581168  198.925613  2.599921e+06   \n",
       "\n",
       "              year     month        day    co_dif     hl_dif    label4  \n",
       "label                                                                   \n",
       "0      2011.618769  9.673742  15.789926  0.021649   0.990144  0.812715  \n",
       "1      2013.678208  6.592173  15.732347 -0.129550  13.079219  2.000000  \n",
       "2      2011.687520  3.335667  15.517456  0.021838   0.951569  0.835232  \n",
       "3      2011.956024  6.237349  15.830321 -0.057845   1.666600  1.097590  \n",
       "4      2015.030067  6.622119  15.793341  0.016375   1.209315  0.023838  \n",
       "5      2013.978949  6.750233  15.667819  0.062717   4.344445  2.997868  "
      ]
     },
     "execution_count": 33,
     "metadata": {},
     "output_type": "execute_result"
    },
    {
     "data": {
      "application/javascript": [
       "\n",
       "            setTimeout(function() {\n",
       "                var nbb_cell_id = 33;\n",
       "                var nbb_unformatted_code = \"number.groupby(\\\"label\\\").mean()\";\n",
       "                var nbb_formatted_code = \"number.groupby(\\\"label\\\").mean()\";\n",
       "                var nbb_cells = Jupyter.notebook.get_cells();\n",
       "                for (var i = 0; i < nbb_cells.length; ++i) {\n",
       "                    if (nbb_cells[i].input_prompt_number == nbb_cell_id) {\n",
       "                        if (nbb_cells[i].get_text() == nbb_unformatted_code) {\n",
       "                             nbb_cells[i].set_text(nbb_formatted_code);\n",
       "                        }\n",
       "                        break;\n",
       "                    }\n",
       "                }\n",
       "            }, 500);\n",
       "            "
      ],
      "text/plain": [
       "<IPython.core.display.Javascript object>"
      ]
     },
     "metadata": {},
     "output_type": "display_data"
    }
   ],
   "source": [
    "number.groupby(\"label\").mean()"
   ]
  },
  {
   "cell_type": "code",
   "execution_count": 34,
   "metadata": {
    "scrolled": true
   },
   "outputs": [
    {
     "data": {
      "text/html": [
       "<div>\n",
       "<style scoped>\n",
       "    .dataframe tbody tr th:only-of-type {\n",
       "        vertical-align: middle;\n",
       "    }\n",
       "\n",
       "    .dataframe tbody tr th {\n",
       "        vertical-align: top;\n",
       "    }\n",
       "\n",
       "    .dataframe thead th {\n",
       "        text-align: right;\n",
       "    }\n",
       "</style>\n",
       "<table border=\"1\" class=\"dataframe\">\n",
       "  <thead>\n",
       "    <tr style=\"text-align: right;\">\n",
       "      <th></th>\n",
       "      <th>open</th>\n",
       "      <th>close</th>\n",
       "      <th>low</th>\n",
       "      <th>high</th>\n",
       "      <th>volume</th>\n",
       "      <th>year</th>\n",
       "      <th>month</th>\n",
       "      <th>day</th>\n",
       "      <th>co_dif</th>\n",
       "      <th>hl_dif</th>\n",
       "      <th>label</th>\n",
       "    </tr>\n",
       "    <tr>\n",
       "      <th>label4</th>\n",
       "      <th></th>\n",
       "      <th></th>\n",
       "      <th></th>\n",
       "      <th></th>\n",
       "      <th></th>\n",
       "      <th></th>\n",
       "      <th></th>\n",
       "      <th></th>\n",
       "      <th></th>\n",
       "      <th></th>\n",
       "      <th></th>\n",
       "    </tr>\n",
       "  </thead>\n",
       "  <tbody>\n",
       "    <tr>\n",
       "      <th>0</th>\n",
       "      <td>64.314257</td>\n",
       "      <td>64.335741</td>\n",
       "      <td>63.737975</td>\n",
       "      <td>64.891458</td>\n",
       "      <td>4.162396e+06</td>\n",
       "      <td>2014.666708</td>\n",
       "      <td>6.650889</td>\n",
       "      <td>15.788593</td>\n",
       "      <td>0.021483</td>\n",
       "      <td>1.153483</td>\n",
       "      <td>3.283654</td>\n",
       "    </tr>\n",
       "    <tr>\n",
       "      <th>1</th>\n",
       "      <td>43.875131</td>\n",
       "      <td>43.892635</td>\n",
       "      <td>43.396406</td>\n",
       "      <td>44.345747</td>\n",
       "      <td>6.771744e+06</td>\n",
       "      <td>2011.246286</td>\n",
       "      <td>6.421045</td>\n",
       "      <td>15.631799</td>\n",
       "      <td>0.017504</td>\n",
       "      <td>0.949340</td>\n",
       "      <td>1.041196</td>\n",
       "    </tr>\n",
       "    <tr>\n",
       "      <th>2</th>\n",
       "      <td>662.496977</td>\n",
       "      <td>662.350580</td>\n",
       "      <td>655.709169</td>\n",
       "      <td>668.776824</td>\n",
       "      <td>1.005970e+07</td>\n",
       "      <td>2013.659368</td>\n",
       "      <td>6.575668</td>\n",
       "      <td>15.738156</td>\n",
       "      <td>-0.146396</td>\n",
       "      <td>13.067655</td>\n",
       "      <td>1.073058</td>\n",
       "    </tr>\n",
       "    <tr>\n",
       "      <th>3</th>\n",
       "      <td>192.556726</td>\n",
       "      <td>192.616602</td>\n",
       "      <td>190.413142</td>\n",
       "      <td>194.666890</td>\n",
       "      <td>3.655142e+06</td>\n",
       "      <td>2013.922834</td>\n",
       "      <td>6.752172</td>\n",
       "      <td>15.646798</td>\n",
       "      <td>0.059876</td>\n",
       "      <td>4.253748</td>\n",
       "      <td>4.826265</td>\n",
       "    </tr>\n",
       "  </tbody>\n",
       "</table>\n",
       "</div>"
      ],
      "text/plain": [
       "              open       close         low        high        volume  \\\n",
       "label4                                                                 \n",
       "0        64.314257   64.335741   63.737975   64.891458  4.162396e+06   \n",
       "1        43.875131   43.892635   43.396406   44.345747  6.771744e+06   \n",
       "2       662.496977  662.350580  655.709169  668.776824  1.005970e+07   \n",
       "3       192.556726  192.616602  190.413142  194.666890  3.655142e+06   \n",
       "\n",
       "               year     month        day    co_dif     hl_dif     label  \n",
       "label4                                                                   \n",
       "0       2014.666708  6.650889  15.788593  0.021483   1.153483  3.283654  \n",
       "1       2011.246286  6.421045  15.631799  0.017504   0.949340  1.041196  \n",
       "2       2013.659368  6.575668  15.738156 -0.146396  13.067655  1.073058  \n",
       "3       2013.922834  6.752172  15.646798  0.059876   4.253748  4.826265  "
      ]
     },
     "execution_count": 34,
     "metadata": {},
     "output_type": "execute_result"
    },
    {
     "data": {
      "application/javascript": [
       "\n",
       "            setTimeout(function() {\n",
       "                var nbb_cell_id = 34;\n",
       "                var nbb_unformatted_code = \"number.groupby(\\\"label4\\\").mean()\";\n",
       "                var nbb_formatted_code = \"number.groupby(\\\"label4\\\").mean()\";\n",
       "                var nbb_cells = Jupyter.notebook.get_cells();\n",
       "                for (var i = 0; i < nbb_cells.length; ++i) {\n",
       "                    if (nbb_cells[i].input_prompt_number == nbb_cell_id) {\n",
       "                        if (nbb_cells[i].get_text() == nbb_unformatted_code) {\n",
       "                             nbb_cells[i].set_text(nbb_formatted_code);\n",
       "                        }\n",
       "                        break;\n",
       "                    }\n",
       "                }\n",
       "            }, 500);\n",
       "            "
      ],
      "text/plain": [
       "<IPython.core.display.Javascript object>"
      ]
     },
     "metadata": {},
     "output_type": "display_data"
    }
   ],
   "source": [
    "number.groupby(\"label4\").mean()"
   ]
  },
  {
   "cell_type": "markdown",
   "metadata": {},
   "source": [
    "# For clustering, PCA seems to be much much better for clustering and having groups"
   ]
  },
  {
   "cell_type": "markdown",
   "metadata": {},
   "source": [
    "# Now let's check dimension reduction techniques to see if they are helpful at all for better distinguishing clusters"
   ]
  },
  {
   "cell_type": "code",
   "execution_count": 35,
   "metadata": {},
   "outputs": [
    {
     "data": {
      "application/javascript": [
       "\n",
       "            setTimeout(function() {\n",
       "                var nbb_cell_id = 35;\n",
       "                var nbb_unformatted_code = \"pca = PCA(n_components=6)\\npca_df_full = pca.fit_transform(scaled)\\nloadings = pca_loadings(pca)\\nloadings = pd.DataFrame(loadings)\\nloadings.index = columns\\nloadings.columns = [f\\\"component_{i}\\\" for i in range(loadings.shape[1])]\";\n",
       "                var nbb_formatted_code = \"pca = PCA(n_components=6)\\npca_df_full = pca.fit_transform(scaled)\\nloadings = pca_loadings(pca)\\nloadings = pd.DataFrame(loadings)\\nloadings.index = columns\\nloadings.columns = [f\\\"component_{i}\\\" for i in range(loadings.shape[1])]\";\n",
       "                var nbb_cells = Jupyter.notebook.get_cells();\n",
       "                for (var i = 0; i < nbb_cells.length; ++i) {\n",
       "                    if (nbb_cells[i].input_prompt_number == nbb_cell_id) {\n",
       "                        if (nbb_cells[i].get_text() == nbb_unformatted_code) {\n",
       "                             nbb_cells[i].set_text(nbb_formatted_code);\n",
       "                        }\n",
       "                        break;\n",
       "                    }\n",
       "                }\n",
       "            }, 500);\n",
       "            "
      ],
      "text/plain": [
       "<IPython.core.display.Javascript object>"
      ]
     },
     "metadata": {},
     "output_type": "display_data"
    }
   ],
   "source": [
    "pca = PCA(n_components=6)\n",
    "pca_df_full = pca.fit_transform(scaled)\n",
    "loadings = pca_loadings(pca)\n",
    "loadings = pd.DataFrame(loadings)\n",
    "loadings.index = columns\n",
    "loadings.columns = [f\"component_{i}\" for i in range(loadings.shape[1])]"
   ]
  },
  {
   "cell_type": "code",
   "execution_count": 36,
   "metadata": {},
   "outputs": [
    {
     "data": {
      "application/javascript": [
       "\n",
       "            setTimeout(function() {\n",
       "                var nbb_cell_id = 36;\n",
       "                var nbb_unformatted_code = \"pca5 = PCA(n_components=5)\\npca5_df = pca5.fit_transform(scaled)\\nloadings5 = pca_loadings(pca5)\\nloadings5 = pd.DataFrame(loadings5)\\nloadings5.index = columns\\nloadings5.columns = [f\\\"component_{i}\\\" for i in range(loadings5.shape[1])]\";\n",
       "                var nbb_formatted_code = \"pca5 = PCA(n_components=5)\\npca5_df = pca5.fit_transform(scaled)\\nloadings5 = pca_loadings(pca5)\\nloadings5 = pd.DataFrame(loadings5)\\nloadings5.index = columns\\nloadings5.columns = [f\\\"component_{i}\\\" for i in range(loadings5.shape[1])]\";\n",
       "                var nbb_cells = Jupyter.notebook.get_cells();\n",
       "                for (var i = 0; i < nbb_cells.length; ++i) {\n",
       "                    if (nbb_cells[i].input_prompt_number == nbb_cell_id) {\n",
       "                        if (nbb_cells[i].get_text() == nbb_unformatted_code) {\n",
       "                             nbb_cells[i].set_text(nbb_formatted_code);\n",
       "                        }\n",
       "                        break;\n",
       "                    }\n",
       "                }\n",
       "            }, 500);\n",
       "            "
      ],
      "text/plain": [
       "<IPython.core.display.Javascript object>"
      ]
     },
     "metadata": {},
     "output_type": "display_data"
    }
   ],
   "source": [
    "pca5 = PCA(n_components=5)\n",
    "pca5_df = pca5.fit_transform(scaled)\n",
    "loadings5 = pca_loadings(pca5)\n",
    "loadings5 = pd.DataFrame(loadings5)\n",
    "loadings5.index = columns\n",
    "loadings5.columns = [f\"component_{i}\" for i in range(loadings5.shape[1])]"
   ]
  },
  {
   "cell_type": "code",
   "execution_count": 37,
   "metadata": {
    "scrolled": false
   },
   "outputs": [
    {
     "data": {
      "text/html": [
       "<div>\n",
       "<style scoped>\n",
       "    .dataframe tbody tr th:only-of-type {\n",
       "        vertical-align: middle;\n",
       "    }\n",
       "\n",
       "    .dataframe tbody tr th {\n",
       "        vertical-align: top;\n",
       "    }\n",
       "\n",
       "    .dataframe thead th {\n",
       "        text-align: right;\n",
       "    }\n",
       "</style>\n",
       "<table border=\"1\" class=\"dataframe\">\n",
       "  <thead>\n",
       "    <tr style=\"text-align: right;\">\n",
       "      <th></th>\n",
       "      <th>component_0</th>\n",
       "      <th>component_1</th>\n",
       "      <th>component_2</th>\n",
       "      <th>component_3</th>\n",
       "      <th>component_4</th>\n",
       "      <th>component_5</th>\n",
       "    </tr>\n",
       "  </thead>\n",
       "  <tbody>\n",
       "    <tr>\n",
       "      <th>open</th>\n",
       "      <td>0.993322</td>\n",
       "      <td>0.018758</td>\n",
       "      <td>-0.000954</td>\n",
       "      <td>0.002098</td>\n",
       "      <td>-0.012343</td>\n",
       "      <td>-0.022728</td>\n",
       "    </tr>\n",
       "    <tr>\n",
       "      <th>close</th>\n",
       "      <td>0.993163</td>\n",
       "      <td>0.015289</td>\n",
       "      <td>-0.013385</td>\n",
       "      <td>0.000648</td>\n",
       "      <td>-0.023737</td>\n",
       "      <td>-0.021566</td>\n",
       "    </tr>\n",
       "    <tr>\n",
       "      <th>low</th>\n",
       "      <td>0.992430</td>\n",
       "      <td>0.015509</td>\n",
       "      <td>-0.007507</td>\n",
       "      <td>0.001136</td>\n",
       "      <td>-0.018557</td>\n",
       "      <td>-0.022027</td>\n",
       "    </tr>\n",
       "    <tr>\n",
       "      <th>high</th>\n",
       "      <td>0.993982</td>\n",
       "      <td>0.018206</td>\n",
       "      <td>-0.007092</td>\n",
       "      <td>0.001535</td>\n",
       "      <td>-0.018021</td>\n",
       "      <td>-0.022185</td>\n",
       "    </tr>\n",
       "    <tr>\n",
       "      <th>volume</th>\n",
       "      <td>-0.066847</td>\n",
       "      <td>0.781176</td>\n",
       "      <td>-0.036316</td>\n",
       "      <td>0.021095</td>\n",
       "      <td>-0.121912</td>\n",
       "      <td>0.605955</td>\n",
       "    </tr>\n",
       "    <tr>\n",
       "      <th>year</th>\n",
       "      <td>0.206211</td>\n",
       "      <td>-0.588689</td>\n",
       "      <td>-0.002530</td>\n",
       "      <td>-0.165417</td>\n",
       "      <td>0.272198</td>\n",
       "      <td>0.713057</td>\n",
       "    </tr>\n",
       "    <tr>\n",
       "      <th>month</th>\n",
       "      <td>0.018161</td>\n",
       "      <td>-0.218040</td>\n",
       "      <td>0.386848</td>\n",
       "      <td>0.769910</td>\n",
       "      <td>-0.429552</td>\n",
       "      <td>0.158582</td>\n",
       "    </tr>\n",
       "    <tr>\n",
       "      <th>day</th>\n",
       "      <td>0.000170</td>\n",
       "      <td>-0.057197</td>\n",
       "      <td>0.585912</td>\n",
       "      <td>-0.610525</td>\n",
       "      <td>-0.529430</td>\n",
       "      <td>0.017614</td>\n",
       "    </tr>\n",
       "    <tr>\n",
       "      <th>co_dif</th>\n",
       "      <td>-0.013760</td>\n",
       "      <td>-0.200327</td>\n",
       "      <td>-0.717600</td>\n",
       "      <td>-0.083681</td>\n",
       "      <td>-0.657671</td>\n",
       "      <td>0.067185</td>\n",
       "    </tr>\n",
       "    <tr>\n",
       "      <th>hl_dif</th>\n",
       "      <td>0.852792</td>\n",
       "      <td>0.126082</td>\n",
       "      <td>0.011532</td>\n",
       "      <td>0.017719</td>\n",
       "      <td>0.007887</td>\n",
       "      <td>-0.024140</td>\n",
       "    </tr>\n",
       "  </tbody>\n",
       "</table>\n",
       "</div>"
      ],
      "text/plain": [
       "        component_0  component_1  component_2  component_3  component_4  \\\n",
       "open       0.993322     0.018758    -0.000954     0.002098    -0.012343   \n",
       "close      0.993163     0.015289    -0.013385     0.000648    -0.023737   \n",
       "low        0.992430     0.015509    -0.007507     0.001136    -0.018557   \n",
       "high       0.993982     0.018206    -0.007092     0.001535    -0.018021   \n",
       "volume    -0.066847     0.781176    -0.036316     0.021095    -0.121912   \n",
       "year       0.206211    -0.588689    -0.002530    -0.165417     0.272198   \n",
       "month      0.018161    -0.218040     0.386848     0.769910    -0.429552   \n",
       "day        0.000170    -0.057197     0.585912    -0.610525    -0.529430   \n",
       "co_dif    -0.013760    -0.200327    -0.717600    -0.083681    -0.657671   \n",
       "hl_dif     0.852792     0.126082     0.011532     0.017719     0.007887   \n",
       "\n",
       "        component_5  \n",
       "open      -0.022728  \n",
       "close     -0.021566  \n",
       "low       -0.022027  \n",
       "high      -0.022185  \n",
       "volume     0.605955  \n",
       "year       0.713057  \n",
       "month      0.158582  \n",
       "day        0.017614  \n",
       "co_dif     0.067185  \n",
       "hl_dif    -0.024140  "
      ]
     },
     "execution_count": 37,
     "metadata": {},
     "output_type": "execute_result"
    },
    {
     "data": {
      "application/javascript": [
       "\n",
       "            setTimeout(function() {\n",
       "                var nbb_cell_id = 37;\n",
       "                var nbb_unformatted_code = \"# Interesting. Stocks seem to be more expensive at vertain parts of the year. The month can also cheapen a stock\\nloadings\";\n",
       "                var nbb_formatted_code = \"# Interesting. Stocks seem to be more expensive at vertain parts of the year. The month can also cheapen a stock\\nloadings\";\n",
       "                var nbb_cells = Jupyter.notebook.get_cells();\n",
       "                for (var i = 0; i < nbb_cells.length; ++i) {\n",
       "                    if (nbb_cells[i].input_prompt_number == nbb_cell_id) {\n",
       "                        if (nbb_cells[i].get_text() == nbb_unformatted_code) {\n",
       "                             nbb_cells[i].set_text(nbb_formatted_code);\n",
       "                        }\n",
       "                        break;\n",
       "                    }\n",
       "                }\n",
       "            }, 500);\n",
       "            "
      ],
      "text/plain": [
       "<IPython.core.display.Javascript object>"
      ]
     },
     "metadata": {},
     "output_type": "display_data"
    }
   ],
   "source": [
    "# Interesting. Stocks seem to be more expensive at vertain parts of the year. The month can also cheapen a stock\n",
    "loadings"
   ]
  },
  {
   "cell_type": "code",
   "execution_count": 38,
   "metadata": {},
   "outputs": [
    {
     "data": {
      "text/html": [
       "<div>\n",
       "<style scoped>\n",
       "    .dataframe tbody tr th:only-of-type {\n",
       "        vertical-align: middle;\n",
       "    }\n",
       "\n",
       "    .dataframe tbody tr th {\n",
       "        vertical-align: top;\n",
       "    }\n",
       "\n",
       "    .dataframe thead th {\n",
       "        text-align: right;\n",
       "    }\n",
       "</style>\n",
       "<table border=\"1\" class=\"dataframe\">\n",
       "  <thead>\n",
       "    <tr style=\"text-align: right;\">\n",
       "      <th></th>\n",
       "      <th>component_0</th>\n",
       "      <th>component_1</th>\n",
       "      <th>component_2</th>\n",
       "      <th>component_3</th>\n",
       "      <th>component_4</th>\n",
       "    </tr>\n",
       "  </thead>\n",
       "  <tbody>\n",
       "    <tr>\n",
       "      <th>open</th>\n",
       "      <td>0.993322</td>\n",
       "      <td>0.018758</td>\n",
       "      <td>-0.000954</td>\n",
       "      <td>0.002098</td>\n",
       "      <td>-0.012343</td>\n",
       "    </tr>\n",
       "    <tr>\n",
       "      <th>close</th>\n",
       "      <td>0.993163</td>\n",
       "      <td>0.015289</td>\n",
       "      <td>-0.013385</td>\n",
       "      <td>0.000648</td>\n",
       "      <td>-0.023737</td>\n",
       "    </tr>\n",
       "    <tr>\n",
       "      <th>low</th>\n",
       "      <td>0.992430</td>\n",
       "      <td>0.015509</td>\n",
       "      <td>-0.007507</td>\n",
       "      <td>0.001136</td>\n",
       "      <td>-0.018557</td>\n",
       "    </tr>\n",
       "    <tr>\n",
       "      <th>high</th>\n",
       "      <td>0.993982</td>\n",
       "      <td>0.018206</td>\n",
       "      <td>-0.007092</td>\n",
       "      <td>0.001535</td>\n",
       "      <td>-0.018021</td>\n",
       "    </tr>\n",
       "    <tr>\n",
       "      <th>volume</th>\n",
       "      <td>-0.066847</td>\n",
       "      <td>0.781176</td>\n",
       "      <td>-0.036316</td>\n",
       "      <td>0.021095</td>\n",
       "      <td>-0.121912</td>\n",
       "    </tr>\n",
       "    <tr>\n",
       "      <th>year</th>\n",
       "      <td>0.206211</td>\n",
       "      <td>-0.588689</td>\n",
       "      <td>-0.002530</td>\n",
       "      <td>-0.165417</td>\n",
       "      <td>0.272198</td>\n",
       "    </tr>\n",
       "    <tr>\n",
       "      <th>month</th>\n",
       "      <td>0.018161</td>\n",
       "      <td>-0.218040</td>\n",
       "      <td>0.386848</td>\n",
       "      <td>0.769910</td>\n",
       "      <td>-0.429552</td>\n",
       "    </tr>\n",
       "    <tr>\n",
       "      <th>day</th>\n",
       "      <td>0.000170</td>\n",
       "      <td>-0.057197</td>\n",
       "      <td>0.585912</td>\n",
       "      <td>-0.610525</td>\n",
       "      <td>-0.529430</td>\n",
       "    </tr>\n",
       "    <tr>\n",
       "      <th>co_dif</th>\n",
       "      <td>-0.013760</td>\n",
       "      <td>-0.200327</td>\n",
       "      <td>-0.717600</td>\n",
       "      <td>-0.083681</td>\n",
       "      <td>-0.657671</td>\n",
       "    </tr>\n",
       "    <tr>\n",
       "      <th>hl_dif</th>\n",
       "      <td>0.852792</td>\n",
       "      <td>0.126082</td>\n",
       "      <td>0.011532</td>\n",
       "      <td>0.017719</td>\n",
       "      <td>0.007887</td>\n",
       "    </tr>\n",
       "  </tbody>\n",
       "</table>\n",
       "</div>"
      ],
      "text/plain": [
       "        component_0  component_1  component_2  component_3  component_4\n",
       "open       0.993322     0.018758    -0.000954     0.002098    -0.012343\n",
       "close      0.993163     0.015289    -0.013385     0.000648    -0.023737\n",
       "low        0.992430     0.015509    -0.007507     0.001136    -0.018557\n",
       "high       0.993982     0.018206    -0.007092     0.001535    -0.018021\n",
       "volume    -0.066847     0.781176    -0.036316     0.021095    -0.121912\n",
       "year       0.206211    -0.588689    -0.002530    -0.165417     0.272198\n",
       "month      0.018161    -0.218040     0.386848     0.769910    -0.429552\n",
       "day        0.000170    -0.057197     0.585912    -0.610525    -0.529430\n",
       "co_dif    -0.013760    -0.200327    -0.717600    -0.083681    -0.657671\n",
       "hl_dif     0.852792     0.126082     0.011532     0.017719     0.007887"
      ]
     },
     "execution_count": 38,
     "metadata": {},
     "output_type": "execute_result"
    },
    {
     "data": {
      "application/javascript": [
       "\n",
       "            setTimeout(function() {\n",
       "                var nbb_cell_id = 38;\n",
       "                var nbb_unformatted_code = \"loadings5\";\n",
       "                var nbb_formatted_code = \"loadings5\";\n",
       "                var nbb_cells = Jupyter.notebook.get_cells();\n",
       "                for (var i = 0; i < nbb_cells.length; ++i) {\n",
       "                    if (nbb_cells[i].input_prompt_number == nbb_cell_id) {\n",
       "                        if (nbb_cells[i].get_text() == nbb_unformatted_code) {\n",
       "                             nbb_cells[i].set_text(nbb_formatted_code);\n",
       "                        }\n",
       "                        break;\n",
       "                    }\n",
       "                }\n",
       "            }, 500);\n",
       "            "
      ],
      "text/plain": [
       "<IPython.core.display.Javascript object>"
      ]
     },
     "metadata": {},
     "output_type": "display_data"
    }
   ],
   "source": [
    "loadings5"
   ]
  },
  {
   "cell_type": "markdown",
   "metadata": {},
   "source": [
    "# Let's check on UMAP to see if it does anything PCA doesn't"
   ]
  },
  {
   "cell_type": "code",
   "execution_count": 39,
   "metadata": {},
   "outputs": [
    {
     "name": "stderr",
     "output_type": "stream",
     "text": [
      "C:\\Users\\jonat\\anaconda3\\lib\\site-packages\\sklearn\\manifold\\_spectral_embedding.py:236: UserWarning: Graph is not fully connected, spectral embedding may not work as expected.\n",
      "  warnings.warn(\"Graph is not fully connected, spectral embedding\"\n"
     ]
    },
    {
     "data": {
      "application/javascript": [
       "\n",
       "            setTimeout(function() {\n",
       "                var nbb_cell_id = 39;\n",
       "                var nbb_unformatted_code = \"# Let's see if another method would be better for dimensionality reduction. UMAP TIME!\\n# if i put in all of scaled, it can't deal with it. Time to random sample\\numap = UMAP(n_neighbors=6, min_dist=0.3, metric=\\\"euclidean\\\")\\nfeeling_like_will = umap.fit_transform(sample)\\n\\n# feeling_like_will\";\n",
       "                var nbb_formatted_code = \"# Let's see if another method would be better for dimensionality reduction. UMAP TIME!\\n# if i put in all of scaled, it can't deal with it. Time to random sample\\numap = UMAP(n_neighbors=6, min_dist=0.3, metric=\\\"euclidean\\\")\\nfeeling_like_will = umap.fit_transform(sample)\\n\\n# feeling_like_will\";\n",
       "                var nbb_cells = Jupyter.notebook.get_cells();\n",
       "                for (var i = 0; i < nbb_cells.length; ++i) {\n",
       "                    if (nbb_cells[i].input_prompt_number == nbb_cell_id) {\n",
       "                        if (nbb_cells[i].get_text() == nbb_unformatted_code) {\n",
       "                             nbb_cells[i].set_text(nbb_formatted_code);\n",
       "                        }\n",
       "                        break;\n",
       "                    }\n",
       "                }\n",
       "            }, 500);\n",
       "            "
      ],
      "text/plain": [
       "<IPython.core.display.Javascript object>"
      ]
     },
     "metadata": {},
     "output_type": "display_data"
    }
   ],
   "source": [
    "# Let's see if another method would be better for dimensionality reduction. UMAP TIME!\n",
    "# if i put in all of scaled, it can't deal with it. Time to random sample\n",
    "umap = UMAP(n_neighbors=6, min_dist=0.3, metric=\"euclidean\")\n",
    "feeling_like_will = umap.fit_transform(sample)\n",
    "\n",
    "# feeling_like_will"
   ]
  },
  {
   "cell_type": "code",
   "execution_count": 40,
   "metadata": {},
   "outputs": [
    {
     "data": {
      "text/plain": [
       "array([[ 7.3293424 , 10.837978  ],\n",
       "       [16.422075  , 10.868607  ],\n",
       "       [ 0.84369963, 10.012195  ],\n",
       "       ...,\n",
       "       [ 8.348716  ,  3.730916  ],\n",
       "       [-7.9088182 ,  7.6053987 ],\n",
       "       [10.599534  , -2.4902887 ]], dtype=float32)"
      ]
     },
     "execution_count": 40,
     "metadata": {},
     "output_type": "execute_result"
    },
    {
     "data": {
      "application/javascript": [
       "\n",
       "            setTimeout(function() {\n",
       "                var nbb_cell_id = 40;\n",
       "                var nbb_unformatted_code = \"feeling_like_will\";\n",
       "                var nbb_formatted_code = \"feeling_like_will\";\n",
       "                var nbb_cells = Jupyter.notebook.get_cells();\n",
       "                for (var i = 0; i < nbb_cells.length; ++i) {\n",
       "                    if (nbb_cells[i].input_prompt_number == nbb_cell_id) {\n",
       "                        if (nbb_cells[i].get_text() == nbb_unformatted_code) {\n",
       "                             nbb_cells[i].set_text(nbb_formatted_code);\n",
       "                        }\n",
       "                        break;\n",
       "                    }\n",
       "                }\n",
       "            }, 500);\n",
       "            "
      ],
      "text/plain": [
       "<IPython.core.display.Javascript object>"
      ]
     },
     "metadata": {},
     "output_type": "display_data"
    }
   ],
   "source": [
    "feeling_like_will"
   ]
  },
  {
   "cell_type": "code",
   "execution_count": 41,
   "metadata": {},
   "outputs": [
    {
     "data": {
      "application/javascript": [
       "\n",
       "            setTimeout(function() {\n",
       "                var nbb_cell_id = 41;\n",
       "                var nbb_unformatted_code = \"umap_df = pd.DataFrame(feeling_like_will, index=sample.index)\\n# px.scatter(umap_df, x=feeling_like_will[:, 0], y=feeling_like_will[:, 1])\";\n",
       "                var nbb_formatted_code = \"umap_df = pd.DataFrame(feeling_like_will, index=sample.index)\\n# px.scatter(umap_df, x=feeling_like_will[:, 0], y=feeling_like_will[:, 1])\";\n",
       "                var nbb_cells = Jupyter.notebook.get_cells();\n",
       "                for (var i = 0; i < nbb_cells.length; ++i) {\n",
       "                    if (nbb_cells[i].input_prompt_number == nbb_cell_id) {\n",
       "                        if (nbb_cells[i].get_text() == nbb_unformatted_code) {\n",
       "                             nbb_cells[i].set_text(nbb_formatted_code);\n",
       "                        }\n",
       "                        break;\n",
       "                    }\n",
       "                }\n",
       "            }, 500);\n",
       "            "
      ],
      "text/plain": [
       "<IPython.core.display.Javascript object>"
      ]
     },
     "metadata": {},
     "output_type": "display_data"
    }
   ],
   "source": [
    "umap_df = pd.DataFrame(feeling_like_will, index=sample.index)\n",
    "# px.scatter(umap_df, x=feeling_like_will[:, 0], y=feeling_like_will[:, 1])"
   ]
  },
  {
   "cell_type": "code",
   "execution_count": 42,
   "metadata": {
    "scrolled": true
   },
   "outputs": [
    {
     "name": "stderr",
     "output_type": "stream",
     "text": [
      "C:\\Users\\jonat\\anaconda3\\lib\\site-packages\\sklearn\\manifold\\_spectral_embedding.py:236: UserWarning: Graph is not fully connected, spectral embedding may not work as expected.\n",
      "  warnings.warn(\"Graph is not fully connected, spectral embedding\"\n"
     ]
    },
    {
     "data": {
      "application/javascript": [
       "\n",
       "            setTimeout(function() {\n",
       "                var nbb_cell_id = 42;\n",
       "                var nbb_unformatted_code = \"umap = UMAP(n_neighbors=6, min_dist=0.6, metric=\\\"euclidean\\\")\\nfeeling_like_will = umap.fit_transform(sample)\\numap_df = pd.DataFrame(feeling_like_will, index=sample.index)\\n# px.scatter(umap_df, x=feeling_like_will[:, 0], y=feeling_like_will[:, 1])\";\n",
       "                var nbb_formatted_code = \"umap = UMAP(n_neighbors=6, min_dist=0.6, metric=\\\"euclidean\\\")\\nfeeling_like_will = umap.fit_transform(sample)\\numap_df = pd.DataFrame(feeling_like_will, index=sample.index)\\n# px.scatter(umap_df, x=feeling_like_will[:, 0], y=feeling_like_will[:, 1])\";\n",
       "                var nbb_cells = Jupyter.notebook.get_cells();\n",
       "                for (var i = 0; i < nbb_cells.length; ++i) {\n",
       "                    if (nbb_cells[i].input_prompt_number == nbb_cell_id) {\n",
       "                        if (nbb_cells[i].get_text() == nbb_unformatted_code) {\n",
       "                             nbb_cells[i].set_text(nbb_formatted_code);\n",
       "                        }\n",
       "                        break;\n",
       "                    }\n",
       "                }\n",
       "            }, 500);\n",
       "            "
      ],
      "text/plain": [
       "<IPython.core.display.Javascript object>"
      ]
     },
     "metadata": {},
     "output_type": "display_data"
    }
   ],
   "source": [
    "umap = UMAP(n_neighbors=6, min_dist=0.6, metric=\"euclidean\")\n",
    "feeling_like_will = umap.fit_transform(sample)\n",
    "umap_df = pd.DataFrame(feeling_like_will, index=sample.index)\n",
    "# px.scatter(umap_df, x=feeling_like_will[:, 0], y=feeling_like_will[:, 1])"
   ]
  },
  {
   "cell_type": "code",
   "execution_count": 43,
   "metadata": {},
   "outputs": [
    {
     "name": "stderr",
     "output_type": "stream",
     "text": [
      "C:\\Users\\jonat\\anaconda3\\lib\\site-packages\\sklearn\\manifold\\_spectral_embedding.py:236: UserWarning: Graph is not fully connected, spectral embedding may not work as expected.\n",
      "  warnings.warn(\"Graph is not fully connected, spectral embedding\"\n"
     ]
    },
    {
     "data": {
      "application/javascript": [
       "\n",
       "            setTimeout(function() {\n",
       "                var nbb_cell_id = 43;\n",
       "                var nbb_unformatted_code = \"umap = UMAP(n_neighbors=5, min_dist=0.6, metric=\\\"euclidean\\\")\\nfeeling_like_will = umap.fit_transform(sample)\\numap_df = pd.DataFrame(feeling_like_will, index=sample.index)\\n# px.scatter(umap_df, x=feeling_like_will[:, 0], y=feeling_like_will[:, 1])\";\n",
       "                var nbb_formatted_code = \"umap = UMAP(n_neighbors=5, min_dist=0.6, metric=\\\"euclidean\\\")\\nfeeling_like_will = umap.fit_transform(sample)\\numap_df = pd.DataFrame(feeling_like_will, index=sample.index)\\n# px.scatter(umap_df, x=feeling_like_will[:, 0], y=feeling_like_will[:, 1])\";\n",
       "                var nbb_cells = Jupyter.notebook.get_cells();\n",
       "                for (var i = 0; i < nbb_cells.length; ++i) {\n",
       "                    if (nbb_cells[i].input_prompt_number == nbb_cell_id) {\n",
       "                        if (nbb_cells[i].get_text() == nbb_unformatted_code) {\n",
       "                             nbb_cells[i].set_text(nbb_formatted_code);\n",
       "                        }\n",
       "                        break;\n",
       "                    }\n",
       "                }\n",
       "            }, 500);\n",
       "            "
      ],
      "text/plain": [
       "<IPython.core.display.Javascript object>"
      ]
     },
     "metadata": {},
     "output_type": "display_data"
    }
   ],
   "source": [
    "umap = UMAP(n_neighbors=5, min_dist=0.6, metric=\"euclidean\")\n",
    "feeling_like_will = umap.fit_transform(sample)\n",
    "umap_df = pd.DataFrame(feeling_like_will, index=sample.index)\n",
    "# px.scatter(umap_df, x=feeling_like_will[:, 0], y=feeling_like_will[:, 1])"
   ]
  },
  {
   "cell_type": "markdown",
   "metadata": {},
   "source": [
    "# These don't really look like they add much information so I'm just going to look at the clustered data. It seems like 6 neighbors has better information for stock traders as I will explain below. As a reminder, here is the mean of that group and the scatterplot"
   ]
  },
  {
   "cell_type": "code",
   "execution_count": 44,
   "metadata": {},
   "outputs": [
    {
     "data": {
      "text/plain": [
       "4    283830\n",
       "2    235817\n",
       "0    232880\n",
       "5     55816\n",
       "1      9531\n",
       "3      4980\n",
       "Name: label, dtype: int64"
      ]
     },
     "execution_count": 44,
     "metadata": {},
     "output_type": "execute_result"
    },
    {
     "data": {
      "application/javascript": [
       "\n",
       "            setTimeout(function() {\n",
       "                var nbb_cell_id = 44;\n",
       "                var nbb_unformatted_code = \"number[\\\"label\\\"].value_counts()\";\n",
       "                var nbb_formatted_code = \"number[\\\"label\\\"].value_counts()\";\n",
       "                var nbb_cells = Jupyter.notebook.get_cells();\n",
       "                for (var i = 0; i < nbb_cells.length; ++i) {\n",
       "                    if (nbb_cells[i].input_prompt_number == nbb_cell_id) {\n",
       "                        if (nbb_cells[i].get_text() == nbb_unformatted_code) {\n",
       "                             nbb_cells[i].set_text(nbb_formatted_code);\n",
       "                        }\n",
       "                        break;\n",
       "                    }\n",
       "                }\n",
       "            }, 500);\n",
       "            "
      ],
      "text/plain": [
       "<IPython.core.display.Javascript object>"
      ]
     },
     "metadata": {},
     "output_type": "display_data"
    }
   ],
   "source": [
    "number[\"label\"].value_counts()"
   ]
  },
  {
   "cell_type": "code",
   "execution_count": 45,
   "metadata": {},
   "outputs": [
    {
     "data": {
      "text/html": [
       "<div>\n",
       "<style scoped>\n",
       "    .dataframe tbody tr th:only-of-type {\n",
       "        vertical-align: middle;\n",
       "    }\n",
       "\n",
       "    .dataframe tbody tr th {\n",
       "        vertical-align: top;\n",
       "    }\n",
       "\n",
       "    .dataframe thead th {\n",
       "        text-align: right;\n",
       "    }\n",
       "</style>\n",
       "<table border=\"1\" class=\"dataframe\">\n",
       "  <thead>\n",
       "    <tr style=\"text-align: right;\">\n",
       "      <th></th>\n",
       "      <th>open</th>\n",
       "      <th>close</th>\n",
       "      <th>low</th>\n",
       "      <th>high</th>\n",
       "      <th>volume</th>\n",
       "      <th>year</th>\n",
       "      <th>month</th>\n",
       "      <th>day</th>\n",
       "      <th>co_dif</th>\n",
       "      <th>hl_dif</th>\n",
       "      <th>label4</th>\n",
       "    </tr>\n",
       "    <tr>\n",
       "      <th>label</th>\n",
       "      <th></th>\n",
       "      <th></th>\n",
       "      <th></th>\n",
       "      <th></th>\n",
       "      <th></th>\n",
       "      <th></th>\n",
       "      <th></th>\n",
       "      <th></th>\n",
       "      <th></th>\n",
       "      <th></th>\n",
       "      <th></th>\n",
       "    </tr>\n",
       "  </thead>\n",
       "  <tbody>\n",
       "    <tr>\n",
       "      <th>0</th>\n",
       "      <td>47.345127</td>\n",
       "      <td>47.366777</td>\n",
       "      <td>46.850179</td>\n",
       "      <td>47.840323</td>\n",
       "      <td>5.150625e+06</td>\n",
       "      <td>2011.618769</td>\n",
       "      <td>9.673742</td>\n",
       "      <td>15.789926</td>\n",
       "      <td>0.021649</td>\n",
       "      <td>0.990144</td>\n",
       "      <td>0.812715</td>\n",
       "    </tr>\n",
       "    <tr>\n",
       "      <th>1</th>\n",
       "      <td>668.249481</td>\n",
       "      <td>668.119931</td>\n",
       "      <td>661.466763</td>\n",
       "      <td>674.545982</td>\n",
       "      <td>7.626819e+06</td>\n",
       "      <td>2013.678208</td>\n",
       "      <td>6.592173</td>\n",
       "      <td>15.732347</td>\n",
       "      <td>-0.129550</td>\n",
       "      <td>13.079219</td>\n",
       "      <td>2.000000</td>\n",
       "    </tr>\n",
       "    <tr>\n",
       "      <th>2</th>\n",
       "      <td>47.092356</td>\n",
       "      <td>47.114194</td>\n",
       "      <td>46.614895</td>\n",
       "      <td>47.566464</td>\n",
       "      <td>5.503233e+06</td>\n",
       "      <td>2011.687520</td>\n",
       "      <td>3.335667</td>\n",
       "      <td>15.517456</td>\n",
       "      <td>0.021838</td>\n",
       "      <td>0.951569</td>\n",
       "      <td>0.835232</td>\n",
       "    </tr>\n",
       "    <tr>\n",
       "      <th>3</th>\n",
       "      <td>57.027689</td>\n",
       "      <td>56.969843</td>\n",
       "      <td>56.127177</td>\n",
       "      <td>57.793777</td>\n",
       "      <td>1.176353e+08</td>\n",
       "      <td>2011.956024</td>\n",
       "      <td>6.237349</td>\n",
       "      <td>15.830321</td>\n",
       "      <td>-0.057845</td>\n",
       "      <td>1.666600</td>\n",
       "      <td>1.097590</td>\n",
       "    </tr>\n",
       "    <tr>\n",
       "      <th>4</th>\n",
       "      <td>66.436585</td>\n",
       "      <td>66.452960</td>\n",
       "      <td>65.828334</td>\n",
       "      <td>67.037649</td>\n",
       "      <td>4.069846e+06</td>\n",
       "      <td>2015.030067</td>\n",
       "      <td>6.622119</td>\n",
       "      <td>15.793341</td>\n",
       "      <td>0.016375</td>\n",
       "      <td>1.209315</td>\n",
       "      <td>0.023838</td>\n",
       "    </tr>\n",
       "    <tr>\n",
       "      <th>5</th>\n",
       "      <td>196.768452</td>\n",
       "      <td>196.831169</td>\n",
       "      <td>194.581168</td>\n",
       "      <td>198.925613</td>\n",
       "      <td>2.599921e+06</td>\n",
       "      <td>2013.978949</td>\n",
       "      <td>6.750233</td>\n",
       "      <td>15.667819</td>\n",
       "      <td>0.062717</td>\n",
       "      <td>4.344445</td>\n",
       "      <td>2.997868</td>\n",
       "    </tr>\n",
       "  </tbody>\n",
       "</table>\n",
       "</div>"
      ],
      "text/plain": [
       "             open       close         low        high        volume  \\\n",
       "label                                                                 \n",
       "0       47.345127   47.366777   46.850179   47.840323  5.150625e+06   \n",
       "1      668.249481  668.119931  661.466763  674.545982  7.626819e+06   \n",
       "2       47.092356   47.114194   46.614895   47.566464  5.503233e+06   \n",
       "3       57.027689   56.969843   56.127177   57.793777  1.176353e+08   \n",
       "4       66.436585   66.452960   65.828334   67.037649  4.069846e+06   \n",
       "5      196.768452  196.831169  194.581168  198.925613  2.599921e+06   \n",
       "\n",
       "              year     month        day    co_dif     hl_dif    label4  \n",
       "label                                                                   \n",
       "0      2011.618769  9.673742  15.789926  0.021649   0.990144  0.812715  \n",
       "1      2013.678208  6.592173  15.732347 -0.129550  13.079219  2.000000  \n",
       "2      2011.687520  3.335667  15.517456  0.021838   0.951569  0.835232  \n",
       "3      2011.956024  6.237349  15.830321 -0.057845   1.666600  1.097590  \n",
       "4      2015.030067  6.622119  15.793341  0.016375   1.209315  0.023838  \n",
       "5      2013.978949  6.750233  15.667819  0.062717   4.344445  2.997868  "
      ]
     },
     "execution_count": 45,
     "metadata": {},
     "output_type": "execute_result"
    },
    {
     "data": {
      "application/javascript": [
       "\n",
       "            setTimeout(function() {\n",
       "                var nbb_cell_id = 45;\n",
       "                var nbb_unformatted_code = \"number.groupby(\\\"label\\\").mean()\";\n",
       "                var nbb_formatted_code = \"number.groupby(\\\"label\\\").mean()\";\n",
       "                var nbb_cells = Jupyter.notebook.get_cells();\n",
       "                for (var i = 0; i < nbb_cells.length; ++i) {\n",
       "                    if (nbb_cells[i].input_prompt_number == nbb_cell_id) {\n",
       "                        if (nbb_cells[i].get_text() == nbb_unformatted_code) {\n",
       "                             nbb_cells[i].set_text(nbb_formatted_code);\n",
       "                        }\n",
       "                        break;\n",
       "                    }\n",
       "                }\n",
       "            }, 500);\n",
       "            "
      ],
      "text/plain": [
       "<IPython.core.display.Javascript object>"
      ]
     },
     "metadata": {},
     "output_type": "display_data"
    }
   ],
   "source": [
    "number.groupby(\"label\").mean()"
   ]
  },
  {
   "cell_type": "code",
   "execution_count": 46,
   "metadata": {},
   "outputs": [
    {
     "data": {
      "text/plain": [
       "Index(['open', 'close', 'low', 'high', 'volume', 'year', 'month', 'day',\n",
       "       'co_dif', 'hl_dif', 'label', 'label4'],\n",
       "      dtype='object')"
      ]
     },
     "execution_count": 46,
     "metadata": {},
     "output_type": "execute_result"
    },
    {
     "data": {
      "application/javascript": [
       "\n",
       "            setTimeout(function() {\n",
       "                var nbb_cell_id = 46;\n",
       "                var nbb_unformatted_code = \"number.columns\";\n",
       "                var nbb_formatted_code = \"number.columns\";\n",
       "                var nbb_cells = Jupyter.notebook.get_cells();\n",
       "                for (var i = 0; i < nbb_cells.length; ++i) {\n",
       "                    if (nbb_cells[i].input_prompt_number == nbb_cell_id) {\n",
       "                        if (nbb_cells[i].get_text() == nbb_unformatted_code) {\n",
       "                             nbb_cells[i].set_text(nbb_formatted_code);\n",
       "                        }\n",
       "                        break;\n",
       "                    }\n",
       "                }\n",
       "            }, 500);\n",
       "            "
      ],
      "text/plain": [
       "<IPython.core.display.Javascript object>"
      ]
     },
     "metadata": {},
     "output_type": "display_data"
    }
   ],
   "source": [
    "number.columns"
   ]
  },
  {
   "cell_type": "code",
   "execution_count": 47,
   "metadata": {},
   "outputs": [
    {
     "data": {
      "application/javascript": [
       "\n",
       "            setTimeout(function() {\n",
       "                var nbb_cell_id = 47;\n",
       "                var nbb_unformatted_code = \"# number = number.drop(columns=\\\"label4\\\")\\n# sns.pairplot(number, hue=\\\"label\\\")\\n# plt.show()\";\n",
       "                var nbb_formatted_code = \"# number = number.drop(columns=\\\"label4\\\")\\n# sns.pairplot(number, hue=\\\"label\\\")\\n# plt.show()\";\n",
       "                var nbb_cells = Jupyter.notebook.get_cells();\n",
       "                for (var i = 0; i < nbb_cells.length; ++i) {\n",
       "                    if (nbb_cells[i].input_prompt_number == nbb_cell_id) {\n",
       "                        if (nbb_cells[i].get_text() == nbb_unformatted_code) {\n",
       "                             nbb_cells[i].set_text(nbb_formatted_code);\n",
       "                        }\n",
       "                        break;\n",
       "                    }\n",
       "                }\n",
       "            }, 500);\n",
       "            "
      ],
      "text/plain": [
       "<IPython.core.display.Javascript object>"
      ]
     },
     "metadata": {},
     "output_type": "display_data"
    }
   ],
   "source": [
    "# number = number.drop(columns=\"label4\")\n",
    "# sns.pairplot(number, hue=\"label\")\n",
    "# plt.show()"
   ]
  },
  {
   "cell_type": "code",
   "execution_count": 48,
   "metadata": {},
   "outputs": [
    {
     "data": {
      "application/javascript": [
       "\n",
       "            setTimeout(function() {\n",
       "                var nbb_cell_id = 48;\n",
       "                var nbb_unformatted_code = \"df_full[\\\"label\\\"] = number[\\\"label\\\"]\";\n",
       "                var nbb_formatted_code = \"df_full[\\\"label\\\"] = number[\\\"label\\\"]\";\n",
       "                var nbb_cells = Jupyter.notebook.get_cells();\n",
       "                for (var i = 0; i < nbb_cells.length; ++i) {\n",
       "                    if (nbb_cells[i].input_prompt_number == nbb_cell_id) {\n",
       "                        if (nbb_cells[i].get_text() == nbb_unformatted_code) {\n",
       "                             nbb_cells[i].set_text(nbb_formatted_code);\n",
       "                        }\n",
       "                        break;\n",
       "                    }\n",
       "                }\n",
       "            }, 500);\n",
       "            "
      ],
      "text/plain": [
       "<IPython.core.display.Javascript object>"
      ]
     },
     "metadata": {},
     "output_type": "display_data"
    }
   ],
   "source": [
    "df_full[\"label\"] = number[\"label\"]"
   ]
  },
  {
   "cell_type": "code",
   "execution_count": 49,
   "metadata": {},
   "outputs": [
    {
     "data": {
      "text/html": [
       "<div>\n",
       "<style scoped>\n",
       "    .dataframe tbody tr th:only-of-type {\n",
       "        vertical-align: middle;\n",
       "    }\n",
       "\n",
       "    .dataframe tbody tr th {\n",
       "        vertical-align: top;\n",
       "    }\n",
       "\n",
       "    .dataframe thead th {\n",
       "        text-align: right;\n",
       "    }\n",
       "</style>\n",
       "<table border=\"1\" class=\"dataframe\">\n",
       "  <thead>\n",
       "    <tr style=\"text-align: right;\">\n",
       "      <th></th>\n",
       "      <th>symbol</th>\n",
       "      <th>open</th>\n",
       "      <th>close</th>\n",
       "      <th>low</th>\n",
       "      <th>high</th>\n",
       "      <th>volume</th>\n",
       "      <th>year</th>\n",
       "      <th>month</th>\n",
       "      <th>day</th>\n",
       "      <th>co_dif</th>\n",
       "      <th>hl_dif</th>\n",
       "      <th>label</th>\n",
       "    </tr>\n",
       "  </thead>\n",
       "  <tbody>\n",
       "    <tr>\n",
       "      <th>188</th>\n",
       "      <td>GOOG</td>\n",
       "      <td>626.951088</td>\n",
       "      <td>626.751061</td>\n",
       "      <td>624.241073</td>\n",
       "      <td>629.511067</td>\n",
       "      <td>3927000.0</td>\n",
       "      <td>2010</td>\n",
       "      <td>1</td>\n",
       "      <td>4</td>\n",
       "      <td>-0.200027</td>\n",
       "      <td>5.269994</td>\n",
       "      <td>1</td>\n",
       "    </tr>\n",
       "    <tr>\n",
       "      <th>189</th>\n",
       "      <td>GOOGL</td>\n",
       "      <td>626.950006</td>\n",
       "      <td>626.750011</td>\n",
       "      <td>624.240011</td>\n",
       "      <td>629.510005</td>\n",
       "      <td>3908400.0</td>\n",
       "      <td>2010</td>\n",
       "      <td>1</td>\n",
       "      <td>4</td>\n",
       "      <td>-0.199995</td>\n",
       "      <td>5.269994</td>\n",
       "      <td>1</td>\n",
       "    </tr>\n",
       "    <tr>\n",
       "      <th>655</th>\n",
       "      <td>GOOG</td>\n",
       "      <td>627.181073</td>\n",
       "      <td>623.991055</td>\n",
       "      <td>621.541045</td>\n",
       "      <td>627.841071</td>\n",
       "      <td>6031900.0</td>\n",
       "      <td>2010</td>\n",
       "      <td>1</td>\n",
       "      <td>5</td>\n",
       "      <td>-3.190018</td>\n",
       "      <td>6.300026</td>\n",
       "      <td>1</td>\n",
       "    </tr>\n",
       "    <tr>\n",
       "      <th>656</th>\n",
       "      <td>GOOGL</td>\n",
       "      <td>627.180001</td>\n",
       "      <td>623.990017</td>\n",
       "      <td>621.540016</td>\n",
       "      <td>627.839984</td>\n",
       "      <td>6003300.0</td>\n",
       "      <td>2010</td>\n",
       "      <td>1</td>\n",
       "      <td>5</td>\n",
       "      <td>-3.189984</td>\n",
       "      <td>6.299968</td>\n",
       "      <td>1</td>\n",
       "    </tr>\n",
       "    <tr>\n",
       "      <th>1122</th>\n",
       "      <td>GOOG</td>\n",
       "      <td>625.861078</td>\n",
       "      <td>608.261023</td>\n",
       "      <td>606.361042</td>\n",
       "      <td>625.861078</td>\n",
       "      <td>7987100.0</td>\n",
       "      <td>2010</td>\n",
       "      <td>1</td>\n",
       "      <td>6</td>\n",
       "      <td>-17.600055</td>\n",
       "      <td>19.500036</td>\n",
       "      <td>1</td>\n",
       "    </tr>\n",
       "    <tr>\n",
       "      <th>...</th>\n",
       "      <td>...</td>\n",
       "      <td>...</td>\n",
       "      <td>...</td>\n",
       "      <td>...</td>\n",
       "      <td>...</td>\n",
       "      <td>...</td>\n",
       "      <td>...</td>\n",
       "      <td>...</td>\n",
       "      <td>...</td>\n",
       "      <td>...</td>\n",
       "      <td>...</td>\n",
       "      <td>...</td>\n",
       "    </tr>\n",
       "    <tr>\n",
       "      <th>822436</th>\n",
       "      <td>AZO</td>\n",
       "      <td>800.349976</td>\n",
       "      <td>789.789978</td>\n",
       "      <td>787.190002</td>\n",
       "      <td>800.500000</td>\n",
       "      <td>246400.0</td>\n",
       "      <td>2016</td>\n",
       "      <td>12</td>\n",
       "      <td>30</td>\n",
       "      <td>-10.559998</td>\n",
       "      <td>13.309998</td>\n",
       "      <td>1</td>\n",
       "    </tr>\n",
       "    <tr>\n",
       "      <th>822575</th>\n",
       "      <td>GOOG</td>\n",
       "      <td>782.750000</td>\n",
       "      <td>771.820007</td>\n",
       "      <td>770.409973</td>\n",
       "      <td>782.780029</td>\n",
       "      <td>1760200.0</td>\n",
       "      <td>2016</td>\n",
       "      <td>12</td>\n",
       "      <td>30</td>\n",
       "      <td>-10.929993</td>\n",
       "      <td>12.370056</td>\n",
       "      <td>1</td>\n",
       "    </tr>\n",
       "    <tr>\n",
       "      <th>822576</th>\n",
       "      <td>GOOGL</td>\n",
       "      <td>803.210022</td>\n",
       "      <td>792.450012</td>\n",
       "      <td>789.619995</td>\n",
       "      <td>803.289978</td>\n",
       "      <td>1728300.0</td>\n",
       "      <td>2016</td>\n",
       "      <td>12</td>\n",
       "      <td>30</td>\n",
       "      <td>-10.760010</td>\n",
       "      <td>13.669983</td>\n",
       "      <td>1</td>\n",
       "    </tr>\n",
       "    <tr>\n",
       "      <th>822617</th>\n",
       "      <td>ISRG</td>\n",
       "      <td>638.320007</td>\n",
       "      <td>634.169983</td>\n",
       "      <td>632.250000</td>\n",
       "      <td>638.390015</td>\n",
       "      <td>267300.0</td>\n",
       "      <td>2016</td>\n",
       "      <td>12</td>\n",
       "      <td>30</td>\n",
       "      <td>-4.150024</td>\n",
       "      <td>6.140015</td>\n",
       "      <td>1</td>\n",
       "    </tr>\n",
       "    <tr>\n",
       "      <th>822715</th>\n",
       "      <td>PCLN</td>\n",
       "      <td>1483.489990</td>\n",
       "      <td>1466.060059</td>\n",
       "      <td>1462.339966</td>\n",
       "      <td>1483.489990</td>\n",
       "      <td>405100.0</td>\n",
       "      <td>2016</td>\n",
       "      <td>12</td>\n",
       "      <td>30</td>\n",
       "      <td>-17.429931</td>\n",
       "      <td>21.150024</td>\n",
       "      <td>1</td>\n",
       "    </tr>\n",
       "  </tbody>\n",
       "</table>\n",
       "<p>9531 rows × 12 columns</p>\n",
       "</div>"
      ],
      "text/plain": [
       "       symbol         open        close          low         high     volume  \\\n",
       "188      GOOG   626.951088   626.751061   624.241073   629.511067  3927000.0   \n",
       "189     GOOGL   626.950006   626.750011   624.240011   629.510005  3908400.0   \n",
       "655      GOOG   627.181073   623.991055   621.541045   627.841071  6031900.0   \n",
       "656     GOOGL   627.180001   623.990017   621.540016   627.839984  6003300.0   \n",
       "1122     GOOG   625.861078   608.261023   606.361042   625.861078  7987100.0   \n",
       "...       ...          ...          ...          ...          ...        ...   \n",
       "822436    AZO   800.349976   789.789978   787.190002   800.500000   246400.0   \n",
       "822575   GOOG   782.750000   771.820007   770.409973   782.780029  1760200.0   \n",
       "822576  GOOGL   803.210022   792.450012   789.619995   803.289978  1728300.0   \n",
       "822617   ISRG   638.320007   634.169983   632.250000   638.390015   267300.0   \n",
       "822715   PCLN  1483.489990  1466.060059  1462.339966  1483.489990   405100.0   \n",
       "\n",
       "        year  month  day     co_dif     hl_dif  label  \n",
       "188     2010      1    4  -0.200027   5.269994      1  \n",
       "189     2010      1    4  -0.199995   5.269994      1  \n",
       "655     2010      1    5  -3.190018   6.300026      1  \n",
       "656     2010      1    5  -3.189984   6.299968      1  \n",
       "1122    2010      1    6 -17.600055  19.500036      1  \n",
       "...      ...    ...  ...        ...        ...    ...  \n",
       "822436  2016     12   30 -10.559998  13.309998      1  \n",
       "822575  2016     12   30 -10.929993  12.370056      1  \n",
       "822576  2016     12   30 -10.760010  13.669983      1  \n",
       "822617  2016     12   30  -4.150024   6.140015      1  \n",
       "822715  2016     12   30 -17.429931  21.150024      1  \n",
       "\n",
       "[9531 rows x 12 columns]"
      ]
     },
     "execution_count": 49,
     "metadata": {},
     "output_type": "execute_result"
    },
    {
     "data": {
      "application/javascript": [
       "\n",
       "            setTimeout(function() {\n",
       "                var nbb_cell_id = 49;\n",
       "                var nbb_unformatted_code = \"df_full[df_full[\\\"label\\\"] == 1]\";\n",
       "                var nbb_formatted_code = \"df_full[df_full[\\\"label\\\"] == 1]\";\n",
       "                var nbb_cells = Jupyter.notebook.get_cells();\n",
       "                for (var i = 0; i < nbb_cells.length; ++i) {\n",
       "                    if (nbb_cells[i].input_prompt_number == nbb_cell_id) {\n",
       "                        if (nbb_cells[i].get_text() == nbb_unformatted_code) {\n",
       "                             nbb_cells[i].set_text(nbb_formatted_code);\n",
       "                        }\n",
       "                        break;\n",
       "                    }\n",
       "                }\n",
       "            }, 500);\n",
       "            "
      ],
      "text/plain": [
       "<IPython.core.display.Javascript object>"
      ]
     },
     "metadata": {},
     "output_type": "display_data"
    }
   ],
   "source": [
    "df_full[df_full[\"label\"] == 1]"
   ]
  },
  {
   "cell_type": "markdown",
   "metadata": {},
   "source": [
    "# Well some conclusions based on the above data:"
   ]
  },
  {
   "cell_type": "markdown",
   "metadata": {},
   "source": [
    "# General: Groups 0 , and 2 seem to be similar in terms of open, close, low and high but differ on the difference in those. Ideally, it seems group 3 would be the one to day trade among all of these\n",
    "\n",
    "\n",
    "- open: Group 3 seems to be expensive stocks and group 5 are cheaper\n",
    "- close: look below to co_dif\n",
    "- low: not too different from open\n",
    "- high: look below to hl_dif\n",
    "- volume: This is interesting, it seems most trading is done on expensive stocks(group 3) by far. Looking to hl_dif might explain\n",
    "- year: This column has no real meaningful information. Could combine with GDP in second or third passthrough to see\n",
    "- month: this column also has no real meaningful information. 0 and 2 seem to be early and later in the year\n",
    "- day: this column also has no real meaningful information due to similarity\n",
    "- hl_dif: This is interesting. The biggest difference on group 3 which could explain the reason for trading volume. Given the open amount of the stock, it makes sense there's a bigger dollar value would have a bigger high/low split. The second highest doesn't seem to be as expensive though. Depending on the trading fees, those would each be interesting to delve further into. \n",
    "\n"
   ]
  },
  {
   "cell_type": "code",
   "execution_count": 50,
   "metadata": {},
   "outputs": [
    {
     "data": {
      "application/javascript": [
       "\n",
       "            setTimeout(function() {\n",
       "                var nbb_cell_id = 50;\n",
       "                var nbb_unformatted_code = \"# format is open close low high volume year month day co_dif hl_dif\\nchegg = [[62.34, 62.93, 61.67, 63.34, 2725077, 2020, 5, 20, -0.59, 1.67]]\\napple = [[316.68, 319.16, 316.2, 319.52, 50980000, 2020, 5, 20, 2.48, 3.32]]\\ncars = [[1116.37, 1114.49, 1105.02, 1142.99, 289208, 2020, 5, 20, -1.88, 37.97]]\\nsearch = [[1389.16, 1409.18, 1365, 1420, 1864967, 2020, 5, 20, 20.02, 55]]\\nclust_1 = [\\n    [\\n        1483.489990,\\n        1466.060059,\\n        1462.339966,\\n        1483.489990,\\n        405100,\\n        2016,\\n        12,\\n        30,\\n        -17.429931,\\n        21.150024,\\n    ]\\n]\\nthinkful = k_means.predict(scaler.transform(chegg))\\npomme = k_means.predict(scaler.transform(apple))\\nauto_zone = k_means.predict(scaler.transform(cars))\\ngoogle = k_means.predict(scaler.transform(search))\\nwe_know = k_means.predict(scaler.transform(clust_1))\";\n",
       "                var nbb_formatted_code = \"# format is open close low high volume year month day co_dif hl_dif\\nchegg = [[62.34, 62.93, 61.67, 63.34, 2725077, 2020, 5, 20, -0.59, 1.67]]\\napple = [[316.68, 319.16, 316.2, 319.52, 50980000, 2020, 5, 20, 2.48, 3.32]]\\ncars = [[1116.37, 1114.49, 1105.02, 1142.99, 289208, 2020, 5, 20, -1.88, 37.97]]\\nsearch = [[1389.16, 1409.18, 1365, 1420, 1864967, 2020, 5, 20, 20.02, 55]]\\nclust_1 = [\\n    [\\n        1483.489990,\\n        1466.060059,\\n        1462.339966,\\n        1483.489990,\\n        405100,\\n        2016,\\n        12,\\n        30,\\n        -17.429931,\\n        21.150024,\\n    ]\\n]\\nthinkful = k_means.predict(scaler.transform(chegg))\\npomme = k_means.predict(scaler.transform(apple))\\nauto_zone = k_means.predict(scaler.transform(cars))\\ngoogle = k_means.predict(scaler.transform(search))\\nwe_know = k_means.predict(scaler.transform(clust_1))\";\n",
       "                var nbb_cells = Jupyter.notebook.get_cells();\n",
       "                for (var i = 0; i < nbb_cells.length; ++i) {\n",
       "                    if (nbb_cells[i].input_prompt_number == nbb_cell_id) {\n",
       "                        if (nbb_cells[i].get_text() == nbb_unformatted_code) {\n",
       "                             nbb_cells[i].set_text(nbb_formatted_code);\n",
       "                        }\n",
       "                        break;\n",
       "                    }\n",
       "                }\n",
       "            }, 500);\n",
       "            "
      ],
      "text/plain": [
       "<IPython.core.display.Javascript object>"
      ]
     },
     "metadata": {},
     "output_type": "display_data"
    }
   ],
   "source": [
    "# format is open close low high volume year month day co_dif hl_dif\n",
    "chegg = [[62.34, 62.93, 61.67, 63.34, 2725077, 2020, 5, 20, -0.59, 1.67]]\n",
    "apple = [[316.68, 319.16, 316.2, 319.52, 50980000, 2020, 5, 20, 2.48, 3.32]]\n",
    "cars = [[1116.37, 1114.49, 1105.02, 1142.99, 289208, 2020, 5, 20, -1.88, 37.97]]\n",
    "search = [[1389.16, 1409.18, 1365, 1420, 1864967, 2020, 5, 20, 20.02, 55]]\n",
    "clust_1 = [\n",
    "    [\n",
    "        1483.489990,\n",
    "        1466.060059,\n",
    "        1462.339966,\n",
    "        1483.489990,\n",
    "        405100,\n",
    "        2016,\n",
    "        12,\n",
    "        30,\n",
    "        -17.429931,\n",
    "        21.150024,\n",
    "    ]\n",
    "]\n",
    "thinkful = k_means.predict(scaler.transform(chegg))\n",
    "pomme = k_means.predict(scaler.transform(apple))\n",
    "auto_zone = k_means.predict(scaler.transform(cars))\n",
    "google = k_means.predict(scaler.transform(search))\n",
    "we_know = k_means.predict(scaler.transform(clust_1))"
   ]
  },
  {
   "cell_type": "code",
   "execution_count": 51,
   "metadata": {},
   "outputs": [
    {
     "name": "stdout",
     "output_type": "stream",
     "text": [
      "[4]\n"
     ]
    },
    {
     "data": {
      "application/javascript": [
       "\n",
       "            setTimeout(function() {\n",
       "                var nbb_cell_id = 51;\n",
       "                var nbb_unformatted_code = \"print(thinkful)\";\n",
       "                var nbb_formatted_code = \"print(thinkful)\";\n",
       "                var nbb_cells = Jupyter.notebook.get_cells();\n",
       "                for (var i = 0; i < nbb_cells.length; ++i) {\n",
       "                    if (nbb_cells[i].input_prompt_number == nbb_cell_id) {\n",
       "                        if (nbb_cells[i].get_text() == nbb_unformatted_code) {\n",
       "                             nbb_cells[i].set_text(nbb_formatted_code);\n",
       "                        }\n",
       "                        break;\n",
       "                    }\n",
       "                }\n",
       "            }, 500);\n",
       "            "
      ],
      "text/plain": [
       "<IPython.core.display.Javascript object>"
      ]
     },
     "metadata": {},
     "output_type": "display_data"
    }
   ],
   "source": [
    "print(thinkful)"
   ]
  },
  {
   "cell_type": "code",
   "execution_count": 52,
   "metadata": {},
   "outputs": [
    {
     "name": "stdout",
     "output_type": "stream",
     "text": [
      "[5]\n"
     ]
    },
    {
     "data": {
      "application/javascript": [
       "\n",
       "            setTimeout(function() {\n",
       "                var nbb_cell_id = 52;\n",
       "                var nbb_unformatted_code = \"print(pomme)\";\n",
       "                var nbb_formatted_code = \"print(pomme)\";\n",
       "                var nbb_cells = Jupyter.notebook.get_cells();\n",
       "                for (var i = 0; i < nbb_cells.length; ++i) {\n",
       "                    if (nbb_cells[i].input_prompt_number == nbb_cell_id) {\n",
       "                        if (nbb_cells[i].get_text() == nbb_unformatted_code) {\n",
       "                             nbb_cells[i].set_text(nbb_formatted_code);\n",
       "                        }\n",
       "                        break;\n",
       "                    }\n",
       "                }\n",
       "            }, 500);\n",
       "            "
      ],
      "text/plain": [
       "<IPython.core.display.Javascript object>"
      ]
     },
     "metadata": {},
     "output_type": "display_data"
    }
   ],
   "source": [
    "print(pomme)"
   ]
  },
  {
   "cell_type": "code",
   "execution_count": 53,
   "metadata": {},
   "outputs": [
    {
     "name": "stdout",
     "output_type": "stream",
     "text": [
      "[1]\n"
     ]
    },
    {
     "data": {
      "application/javascript": [
       "\n",
       "            setTimeout(function() {\n",
       "                var nbb_cell_id = 53;\n",
       "                var nbb_unformatted_code = \"print(auto_zone)\";\n",
       "                var nbb_formatted_code = \"print(auto_zone)\";\n",
       "                var nbb_cells = Jupyter.notebook.get_cells();\n",
       "                for (var i = 0; i < nbb_cells.length; ++i) {\n",
       "                    if (nbb_cells[i].input_prompt_number == nbb_cell_id) {\n",
       "                        if (nbb_cells[i].get_text() == nbb_unformatted_code) {\n",
       "                             nbb_cells[i].set_text(nbb_formatted_code);\n",
       "                        }\n",
       "                        break;\n",
       "                    }\n",
       "                }\n",
       "            }, 500);\n",
       "            "
      ],
      "text/plain": [
       "<IPython.core.display.Javascript object>"
      ]
     },
     "metadata": {},
     "output_type": "display_data"
    }
   ],
   "source": [
    "print(auto_zone)"
   ]
  },
  {
   "cell_type": "code",
   "execution_count": 54,
   "metadata": {},
   "outputs": [
    {
     "name": "stdout",
     "output_type": "stream",
     "text": [
      "[1]\n"
     ]
    },
    {
     "data": {
      "application/javascript": [
       "\n",
       "            setTimeout(function() {\n",
       "                var nbb_cell_id = 54;\n",
       "                var nbb_unformatted_code = \"print(google)\";\n",
       "                var nbb_formatted_code = \"print(google)\";\n",
       "                var nbb_cells = Jupyter.notebook.get_cells();\n",
       "                for (var i = 0; i < nbb_cells.length; ++i) {\n",
       "                    if (nbb_cells[i].input_prompt_number == nbb_cell_id) {\n",
       "                        if (nbb_cells[i].get_text() == nbb_unformatted_code) {\n",
       "                             nbb_cells[i].set_text(nbb_formatted_code);\n",
       "                        }\n",
       "                        break;\n",
       "                    }\n",
       "                }\n",
       "            }, 500);\n",
       "            "
      ],
      "text/plain": [
       "<IPython.core.display.Javascript object>"
      ]
     },
     "metadata": {},
     "output_type": "display_data"
    }
   ],
   "source": [
    "print(google)"
   ]
  },
  {
   "cell_type": "code",
   "execution_count": 55,
   "metadata": {},
   "outputs": [
    {
     "name": "stdout",
     "output_type": "stream",
     "text": [
      "[1]\n"
     ]
    },
    {
     "data": {
      "application/javascript": [
       "\n",
       "            setTimeout(function() {\n",
       "                var nbb_cell_id = 55;\n",
       "                var nbb_unformatted_code = \"#making sure that the predictor is working\\nprint(we_know)\";\n",
       "                var nbb_formatted_code = \"# making sure that the predictor is working\\nprint(we_know)\";\n",
       "                var nbb_cells = Jupyter.notebook.get_cells();\n",
       "                for (var i = 0; i < nbb_cells.length; ++i) {\n",
       "                    if (nbb_cells[i].input_prompt_number == nbb_cell_id) {\n",
       "                        if (nbb_cells[i].get_text() == nbb_unformatted_code) {\n",
       "                             nbb_cells[i].set_text(nbb_formatted_code);\n",
       "                        }\n",
       "                        break;\n",
       "                    }\n",
       "                }\n",
       "            }, 500);\n",
       "            "
      ],
      "text/plain": [
       "<IPython.core.display.Javascript object>"
      ]
     },
     "metadata": {},
     "output_type": "display_data"
    }
   ],
   "source": [
    "# making sure that the predictor is working\n",
    "print(we_know)"
   ]
  },
  {
   "cell_type": "code",
   "execution_count": null,
   "metadata": {},
   "outputs": [],
   "source": []
  }
 ],
 "metadata": {
  "kernelspec": {
   "display_name": "Python 3",
   "language": "python",
   "name": "python3"
  },
  "language_info": {
   "codemirror_mode": {
    "name": "ipython",
    "version": 3
   },
   "file_extension": ".py",
   "mimetype": "text/x-python",
   "name": "python",
   "nbconvert_exporter": "python",
   "pygments_lexer": "ipython3",
   "version": "3.7.6"
  }
 },
 "nbformat": 4,
 "nbformat_minor": 4
}
