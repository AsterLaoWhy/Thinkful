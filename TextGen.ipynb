{
 "cells": [
  {
   "cell_type": "markdown",
   "metadata": {
    "colab_type": "text",
    "id": "_NWgmGEic1Wb"
   },
   "source": [
    "## 1. First, make some data preprocessing to clean up the data if you feel necessary. You can use your solution to the assignment of the data preprocessing checkpoint of this module."
   ]
  },
  {
   "cell_type": "code",
   "execution_count": 3,
   "metadata": {},
   "outputs": [
    {
     "name": "stdout",
     "output_type": "stream",
     "text": [
      "Collecting markovify\n",
      "  Downloading markovify-0.8.0.tar.gz (18 kB)\n",
      "Collecting unidecode\n",
      "  Downloading Unidecode-1.1.1-py2.py3-none-any.whl (238 kB)\n",
      "Building wheels for collected packages: markovify\n",
      "  Building wheel for markovify (setup.py): started\n",
      "  Building wheel for markovify (setup.py): finished with status 'done'\n",
      "  Created wheel for markovify: filename=markovify-0.8.0-py3-none-any.whl size=10698 sha256=2d1dd7e18a2451a343bf493faf1176965386e7baf524b0d822c2e3c67bdf160f\n",
      "  Stored in directory: c:\\users\\jonat\\appdata\\local\\pip\\cache\\wheels\\05\\96\\15\\0ded02d3a0dddbc64202c8206791bda22af3d90e0fc1eaf056\n",
      "Successfully built markovify\n",
      "Installing collected packages: unidecode, markovify\n",
      "Successfully installed markovify-0.8.0 unidecode-1.1.1\n",
      "Note: you may need to restart the kernel to use updated packages.\n"
     ]
    }
   ],
   "source": [
    "pip install markovify"
   ]
  },
  {
   "cell_type": "code",
   "execution_count": 4,
   "metadata": {
    "colab": {
     "base_uri": "https://localhost:8080/",
     "height": 156
    },
    "colab_type": "code",
    "executionInfo": {
     "elapsed": 9531,
     "status": "ok",
     "timestamp": 1568728575604,
     "user": {
      "displayName": "Yunus Bulut",
      "photoUrl": "",
      "userId": "10252913168794832935"
     },
     "user_tz": -120
    },
    "id": "ZtYZ84I1gf73",
    "outputId": "732ea3c8-7ae6-42a4-f622-6f1beb9ad603"
   },
   "outputs": [
    {
     "name": "stdout",
     "output_type": "stream",
     "text": [
      "Requirement already satisfied: en_core_web_sm==2.1.0 from https://github.com/explosion/spacy-models/releases/download/en_core_web_sm-2.1.0/en_core_web_sm-2.1.0.tar.gz#egg=en_core_web_sm==2.1.0 in c:\\users\\jonat\\anaconda3\\lib\\site-packages (2.1.0)\n",
      "[+] Download and installation successful\n",
      "You can now load the model via spacy.load('en_core_web_sm')\n",
      "[x] Couldn't link model to 'en'\n",
      "Creating a symlink in spacy/data failed. Make sure you have the required\n",
      "permissions and try re-running the command as admin, or use a virtualenv. You\n",
      "can still import the model as a module and call its load() method, or create the\n",
      "symlink manually.\n",
      "C:\\Users\\jonat\\anaconda3\\lib\\site-packages\\en_core_web_sm -->\n",
      "C:\\Users\\jonat\\anaconda3\\lib\\site-packages\\spacy\\data\\en\n",
      "[!] Download successful but linking failed\n",
      "Creating a shortcut link for 'en' didn't work (maybe you don't have admin\n",
      "permissions?), but you can still load the model via its full package name: nlp =\n",
      "spacy.load('en_core_web_sm')\n"
     ]
    },
    {
     "name": "stderr",
     "output_type": "stream",
     "text": [
      "You do not have sufficient privilege to perform this operation.\n"
     ]
    }
   ],
   "source": [
    "import matplotlib.pyplot as plt\n",
    "import pandas as pd\n",
    "from sqlalchemy import create_engine\n",
    "import spacy\n",
    "import markovify\n",
    "\n",
    "\n",
    "import warnings\n",
    "warnings.filterwarnings(action=\"ignore\")\n",
    "\n",
    "!python -m spacy download en"
   ]
  },
  {
   "cell_type": "code",
   "execution_count": 5,
   "metadata": {},
   "outputs": [],
   "source": [
    "postgres_user = 'dsbc_student'\n",
    "postgres_pw = '7*.8G9QH21'\n",
    "postgres_host = '142.93.121.174'\n",
    "postgres_port = '5432'\n",
    "postgres_db = 'twitter_sentiment'\n",
    "\n",
    "engine = create_engine('postgresql://{}:{}@{}:{}/{}'.format(\n",
    "    postgres_user, postgres_pw, postgres_host, postgres_port, postgres_db))\n",
    "\n",
    "tweets_df = pd.read_sql_query('select * from twitter',con=engine)\n",
    "\n",
    "# no need for an open connection, as we're only doing a single query\n",
    "engine.dispose()"
   ]
  },
  {
   "cell_type": "code",
   "execution_count": 8,
   "metadata": {
    "colab": {},
    "colab_type": "code",
    "id": "kPgxcStugk-n"
   },
   "outputs": [],
   "source": [
    "nlp = spacy.load('en_core_web_sm')\n",
    "\n",
    "# below is necessary to avoid memory error of SpaCy\n",
    "nlp.max_length = 20000000\n",
    "\n",
    "# all the processing work is done below, so it may take a while\n",
    "twitter_doc = nlp(\" \".join(tweets_df.text))"
   ]
  },
  {
   "cell_type": "markdown",
   "metadata": {
    "colab_type": "text",
    "id": "ZGm7zTogc1Wc"
   },
   "source": [
    "## 2. Train a Markov chain model by using only the negative sentiment tweets. Generate some random sentences. Are the generated sentences exhibit the same negative sentiment?"
   ]
  },
  {
   "cell_type": "code",
   "execution_count": 9,
   "metadata": {
    "colab": {
     "base_uri": "https://localhost:8080/",
     "height": 717
    },
    "colab_type": "code",
    "executionInfo": {
     "elapsed": 30320,
     "status": "ok",
     "timestamp": 1568729167565,
     "user": {
      "displayName": "Yunus Bulut",
      "photoUrl": "",
      "userId": "10252913168794832935"
     },
     "user_tz": -120
    },
    "id": "jnm5jUjTg5wG",
    "outputId": "9d5cb647-dc03-4dc3-f51a-04df63fda057",
    "scrolled": true
   },
   "outputs": [
    {
     "name": "stdout",
     "output_type": "stream",
     "text": [
      "@united quick response offering assistance but lack of follow through - not really the experience I was expecting, very disappointed.\n",
      "@USAirways #not happy, wife 40th Bday trip. would like to talk to someone for almost 6 hrs! you Cancelled Flightled was more pricey than the evening?\n",
      "#disappointed @USAirways Can you help me rebook?\n",
      "I have to go back to the gate hours Late Flight and kept getting Late Flightr.\n",
      "@united I see you guys are complete ass @united why are you literally the worst?\n",
      "@USAirways you run a piece of the plane #whatstheholdup #CHItoCLE @united Thanks... seat made for a horrible 8hr+ flight on an unsuitable plane.\n",
      "I need help with a support ticket?\n",
      "Even I have to rent a car and drive 3 hours to take off at the same time.\n",
      "I offered to pay for my Negroni with bitcoin.\n",
      "I could have done it without you.\n",
      "Your check-in agents cannot help at the airport and now flight delayed @USAirways so you're not honoring miles with @united that were traveled last year?\n",
      "Was supposed to get some help too!\n",
      "#donedeal #talktoahuman @AmericanAir I guess it is more BS AirportCardio given you cannot have an on time plane.#pisspoor @USAirways where's our luggage?\n",
      "@SouthwestAir 4/9/14, I need to rebook I need to get to out gate at this rate.\n",
      "I only flew them because I had loads of time running to my connecting flight http://t.co/DNMsblzumr @AmericanAir You are having phone issues.\n",
      "@united again HORRIBLE service, again attitude when asked for information, again you make me go to another gate and I lose my online reservation being held.\n",
      "@united no it weighed 45.5 and it was the nightmare I knew it would be.\n",
      "I reserved my seats when I bought my tickets and there was 1 woman working the counter in philly at 630 this am needs to be checked to see who did conversed with.\n",
      "What's the best way to kill nine hours at the airport I was hoping to speak with someone about how you can fix things, how to...\n",
      "@SouthwestAir I can't begin to tell you how horrible you're attendants are.\n",
      "Thank you. http://t.co/FuCHZRZjg5 @united Why do I have to get em in LA &amp; check em in there.\n",
      "Was supposed to get some help too!\n",
      "@united Held up for almost 45 minutes and moved two feet in BZE.\n",
      "@SouthwestAir - been on hold for 2 hours to receive an error when clicking final purchase button.\n",
      "Your customer service line @AmericanAir will not help us sit with our kids!\n",
      "No Bueno!! Never again!!! @AmericanAir You sent me a family invite but I never accepted it.\n",
      "@USAirways you are the worst!\n",
      "I was on hold for almost 2 hours.\n",
      "#aafail @AmericanAir I was happy to purchase the flight and he refused.\n",
      "@usairways Thanks so much for reaching out.\n",
      "@JetBlue that is a lie.\n",
      "@USAirways delays due to refueling are out of your terminal and targeting vulnerable passengers.\n",
      "@united lol too little too Late Flight for arrival is unacceptable.\n",
      "All could have been on hold 2 hrs for nothing.\n",
      "No contact info- no way to fix it in a timely manner?\n",
      "Would love to round to 4 hours to just go with #jetblue since they care.\n",
      "@SouthwestAir you need to call.\n",
      "Do I need to speak to a representative on the phone- Advice?\n",
      "@JetBlue I just booked a flight yesterday fron TPA-DFW-AUS.\n",
      "WTF did they not know there was a bug in your search system.\n"
     ]
    }
   ],
   "source": [
    "# all the processing work is done below, so it may take a while\n",
    "twitter_negative_doc = nlp(\" \".join(tweets_df[tweets_df[\"airline_sentiment\"]==\"negative\"].text))\n",
    "\n",
    "tweet_negative_sents = \" \".join([sent.text for sent in twitter_negative_doc.sents if len(sent.text) > 1])\n",
    "\n",
    "tweet_negative_generator = markovify.Text(tweet_negative_sents, state_size = 3)\n",
    "\n",
    "# three randomly generated negative sentences\n",
    "for i in range(20):\n",
    "    print(tweet_negative_generator.make_sentence(tries=100))\n",
    "\n",
    "# three randomly-generated negative sentences of no more than 100 characters\n",
    "for i in range(20):\n",
    "    print(tweet_negative_generator.make_short_sentence(100, tries=100))"
   ]
  },
  {
   "cell_type": "markdown",
   "metadata": {},
   "source": [
    "Clearly the generated tweets show a negative sentiment."
   ]
  },
  {
   "cell_type": "markdown",
   "metadata": {
    "colab_type": "text",
    "id": "43tB51kkc1Wc"
   },
   "source": [
    "## 3. Do the previous task this time bu using only the positive sentiment tweets. Generate some random sentences and observe whether they exhibit positive sentiment or not."
   ]
  },
  {
   "cell_type": "code",
   "execution_count": 10,
   "metadata": {
    "colab": {
     "base_uri": "https://localhost:8080/",
     "height": 717
    },
    "colab_type": "code",
    "executionInfo": {
     "elapsed": 6456,
     "status": "ok",
     "timestamp": 1568729051234,
     "user": {
      "displayName": "Yunus Bulut",
      "photoUrl": "",
      "userId": "10252913168794832935"
     },
     "user_tz": -120
    },
    "id": "7gHrlrXphfFl",
    "outputId": "ededf22f-49a5-48c6-82f7-035d22236d90",
    "scrolled": true
   },
   "outputs": [
    {
     "name": "stdout",
     "output_type": "stream",
     "text": [
      "Thanks so much for making my flights comfortable.\n",
      "Another fine job! http://t.co/r7ibqr4CYd @USAirways thanks to the crew of 556 great time recovery @USAirways thank you very very much!! 💙💙 @JetBlue Awww thank you B6!\n",
      "@JetBlue thanks @JetBlue credit to you for excellent customer service!\n",
      "Always a treat to fly with only you.\n",
      "My father passed away last night &amp; you helped me get booked on various flights to get home tonight!\n",
      "Wonderful ambassador to the airline!! @united Thank you but the person in Houston could only get me a better seat on my next leg to Munich.\n",
      "Thanks @SouthwestAir first time flying with yall, not my last!\n",
      "@SouthwestAir Mad love http://t.co/4ojrSDWPkK NYC- @AmericanAir thanks for the follow up.\n",
      "Thanks again @USAirways on time today @AmericanAir thanks.\n",
      "@AmericanAir Awesome customer service from AA - my misplaced item was waiting for me after my sports practice?\n",
      "@USAirways Thanks for the follow-up.\n",
      "I'm in heaven now en route to the airport &amp; got to speak to someone things got fixed very quick.\n",
      "See you at the show at Vinyl @SouthwestAir Can a pair of tickets to the @Imaginedragons show in ATL.\n",
      "#loyalRRmember @SouthwestAir thank you, someone finally answered and was able to snag a free SW Agent to check for me.\n",
      "@united I appreciate the response.\n",
      "@united thanks @united Thanks for taking care of the matter and following up!\n",
      "Integration w/ passbook is a great card 😀 @SouthwestAir Thank you Thank you!!! My last attempt to win #DestinationDragons tickets was a success!\n",
      "And they did it with a smile on their face @AmericanAir thank you for that elaborate response @USAirways over the phone.\n",
      "@united thanks for the recommendation.\n",
      "I love imagine dragons o flipping much, pls #DestinationDragons @SouthwestAir I would love to experience first class on that plane,looks stunning!\n",
      "Excellent customer service and made me smile with joy.\n",
      "@AmericanAir thank you for the JetBlue Credit.\n",
      "Appreciate the response @united thank you so much for sharing.\n",
      "@AmericanAir AA2416 on time and arrive early!\n",
      "Just wanted to see if you have any idea what tail is operating flt 606 2maro?\n",
      "It is very much appreciated @JetBlue Thank you for the quick reply!\n",
      "@USAirways Exicted to be flying with you guys!\n",
      "@SouthwestAir - I just had a great experience with your staff at DIA last night.\n",
      "@JetBlue he loved the #natural #beefjerky snacks @JetBlue thanks for the quick response on Twitter!\n",
      "And they did it with a smile on their face @AmericanAir thank you we got on a couple of minutes ago.\n",
      "+1 for spelling my name correctly @USAirways see you on board soon and thanks for the tweet.\n",
      "@JetBlue you reimbursed everyone on the flight @JetBlue I will!\n",
      "@JetBlue you guys are good @SouthwestAir loving the new planes for the JFK-LAX run.\n",
      "Weird you don't have a club in one of the friendliest phone calls ever.\n",
      "@JetBlue thanks @JetBlue Then en route to LHR @united thank you!\n",
      "@AmericanAir Well, you guys are lucky I love you guys!\n",
      "@AmericanAir thanks for following up!\n",
      "@united Looking forward to the beats music available on my flight have directional dislexia.\n",
      "@AmericanAir Thanks for the response!\n",
      "@USAirways Thank you so much!\n"
     ]
    }
   ],
   "source": [
    "# all the processing work is done below, so it may take a while\n",
    "twitter_positive_doc = nlp(\" \".join(tweets_df[tweets_df[\"airline_sentiment\"]==\"positive\"].text))\n",
    "\n",
    "tweet_positive_sents = \" \".join([sent.text for sent in twitter_positive_doc.sents if len(sent.text) > 1])\n",
    "\n",
    "tweet_positive_generator = markovify.Text(tweet_positive_sents, state_size = 3)\n",
    "\n",
    "# three randomly generated sentences\n",
    "for i in range(20):\n",
    "    print(tweet_positive_generator.make_sentence(tries=100))\n",
    "\n",
    "# three randomly-generated sentences of no more than 100 characters\n",
    "for i in range(20):\n",
    "    print(tweet_positive_generator.make_short_sentence(100, tries=100))"
   ]
  },
  {
   "cell_type": "markdown",
   "metadata": {},
   "source": [
    "This time we observe positive sentiments generally."
   ]
  },
  {
   "cell_type": "markdown",
   "metadata": {
    "colab_type": "text",
    "id": "Xi2_3NgVc1Wd"
   },
   "source": [
    "## 4. This time train your Markov chain model using all the tweets and generate some random sentences. Can you say something systematic about the sentiments of the generated tweets?"
   ]
  },
  {
   "cell_type": "code",
   "execution_count": 11,
   "metadata": {
    "colab": {
     "base_uri": "https://localhost:8080/",
     "height": 717
    },
    "colab_type": "code",
    "executionInfo": {
     "elapsed": 41818,
     "status": "ok",
     "timestamp": 1568729232559,
     "user": {
      "displayName": "Yunus Bulut",
      "photoUrl": "",
      "userId": "10252913168794832935"
     },
     "user_tz": -120
    },
    "id": "_qdBaoneigDH",
    "outputId": "ce02a431-32dd-4d40-c858-f28dcef7da0a",
    "scrolled": true
   },
   "outputs": [
    {
     "name": "stdout",
     "output_type": "stream",
     "text": [
      "@AmericanAir My flight 1389 from Las Vegas to DFW was Cancelled Flightled and I need to fly from BOS to CLT for 60 mins.\n",
      "@USAirways we even offered to fly in tomorrow from lax @SouthwestAir now I don't get hung up on until after I get through all the prompts.\n",
      "Tried calling customer service and was told e-mail log in not currently available @united @gg8929 so why did you drop my call.\n",
      "#UnitedAirlines @united we are delayed until 1:02!\n",
      "@JetBlue what happened to direct flights from RIC to BOS.\n",
      "I need to be a LONG trip today and I want a number to call to talk to @AmericanAir thank you...\n",
      "BTW,the AA desk is unorganized @AmericanAir Miami-PhL flight Cancelled Flightled again and its midnight with no more hotel voucher?\n",
      "@united you are easily the worst system I have ever gotten!! Denver to LAX and it's wonderful!!! @united of course this morning I see a new American Airlines credit card to use/open to get miles with y'all?\n",
      "@united @united I tried 2 DM it would not go thru... not sure why I expected anyone to be here http://t.co/bnFlHPXtmw @united this is not a good business decision?\n",
      "Pls have maintenance look for it!! http://t.co/UieSR3GHHO @AmericanAir we then had to be compete for unused funds by expiration date hidden in the fine print.\n",
      "Can we rebook selves online??? @USAirways how do I change my flight due to delays and rude staff members I'm happy to be flying with southwest.\n",
      "If you show available seats, you need to follow back in order to find jobs @marieharf @JetBlue #FlyingItForward I'd fly to an airline that ain't ready for prime time and book your elite flyers on it!\n",
      "I can't get through on any phones @USAirways Thanks for getting back to me.\n",
      "@JetBlue managers telling us to call back five times to get ground crew....and still sitting on runway.\n",
      "I don't work I don't get a voucher for a domestic round trip @united.\n",
      "I can see someone else's reservation, rr # and trip @SouthwestAir I don't want to pay because of your 7 hour delay with flight 104 last night.\n",
      "Now I miss my dog and this delay is entirely because of AA incompetence and poor equip checks.\n",
      "That almost got me a seat Late Flightr.\n",
      "It's STILL in Newark. please help or let me know what else to do @AmericanAir Ok.\n",
      "Once I'm allowed to check my CC everytime @united I need help from somebody other than a robot.\n",
      "After an hour I want to sit there.\n",
      "Plus you don't follow me so i can dm you?\n",
      "I'm moving to @AmericanAir because of you, I am doing the one thing I tried to book with it.\n",
      "@united landing in anchorage, then on our way back to PHL http://t.co/4G0K0z2rei @AmericanAir Hi.\n",
      "@united very disappointed in your service @USAirways been sitting on this plane.\n",
      "@united flight 4567 have already been on the next leg?\n",
      "She is traveling with 3 y.o. and needs to be at my house by 9pm.\n",
      "How do I get a companion pass for a flight tomorrow!\n",
      "@United wind chill in Ithica -17 degrees, and for the 2nd time you have done enough.\n",
      "The person supposed to call the Internet Desk?\n",
      "@united your ground crew was so SLOW.\n",
      "There is no excuse for poor customer service and simply being NICE.\n",
      "Just tell people when they book flights now?\n",
      "It is NOT acceptable to give a voucher to switch flights.\n",
      "Your arrival is Late Flightr than the original flight out.\n",
      "Trying to make it to gate by push back so I can make it to PHL with me.\n",
      "Especially if I miss the #Oscars I'll never fly with your airline before.\n",
      "Figured that was the hurry..\n",
      "@SouthwestAir after 38 minutes on the phone now or will I be charged a fee to do so?\n",
      "#BNA @SouthwestAir Been on hold since 3am est.\n"
     ]
    }
   ],
   "source": [
    "# all the processing work is done below, so it may take a while\n",
    "twitter_doc = nlp(\" \".join(tweets_df.text))\n",
    "\n",
    "tweet_sents = \" \".join([sent.text for sent in twitter_doc.sents if len(sent.text) > 1])\n",
    "\n",
    "tweet_generator = markovify.Text(tweet_sents, state_size = 3)\n",
    "\n",
    "# three randomly generated sentences\n",
    "for i in range(20):\n",
    "    print(tweet_generator.make_sentence(tries=100))\n",
    "\n",
    "# three randomly-generated sentences of no more than 100 characters\n",
    "for i in range(20):\n",
    "    print(tweet_generator.make_short_sentence(100, tries=100))"
   ]
  },
  {
   "cell_type": "markdown",
   "metadata": {},
   "source": [
    "We can see both positive and negative sentiments this time."
   ]
  }
 ],
 "metadata": {
  "colab": {
   "collapsed_sections": [],
   "name": "8.solution_text_generation.ipynb",
   "provenance": [],
   "version": "0.3.2"
  },
  "kernelspec": {
   "display_name": "Python 3",
   "language": "python",
   "name": "python3"
  },
  "language_info": {
   "codemirror_mode": {
    "name": "ipython",
    "version": 3
   },
   "file_extension": ".py",
   "mimetype": "text/x-python",
   "name": "python",
   "nbconvert_exporter": "python",
   "pygments_lexer": "ipython3",
   "version": "3.7.6"
  },
  "latex_envs": {
   "LaTeX_envs_menu_present": true,
   "autoclose": false,
   "autocomplete": true,
   "bibliofile": "biblio.bib",
   "cite_by": "apalike",
   "current_citInitial": 1,
   "eqLabelWithNumbers": true,
   "eqNumInitial": 1,
   "hotkeys": {
    "equation": "Ctrl-E",
    "itemize": "Ctrl-I"
   },
   "labels_anchors": false,
   "latex_user_defs": false,
   "report_style_numbering": false,
   "user_envs_cfg": false
  },
  "varInspector": {
   "cols": {
    "lenName": 16,
    "lenType": 16,
    "lenVar": 40
   },
   "kernels_config": {
    "python": {
     "delete_cmd_postfix": "",
     "delete_cmd_prefix": "del ",
     "library": "var_list.py",
     "varRefreshCmd": "print(var_dic_list())"
    },
    "r": {
     "delete_cmd_postfix": ") ",
     "delete_cmd_prefix": "rm(",
     "library": "var_list.r",
     "varRefreshCmd": "cat(var_dic_list()) "
    }
   },
   "types_to_exclude": [
    "module",
    "function",
    "builtin_function_or_method",
    "instance",
    "_Feature"
   ],
   "window_display": false
  }
 },
 "nbformat": 4,
 "nbformat_minor": 1
}
