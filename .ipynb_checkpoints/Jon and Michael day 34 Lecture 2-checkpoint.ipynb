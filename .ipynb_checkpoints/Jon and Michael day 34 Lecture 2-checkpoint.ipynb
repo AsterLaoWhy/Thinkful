{
 "cells": [
  {
   "cell_type": "markdown",
   "metadata": {
    "colab_type": "text",
    "id": "dNper0elrrdZ"
   },
   "source": [
    "## Day 34 Lecture 2 Assignment\n",
    "\n",
    "In this assignment, we will learn about gradient boosting. We will use a dataset describing TripAdvisor reviews for Las Vegas hotels loaded below and analyze the model generated for this dataset."
   ]
  },
  {
   "cell_type": "code",
   "execution_count": 12,
   "metadata": {
    "colab": {
     "base_uri": "https://localhost:8080/",
     "height": 367
    },
    "colab_type": "code",
    "id": "GahGJXj_rrda",
    "outputId": "3d58c010-0433-42d2-df5f-1733f5ca7094"
   },
   "outputs": [],
   "source": [
    "import numpy as np\n",
    "import pandas as pd\n",
    "\n",
    "import timeit\n",
    "from sklearn.model_selection import train_test_split, GridSearchCV\n",
    "from sklearn.preprocessing import OneHotEncoder, StandardScaler\n",
    "from sklearn.compose import ColumnTransformer\n",
    "from sklearn.pipeline import Pipeline\n",
    "from sklearn.svm import SVC\n",
    "from sklearn.metrics import confusion_matrix, classification_report\n",
    "\n",
    "import seaborn as sns\n",
    "import matplotlib.pyplot as plt\n",
    "\n",
    "%matplotlib inline\n",
    "import pandas as pd\n",
    "import numpy as np\n",
    "\n",
    "from sklearn.model_selection import train_test_split, GridSearchCV\n",
    "from sklearn.ensemble import GradientBoostingRegressor,GradientBoostingClassifier\n",
    "\n",
    "from category_encoders import LeaveOneOutEncoder\n",
    "from sklearn.pipeline import Pipeline\n",
    "\n",
    "\n",
    "\n",
    "import seaborn as sns\n",
    "import matplotlib.pyplot as plt\n"
   ]
  },
  {
   "cell_type": "code",
   "execution_count": 2,
   "metadata": {
    "colab": {},
    "colab_type": "code",
    "id": "LM7xH1Werrdc"
   },
   "outputs": [],
   "source": [
    "vegas = pd.read_csv('https://tf-assets-prod.s3.amazonaws.com/tf-curric/data-science/LasVegasTripAdvisorReviews-Dataset.csv', sep=';')"
   ]
  },
  {
   "cell_type": "code",
   "execution_count": 3,
   "metadata": {
    "colab": {
     "base_uri": "https://localhost:8080/",
     "height": 296
    },
    "colab_type": "code",
    "id": "2lUxIVfprrdd",
    "outputId": "e6857a2f-5dd2-4a10-bf09-8d61308bde52"
   },
   "outputs": [
    {
     "data": {
      "text/html": [
       "<div>\n",
       "<style scoped>\n",
       "    .dataframe tbody tr th:only-of-type {\n",
       "        vertical-align: middle;\n",
       "    }\n",
       "\n",
       "    .dataframe tbody tr th {\n",
       "        vertical-align: top;\n",
       "    }\n",
       "\n",
       "    .dataframe thead th {\n",
       "        text-align: right;\n",
       "    }\n",
       "</style>\n",
       "<table border=\"1\" class=\"dataframe\">\n",
       "  <thead>\n",
       "    <tr style=\"text-align: right;\">\n",
       "      <th></th>\n",
       "      <th>User country</th>\n",
       "      <th>Nr. reviews</th>\n",
       "      <th>Nr. hotel reviews</th>\n",
       "      <th>Helpful votes</th>\n",
       "      <th>Score</th>\n",
       "      <th>Period of stay</th>\n",
       "      <th>Traveler type</th>\n",
       "      <th>Pool</th>\n",
       "      <th>Gym</th>\n",
       "      <th>Tennis court</th>\n",
       "      <th>Spa</th>\n",
       "      <th>Casino</th>\n",
       "      <th>Free internet</th>\n",
       "      <th>Hotel name</th>\n",
       "      <th>Hotel stars</th>\n",
       "      <th>Nr. rooms</th>\n",
       "      <th>User continent</th>\n",
       "      <th>Member years</th>\n",
       "      <th>Review month</th>\n",
       "      <th>Review weekday</th>\n",
       "    </tr>\n",
       "  </thead>\n",
       "  <tbody>\n",
       "    <tr>\n",
       "      <th>0</th>\n",
       "      <td>USA</td>\n",
       "      <td>11</td>\n",
       "      <td>4</td>\n",
       "      <td>13</td>\n",
       "      <td>5</td>\n",
       "      <td>Dec-Feb</td>\n",
       "      <td>Friends</td>\n",
       "      <td>0</td>\n",
       "      <td>1</td>\n",
       "      <td>0</td>\n",
       "      <td>0</td>\n",
       "      <td>1</td>\n",
       "      <td>1</td>\n",
       "      <td>Circus Circus Hotel &amp; Casino Las Vegas</td>\n",
       "      <td>3</td>\n",
       "      <td>3773</td>\n",
       "      <td>North America</td>\n",
       "      <td>9</td>\n",
       "      <td>January</td>\n",
       "      <td>Thursday</td>\n",
       "    </tr>\n",
       "    <tr>\n",
       "      <th>1</th>\n",
       "      <td>USA</td>\n",
       "      <td>119</td>\n",
       "      <td>21</td>\n",
       "      <td>75</td>\n",
       "      <td>3</td>\n",
       "      <td>Dec-Feb</td>\n",
       "      <td>Business</td>\n",
       "      <td>0</td>\n",
       "      <td>1</td>\n",
       "      <td>0</td>\n",
       "      <td>0</td>\n",
       "      <td>1</td>\n",
       "      <td>1</td>\n",
       "      <td>Circus Circus Hotel &amp; Casino Las Vegas</td>\n",
       "      <td>3</td>\n",
       "      <td>3773</td>\n",
       "      <td>North America</td>\n",
       "      <td>3</td>\n",
       "      <td>January</td>\n",
       "      <td>Friday</td>\n",
       "    </tr>\n",
       "    <tr>\n",
       "      <th>2</th>\n",
       "      <td>USA</td>\n",
       "      <td>36</td>\n",
       "      <td>9</td>\n",
       "      <td>25</td>\n",
       "      <td>5</td>\n",
       "      <td>Mar-May</td>\n",
       "      <td>Families</td>\n",
       "      <td>0</td>\n",
       "      <td>1</td>\n",
       "      <td>0</td>\n",
       "      <td>0</td>\n",
       "      <td>1</td>\n",
       "      <td>1</td>\n",
       "      <td>Circus Circus Hotel &amp; Casino Las Vegas</td>\n",
       "      <td>3</td>\n",
       "      <td>3773</td>\n",
       "      <td>North America</td>\n",
       "      <td>2</td>\n",
       "      <td>February</td>\n",
       "      <td>Saturday</td>\n",
       "    </tr>\n",
       "    <tr>\n",
       "      <th>3</th>\n",
       "      <td>UK</td>\n",
       "      <td>14</td>\n",
       "      <td>7</td>\n",
       "      <td>14</td>\n",
       "      <td>4</td>\n",
       "      <td>Mar-May</td>\n",
       "      <td>Friends</td>\n",
       "      <td>0</td>\n",
       "      <td>1</td>\n",
       "      <td>0</td>\n",
       "      <td>0</td>\n",
       "      <td>1</td>\n",
       "      <td>1</td>\n",
       "      <td>Circus Circus Hotel &amp; Casino Las Vegas</td>\n",
       "      <td>3</td>\n",
       "      <td>3773</td>\n",
       "      <td>Europe</td>\n",
       "      <td>6</td>\n",
       "      <td>February</td>\n",
       "      <td>Friday</td>\n",
       "    </tr>\n",
       "    <tr>\n",
       "      <th>4</th>\n",
       "      <td>Canada</td>\n",
       "      <td>5</td>\n",
       "      <td>5</td>\n",
       "      <td>2</td>\n",
       "      <td>4</td>\n",
       "      <td>Mar-May</td>\n",
       "      <td>Solo</td>\n",
       "      <td>0</td>\n",
       "      <td>1</td>\n",
       "      <td>0</td>\n",
       "      <td>0</td>\n",
       "      <td>1</td>\n",
       "      <td>1</td>\n",
       "      <td>Circus Circus Hotel &amp; Casino Las Vegas</td>\n",
       "      <td>3</td>\n",
       "      <td>3773</td>\n",
       "      <td>North America</td>\n",
       "      <td>7</td>\n",
       "      <td>March</td>\n",
       "      <td>Tuesday</td>\n",
       "    </tr>\n",
       "  </tbody>\n",
       "</table>\n",
       "</div>"
      ],
      "text/plain": [
       "  User country  Nr. reviews  Nr. hotel reviews  Helpful votes  Score  \\\n",
       "0          USA           11                  4             13      5   \n",
       "1          USA          119                 21             75      3   \n",
       "2          USA           36                  9             25      5   \n",
       "3           UK           14                  7             14      4   \n",
       "4       Canada            5                  5              2      4   \n",
       "\n",
       "  Period of stay Traveler type  Pool  Gym  Tennis court  Spa  Casino  \\\n",
       "0        Dec-Feb       Friends     0    1             0    0       1   \n",
       "1        Dec-Feb      Business     0    1             0    0       1   \n",
       "2        Mar-May      Families     0    1             0    0       1   \n",
       "3        Mar-May       Friends     0    1             0    0       1   \n",
       "4        Mar-May          Solo     0    1             0    0       1   \n",
       "\n",
       "   Free internet                              Hotel name Hotel stars  \\\n",
       "0              1  Circus Circus Hotel & Casino Las Vegas           3   \n",
       "1              1  Circus Circus Hotel & Casino Las Vegas           3   \n",
       "2              1  Circus Circus Hotel & Casino Las Vegas           3   \n",
       "3              1  Circus Circus Hotel & Casino Las Vegas           3   \n",
       "4              1  Circus Circus Hotel & Casino Las Vegas           3   \n",
       "\n",
       "   Nr. rooms User continent  Member years Review month Review weekday  \n",
       "0       3773  North America             9      January       Thursday  \n",
       "1       3773  North America             3      January         Friday  \n",
       "2       3773  North America             2     February       Saturday  \n",
       "3       3773         Europe             6     February         Friday  \n",
       "4       3773  North America             7        March        Tuesday  "
      ]
     },
     "execution_count": 3,
     "metadata": {},
     "output_type": "execute_result"
    }
   ],
   "source": [
    "vegas = vegas.replace({'YES': 1, 'NO': 0})\n",
    "vegas = vegas[vegas['Member years'] >= 0]\n",
    "vegas.head()"
   ]
  },
  {
   "cell_type": "markdown",
   "metadata": {
    "colab_type": "text",
    "id": "GdcrlA-drrdf"
   },
   "source": [
    "Check for missing data and remove all rows with missing data"
   ]
  },
  {
   "cell_type": "code",
   "execution_count": 4,
   "metadata": {
    "colab": {
     "base_uri": "https://localhost:8080/",
     "height": 370
    },
    "colab_type": "code",
    "id": "OFRXxDeFrrdg",
    "outputId": "424cb7f9-be4b-4945-a21d-6d6f08735d66"
   },
   "outputs": [
    {
     "data": {
      "text/plain": [
       "User country         0.0\n",
       "Nr. reviews          0.0\n",
       "Nr. hotel reviews    0.0\n",
       "Helpful votes        0.0\n",
       "Score                0.0\n",
       "Period of stay       0.0\n",
       "Traveler type        0.0\n",
       "Pool                 0.0\n",
       "Gym                  0.0\n",
       "Tennis court         0.0\n",
       "Spa                  0.0\n",
       "Casino               0.0\n",
       "Free internet        0.0\n",
       "Hotel name           0.0\n",
       "Hotel stars          0.0\n",
       "Nr. rooms            0.0\n",
       "User continent       0.0\n",
       "Member years         0.0\n",
       "Review month         0.0\n",
       "Review weekday       0.0\n",
       "dtype: float64"
      ]
     },
     "execution_count": 4,
     "metadata": {},
     "output_type": "execute_result"
    }
   ],
   "source": [
    "# answer below: \n",
    "vegas.isna().mean()\n"
   ]
  },
  {
   "cell_type": "code",
   "execution_count": 5,
   "metadata": {
    "colab": {},
    "colab_type": "code",
    "id": "ymdJ4m6-JoLc"
   },
   "outputs": [
    {
     "data": {
      "text/plain": [
       "array([24, 23], dtype=int64)"
      ]
     },
     "execution_count": 5,
     "metadata": {},
     "output_type": "execute_result"
    }
   ],
   "source": [
    "vegas['Hotel name'].value_counts().unique()"
   ]
  },
  {
   "cell_type": "markdown",
   "metadata": {
    "colab_type": "text",
    "id": "Bog4DfbRrrdh"
   },
   "source": [
    "How many reviews do we have for each hotel in the dataset?"
   ]
  },
  {
   "cell_type": "code",
   "execution_count": 6,
   "metadata": {
    "colab": {
     "base_uri": "https://localhost:8080/",
     "height": 470
    },
    "colab_type": "code",
    "id": "Mu2coxSnJbea",
    "outputId": "6d66aa5d-161d-4ff9-8f0d-e927a3f061a4"
   },
   "outputs": [
    {
     "name": "stdout",
     "output_type": "stream",
     "text": [
      "<class 'pandas.core.frame.DataFrame'>\n",
      "Int64Index: 503 entries, 0 to 503\n",
      "Data columns (total 20 columns):\n",
      " #   Column             Non-Null Count  Dtype \n",
      "---  ------             --------------  ----- \n",
      " 0   User country       503 non-null    object\n",
      " 1   Nr. reviews        503 non-null    int64 \n",
      " 2   Nr. hotel reviews  503 non-null    int64 \n",
      " 3   Helpful votes      503 non-null    int64 \n",
      " 4   Score              503 non-null    int64 \n",
      " 5   Period of stay     503 non-null    object\n",
      " 6   Traveler type      503 non-null    object\n",
      " 7   Pool               503 non-null    int64 \n",
      " 8   Gym                503 non-null    int64 \n",
      " 9   Tennis court       503 non-null    int64 \n",
      " 10  Spa                503 non-null    int64 \n",
      " 11  Casino             503 non-null    int64 \n",
      " 12  Free internet      503 non-null    int64 \n",
      " 13  Hotel name         503 non-null    object\n",
      " 14  Hotel stars        503 non-null    object\n",
      " 15  Nr. rooms          503 non-null    int64 \n",
      " 16  User continent     503 non-null    object\n",
      " 17  Member years       503 non-null    int64 \n",
      " 18  Review month       503 non-null    object\n",
      " 19  Review weekday     503 non-null    object\n",
      "dtypes: int64(12), object(8)\n",
      "memory usage: 82.5+ KB\n"
     ]
    }
   ],
   "source": [
    "vegas.info()"
   ]
  },
  {
   "cell_type": "markdown",
   "metadata": {
    "colab_type": "text",
    "id": "jiD4nUMGrrdj"
   },
   "source": [
    "We would like to predict the score variable. Examine the dataset and decide which columns should be turned into dummy variables and transform the data. Also, where we have two columns with redundant information, remove one of the two columns. Remove the hotel stars column."
   ]
  },
  {
   "cell_type": "code",
   "execution_count": 7,
   "metadata": {
    "colab": {
     "base_uri": "https://localhost:8080/",
     "height": 134
    },
    "colab_type": "code",
    "id": "9eo_8lZKrrdj",
    "outputId": "908e1684-96ca-4c4a-f0e3-de77fe97e0ae"
   },
   "outputs": [
    {
     "data": {
      "text/plain": [
       "Score                1.000000\n",
       "Pool                 0.203024\n",
       "Free internet        0.184492\n",
       "Member years         0.072942\n",
       "Tennis court         0.063061\n",
       "Spa                  0.048904\n",
       "Helpful votes        0.016049\n",
       "Nr. hotel reviews    0.014239\n",
       "Gym                  0.008437\n",
       "Casino               0.014648\n",
       "Nr. reviews          0.023622\n",
       "Nr. rooms            0.081212\n",
       "Name: Score, dtype: float64"
      ]
     },
     "execution_count": 7,
     "metadata": {},
     "output_type": "execute_result"
    }
   ],
   "source": [
    "# answer below:\n",
    "vegas.corr()['Score'].sort_values(ascending=False).abs()"
   ]
  },
  {
   "cell_type": "code",
   "execution_count": 8,
   "metadata": {
    "colab": {},
    "colab_type": "code",
    "id": "DHuip-1SJvsz"
   },
   "outputs": [],
   "source": [
    "drop_cols = ['User country', 'Period of stay', 'Hotel stars']\n",
    "\n",
    "bin_cols = ['Pool', 'Gym', 'Tennis court', 'Spa', 'Casino', 'Free internet']\n",
    "\n",
    "cat_cols = ['User continent', 'Review month', 'Review weekday', 'Traveler type', 'Hotel name']\n",
    "drop_cat = ['North America', 'January', 'Sunday', 'Solo', 'The Cromwell']\n",
    "\n",
    "num_cols = ['Nr. reviews', 'Nr. hotel reviews', 'Helpful votes', 'Nr. rooms', 'Member years']"
   ]
  },
  {
   "cell_type": "markdown",
   "metadata": {
    "colab_type": "text",
    "id": "ipD7WyBHrrdl"
   },
   "source": [
    "Split the data into train and test (20% in test)"
   ]
  },
  {
   "cell_type": "code",
   "execution_count": 16,
   "metadata": {
    "colab": {},
    "colab_type": "code",
    "id": "w0jc_sQVrrdl"
   },
   "outputs": [],
   "source": [
    "# answer below:\n",
    "X = vegas.drop(columns=drop_cols)\n",
    "X = X.drop(columns=['Score'])\n",
    "y = vegas['Score']\n",
    "\n",
    "X_train, X_test, y_train, y_test = train_test_split(\n",
    "    X, y, test_size=0.2, random_state=42, stratify=y\n",
    ")\n"
   ]
  },
  {
   "cell_type": "code",
   "execution_count": 19,
   "metadata": {
    "colab": {
     "base_uri": "https://localhost:8080/",
     "height": 370
    },
    "colab_type": "code",
    "id": "LjH75RE3LMIB",
    "outputId": "3c6026be-3986-4e9c-aff0-413cf66dc3dd"
   },
   "outputs": [],
   "source": [
    "start_time = timeit.default_timer()\n",
    "\n",
    "preprocessing = ColumnTransformer([\n",
    "    # ('encode_cats', OneHotEncoder(drop=drop_cat), cat_cols),\n",
    "    ('encode_cats', LeaveOneOutEncoder(), cat_cols),\n",
    "    ('scale_nums', StandardScaler(), num_cols),\n",
    "], remainder='passthrough')\n",
    "\n"
   ]
  },
  {
   "cell_type": "code",
   "execution_count": 20,
   "metadata": {},
   "outputs": [],
   "source": [
    "pipeline = Pipeline([\n",
    "    ('preprocessing', preprocessing),\n",
    "    # ('gbt', GradientBoostingRegressor()),\n",
    "    ('gbt', GradientBoostingClassifier()),\n",
    "])\n"
   ]
  },
  {
   "cell_type": "code",
   "execution_count": 21,
   "metadata": {},
   "outputs": [
    {
     "name": "stdout",
     "output_type": "stream",
     "text": [
      "Fitting 2 folds for each of 24 candidates, totalling 48 fits\n"
     ]
    },
    {
     "name": "stderr",
     "output_type": "stream",
     "text": [
      "[Parallel(n_jobs=1)]: Using backend SequentialBackend with 1 concurrent workers.\n",
      "[Parallel(n_jobs=1)]: Done  48 out of  48 | elapsed:  2.0min finished\n"
     ]
    },
    {
     "name": "stdout",
     "output_type": "stream",
     "text": [
      "{'gbt__learning_rate': 0.2, 'gbt__max_depth': 2, 'gbt__max_features': 0.75, 'gbt__n_estimators': 1000, 'gbt__subsample': 1.0}\n",
      "125.10827110000002\n"
     ]
    }
   ],
   "source": [
    "n_trees = 1000\n",
    "learning_rate = 2 / n_trees\n",
    "\n",
    "grid = {\n",
    "    \"gbt__subsample\": [0.75, 1.0],\n",
    "    \"gbt__max_features\": [0.75, 1.0],\n",
    "    \"gbt__max_depth\": [2, 3],\n",
    "    \"gbt__n_estimators\": [n_trees],\n",
    "    \"gbt__learning_rate\": [learning_rate, 0.001, 0.2]\n",
    "}\n",
    "\n",
    "pipeline_cv = GridSearchCV(pipeline, grid, verbose=1, cv=2)\n",
    "pipeline_cv.fit(X_train, y_train)\n",
    "\n",
    "print(pipeline_cv.best_params_)\n",
    "\n",
    "\n",
    "elapsed = timeit.default_timer() - start_time\n",
    "print(elapsed)"
   ]
  },
  {
   "cell_type": "code",
   "execution_count": 22,
   "metadata": {},
   "outputs": [
    {
     "name": "stdout",
     "output_type": "stream",
     "text": [
      "train_score 0.31343283582089554\n",
      "test_score 0.3069306930693069\n"
     ]
    }
   ],
   "source": [
    "train_score = pipeline_cv.score(X_train, y_train)\n",
    "test_score = pipeline_cv.score(X_test, y_test)\n",
    "\n",
    "print(f\"train_score {train_score}\")\n",
    "print(f\"test_score {test_score}\")\n"
   ]
  },
  {
   "cell_type": "markdown",
   "metadata": {
    "colab_type": "text",
    "id": "0VZ7h_b3rrdn"
   },
   "source": [
    "Create a graident boosted regression model for predicting the score. To produce the accuracy score for the test data, first round the prediction and then compare to the observed."
   ]
  },
  {
   "cell_type": "code",
   "execution_count": null,
   "metadata": {
    "colab": {},
    "colab_type": "code",
    "id": "PDRCmva3rrdn"
   },
   "outputs": [],
   "source": []
  },
  {
   "cell_type": "markdown",
   "metadata": {
    "colab_type": "text",
    "id": "xxYf4M0errdp"
   },
   "source": [
    "Try again with a learning rate of 0.8 and 0.3 and compare the results."
   ]
  },
  {
   "cell_type": "code",
   "execution_count": 23,
   "metadata": {
    "colab": {
     "base_uri": "https://localhost:8080/",
     "height": 370
    },
    "colab_type": "code",
    "id": "LjH75RE3LMIB",
    "outputId": "3c6026be-3986-4e9c-aff0-413cf66dc3dd"
   },
   "outputs": [],
   "source": [
    "\n",
    "\n",
    "preprocessing = ColumnTransformer([\n",
    "    # ('encode_cats', OneHotEncoder(drop=drop_cat), cat_cols),\n",
    "    ('encode_cats', LeaveOneOutEncoder(), cat_cols),\n",
    "    ('scale_nums', StandardScaler(), num_cols),\n",
    "], remainder='passthrough')\n",
    "\n"
   ]
  },
  {
   "cell_type": "code",
   "execution_count": 24,
   "metadata": {},
   "outputs": [],
   "source": [
    "pipeline = Pipeline([\n",
    "    ('preprocessing', preprocessing),\n",
    "    # ('gbt', GradientBoostingRegressor()),\n",
    "    ('gbt', GradientBoostingClassifier()),\n",
    "])\n"
   ]
  },
  {
   "cell_type": "code",
   "execution_count": 25,
   "metadata": {},
   "outputs": [
    {
     "name": "stdout",
     "output_type": "stream",
     "text": [
      "Fitting 2 folds for each of 24 candidates, totalling 48 fits\n"
     ]
    },
    {
     "name": "stderr",
     "output_type": "stream",
     "text": [
      "[Parallel(n_jobs=1)]: Using backend SequentialBackend with 1 concurrent workers.\n",
      "[Parallel(n_jobs=1)]: Done  48 out of  48 | elapsed:  1.7min finished\n"
     ]
    },
    {
     "name": "stdout",
     "output_type": "stream",
     "text": [
      "{'gbt__learning_rate': 0.8, 'gbt__max_depth': 2, 'gbt__max_features': 0.75, 'gbt__n_estimators': 1000, 'gbt__subsample': 1.0}\n",
      "310.418636\n"
     ]
    }
   ],
   "source": [
    "n_trees = 1000\n",
    "learning_rate = 2 / n_trees\n",
    "\n",
    "grid = {\n",
    "    \"gbt__subsample\": [0.75, 1.0],\n",
    "    \"gbt__max_features\": [0.75, 1.0],\n",
    "    \"gbt__max_depth\": [2, 3],\n",
    "    \"gbt__n_estimators\": [n_trees],\n",
    "    \"gbt__learning_rate\": [learning_rate, 0.8, 0.3]\n",
    "}\n",
    "\n",
    "pipeline_cv = GridSearchCV(pipeline, grid, verbose=1, cv=2)\n",
    "pipeline_cv.fit(X_train, y_train)\n",
    "\n",
    "print(pipeline_cv.best_params_)\n",
    "\n",
    "\n",
    "elapsed = timeit.default_timer() - start_time\n",
    "print(elapsed)"
   ]
  },
  {
   "cell_type": "code",
   "execution_count": 26,
   "metadata": {},
   "outputs": [
    {
     "name": "stdout",
     "output_type": "stream",
     "text": [
      "train_score 0.30845771144278605\n",
      "test_score 0.25742574257425743\n"
     ]
    }
   ],
   "source": [
    "train_score = pipeline_cv.score(X_train, y_train)\n",
    "test_score = pipeline_cv.score(X_test, y_test)\n",
    "\n",
    "print(f\"train_score {train_score}\")\n",
    "print(f\"test_score {test_score}\")"
   ]
  },
  {
   "cell_type": "code",
   "execution_count": 27,
   "metadata": {},
   "outputs": [
    {
     "name": "stdout",
     "output_type": "stream",
     "text": [
      "Fitting 2 folds for each of 16 candidates, totalling 32 fits\n"
     ]
    },
    {
     "name": "stderr",
     "output_type": "stream",
     "text": [
      "[Parallel(n_jobs=1)]: Using backend SequentialBackend with 1 concurrent workers.\n",
      "[Parallel(n_jobs=1)]: Done  32 out of  32 | elapsed:  1.2min finished\n"
     ]
    },
    {
     "name": "stdout",
     "output_type": "stream",
     "text": [
      "{'gbt__learning_rate': 0.002, 'gbt__max_depth': 3, 'gbt__max_features': 0.75, 'gbt__n_estimators': 1000, 'gbt__subsample': 1.0}\n",
      "507.9963252\n"
     ]
    }
   ],
   "source": [
    "n_trees = 1000\n",
    "learning_rate = 2 / n_trees\n",
    "\n",
    "grid = {\n",
    "    \"gbt__subsample\": [0.75, 1.0],\n",
    "    \"gbt__max_features\": [0.75, 1.0],\n",
    "    \"gbt__max_depth\": [2, 3],\n",
    "    \"gbt__n_estimators\": [n_trees],\n",
    "    \"gbt__learning_rate\": [learning_rate, 0.3]\n",
    "}\n",
    "\n",
    "pipeline_cv = GridSearchCV(pipeline, grid, verbose=1, cv=2)\n",
    "pipeline_cv.fit(X_train, y_train)\n",
    "\n",
    "print(pipeline_cv.best_params_)\n",
    "\n",
    "\n",
    "elapsed = timeit.default_timer() - start_time\n",
    "print(elapsed)"
   ]
  },
  {
   "cell_type": "code",
   "execution_count": 28,
   "metadata": {},
   "outputs": [
    {
     "name": "stdout",
     "output_type": "stream",
     "text": [
      "train_score 0.31094527363184077\n",
      "test_score 0.2871287128712871\n"
     ]
    }
   ],
   "source": [
    "train_score = pipeline_cv.score(X_train, y_train)\n",
    "test_score = pipeline_cv.score(X_test, y_test)\n",
    "\n",
    "print(f\"train_score {train_score}\")\n",
    "print(f\"test_score {test_score}\")"
   ]
  },
  {
   "cell_type": "code",
   "execution_count": null,
   "metadata": {},
   "outputs": [],
   "source": []
  }
 ],
 "metadata": {
  "colab": {
   "collapsed_sections": [],
   "name": "jonathan michael of Day 34 Lecture 2 Assignment.ipynb",
   "provenance": []
  },
  "kernelspec": {
   "display_name": "Python 3",
   "language": "python",
   "name": "python3"
  },
  "language_info": {
   "codemirror_mode": {
    "name": "ipython",
    "version": 3
   },
   "file_extension": ".py",
   "mimetype": "text/x-python",
   "name": "python",
   "nbconvert_exporter": "python",
   "pygments_lexer": "ipython3",
   "version": "3.7.6"
  }
 },
 "nbformat": 4,
 "nbformat_minor": 1
}
