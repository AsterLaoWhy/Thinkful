{
 "cells": [
  {
   "cell_type": "code",
   "execution_count": 21,
   "metadata": {},
   "outputs": [
    {
     "data": {
      "text/html": [
       "<table style=\"border: 2px solid white;\">\n",
       "<tr>\n",
       "<td style=\"vertical-align: top; border: 0px solid white\">\n",
       "<h3 style=\"text-align: left;\">Client</h3>\n",
       "<ul style=\"text-align: left; list-style: none; margin: 0; padding: 0;\">\n",
       "  <li><b>Scheduler: </b>tcp://127.0.0.1:62360</li>\n",
       "  <li><b>Dashboard: </b><a href='http://127.0.0.1:62361/status' target='_blank'>http://127.0.0.1:62361/status</a>\n",
       "</ul>\n",
       "</td>\n",
       "<td style=\"vertical-align: top; border: 0px solid white\">\n",
       "<h3 style=\"text-align: left;\">Cluster</h3>\n",
       "<ul style=\"text-align: left; list-style:none; margin: 0; padding: 0;\">\n",
       "  <li><b>Workers: </b>4</li>\n",
       "  <li><b>Cores: </b>8</li>\n",
       "  <li><b>Memory: </b>8.00 GB</li>\n",
       "</ul>\n",
       "</td>\n",
       "</tr>\n",
       "</table>"
      ],
      "text/plain": [
       "<Client: 'tcp://127.0.0.1:62360' processes=4 threads=8, memory=8.00 GB>"
      ]
     },
     "execution_count": 21,
     "metadata": {},
     "output_type": "execute_result"
    },
    {
     "data": {
      "application/javascript": [
       "\n",
       "            setTimeout(function() {\n",
       "                var nbb_cell_id = 21;\n",
       "                var nbb_unformatted_code = \"import warnings\\n\\nwarnings.filterwarnings(\\\"ignore\\\")\\n\\nfrom dask.distributed import Client, progress\\n\\nclient = Client(n_workers=4, threads_per_worker=2, memory_limit=\\\"2GB\\\")\\nclient\";\n",
       "                var nbb_formatted_code = \"import warnings\\n\\nwarnings.filterwarnings(\\\"ignore\\\")\\n\\nfrom dask.distributed import Client, progress\\n\\nclient = Client(n_workers=4, threads_per_worker=2, memory_limit=\\\"2GB\\\")\\nclient\";\n",
       "                var nbb_cells = Jupyter.notebook.get_cells();\n",
       "                for (var i = 0; i < nbb_cells.length; ++i) {\n",
       "                    if (nbb_cells[i].input_prompt_number == nbb_cell_id) {\n",
       "                        if (nbb_cells[i].get_text() == nbb_unformatted_code) {\n",
       "                             nbb_cells[i].set_text(nbb_formatted_code);\n",
       "                        }\n",
       "                        break;\n",
       "                    }\n",
       "                }\n",
       "            }, 500);\n",
       "            "
      ],
      "text/plain": [
       "<IPython.core.display.Javascript object>"
      ]
     },
     "metadata": {},
     "output_type": "display_data"
    }
   ],
   "source": [
    "import warnings\n",
    "\n",
    "warnings.filterwarnings(\"ignore\")\n",
    "\n",
    "from dask.distributed import Client, progress\n",
    "\n",
    "client = Client(n_workers=4, threads_per_worker=2, memory_limit=\"2GB\")\n",
    "client"
   ]
  },
  {
   "cell_type": "code",
   "execution_count": 51,
   "metadata": {},
   "outputs": [
    {
     "name": "stdout",
     "output_type": "stream",
     "text": [
      "The nb_black extension is already loaded. To reload it, use:\n",
      "  %reload_ext nb_black\n"
     ]
    },
    {
     "data": {
      "application/javascript": [
       "\n",
       "            setTimeout(function() {\n",
       "                var nbb_cell_id = 51;\n",
       "                var nbb_unformatted_code = \"%load_ext nb_black\\nimport matplotlib.pyplot as plt\\nimport dask.dataframe as dd\\nimport dask.array as da\\nimport seaborn as sns\\nimport sqlite3\\nimport statsmodels.api as sm\\nfrom statsmodels.tools.eval_measures import mse, rmse\\n\\n# sklearn/XGboost imports\\nimport joblib\\nfrom dask_ml.preprocessing import DummyEncoder\\nfrom dask_ml.model_selection import train_test_split\\nfrom sklearn.model_selection import cross_validate, GridSearchCV\\nfrom sklearn.feature_selection import SelectKBest, f_regression\\nfrom sklearn.linear_model import LogisticRegression, LassoCV, RidgeCV, ElasticNetCV\\nfrom sklearn.neighbors import KNeighborsRegressor\\nfrom sklearn.metrics import (\\n    roc_auc_score,\\n    confusion_matrix,\\n    mean_absolute_error,\\n    mean_squared_error,\\n    classification_report,\\n)\\nfrom sklearn.preprocessing import StandardScaler\\nfrom sklearn.compose import ColumnTransformer\\nfrom xgboost import XGBRegressor\\nimport warnings\\n\\nwarnings.filterwarnings(\\\"ignore\\\")\";\n",
       "                var nbb_formatted_code = \"%load_ext nb_black\\nimport matplotlib.pyplot as plt\\nimport dask.dataframe as dd\\nimport dask.array as da\\nimport seaborn as sns\\nimport sqlite3\\nimport statsmodels.api as sm\\nfrom statsmodels.tools.eval_measures import mse, rmse\\n\\n# sklearn/XGboost imports\\nimport joblib\\nfrom dask_ml.preprocessing import DummyEncoder\\nfrom dask_ml.model_selection import train_test_split\\nfrom sklearn.model_selection import cross_validate, GridSearchCV\\nfrom sklearn.feature_selection import SelectKBest, f_regression\\nfrom sklearn.linear_model import LogisticRegression, LassoCV, RidgeCV, ElasticNetCV\\nfrom sklearn.neighbors import KNeighborsRegressor\\nfrom sklearn.metrics import (\\n    roc_auc_score,\\n    confusion_matrix,\\n    mean_absolute_error,\\n    mean_squared_error,\\n    classification_report,\\n)\\nfrom sklearn.preprocessing import StandardScaler\\nfrom sklearn.compose import ColumnTransformer\\nfrom xgboost import XGBRegressor\\nimport warnings\\n\\nwarnings.filterwarnings(\\\"ignore\\\")\";\n",
       "                var nbb_cells = Jupyter.notebook.get_cells();\n",
       "                for (var i = 0; i < nbb_cells.length; ++i) {\n",
       "                    if (nbb_cells[i].input_prompt_number == nbb_cell_id) {\n",
       "                        if (nbb_cells[i].get_text() == nbb_unformatted_code) {\n",
       "                             nbb_cells[i].set_text(nbb_formatted_code);\n",
       "                        }\n",
       "                        break;\n",
       "                    }\n",
       "                }\n",
       "            }, 500);\n",
       "            "
      ],
      "text/plain": [
       "<IPython.core.display.Javascript object>"
      ]
     },
     "metadata": {},
     "output_type": "display_data"
    }
   ],
   "source": [
    "%load_ext nb_black\n",
    "import matplotlib.pyplot as plt\n",
    "import dask.dataframe as dd\n",
    "import dask.array as da\n",
    "import seaborn as sns\n",
    "import sqlite3\n",
    "import statsmodels.api as sm\n",
    "from statsmodels.tools.eval_measures import mse, rmse\n",
    "\n",
    "# sklearn/XGboost imports\n",
    "import joblib\n",
    "from dask_ml.preprocessing import DummyEncoder\n",
    "from dask_ml.model_selection import train_test_split\n",
    "from sklearn.model_selection import cross_validate, GridSearchCV\n",
    "from sklearn.feature_selection import SelectKBest, f_regression\n",
    "from sklearn.linear_model import LogisticRegression, LassoCV, RidgeCV, ElasticNetCV\n",
    "from sklearn.neighbors import KNeighborsRegressor\n",
    "from sklearn.metrics import (\n",
    "    roc_auc_score,\n",
    "    confusion_matrix,\n",
    "    mean_absolute_error,\n",
    "    mean_squared_error,\n",
    "    classification_report,\n",
    ")\n",
    "from sklearn.preprocessing import StandardScaler\n",
    "from sklearn.compose import ColumnTransformer\n",
    "from xgboost import XGBRegressor\n",
    "import warnings\n",
    "\n",
    "warnings.filterwarnings(\"ignore\")"
   ]
  },
  {
   "cell_type": "code",
   "execution_count": 3,
   "metadata": {},
   "outputs": [
    {
     "name": "stdout",
     "output_type": "stream",
     "text": [
      "C:\\Users\\jonat\n"
     ]
    },
    {
     "data": {
      "application/javascript": [
       "\n",
       "            setTimeout(function() {\n",
       "                var nbb_cell_id = 3;\n",
       "                var nbb_unformatted_code = \"cd\";\n",
       "                var nbb_formatted_code = \"cd\";\n",
       "                var nbb_cells = Jupyter.notebook.get_cells();\n",
       "                for (var i = 0; i < nbb_cells.length; ++i) {\n",
       "                    if (nbb_cells[i].input_prompt_number == nbb_cell_id) {\n",
       "                        if (nbb_cells[i].get_text() == nbb_unformatted_code) {\n",
       "                             nbb_cells[i].set_text(nbb_formatted_code);\n",
       "                        }\n",
       "                        break;\n",
       "                    }\n",
       "                }\n",
       "            }, 500);\n",
       "            "
      ],
      "text/plain": [
       "<IPython.core.display.Javascript object>"
      ]
     },
     "metadata": {},
     "output_type": "display_data"
    }
   ],
   "source": [
    "cd"
   ]
  },
  {
   "cell_type": "code",
   "execution_count": 4,
   "metadata": {},
   "outputs": [
    {
     "name": "stderr",
     "output_type": "stream",
     "text": [
      "ERROR:root:Cannot parse: 1:3: cd Desktop\n",
      "Traceback (most recent call last):\n",
      "  File \"C:\\Users\\jonat\\anaconda3\\lib\\site-packages\\lab_black.py\", line 218, in format_cell\n",
      "    formatted_code = _format_code(cell)\n",
      "  File \"C:\\Users\\jonat\\anaconda3\\lib\\site-packages\\lab_black.py\", line 29, in _format_code\n",
      "    return format_str(src_contents=code, mode=FileMode())\n",
      "  File \"C:\\Users\\jonat\\anaconda3\\lib\\site-packages\\black.py\", line 725, in format_str\n",
      "    src_node = lib2to3_parse(src_contents.lstrip(), mode.target_versions)\n",
      "  File \"C:\\Users\\jonat\\anaconda3\\lib\\site-packages\\black.py\", line 836, in lib2to3_parse\n",
      "    raise exc from None\n",
      "black.InvalidInput: Cannot parse: 1:3: cd Desktop\n"
     ]
    },
    {
     "name": "stdout",
     "output_type": "stream",
     "text": [
      "C:\\Users\\jonat\\Desktop\n"
     ]
    }
   ],
   "source": [
    "cd Desktop"
   ]
  },
  {
   "cell_type": "code",
   "execution_count": 5,
   "metadata": {},
   "outputs": [
    {
     "data": {
      "application/javascript": [
       "\n",
       "            setTimeout(function() {\n",
       "                var nbb_cell_id = 5;\n",
       "                var nbb_unformatted_code = \"df = dd.read_csv(\\\"EPL.csv\\\")\";\n",
       "                var nbb_formatted_code = \"df = dd.read_csv(\\\"EPL.csv\\\")\";\n",
       "                var nbb_cells = Jupyter.notebook.get_cells();\n",
       "                for (var i = 0; i < nbb_cells.length; ++i) {\n",
       "                    if (nbb_cells[i].input_prompt_number == nbb_cell_id) {\n",
       "                        if (nbb_cells[i].get_text() == nbb_unformatted_code) {\n",
       "                             nbb_cells[i].set_text(nbb_formatted_code);\n",
       "                        }\n",
       "                        break;\n",
       "                    }\n",
       "                }\n",
       "            }, 500);\n",
       "            "
      ],
      "text/plain": [
       "<IPython.core.display.Javascript object>"
      ]
     },
     "metadata": {},
     "output_type": "display_data"
    }
   ],
   "source": [
    "df = dd.read_csv(\"EPL.csv\")\n"
   ]
  },
  {
   "cell_type": "code",
   "execution_count": 6,
   "metadata": {},
   "outputs": [
    {
     "data": {
      "text/plain": [
       "'\\nDate: Match Date (dd/mm/yy)\\nHomeTeam: Home Team\\nAwayTeam: Away Team\\nFTHG: Full Time Home Team Goals\\nFTAG: Full Time Away Team Goals\\nFTR: Full Time Result (H=Home Win, D=Draw, A=Away Win)\\nHTHG: Half Time Home Team Goals\\nHTAG: Half Time Away Team Goals\\nHTR: Half Time Result (H=Home Win, D=Draw, A=Away Win)\\nReferee: Match Referee\\nHS: Home Team Shots\\nAS: Away Team Shots\\nHST: Home Team Shots on Target\\nAST: Away Team Shots on Target\\nHC: Home Team Corners\\nAC: Away Team Corners\\nHF: Home Team Fouls Committed\\nAF: Away Team Fouls Committed\\nHY: Home Team Yellow Cards\\nAY: Away Team Yellow Cards\\nHR: Home Team Red Cards\\nAR: Away Team Red Cards\\n'"
      ]
     },
     "execution_count": 6,
     "metadata": {},
     "output_type": "execute_result"
    },
    {
     "data": {
      "application/javascript": [
       "\n",
       "            setTimeout(function() {\n",
       "                var nbb_cell_id = 6;\n",
       "                var nbb_unformatted_code = \"'''\\nDate: Match Date (dd/mm/yy)\\nHomeTeam: Home Team\\nAwayTeam: Away Team\\nFTHG: Full Time Home Team Goals\\nFTAG: Full Time Away Team Goals\\nFTR: Full Time Result (H=Home Win, D=Draw, A=Away Win)\\nHTHG: Half Time Home Team Goals\\nHTAG: Half Time Away Team Goals\\nHTR: Half Time Result (H=Home Win, D=Draw, A=Away Win)\\nReferee: Match Referee\\nHS: Home Team Shots\\nAS: Away Team Shots\\nHST: Home Team Shots on Target\\nAST: Away Team Shots on Target\\nHC: Home Team Corners\\nAC: Away Team Corners\\nHF: Home Team Fouls Committed\\nAF: Away Team Fouls Committed\\nHY: Home Team Yellow Cards\\nAY: Away Team Yellow Cards\\nHR: Home Team Red Cards\\nAR: Away Team Red Cards\\n'''\";\n",
       "                var nbb_formatted_code = \"\\\"\\\"\\\"\\nDate: Match Date (dd/mm/yy)\\nHomeTeam: Home Team\\nAwayTeam: Away Team\\nFTHG: Full Time Home Team Goals\\nFTAG: Full Time Away Team Goals\\nFTR: Full Time Result (H=Home Win, D=Draw, A=Away Win)\\nHTHG: Half Time Home Team Goals\\nHTAG: Half Time Away Team Goals\\nHTR: Half Time Result (H=Home Win, D=Draw, A=Away Win)\\nReferee: Match Referee\\nHS: Home Team Shots\\nAS: Away Team Shots\\nHST: Home Team Shots on Target\\nAST: Away Team Shots on Target\\nHC: Home Team Corners\\nAC: Away Team Corners\\nHF: Home Team Fouls Committed\\nAF: Away Team Fouls Committed\\nHY: Home Team Yellow Cards\\nAY: Away Team Yellow Cards\\nHR: Home Team Red Cards\\nAR: Away Team Red Cards\\n\\\"\\\"\\\"\";\n",
       "                var nbb_cells = Jupyter.notebook.get_cells();\n",
       "                for (var i = 0; i < nbb_cells.length; ++i) {\n",
       "                    if (nbb_cells[i].input_prompt_number == nbb_cell_id) {\n",
       "                        if (nbb_cells[i].get_text() == nbb_unformatted_code) {\n",
       "                             nbb_cells[i].set_text(nbb_formatted_code);\n",
       "                        }\n",
       "                        break;\n",
       "                    }\n",
       "                }\n",
       "            }, 500);\n",
       "            "
      ],
      "text/plain": [
       "<IPython.core.display.Javascript object>"
      ]
     },
     "metadata": {},
     "output_type": "display_data"
    }
   ],
   "source": [
    "\"\"\"\n",
    "Date: Match Date (dd/mm/yy)\n",
    "HomeTeam: Home Team\n",
    "AwayTeam: Away Team\n",
    "FTHG: Full Time Home Team Goals\n",
    "FTAG: Full Time Away Team Goals\n",
    "FTR: Full Time Result (H=Home Win, D=Draw, A=Away Win)\n",
    "HTHG: Half Time Home Team Goals\n",
    "HTAG: Half Time Away Team Goals\n",
    "HTR: Half Time Result (H=Home Win, D=Draw, A=Away Win)\n",
    "Referee: Match Referee\n",
    "HS: Home Team Shots\n",
    "AS: Away Team Shots\n",
    "HST: Home Team Shots on Target\n",
    "AST: Away Team Shots on Target\n",
    "HC: Home Team Corners\n",
    "AC: Away Team Corners\n",
    "HF: Home Team Fouls Committed\n",
    "AF: Away Team Fouls Committed\n",
    "HY: Home Team Yellow Cards\n",
    "AY: Away Team Yellow Cards\n",
    "HR: Home Team Red Cards\n",
    "AR: Away Team Red Cards\n",
    "\"\"\""
   ]
  },
  {
   "cell_type": "code",
   "execution_count": 7,
   "metadata": {},
   "outputs": [
    {
     "data": {
      "text/plain": [
       "'\\nWhat do I care about?\\nFTHG: Full Time Home Team Goals\\nFTAG: Full Time Away Team Goals\\nFTR: Full Time Result (H=Home Win, D=Draw, A=Away Win)\\nHTHG: Half Time Home Team Goals\\nHTAG: Half Time Away Team Goals\\nHTR: Half Time Result (H=Home Win, D=Draw, A=Away Win)\\nHS: Home Team Shots\\nAS: Away Team Shots\\nHST: Home Team Shots on Target\\nAST: Away Team Shots on Target\\nHC: Home Team Corners\\nAC: Away Team Corners\\nHF: Home Team Fouls Committed\\nAF: Away Team Fouls Committed\\nHY: Home Team Yellow Cards\\nAY: Away Team Yellow Cards\\nHR: Home Team Red Cards\\nAR: Away Team Red Cards\\n\\n\\nSO everything except for referee\\n'"
      ]
     },
     "execution_count": 7,
     "metadata": {},
     "output_type": "execute_result"
    },
    {
     "data": {
      "application/javascript": [
       "\n",
       "            setTimeout(function() {\n",
       "                var nbb_cell_id = 7;\n",
       "                var nbb_unformatted_code = \"\\\"\\\"\\\"\\nWhat do I care about?\\nFTHG: Full Time Home Team Goals\\nFTAG: Full Time Away Team Goals\\nFTR: Full Time Result (H=Home Win, D=Draw, A=Away Win)\\nHTHG: Half Time Home Team Goals\\nHTAG: Half Time Away Team Goals\\nHTR: Half Time Result (H=Home Win, D=Draw, A=Away Win)\\nHS: Home Team Shots\\nAS: Away Team Shots\\nHST: Home Team Shots on Target\\nAST: Away Team Shots on Target\\nHC: Home Team Corners\\nAC: Away Team Corners\\nHF: Home Team Fouls Committed\\nAF: Away Team Fouls Committed\\nHY: Home Team Yellow Cards\\nAY: Away Team Yellow Cards\\nHR: Home Team Red Cards\\nAR: Away Team Red Cards\\n\\n\\nSO everything except for referee\\n\\\"\\\"\\\"\";\n",
       "                var nbb_formatted_code = \"\\\"\\\"\\\"\\nWhat do I care about?\\nFTHG: Full Time Home Team Goals\\nFTAG: Full Time Away Team Goals\\nFTR: Full Time Result (H=Home Win, D=Draw, A=Away Win)\\nHTHG: Half Time Home Team Goals\\nHTAG: Half Time Away Team Goals\\nHTR: Half Time Result (H=Home Win, D=Draw, A=Away Win)\\nHS: Home Team Shots\\nAS: Away Team Shots\\nHST: Home Team Shots on Target\\nAST: Away Team Shots on Target\\nHC: Home Team Corners\\nAC: Away Team Corners\\nHF: Home Team Fouls Committed\\nAF: Away Team Fouls Committed\\nHY: Home Team Yellow Cards\\nAY: Away Team Yellow Cards\\nHR: Home Team Red Cards\\nAR: Away Team Red Cards\\n\\n\\nSO everything except for referee\\n\\\"\\\"\\\"\";\n",
       "                var nbb_cells = Jupyter.notebook.get_cells();\n",
       "                for (var i = 0; i < nbb_cells.length; ++i) {\n",
       "                    if (nbb_cells[i].input_prompt_number == nbb_cell_id) {\n",
       "                        if (nbb_cells[i].get_text() == nbb_unformatted_code) {\n",
       "                             nbb_cells[i].set_text(nbb_formatted_code);\n",
       "                        }\n",
       "                        break;\n",
       "                    }\n",
       "                }\n",
       "            }, 500);\n",
       "            "
      ],
      "text/plain": [
       "<IPython.core.display.Javascript object>"
      ]
     },
     "metadata": {},
     "output_type": "display_data"
    }
   ],
   "source": [
    "\"\"\"\n",
    "What do I care about?\n",
    "FTHG: Full Time Home Team Goals\n",
    "FTAG: Full Time Away Team Goals\n",
    "FTR: Full Time Result (H=Home Win, D=Draw, A=Away Win)\n",
    "HTHG: Half Time Home Team Goals\n",
    "HTAG: Half Time Away Team Goals\n",
    "HTR: Half Time Result (H=Home Win, D=Draw, A=Away Win)\n",
    "HS: Home Team Shots\n",
    "AS: Away Team Shots\n",
    "HST: Home Team Shots on Target\n",
    "AST: Away Team Shots on Target\n",
    "HC: Home Team Corners\n",
    "AC: Away Team Corners\n",
    "HF: Home Team Fouls Committed\n",
    "AF: Away Team Fouls Committed\n",
    "HY: Home Team Yellow Cards\n",
    "AY: Away Team Yellow Cards\n",
    "HR: Home Team Red Cards\n",
    "AR: Away Team Red Cards\n",
    "\n",
    "\n",
    "SO everything except for referee\n",
    "\"\"\""
   ]
  },
  {
   "cell_type": "markdown",
   "metadata": {},
   "source": [
    "# Gonna check win loss split to make sure this data isn't super lopsided"
   ]
  },
  {
   "cell_type": "code",
   "execution_count": 8,
   "metadata": {},
   "outputs": [
    {
     "data": {
      "application/javascript": [
       "\n",
       "            setTimeout(function() {\n",
       "                var nbb_cell_id = 8;\n",
       "                var nbb_unformatted_code = \"df = df.drop(columns=\\\"Referee\\\")\";\n",
       "                var nbb_formatted_code = \"df = df.drop(columns=\\\"Referee\\\")\";\n",
       "                var nbb_cells = Jupyter.notebook.get_cells();\n",
       "                for (var i = 0; i < nbb_cells.length; ++i) {\n",
       "                    if (nbb_cells[i].input_prompt_number == nbb_cell_id) {\n",
       "                        if (nbb_cells[i].get_text() == nbb_unformatted_code) {\n",
       "                             nbb_cells[i].set_text(nbb_formatted_code);\n",
       "                        }\n",
       "                        break;\n",
       "                    }\n",
       "                }\n",
       "            }, 500);\n",
       "            "
      ],
      "text/plain": [
       "<IPython.core.display.Javascript object>"
      ]
     },
     "metadata": {},
     "output_type": "display_data"
    }
   ],
   "source": [
    "df = df.drop(columns=\"Referee\")"
   ]
  },
  {
   "cell_type": "code",
   "execution_count": 9,
   "metadata": {},
   "outputs": [
    {
     "data": {
      "text/plain": [
       "H    3432\n",
       "A    2100\n",
       "D    1854\n",
       "Name: FTR, dtype: int64"
      ]
     },
     "execution_count": 9,
     "metadata": {},
     "output_type": "execute_result"
    },
    {
     "data": {
      "application/javascript": [
       "\n",
       "            setTimeout(function() {\n",
       "                var nbb_cell_id = 9;\n",
       "                var nbb_unformatted_code = \"# 51.1%\\ndf[\\\"FTR\\\"].compute().value_counts()\";\n",
       "                var nbb_formatted_code = \"# 51.1%\\ndf[\\\"FTR\\\"].compute().value_counts()\";\n",
       "                var nbb_cells = Jupyter.notebook.get_cells();\n",
       "                for (var i = 0; i < nbb_cells.length; ++i) {\n",
       "                    if (nbb_cells[i].input_prompt_number == nbb_cell_id) {\n",
       "                        if (nbb_cells[i].get_text() == nbb_unformatted_code) {\n",
       "                             nbb_cells[i].set_text(nbb_formatted_code);\n",
       "                        }\n",
       "                        break;\n",
       "                    }\n",
       "                }\n",
       "            }, 500);\n",
       "            "
      ],
      "text/plain": [
       "<IPython.core.display.Javascript object>"
      ]
     },
     "metadata": {},
     "output_type": "display_data"
    }
   ],
   "source": [
    "# 51.1%\n",
    "df[\"FTR\"].compute().value_counts()"
   ]
  },
  {
   "cell_type": "code",
   "execution_count": 10,
   "metadata": {
    "scrolled": true
   },
   "outputs": [
    {
     "data": {
      "text/plain": [
       "(array([3432.,    0.,    0.,    0.,    0., 2100.,    0.,    0.,    0.,\n",
       "        1854.]),\n",
       " array([0. , 0.2, 0.4, 0.6, 0.8, 1. , 1.2, 1.4, 1.6, 1.8, 2. ]),\n",
       " <a list of 10 Patch objects>)"
      ]
     },
     "execution_count": 10,
     "metadata": {},
     "output_type": "execute_result"
    },
    {
     "data": {
      "image/png": "[encoded data removed]",
      "text/plain": [
       "<Figure size 432x288 with 1 Axes>"
      ]
     },
     "metadata": {
      "needs_background": "light"
     },
     "output_type": "display_data"
    },
    {
     "data": {
      "application/javascript": [
       "\n",
       "            setTimeout(function() {\n",
       "                var nbb_cell_id = 10;\n",
       "                var nbb_unformatted_code = \"#Home team seems to win more\\nplt.hist(df[\\\"FTR\\\"].compute())\";\n",
       "                var nbb_formatted_code = \"# Home team seems to win more\\nplt.hist(df[\\\"FTR\\\"].compute())\";\n",
       "                var nbb_cells = Jupyter.notebook.get_cells();\n",
       "                for (var i = 0; i < nbb_cells.length; ++i) {\n",
       "                    if (nbb_cells[i].input_prompt_number == nbb_cell_id) {\n",
       "                        if (nbb_cells[i].get_text() == nbb_unformatted_code) {\n",
       "                             nbb_cells[i].set_text(nbb_formatted_code);\n",
       "                        }\n",
       "                        break;\n",
       "                    }\n",
       "                }\n",
       "            }, 500);\n",
       "            "
      ],
      "text/plain": [
       "<IPython.core.display.Javascript object>"
      ]
     },
     "metadata": {},
     "output_type": "display_data"
    }
   ],
   "source": [
    "# Home team seems to win more\n",
    "plt.hist(df[\"FTR\"].compute())"
   ]
  },
  {
   "cell_type": "markdown",
   "metadata": {},
   "source": [
    "# Well it seems that the distributions aren't too bad. Home team has more wins, but that's to be expected."
   ]
  },
  {
   "cell_type": "code",
   "execution_count": 11,
   "metadata": {},
   "outputs": [
    {
     "data": {
      "text/plain": [
       "Date        0.0\n",
       "HomeTeam    0.0\n",
       "AwayTeam    0.0\n",
       "FTHG        0.0\n",
       "FTAG        0.0\n",
       "FTR         0.0\n",
       "HTHG        0.0\n",
       "HTAG        0.0\n",
       "HTR         0.0\n",
       "HS          0.0\n",
       "AS          0.0\n",
       "HST         0.0\n",
       "AST         0.0\n",
       "HC          0.0\n",
       "AC          0.0\n",
       "HF          0.0\n",
       "AF          0.0\n",
       "HY          0.0\n",
       "AY          0.0\n",
       "HR          0.0\n",
       "AR          0.0\n",
       "dtype: float64"
      ]
     },
     "execution_count": 11,
     "metadata": {},
     "output_type": "execute_result"
    },
    {
     "data": {
      "application/javascript": [
       "\n",
       "            setTimeout(function() {\n",
       "                var nbb_cell_id = 11;\n",
       "                var nbb_unformatted_code = \"#LIT, no NANs\\ndf.isna().mean().compute()\";\n",
       "                var nbb_formatted_code = \"# LIT, no NANs\\ndf.isna().mean().compute()\";\n",
       "                var nbb_cells = Jupyter.notebook.get_cells();\n",
       "                for (var i = 0; i < nbb_cells.length; ++i) {\n",
       "                    if (nbb_cells[i].input_prompt_number == nbb_cell_id) {\n",
       "                        if (nbb_cells[i].get_text() == nbb_unformatted_code) {\n",
       "                             nbb_cells[i].set_text(nbb_formatted_code);\n",
       "                        }\n",
       "                        break;\n",
       "                    }\n",
       "                }\n",
       "            }, 500);\n",
       "            "
      ],
      "text/plain": [
       "<IPython.core.display.Javascript object>"
      ]
     },
     "metadata": {},
     "output_type": "display_data"
    }
   ],
   "source": [
    "# LIT, no NANs\n",
    "df.isna().mean().compute()"
   ]
  },
  {
   "cell_type": "code",
   "execution_count": 46,
   "metadata": {},
   "outputs": [
    {
     "data": {
      "application/javascript": [
       "\n",
       "            setTimeout(function() {\n",
       "                var nbb_cell_id = 46;\n",
       "                var nbb_unformatted_code = \"df['HTR'] = (df[\\\"HTR\\\"] == \\\"H\\\").astype(int)\";\n",
       "                var nbb_formatted_code = \"df[\\\"HTR\\\"] = (df[\\\"HTR\\\"] == \\\"H\\\").astype(int)\";\n",
       "                var nbb_cells = Jupyter.notebook.get_cells();\n",
       "                for (var i = 0; i < nbb_cells.length; ++i) {\n",
       "                    if (nbb_cells[i].input_prompt_number == nbb_cell_id) {\n",
       "                        if (nbb_cells[i].get_text() == nbb_unformatted_code) {\n",
       "                             nbb_cells[i].set_text(nbb_formatted_code);\n",
       "                        }\n",
       "                        break;\n",
       "                    }\n",
       "                }\n",
       "            }, 500);\n",
       "            "
      ],
      "text/plain": [
       "<IPython.core.display.Javascript object>"
      ]
     },
     "metadata": {},
     "output_type": "display_data"
    }
   ],
   "source": [
    "df[\"HTR\"] = (df[\"HTR\"] == \"H\").astype(int)"
   ]
  },
  {
   "cell_type": "code",
   "execution_count": 47,
   "metadata": {},
   "outputs": [
    {
     "data": {
      "text/plain": [
       "Dask Series Structure:\n",
       "npartitions=1\n",
       "    int32\n",
       "      ...\n",
       "Name: FTR, dtype: int32\n",
       "Dask Name: split, 1 tasks"
      ]
     },
     "execution_count": 47,
     "metadata": {},
     "output_type": "execute_result"
    },
    {
     "data": {
      "application/javascript": [
       "\n",
       "            setTimeout(function() {\n",
       "                var nbb_cell_id = 47;\n",
       "                var nbb_unformatted_code = \"X = df.drop(columns=[\\\"FTR\\\", \\\"FTHG\\\", \\\"FTAG\\\", \\\"Date\\\", \\\"HomeTeam\\\", \\\"AwayTeam\\\"])\\ny = (df[\\\"FTR\\\"] == \\\"H\\\").astype(int)\\nX_train, X_test, y_train, y_test = train_test_split(X, y, test_size=0.2)\\n\\n# Since our data can fit into memory\\n# we persist them to the RAM.\\nX_train.persist()\\nX_test.persist()\\ny_train.persist()\\ny_test.persist()\";\n",
       "                var nbb_formatted_code = \"X = df.drop(columns=[\\\"FTR\\\", \\\"FTHG\\\", \\\"FTAG\\\", \\\"Date\\\", \\\"HomeTeam\\\", \\\"AwayTeam\\\"])\\ny = (df[\\\"FTR\\\"] == \\\"H\\\").astype(int)\\nX_train, X_test, y_train, y_test = train_test_split(X, y, test_size=0.2)\\n\\n# Since our data can fit into memory\\n# we persist them to the RAM.\\nX_train.persist()\\nX_test.persist()\\ny_train.persist()\\ny_test.persist()\";\n",
       "                var nbb_cells = Jupyter.notebook.get_cells();\n",
       "                for (var i = 0; i < nbb_cells.length; ++i) {\n",
       "                    if (nbb_cells[i].input_prompt_number == nbb_cell_id) {\n",
       "                        if (nbb_cells[i].get_text() == nbb_unformatted_code) {\n",
       "                             nbb_cells[i].set_text(nbb_formatted_code);\n",
       "                        }\n",
       "                        break;\n",
       "                    }\n",
       "                }\n",
       "            }, 500);\n",
       "            "
      ],
      "text/plain": [
       "<IPython.core.display.Javascript object>"
      ]
     },
     "metadata": {},
     "output_type": "display_data"
    }
   ],
   "source": [
    "X = df.drop(columns=[\"FTR\", \"FTHG\", \"FTAG\", \"Date\", \"HomeTeam\", \"AwayTeam\"])\n",
    "y = (df[\"FTR\"] == \"H\").astype(int)\n",
    "X_train, X_test, y_train, y_test = train_test_split(X, y, test_size=0.2)\n",
    "\n",
    "# Since our data can fit into memory\n",
    "# we persist them to the RAM.\n",
    "X_train.persist()\n",
    "X_test.persist()\n",
    "y_train.persist()\n",
    "y_test.persist()"
   ]
  },
  {
   "cell_type": "code",
   "execution_count": 48,
   "metadata": {
    "scrolled": false
   },
   "outputs": [
    {
     "data": {
      "text/plain": [
       "LogisticRegression()"
      ]
     },
     "execution_count": 48,
     "metadata": {},
     "output_type": "execute_result"
    },
    {
     "data": {
      "application/javascript": [
       "\n",
       "            setTimeout(function() {\n",
       "                var nbb_cell_id = 48;\n",
       "                var nbb_unformatted_code = \"#This code would work if I could get the client to run\\nlr_bsl = LogisticRegression()\\nlr_bsl.fit(X_train.values.compute(), y_train.values.compute())\";\n",
       "                var nbb_formatted_code = \"# This code would work if I could get the client to run\\nlr_bsl = LogisticRegression()\\nlr_bsl.fit(X_train.values.compute(), y_train.values.compute())\";\n",
       "                var nbb_cells = Jupyter.notebook.get_cells();\n",
       "                for (var i = 0; i < nbb_cells.length; ++i) {\n",
       "                    if (nbb_cells[i].input_prompt_number == nbb_cell_id) {\n",
       "                        if (nbb_cells[i].get_text() == nbb_unformatted_code) {\n",
       "                             nbb_cells[i].set_text(nbb_formatted_code);\n",
       "                        }\n",
       "                        break;\n",
       "                    }\n",
       "                }\n",
       "            }, 500);\n",
       "            "
      ],
      "text/plain": [
       "<IPython.core.display.Javascript object>"
      ]
     },
     "metadata": {},
     "output_type": "display_data"
    }
   ],
   "source": [
    "#This code would work if I could get the client to run\n",
    "lr_bsl = LogisticRegression()\n",
    "lr_bsl.fit(X_train.values.compute(), y_train.values.compute())\n"
   ]
  },
  {
   "cell_type": "code",
   "execution_count": 52,
   "metadata": {},
   "outputs": [
    {
     "name": "stdout",
     "output_type": "stream",
     "text": [
      "Training score is:  0.773966213625708\n",
      "Test score is:  0.7748912535245194\n"
     ]
    },
    {
     "data": {
      "application/javascript": [
       "\n",
       "            setTimeout(function() {\n",
       "                var nbb_cell_id = 52;\n",
       "                var nbb_unformatted_code = \"# That is a pretty trash score ngl Let's try it with the regular ones\\npreds_train = lr_bsl.predict(X_train.values.compute())\\npreds_test = lr_bsl.predict(X_test.values.compute())\\n\\nprint(\\\"Training score is: \\\", roc_auc_score(preds_train, y_train.values.compute()))\\nprint(\\\"Test score is: \\\", roc_auc_score(preds_test, y_test.values.compute()))\";\n",
       "                var nbb_formatted_code = \"# That is a pretty trash score ngl Let's try it with the regular ones\\npreds_train = lr_bsl.predict(X_train.values.compute())\\npreds_test = lr_bsl.predict(X_test.values.compute())\\n\\nprint(\\\"Training score is: \\\", roc_auc_score(preds_train, y_train.values.compute()))\\nprint(\\\"Test score is: \\\", roc_auc_score(preds_test, y_test.values.compute()))\";\n",
       "                var nbb_cells = Jupyter.notebook.get_cells();\n",
       "                for (var i = 0; i < nbb_cells.length; ++i) {\n",
       "                    if (nbb_cells[i].input_prompt_number == nbb_cell_id) {\n",
       "                        if (nbb_cells[i].get_text() == nbb_unformatted_code) {\n",
       "                             nbb_cells[i].set_text(nbb_formatted_code);\n",
       "                        }\n",
       "                        break;\n",
       "                    }\n",
       "                }\n",
       "            }, 500);\n",
       "            "
      ],
      "text/plain": [
       "<IPython.core.display.Javascript object>"
      ]
     },
     "metadata": {},
     "output_type": "display_data"
    }
   ],
   "source": [
    "# That is a pretty trash score ngl Let's try it with the regular ones\n",
    "preds_train = lr_bsl.predict(X_train.values.compute())\n",
    "preds_test = lr_bsl.predict(X_test.values.compute())\n",
    "\n",
    "print(\"Training score is: \", roc_auc_score(preds_train, y_train.values.compute()))\n",
    "print(\"Test score is: \", roc_auc_score(preds_test, y_test.values.compute()))"
   ]
  },
  {
   "cell_type": "code",
   "execution_count": 53,
   "metadata": {},
   "outputs": [
    {
     "name": "stderr",
     "output_type": "stream",
     "text": [
      "distributed.client - ERROR - Error in callback <function DaskDistributedBackend.apply_async.<locals>.callback_wrapper at 0x0000028F30B253A8> of <Future: cancelled, key: _fit_and_score-batch-241ca827e9f647618fc76289911515fb>:\n",
      "Traceback (most recent call last):\n",
      "  File \"C:\\Users\\jonat\\anaconda3\\lib\\site-packages\\distributed\\client.py\", line 285, in execute_callback\n",
      "    fn(fut)\n",
      "  File \"C:\\Users\\jonat\\anaconda3\\lib\\site-packages\\joblib\\_dask.py\", line 260, in callback_wrapper\n",
      "    result = future.result()\n",
      "  File \"C:\\Users\\jonat\\anaconda3\\lib\\site-packages\\distributed\\client.py\", line 222, in result\n",
      "    raise result\n",
      "TypeError: exceptions must derive from BaseException\n",
      "distributed.client - ERROR - Error in callback <function DaskDistributedBackend.apply_async.<locals>.callback_wrapper at 0x0000028F36157DC8> of <Future: cancelled, key: _fit_and_score-batch-5035f68aa4ef49deac585ae8fcf0bd94>:\n",
      "Traceback (most recent call last):\n",
      "  File \"C:\\Users\\jonat\\anaconda3\\lib\\site-packages\\distributed\\client.py\", line 285, in execute_callback\n",
      "    fn(fut)\n",
      "  File \"C:\\Users\\jonat\\anaconda3\\lib\\site-packages\\joblib\\_dask.py\", line 260, in callback_wrapper\n",
      "    result = future.result()\n",
      "  File \"C:\\Users\\jonat\\anaconda3\\lib\\site-packages\\distributed\\client.py\", line 222, in result\n",
      "    raise result\n",
      "concurrent.futures._base.CancelledError: _fit_and_score-batch-5035f68aa4ef49deac585ae8fcf0bd94\n",
      "distributed.client - ERROR - Error in callback <function DaskDistributedBackend.apply_async.<locals>.callback_wrapper at 0x0000028F36157678> of <Future: cancelled, key: _fit_and_score-batch-73ba54d20777495cb876aff1de4987ea>:\n",
      "Traceback (most recent call last):\n",
      "  File \"C:\\Users\\jonat\\anaconda3\\lib\\site-packages\\distributed\\client.py\", line 285, in execute_callback\n",
      "    fn(fut)\n",
      "  File \"C:\\Users\\jonat\\anaconda3\\lib\\site-packages\\joblib\\_dask.py\", line 260, in callback_wrapper\n",
      "    result = future.result()\n",
      "  File \"C:\\Users\\jonat\\anaconda3\\lib\\site-packages\\distributed\\client.py\", line 222, in result\n",
      "    raise result\n",
      "concurrent.futures._base.CancelledError: _fit_and_score-batch-73ba54d20777495cb876aff1de4987ea\n",
      "distributed.client - ERROR - Error in callback <function DaskDistributedBackend.apply_async.<locals>.callback_wrapper at 0x0000028F36157C18> of <Future: cancelled, key: _fit_and_score-batch-4059163d5b274fdf99648c0c78db8aad>:\n",
      "Traceback (most recent call last):\n",
      "  File \"C:\\Users\\jonat\\anaconda3\\lib\\site-packages\\distributed\\client.py\", line 285, in execute_callback\n",
      "    fn(fut)\n",
      "  File \"C:\\Users\\jonat\\anaconda3\\lib\\site-packages\\joblib\\_dask.py\", line 260, in callback_wrapper\n",
      "    result = future.result()\n",
      "  File \"C:\\Users\\jonat\\anaconda3\\lib\\site-packages\\distributed\\client.py\", line 222, in result\n",
      "    raise result\n",
      "concurrent.futures._base.CancelledError: _fit_and_score-batch-4059163d5b274fdf99648c0c78db8aad\n"
     ]
    },
    {
     "ename": "RuntimeError",
     "evalue": "There is no current event loop in thread \"Dask-Worker-Threads'-19404-2\".",
     "output_type": "error",
     "traceback": [
      "\u001b[1;31m---------------------------------------------------------------------------\u001b[0m",
      "\u001b[1;31mRuntimeError\u001b[0m                              Traceback (most recent call last)",
      "\u001b[1;32m<ipython-input-53-10cfef0b6e3f>\u001b[0m in \u001b[0;36m<module>\u001b[1;34m\u001b[0m\n\u001b[0;32m      2\u001b[0m \u001b[1;33m\u001b[0m\u001b[0m\n\u001b[0;32m      3\u001b[0m \u001b[1;32mwith\u001b[0m \u001b[0mjoblib\u001b[0m\u001b[1;33m.\u001b[0m\u001b[0mparallel_backend\u001b[0m\u001b[1;33m(\u001b[0m\u001b[1;34m'dask'\u001b[0m\u001b[1;33m)\u001b[0m\u001b[1;33m:\u001b[0m\u001b[1;33m\u001b[0m\u001b[1;33m\u001b[0m\u001b[0m\n\u001b[1;32m----> 4\u001b[1;33m     \u001b[0mscores\u001b[0m \u001b[1;33m=\u001b[0m \u001b[0mcross_validate\u001b[0m\u001b[1;33m(\u001b[0m\u001b[0mrf_model\u001b[0m\u001b[1;33m,\u001b[0m \u001b[0mX_train\u001b[0m\u001b[1;33m.\u001b[0m\u001b[0mcompute\u001b[0m\u001b[1;33m(\u001b[0m\u001b[1;33m)\u001b[0m\u001b[1;33m,\u001b[0m \u001b[0my_train\u001b[0m\u001b[1;33m.\u001b[0m\u001b[0mcompute\u001b[0m\u001b[1;33m(\u001b[0m\u001b[1;33m)\u001b[0m\u001b[1;33m,\u001b[0m \u001b[0mcv\u001b[0m\u001b[1;33m=\u001b[0m\u001b[1;36m4\u001b[0m\u001b[1;33m)\u001b[0m\u001b[1;33m\u001b[0m\u001b[1;33m\u001b[0m\u001b[0m\n\u001b[0m\u001b[0;32m      5\u001b[0m \u001b[1;33m\u001b[0m\u001b[0m\n\u001b[0;32m      6\u001b[0m \u001b[0mscores\u001b[0m\u001b[1;33m\u001b[0m\u001b[1;33m\u001b[0m\u001b[0m\n",
      "\u001b[1;32m~\\anaconda3\\lib\\site-packages\\sklearn\\utils\\validation.py\u001b[0m in \u001b[0;36minner_f\u001b[1;34m(*args, **kwargs)\u001b[0m\n\u001b[0;32m     71\u001b[0m                           FutureWarning)\n\u001b[0;32m     72\u001b[0m         \u001b[0mkwargs\u001b[0m\u001b[1;33m.\u001b[0m\u001b[0mupdate\u001b[0m\u001b[1;33m(\u001b[0m\u001b[1;33m{\u001b[0m\u001b[0mk\u001b[0m\u001b[1;33m:\u001b[0m \u001b[0marg\u001b[0m \u001b[1;32mfor\u001b[0m \u001b[0mk\u001b[0m\u001b[1;33m,\u001b[0m \u001b[0marg\u001b[0m \u001b[1;32min\u001b[0m \u001b[0mzip\u001b[0m\u001b[1;33m(\u001b[0m\u001b[0msig\u001b[0m\u001b[1;33m.\u001b[0m\u001b[0mparameters\u001b[0m\u001b[1;33m,\u001b[0m \u001b[0margs\u001b[0m\u001b[1;33m)\u001b[0m\u001b[1;33m}\u001b[0m\u001b[1;33m)\u001b[0m\u001b[1;33m\u001b[0m\u001b[1;33m\u001b[0m\u001b[0m\n\u001b[1;32m---> 73\u001b[1;33m         \u001b[1;32mreturn\u001b[0m \u001b[0mf\u001b[0m\u001b[1;33m(\u001b[0m\u001b[1;33m**\u001b[0m\u001b[0mkwargs\u001b[0m\u001b[1;33m)\u001b[0m\u001b[1;33m\u001b[0m\u001b[1;33m\u001b[0m\u001b[0m\n\u001b[0m\u001b[0;32m     74\u001b[0m     \u001b[1;32mreturn\u001b[0m \u001b[0minner_f\u001b[0m\u001b[1;33m\u001b[0m\u001b[1;33m\u001b[0m\u001b[0m\n\u001b[0;32m     75\u001b[0m \u001b[1;33m\u001b[0m\u001b[0m\n",
      "\u001b[1;32m~\\anaconda3\\lib\\site-packages\\sklearn\\model_selection\\_validation.py\u001b[0m in \u001b[0;36mcross_validate\u001b[1;34m(estimator, X, y, groups, scoring, cv, n_jobs, verbose, fit_params, pre_dispatch, return_train_score, return_estimator, error_score)\u001b[0m\n\u001b[0;32m    246\u001b[0m             \u001b[0mreturn_times\u001b[0m\u001b[1;33m=\u001b[0m\u001b[1;32mTrue\u001b[0m\u001b[1;33m,\u001b[0m \u001b[0mreturn_estimator\u001b[0m\u001b[1;33m=\u001b[0m\u001b[0mreturn_estimator\u001b[0m\u001b[1;33m,\u001b[0m\u001b[1;33m\u001b[0m\u001b[1;33m\u001b[0m\u001b[0m\n\u001b[0;32m    247\u001b[0m             error_score=error_score)\n\u001b[1;32m--> 248\u001b[1;33m         for train, test in cv.split(X, y, groups))\n\u001b[0m\u001b[0;32m    249\u001b[0m \u001b[1;33m\u001b[0m\u001b[0m\n\u001b[0;32m    250\u001b[0m     \u001b[0mzipped_scores\u001b[0m \u001b[1;33m=\u001b[0m \u001b[0mlist\u001b[0m\u001b[1;33m(\u001b[0m\u001b[0mzip\u001b[0m\u001b[1;33m(\u001b[0m\u001b[1;33m*\u001b[0m\u001b[0mscores\u001b[0m\u001b[1;33m)\u001b[0m\u001b[1;33m)\u001b[0m\u001b[1;33m\u001b[0m\u001b[1;33m\u001b[0m\u001b[0m\n",
      "\u001b[1;32m~\\anaconda3\\lib\\site-packages\\joblib\\parallel.py\u001b[0m in \u001b[0;36m__call__\u001b[1;34m(self, iterable)\u001b[0m\n\u001b[0;32m   1015\u001b[0m \u001b[1;33m\u001b[0m\u001b[0m\n\u001b[0;32m   1016\u001b[0m             \u001b[1;32mwith\u001b[0m \u001b[0mself\u001b[0m\u001b[1;33m.\u001b[0m\u001b[0m_backend\u001b[0m\u001b[1;33m.\u001b[0m\u001b[0mretrieval_context\u001b[0m\u001b[1;33m(\u001b[0m\u001b[1;33m)\u001b[0m\u001b[1;33m:\u001b[0m\u001b[1;33m\u001b[0m\u001b[1;33m\u001b[0m\u001b[0m\n\u001b[1;32m-> 1017\u001b[1;33m                 \u001b[0mself\u001b[0m\u001b[1;33m.\u001b[0m\u001b[0mretrieve\u001b[0m\u001b[1;33m(\u001b[0m\u001b[1;33m)\u001b[0m\u001b[1;33m\u001b[0m\u001b[1;33m\u001b[0m\u001b[0m\n\u001b[0m\u001b[0;32m   1018\u001b[0m             \u001b[1;31m# Make sure that we get a last message telling us we are done\u001b[0m\u001b[1;33m\u001b[0m\u001b[1;33m\u001b[0m\u001b[1;33m\u001b[0m\u001b[0m\n\u001b[0;32m   1019\u001b[0m             \u001b[0melapsed_time\u001b[0m \u001b[1;33m=\u001b[0m \u001b[0mtime\u001b[0m\u001b[1;33m.\u001b[0m\u001b[0mtime\u001b[0m\u001b[1;33m(\u001b[0m\u001b[1;33m)\u001b[0m \u001b[1;33m-\u001b[0m \u001b[0mself\u001b[0m\u001b[1;33m.\u001b[0m\u001b[0m_start_time\u001b[0m\u001b[1;33m\u001b[0m\u001b[1;33m\u001b[0m\u001b[0m\n",
      "\u001b[1;32m~\\anaconda3\\lib\\site-packages\\joblib\\parallel.py\u001b[0m in \u001b[0;36mretrieve\u001b[1;34m(self)\u001b[0m\n\u001b[0;32m    909\u001b[0m                     \u001b[0mself\u001b[0m\u001b[1;33m.\u001b[0m\u001b[0m_output\u001b[0m\u001b[1;33m.\u001b[0m\u001b[0mextend\u001b[0m\u001b[1;33m(\u001b[0m\u001b[0mjob\u001b[0m\u001b[1;33m.\u001b[0m\u001b[0mget\u001b[0m\u001b[1;33m(\u001b[0m\u001b[0mtimeout\u001b[0m\u001b[1;33m=\u001b[0m\u001b[0mself\u001b[0m\u001b[1;33m.\u001b[0m\u001b[0mtimeout\u001b[0m\u001b[1;33m)\u001b[0m\u001b[1;33m)\u001b[0m\u001b[1;33m\u001b[0m\u001b[1;33m\u001b[0m\u001b[0m\n\u001b[0;32m    910\u001b[0m                 \u001b[1;32melse\u001b[0m\u001b[1;33m:\u001b[0m\u001b[1;33m\u001b[0m\u001b[1;33m\u001b[0m\u001b[0m\n\u001b[1;32m--> 911\u001b[1;33m                     \u001b[0mself\u001b[0m\u001b[1;33m.\u001b[0m\u001b[0m_output\u001b[0m\u001b[1;33m.\u001b[0m\u001b[0mextend\u001b[0m\u001b[1;33m(\u001b[0m\u001b[0mjob\u001b[0m\u001b[1;33m.\u001b[0m\u001b[0mget\u001b[0m\u001b[1;33m(\u001b[0m\u001b[1;33m)\u001b[0m\u001b[1;33m)\u001b[0m\u001b[1;33m\u001b[0m\u001b[1;33m\u001b[0m\u001b[0m\n\u001b[0m\u001b[0;32m    912\u001b[0m \u001b[1;33m\u001b[0m\u001b[0m\n\u001b[0;32m    913\u001b[0m             \u001b[1;32mexcept\u001b[0m \u001b[0mBaseException\u001b[0m \u001b[1;32mas\u001b[0m \u001b[0mexception\u001b[0m\u001b[1;33m:\u001b[0m\u001b[1;33m\u001b[0m\u001b[1;33m\u001b[0m\u001b[0m\n",
      "\u001b[1;32m~\\anaconda3\\lib\\site-packages\\joblib\\_dask.py\u001b[0m in \u001b[0;36mget\u001b[1;34m()\u001b[0m\n\u001b[0;32m    268\u001b[0m \u001b[1;33m\u001b[0m\u001b[0m\n\u001b[0;32m    269\u001b[0m         \u001b[1;32mdef\u001b[0m \u001b[0mget\u001b[0m\u001b[1;33m(\u001b[0m\u001b[1;33m)\u001b[0m\u001b[1;33m:\u001b[0m\u001b[1;33m\u001b[0m\u001b[1;33m\u001b[0m\u001b[0m\n\u001b[1;32m--> 270\u001b[1;33m             \u001b[1;32mreturn\u001b[0m \u001b[0mref\u001b[0m\u001b[1;33m(\u001b[0m\u001b[1;33m)\u001b[0m\u001b[1;33m.\u001b[0m\u001b[0mresult\u001b[0m\u001b[1;33m(\u001b[0m\u001b[1;33m)\u001b[0m\u001b[1;33m\u001b[0m\u001b[1;33m\u001b[0m\u001b[0m\n\u001b[0m\u001b[0;32m    271\u001b[0m \u001b[1;33m\u001b[0m\u001b[0m\n\u001b[0;32m    272\u001b[0m         \u001b[0mfuture\u001b[0m\u001b[1;33m.\u001b[0m\u001b[0mget\u001b[0m \u001b[1;33m=\u001b[0m \u001b[0mget\u001b[0m  \u001b[1;31m# monkey patch to achieve AsyncResult API\u001b[0m\u001b[1;33m\u001b[0m\u001b[1;33m\u001b[0m\u001b[0m\n",
      "\u001b[1;32m~\\anaconda3\\lib\\site-packages\\distributed\\client.py\u001b[0m in \u001b[0;36mresult\u001b[1;34m(self, timeout)\u001b[0m\n\u001b[0;32m    218\u001b[0m         \u001b[1;32mif\u001b[0m \u001b[0mself\u001b[0m\u001b[1;33m.\u001b[0m\u001b[0mstatus\u001b[0m \u001b[1;33m==\u001b[0m \u001b[1;34m\"error\"\u001b[0m\u001b[1;33m:\u001b[0m\u001b[1;33m\u001b[0m\u001b[1;33m\u001b[0m\u001b[0m\n\u001b[0;32m    219\u001b[0m             \u001b[0mtyp\u001b[0m\u001b[1;33m,\u001b[0m \u001b[0mexc\u001b[0m\u001b[1;33m,\u001b[0m \u001b[0mtb\u001b[0m \u001b[1;33m=\u001b[0m \u001b[0mresult\u001b[0m\u001b[1;33m\u001b[0m\u001b[1;33m\u001b[0m\u001b[0m\n\u001b[1;32m--> 220\u001b[1;33m             \u001b[1;32mraise\u001b[0m \u001b[0mexc\u001b[0m\u001b[1;33m.\u001b[0m\u001b[0mwith_traceback\u001b[0m\u001b[1;33m(\u001b[0m\u001b[0mtb\u001b[0m\u001b[1;33m)\u001b[0m\u001b[1;33m\u001b[0m\u001b[1;33m\u001b[0m\u001b[0m\n\u001b[0m\u001b[0;32m    221\u001b[0m         \u001b[1;32melif\u001b[0m \u001b[0mself\u001b[0m\u001b[1;33m.\u001b[0m\u001b[0mstatus\u001b[0m \u001b[1;33m==\u001b[0m \u001b[1;34m\"cancelled\"\u001b[0m\u001b[1;33m:\u001b[0m\u001b[1;33m\u001b[0m\u001b[1;33m\u001b[0m\u001b[0m\n\u001b[0;32m    222\u001b[0m             \u001b[1;32mraise\u001b[0m \u001b[0mresult\u001b[0m\u001b[1;33m\u001b[0m\u001b[1;33m\u001b[0m\u001b[0m\n",
      "\u001b[1;32m~\\anaconda3\\lib\\site-packages\\joblib\\_dask.py\u001b[0m in \u001b[0;36m__call__\u001b[1;34m()\u001b[0m\n\u001b[0;32m     98\u001b[0m     \u001b[1;32mdef\u001b[0m \u001b[0m__call__\u001b[0m\u001b[1;33m(\u001b[0m\u001b[0mself\u001b[0m\u001b[1;33m,\u001b[0m \u001b[1;33m*\u001b[0m\u001b[0mdata\u001b[0m\u001b[1;33m)\u001b[0m\u001b[1;33m:\u001b[0m\u001b[1;33m\u001b[0m\u001b[1;33m\u001b[0m\u001b[0m\n\u001b[0;32m     99\u001b[0m         \u001b[0mresults\u001b[0m \u001b[1;33m=\u001b[0m \u001b[1;33m[\u001b[0m\u001b[1;33m]\u001b[0m\u001b[1;33m\u001b[0m\u001b[1;33m\u001b[0m\u001b[0m\n\u001b[1;32m--> 100\u001b[1;33m         \u001b[1;32mwith\u001b[0m \u001b[0mparallel_backend\u001b[0m\u001b[1;33m(\u001b[0m\u001b[1;34m'dask'\u001b[0m\u001b[1;33m)\u001b[0m\u001b[1;33m:\u001b[0m\u001b[1;33m\u001b[0m\u001b[1;33m\u001b[0m\u001b[0m\n\u001b[0m\u001b[0;32m    101\u001b[0m             \u001b[1;32mfor\u001b[0m \u001b[0mfunc\u001b[0m\u001b[1;33m,\u001b[0m \u001b[0margs\u001b[0m\u001b[1;33m,\u001b[0m \u001b[0mkwargs\u001b[0m \u001b[1;32min\u001b[0m \u001b[0mself\u001b[0m\u001b[1;33m.\u001b[0m\u001b[0mtasks\u001b[0m\u001b[1;33m:\u001b[0m\u001b[1;33m\u001b[0m\u001b[1;33m\u001b[0m\u001b[0m\n\u001b[0;32m    102\u001b[0m                 args = [a(data) if isinstance(a, itemgetter) else a\n",
      "\u001b[1;32m~\\anaconda3\\lib\\site-packages\\joblib\\parallel.py\u001b[0m in \u001b[0;36m__init__\u001b[1;34m()\u001b[0m\n\u001b[0;32m    184\u001b[0m                 \u001b[0mregister\u001b[0m\u001b[1;33m(\u001b[0m\u001b[1;33m)\u001b[0m\u001b[1;33m\u001b[0m\u001b[1;33m\u001b[0m\u001b[0m\n\u001b[0;32m    185\u001b[0m \u001b[1;33m\u001b[0m\u001b[0m\n\u001b[1;32m--> 186\u001b[1;33m             \u001b[0mbackend\u001b[0m \u001b[1;33m=\u001b[0m \u001b[0mBACKENDS\u001b[0m\u001b[1;33m[\u001b[0m\u001b[0mbackend\u001b[0m\u001b[1;33m]\u001b[0m\u001b[1;33m(\u001b[0m\u001b[1;33m**\u001b[0m\u001b[0mbackend_params\u001b[0m\u001b[1;33m)\u001b[0m\u001b[1;33m\u001b[0m\u001b[1;33m\u001b[0m\u001b[0m\n\u001b[0m\u001b[0;32m    187\u001b[0m \u001b[1;33m\u001b[0m\u001b[0m\n\u001b[0;32m    188\u001b[0m         \u001b[1;32mif\u001b[0m \u001b[0minner_max_num_threads\u001b[0m \u001b[1;32mis\u001b[0m \u001b[1;32mnot\u001b[0m \u001b[1;32mNone\u001b[0m\u001b[1;33m:\u001b[0m\u001b[1;33m\u001b[0m\u001b[1;33m\u001b[0m\u001b[0m\n",
      "\u001b[1;32m~\\anaconda3\\lib\\site-packages\\joblib\\_dask.py\u001b[0m in \u001b[0;36m__init__\u001b[1;34m()\u001b[0m\n\u001b[0;32m    135\u001b[0m             \u001b[1;32melse\u001b[0m\u001b[1;33m:\u001b[0m\u001b[1;33m\u001b[0m\u001b[1;33m\u001b[0m\u001b[0m\n\u001b[0;32m    136\u001b[0m                 \u001b[1;32mtry\u001b[0m\u001b[1;33m:\u001b[0m\u001b[1;33m\u001b[0m\u001b[1;33m\u001b[0m\u001b[0m\n\u001b[1;32m--> 137\u001b[1;33m                     \u001b[0mclient\u001b[0m \u001b[1;33m=\u001b[0m \u001b[0mget_client\u001b[0m\u001b[1;33m(\u001b[0m\u001b[1;33m)\u001b[0m\u001b[1;33m\u001b[0m\u001b[1;33m\u001b[0m\u001b[0m\n\u001b[0m\u001b[0;32m    138\u001b[0m                 \u001b[1;32mexcept\u001b[0m \u001b[0mValueError\u001b[0m\u001b[1;33m:\u001b[0m\u001b[1;33m\u001b[0m\u001b[1;33m\u001b[0m\u001b[0m\n\u001b[0;32m    139\u001b[0m                     msg = (\"To use Joblib with Dask first create a Dask Client\"\n",
      "\u001b[1;32m~\\anaconda3\\lib\\site-packages\\distributed\\worker.py\u001b[0m in \u001b[0;36mget_client\u001b[1;34m()\u001b[0m\n\u001b[0;32m   3078\u001b[0m     \u001b[1;32melse\u001b[0m\u001b[1;33m:\u001b[0m\u001b[1;33m\u001b[0m\u001b[1;33m\u001b[0m\u001b[0m\n\u001b[0;32m   3079\u001b[0m         \u001b[1;32mif\u001b[0m \u001b[1;32mnot\u001b[0m \u001b[0maddress\u001b[0m \u001b[1;32mor\u001b[0m \u001b[0mworker\u001b[0m\u001b[1;33m.\u001b[0m\u001b[0mscheduler\u001b[0m\u001b[1;33m.\u001b[0m\u001b[0maddress\u001b[0m \u001b[1;33m==\u001b[0m \u001b[0maddress\u001b[0m\u001b[1;33m:\u001b[0m\u001b[1;33m\u001b[0m\u001b[1;33m\u001b[0m\u001b[0m\n\u001b[1;32m-> 3080\u001b[1;33m             \u001b[1;32mreturn\u001b[0m \u001b[0mworker\u001b[0m\u001b[1;33m.\u001b[0m\u001b[0m_get_client\u001b[0m\u001b[1;33m(\u001b[0m\u001b[0mtimeout\u001b[0m\u001b[1;33m=\u001b[0m\u001b[0mtimeout\u001b[0m\u001b[1;33m)\u001b[0m\u001b[1;33m\u001b[0m\u001b[1;33m\u001b[0m\u001b[0m\n\u001b[0m\u001b[0;32m   3081\u001b[0m \u001b[1;33m\u001b[0m\u001b[0m\n\u001b[0;32m   3082\u001b[0m     \u001b[1;32mfrom\u001b[0m \u001b[1;33m.\u001b[0m\u001b[0mclient\u001b[0m \u001b[1;32mimport\u001b[0m \u001b[0m_get_global_client\u001b[0m\u001b[1;33m\u001b[0m\u001b[1;33m\u001b[0m\u001b[0m\n",
      "\u001b[1;32m~\\anaconda3\\lib\\site-packages\\distributed\\worker.py\u001b[0m in \u001b[0;36m_get_client\u001b[1;34m()\u001b[0m\n\u001b[0;32m   2969\u001b[0m             \u001b[1;32mfrom\u001b[0m \u001b[1;33m.\u001b[0m\u001b[0mclient\u001b[0m \u001b[1;32mimport\u001b[0m \u001b[0mClient\u001b[0m\u001b[1;33m\u001b[0m\u001b[1;33m\u001b[0m\u001b[0m\n\u001b[0;32m   2970\u001b[0m \u001b[1;33m\u001b[0m\u001b[0m\n\u001b[1;32m-> 2971\u001b[1;33m             \u001b[0masynchronous\u001b[0m \u001b[1;33m=\u001b[0m \u001b[0mself\u001b[0m\u001b[1;33m.\u001b[0m\u001b[0mloop\u001b[0m \u001b[1;32mis\u001b[0m \u001b[0mIOLoop\u001b[0m\u001b[1;33m.\u001b[0m\u001b[0mcurrent\u001b[0m\u001b[1;33m(\u001b[0m\u001b[1;33m)\u001b[0m\u001b[1;33m\u001b[0m\u001b[1;33m\u001b[0m\u001b[0m\n\u001b[0m\u001b[0;32m   2972\u001b[0m             self._client = Client(\n\u001b[0;32m   2973\u001b[0m                 \u001b[0mself\u001b[0m\u001b[1;33m.\u001b[0m\u001b[0mscheduler\u001b[0m\u001b[1;33m,\u001b[0m\u001b[1;33m\u001b[0m\u001b[1;33m\u001b[0m\u001b[0m\n",
      "\u001b[1;32m~\\anaconda3\\lib\\site-packages\\tornado\\ioloop.py\u001b[0m in \u001b[0;36mcurrent\u001b[1;34m()\u001b[0m\n\u001b[0;32m    263\u001b[0m         \"\"\"\n\u001b[0;32m    264\u001b[0m         \u001b[1;32mtry\u001b[0m\u001b[1;33m:\u001b[0m\u001b[1;33m\u001b[0m\u001b[1;33m\u001b[0m\u001b[0m\n\u001b[1;32m--> 265\u001b[1;33m             \u001b[0mloop\u001b[0m \u001b[1;33m=\u001b[0m \u001b[0masyncio\u001b[0m\u001b[1;33m.\u001b[0m\u001b[0mget_event_loop\u001b[0m\u001b[1;33m(\u001b[0m\u001b[1;33m)\u001b[0m\u001b[1;33m\u001b[0m\u001b[1;33m\u001b[0m\u001b[0m\n\u001b[0m\u001b[0;32m    266\u001b[0m         \u001b[1;32mexcept\u001b[0m \u001b[1;33m(\u001b[0m\u001b[0mRuntimeError\u001b[0m\u001b[1;33m,\u001b[0m \u001b[0mAssertionError\u001b[0m\u001b[1;33m)\u001b[0m\u001b[1;33m:\u001b[0m\u001b[1;33m\u001b[0m\u001b[1;33m\u001b[0m\u001b[0m\n\u001b[0;32m    267\u001b[0m             \u001b[1;32mif\u001b[0m \u001b[1;32mnot\u001b[0m \u001b[0minstance\u001b[0m\u001b[1;33m:\u001b[0m\u001b[1;33m\u001b[0m\u001b[1;33m\u001b[0m\u001b[0m\n",
      "\u001b[1;32m~\\anaconda3\\lib\\asyncio\\events.py\u001b[0m in \u001b[0;36mget_event_loop\u001b[1;34m()\u001b[0m\n\u001b[0;32m    642\u001b[0m         \u001b[1;32mif\u001b[0m \u001b[0mself\u001b[0m\u001b[1;33m.\u001b[0m\u001b[0m_local\u001b[0m\u001b[1;33m.\u001b[0m\u001b[0m_loop\u001b[0m \u001b[1;32mis\u001b[0m \u001b[1;32mNone\u001b[0m\u001b[1;33m:\u001b[0m\u001b[1;33m\u001b[0m\u001b[1;33m\u001b[0m\u001b[0m\n\u001b[0;32m    643\u001b[0m             raise RuntimeError('There is no current event loop in thread %r.'\n\u001b[1;32m--> 644\u001b[1;33m                                % threading.current_thread().name)\n\u001b[0m\u001b[0;32m    645\u001b[0m \u001b[1;33m\u001b[0m\u001b[0m\n\u001b[0;32m    646\u001b[0m         \u001b[1;32mreturn\u001b[0m \u001b[0mself\u001b[0m\u001b[1;33m.\u001b[0m\u001b[0m_local\u001b[0m\u001b[1;33m.\u001b[0m\u001b[0m_loop\u001b[0m\u001b[1;33m\u001b[0m\u001b[1;33m\u001b[0m\u001b[0m\n",
      "\u001b[1;31mRuntimeError\u001b[0m: There is no current event loop in thread \"Dask-Worker-Threads'-19404-2\"."
     ]
    },
    {
     "data": {
      "application/javascript": [
       "\n",
       "            setTimeout(function() {\n",
       "                var nbb_cell_id = 53;\n",
       "                var nbb_unformatted_code = \"rf_model = RandomForestClassifier()\\n\\nwith joblib.parallel_backend('dask'):\\n    scores = cross_validate(rf_model, X_train.compute(), y_train.compute(), cv=4)\\n    \\nscores\";\n",
       "                var nbb_formatted_code = \"rf_model = RandomForestClassifier()\\n\\nwith joblib.parallel_backend(\\\"dask\\\"):\\n    scores = cross_validate(rf_model, X_train.compute(), y_train.compute(), cv=4)\\n\\nscores\";\n",
       "                var nbb_cells = Jupyter.notebook.get_cells();\n",
       "                for (var i = 0; i < nbb_cells.length; ++i) {\n",
       "                    if (nbb_cells[i].input_prompt_number == nbb_cell_id) {\n",
       "                        if (nbb_cells[i].get_text() == nbb_unformatted_code) {\n",
       "                             nbb_cells[i].set_text(nbb_formatted_code);\n",
       "                        }\n",
       "                        break;\n",
       "                    }\n",
       "                }\n",
       "            }, 500);\n",
       "            "
      ],
      "text/plain": [
       "<IPython.core.display.Javascript object>"
      ]
     },
     "metadata": {},
     "output_type": "display_data"
    }
   ],
   "source": [
    "# My stuff isn't working but I used Dask\n",
    "rf_model = RandomForestClassifier()\n",
    "\n",
    "with joblib.parallel_backend(\"dask\"):\n",
    "    scores = cross_validate(rf_model, X_train.compute(), y_train.compute(), cv=4)\n",
    "\n",
    "scores"
   ]
  },
  {
   "cell_type": "code",
   "execution_count": null,
   "metadata": {},
   "outputs": [],
   "source": []
  }
 ],
 "metadata": {
  "kernelspec": {
   "display_name": "Python 3",
   "language": "python",
   "name": "python3"
  },
  "language_info": {
   "codemirror_mode": {
    "name": "ipython",
    "version": 3
   },
   "file_extension": ".py",
   "mimetype": "text/x-python",
   "name": "python",
   "nbconvert_exporter": "python",
   "pygments_lexer": "ipython3",
   "version": "3.7.6"
  }
 },
 "nbformat": 4,
 "nbformat_minor": 4
}
