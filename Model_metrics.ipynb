{
  "nbformat": 4,
  "nbformat_minor": 0,
  "metadata": {
    "colab": {
      "name": "Model metrics.ipynb",
      "provenance": [],
      "collapsed_sections": []
    },
    "kernelspec": {
      "name": "python3",
      "display_name": "Python 3"
    }
  },
  "cells": [
    {
      "cell_type": "code",
      "metadata": {
        "id": "drICWD8ernfn",
        "colab_type": "code",
        "colab": {}
      },
      "source": [
        "import pickle\n",
        "import matplotlib.pyplot as plt\n",
        "import seaborn as sns\n",
        "\n",
        "from tensorflow import keras\n",
        "from sklearn.metrics import classification_report, confusion_matrix\n",
        "from keras.models import model_from_json\n",
        "\n",
        "from keras.models import load_model\n",
        "from keras.utils import CustomObjectScope\n",
        "from keras.initializers import glorot_uniform\n",
        "\n",
        "import pandas as pd\n",
        "import numpy as np\n",
        "import os"
      ],
      "execution_count": 63,
      "outputs": []
    },
    {
      "cell_type": "code",
      "metadata": {
        "id": "uuroRI9irsVk",
        "colab_type": "code",
        "colab": {}
      },
      "source": [
        "#Everything I need from the other notebook to load\n",
        "time = pd.read_csv(\"/content/drive/My Drive/Crypto/time.csv\")\n",
        "y_test = pd.read_csv(r\"/content/drive/My Drive/Crypto/y_test.csv\")\n",
        "LGR_model = pickle.load(open(\"/content/drive/My Drive/Crypto/CryptoLGR_model.sav\", \"rb\"))\n",
        "LGR2_model = pickle.load(open(\"/content/drive/My Drive/Crypto/CryptoLGR2_model.sav\", \"rb\"))\n",
        "LGR3_model = pickle.load(open(\"/content/drive/My Drive/Crypto/CryptoLGR3_model.sav\", \"rb\"))\n",
        "LGR4_model = pickle.load(open(\"/content/drive/My Drive/Crypto/CryptoLGR4_model.sav\", \"rb\"))\n",
        "\n",
        "XBG_model = pickle.load(open(\"/content/drive/My Drive/Crypto/XGBC_model.sav\", \"rb\"))\n",
        "XBG2_model = pickle.load(open(\"/content/drive/My Drive/Crypto/XGBC2_model.sav\", \"rb\"))\n",
        "XBG3_model = pickle.load(open(\"/content/drive/My Drive/Crypto/XGBC3_model.sav\", \"rb\"))\n",
        "XBG4_model = pickle.load(open(\"/content/drive/My Drive/Crypto/XGBC4_model.sav\", \"rb\"))\n",
        "\n",
        "lstm_df = pd.read_csv(r\"/content/drive/My Drive/Crypto/lstm_df.csv\")\n",
        "lstm_model = keras.models.load_model(\"/content/drive/My Drive/Crypto/lstm_model.h5\")\n",
        "lstm_model.load_weights(\"/content/drive/My Drive/Crypto/lstm_model_weights.h5\")\n",
        "\n",
        "\n",
        "LGR_predictions = np.loadtxt(\"/content/drive/My Drive/Crypto/LGR_predictions.txt\")\n",
        "XGB_predictions = np.loadtxt(\"/content/drive/My Drive/Crypto/XGB_predictions.txt\")\n",
        "LSTM_predictions = np.loadtxt(\"/content/drive/My Drive/Crypto/LSTM_X.txt\")\n",
        "\n",
        "pca2 = np.loadtxt(\"/content/drive/My Drive/Crypto/LGR2_X.txt\")\n",
        "pca3 = np.loadtxt(\"/content/drive/My Drive/Crypto/LGR3_X.txt\")\n",
        "pca4 = np.loadtxt(\"/content/drive/My Drive/Crypto/LGR4_X.txt\")\n",
        "\n",
        "xpca2 = np.loadtxt(\"/content/drive/My Drive/Crypto/XGB2_predictions.txt\")\n",
        "xpca3 = np.loadtxt(\"/content/drive/My Drive/Crypto/XGB3_predictions.txt\")\n",
        "xpca4 = np.loadtxt(\"/content/drive/My Drive/Crypto/XGB4_predictions.txt\")"
      ],
      "execution_count": 64,
      "outputs": []
    },
    {
      "cell_type": "code",
      "metadata": {
        "id": "IifTHa6yseMl",
        "colab_type": "code",
        "colab": {
          "base_uri": "https://localhost:8080/",
          "height": 194
        },
        "outputId": "a6f24d3c-943a-4249-d6ab-2092939c6f50"
      },
      "source": [
        "#This is pretty low!\n",
        "print(\"Log regression classification report is: \",\"\\n\", classification_report(y_test,LGR_predictions))"
      ],
      "execution_count": 27,
      "outputs": [
        {
          "output_type": "stream",
          "text": [
            "Log regression classification report is:  \n",
            "               precision    recall  f1-score   support\n",
            "\n",
            "           0       0.52      0.68      0.59    103456\n",
            "           1       0.56      0.40      0.47    106784\n",
            "\n",
            "    accuracy                           0.54    210240\n",
            "   macro avg       0.54      0.54      0.53    210240\n",
            "weighted avg       0.54      0.54      0.53    210240\n",
            "\n"
          ],
          "name": "stdout"
        }
      ]
    },
    {
      "cell_type": "markdown",
      "metadata": {
        "id": "AXUFfJnlsfHL",
        "colab_type": "text"
      },
      "source": [
        "My ram isn't enough, please uncomment the code for the visual. Thank you\n",
        "\n",
        "I also added a link"
      ]
    },
    {
      "cell_type": "code",
      "metadata": {
        "id": "c_rQRvzbSg8e",
        "colab_type": "code",
        "colab": {}
      },
      "source": [
        "# # Link: \"https://github.com/AsterLaoWhy/Thinkful/blob/master/Target%20and%20predictions.png\"\n",
        "#sns.heatmap(confusion_matrix(y_test,LGR_predictions), cmap = \"Blues\", annot=True)"
      ],
      "execution_count": 4,
      "outputs": []
    },
    {
      "cell_type": "code",
      "metadata": {
        "id": "q_tPyRuOKn7T",
        "colab_type": "code",
        "colab": {
          "base_uri": "https://localhost:8080/",
          "height": 194
        },
        "outputId": "927d6a7f-5f3d-40d3-b287-0368c2a11394"
      },
      "source": [
        "#... \n",
        "print(\"XGB regression classification report is: \",\"\\n\", classification_report(y_test,XGB_predictions))"
      ],
      "execution_count": 65,
      "outputs": [
        {
          "output_type": "stream",
          "text": [
            "XGB regression classification report is:  \n",
            "               precision    recall  f1-score   support\n",
            "\n",
            "           0       0.49      0.45      0.47    103456\n",
            "           1       0.50      0.54      0.52    106784\n",
            "\n",
            "    accuracy                           0.49    210240\n",
            "   macro avg       0.49      0.49      0.49    210240\n",
            "weighted avg       0.49      0.49      0.49    210240\n",
            "\n"
          ],
          "name": "stdout"
        }
      ]
    },
    {
      "cell_type": "markdown",
      "metadata": {
        "id": "bqCy6RexscJT",
        "colab_type": "text"
      },
      "source": [
        "My ram isn't enough, please uncomment the code for the visual. Thank you"
      ]
    },
    {
      "cell_type": "code",
      "metadata": {
        "id": "SbPAjpHoS1JG",
        "colab_type": "code",
        "colab": {}
      },
      "source": [
        "# # Link: \"https://github.com/AsterLaoWhy/Thinkful/blob/master/XGB%20Heatmap.png\"\n",
        "# sns.heatmap(confusion_matrix(y_test,XGB_predictions), cmap = \"Blues\", annot=True)"
      ],
      "execution_count": null,
      "outputs": []
    },
    {
      "cell_type": "code",
      "metadata": {
        "id": "60Lf5hnOOUmK",
        "colab_type": "code",
        "colab": {}
      },
      "source": [
        "#Again, this is to make X,Y,and format it for LSTM models \n",
        "def convert_data(data, step):\n",
        "  X, y = [], []\n",
        "  for i in range(len(data)-step):\n",
        "    d = i + step\n",
        "    X.append(data[i:d,:-1])\n",
        "    y.append(data[d,-1])\n",
        "  return np.array(X), np.array(y)"
      ],
      "execution_count": 7,
      "outputs": []
    },
    {
      "cell_type": "code",
      "metadata": {
        "id": "064uxo0wVHrJ",
        "colab_type": "code",
        "colab": {}
      },
      "source": [
        "time.drop(columns = 'time', inplace = True)\n",
        "lstm_df = lstm_df.join(time, how = \"left\")\n",
        "#resize to fit predictions\n",
        "lstm_df = lstm_df[-210240:]\n",
        "lstm_df['LGR_predictions'] = LGR_predictions\n",
        "lstm_df['XGB_predictions'] = XGB_predictions"
      ],
      "execution_count": 29,
      "outputs": []
    },
    {
      "cell_type": "code",
      "metadata": {
        "id": "jYiK_ItxY3yL",
        "colab_type": "code",
        "colab": {}
      },
      "source": [
        "#amont in 1 week\n",
        "#Link:\n",
        "# plt.scatter(x=\"time.1\", y = \"target\", data=lstm_df[-10080:])\n",
        "# plt.scatter(x=\"time.1\", y = \"LGR_predictions\", data=lstm_df[-10080:])\n",
        "# plt.legend()\n",
        "# plt.show()"
      ],
      "execution_count": null,
      "outputs": []
    },
    {
      "cell_type": "code",
      "metadata": {
        "id": "T_Cy9WaBhg8_",
        "colab_type": "code",
        "colab": {}
      },
      "source": [
        "#amount in 1 week\n",
        "# # Link: \"https://github.com/AsterLaoWhy/Thinkful/blob/master/XBG%20Predictions.png\"\n",
        "# plt.scatter(x=\"time.1\", y = \"target\", data=lstm_df[-10080:])\n",
        "# plt.scatter(x=\"time.1\", y = \"XGB_predictions\", data=lstm_df[-10080:])\n",
        "# plt.legend()\n",
        "# plt.show()"
      ],
      "execution_count": null,
      "outputs": []
    },
    {
      "cell_type": "code",
      "metadata": {
        "id": "O9jB9g_Ag3tD",
        "colab_type": "code",
        "colab": {}
      },
      "source": [
        "# #Show amount earned based on LGR predictions\n",
        "# #I'm not a wealthy man\n",
        "\n",
        "def backtesting(prediction_column):\n",
        "\n",
        "\n",
        "  one_week_df = lstm_df[-10080:]\n",
        "  potential_initial_investment = 1000\n",
        "  potential_money_earned = 0\n",
        "  potential_holdings = 0\n",
        "  potential_status = 0\n",
        "  actual_initial_investment = 1000\n",
        "  actual_money_earned = 0\n",
        "  actual_holdings = 0\n",
        "  actual_status = 0\n",
        "  # 0 Statusmeans we are not holding money. If status is 1, we are invested\n",
        "\n",
        "  for i in range(len(one_week_df)):\n",
        "    if (one_week_df.iloc[i]['target']==1 and potential_status ==0):\n",
        "      amount_invested = potential_initial_investment*.3\n",
        "      potential_holdings = (amount_invested)/(one_week_df.iloc[i]['close'])\n",
        "      potential_status = 1\n",
        "      potential_initial_investment = potential_initial_investment-amount_invested\n",
        "\n",
        "    elif (one_week_df.iloc[i]['target']==0 and potential_status ==1):\n",
        "      potential_money_earned = potential_holdings*one_week_df.iloc[i]['close']\n",
        "      potential_initial_investment += potential_money_earned\n",
        "      potential_status = 0\n",
        "    else:\n",
        "      pass\n",
        "\n",
        "\n",
        "  for i in range(len(one_week_df)):\n",
        "    if (one_week_df.iloc[i][prediction_column]==1 and actual_status == 0):\n",
        "      amount_invested = actual_initial_investment*.3\n",
        "      actual_holdings = (amount_invested)/(one_week_df.iloc[i]['close'])\n",
        "      actual_status = 1\n",
        "      actual_initial_investment = actual_initial_investment-amount_invested\n",
        "\n",
        "    elif (one_week_df.iloc[i][prediction_column]==0 and actual_status == 1):\n",
        "      actual_money_earned = actual_holdings*one_week_df.iloc[i]['close']\n",
        "      actual_initial_investment += actual_money_earned\n",
        "      actual_status = 0\n",
        "    else:\n",
        "      pass\n",
        "\n",
        "  print(f\"strategy optimally earns: ${potential_initial_investment} in one weeks\")\n",
        "  print(f\"{prediction_column} strategy earns: ${actual_initial_investment} in one week\")"
      ],
      "execution_count": 30,
      "outputs": []
    },
    {
      "cell_type": "code",
      "metadata": {
        "id": "-iiIzNSLwka8",
        "colab_type": "code",
        "colab": {
          "base_uri": "https://localhost:8080/",
          "height": 52
        },
        "outputId": "ea3168aa-afb5-4396-b069-f2dd02dbb83d"
      },
      "source": [
        "#LGR backtesting\n",
        "backtesting(\"LGR_predictions\")"
      ],
      "execution_count": 31,
      "outputs": [
        {
          "output_type": "stream",
          "text": [
            "strategy optimally earns: 1070.9543749525112 in one weeks\n",
            "LGR_predictions strategy earns: 982.9253753442499 in one week\n"
          ],
          "name": "stdout"
        }
      ]
    },
    {
      "cell_type": "code",
      "metadata": {
        "id": "nXiMhjaIrKHs",
        "colab_type": "code",
        "colab": {
          "base_uri": "https://localhost:8080/",
          "height": 52
        },
        "outputId": "8817b786-8737-42c2-d11d-2d7bebf1033c"
      },
      "source": [
        "#XBG bactesting\n",
        "backtesting(\"XGB_predictions\")\n"
      ],
      "execution_count": 32,
      "outputs": [
        {
          "output_type": "stream",
          "text": [
            "strategy optimally earns: 1070.9543749525112 in one weeks\n",
            "XGB_predictions strategy earns: 694.4513957306814 in one week\n"
          ],
          "name": "stdout"
        }
      ]
    },
    {
      "cell_type": "code",
      "metadata": {
        "id": "dF-aEuGNwAxm",
        "colab_type": "code",
        "colab": {
          "base_uri": "https://localhost:8080/",
          "height": 52
        },
        "outputId": "ef313972-3760-4da6-e20d-7f877072636b"
      },
      "source": [
        "#There's more LSTM predictions so I'll resize and backtest\n",
        "lstm_df[\"LSTM_predictions\"] = LSTM_predictions[52499:]\n",
        "backtesting(\"LSTM_predictions\")"
      ],
      "execution_count": 48,
      "outputs": [
        {
          "output_type": "stream",
          "text": [
            "strategy optimally earns: 1070.9543749525112 in one weeks\n",
            "LSTM_predictions strategy earns: 700.0 in one week\n"
          ],
          "name": "stdout"
        }
      ]
    },
    {
      "cell_type": "code",
      "metadata": {
        "id": "xBHE-Sko2yxm",
        "colab_type": "code",
        "colab": {}
      },
      "source": [
        "#Well poop. Let's see if the unsupervised learning helped at all"
      ],
      "execution_count": 49,
      "outputs": []
    },
    {
      "cell_type": "code",
      "metadata": {
        "id": "vaLCf1Ph6qfP",
        "colab_type": "code",
        "colab": {}
      },
      "source": [
        "y_test = y_test[-210240:]"
      ],
      "execution_count": 50,
      "outputs": []
    },
    {
      "cell_type": "code",
      "metadata": {
        "id": "q07qDMEt7mu2",
        "colab_type": "code",
        "colab": {
          "base_uri": "https://localhost:8080/",
          "height": 550
        },
        "outputId": "f0041e8d-4f74-4528-e885-17c169ed0bb0"
      },
      "source": [
        "#PCA doesn't really do anything for Log regression, let's see if it does something for XGB boosting\n",
        "print(\"PCA 2 Log regression classification report is: \",\"\\n\", classification_report(y_test,pca2))\n",
        "print(\"PCA 3 Log regression classification report is: \",\"\\n\", classification_report(y_test,pca3))\n",
        "print(\"PCA 4 Log regression classification report is: \",\"\\n\", classification_report(y_test,pca4))"
      ],
      "execution_count": 51,
      "outputs": [
        {
          "output_type": "stream",
          "text": [
            "PCA 2 Log regression classification report is:  \n",
            "               precision    recall  f1-score   support\n",
            "\n",
            "           0       0.48      0.35      0.40    103456\n",
            "           1       0.50      0.64      0.56    106784\n",
            "\n",
            "    accuracy                           0.50    210240\n",
            "   macro avg       0.49      0.49      0.48    210240\n",
            "weighted avg       0.49      0.50      0.48    210240\n",
            "\n",
            "PCA 3 Log regression classification report is:  \n",
            "               precision    recall  f1-score   support\n",
            "\n",
            "           0       0.53      0.53      0.53    103456\n",
            "           1       0.55      0.55      0.55    106784\n",
            "\n",
            "    accuracy                           0.54    210240\n",
            "   macro avg       0.54      0.54      0.54    210240\n",
            "weighted avg       0.54      0.54      0.54    210240\n",
            "\n",
            "PCA 4 Log regression classification report is:  \n",
            "               precision    recall  f1-score   support\n",
            "\n",
            "           0       0.53      0.53      0.53    103456\n",
            "           1       0.55      0.55      0.55    106784\n",
            "\n",
            "    accuracy                           0.54    210240\n",
            "   macro avg       0.54      0.54      0.54    210240\n",
            "weighted avg       0.54      0.54      0.54    210240\n",
            "\n"
          ],
          "name": "stdout"
        }
      ]
    },
    {
      "cell_type": "code",
      "metadata": {
        "id": "hxhjjB927ouM",
        "colab_type": "code",
        "colab": {
          "base_uri": "https://localhost:8080/",
          "height": 550
        },
        "outputId": "ad57038d-d450-45ff-d435-e74f86da4574"
      },
      "source": [
        "#Not really super helpful\n",
        "print(\"PCA 2 XGB regression classification report is: \",\"\\n\", classification_report(y_test,xpca2))\n",
        "print(\"PCA 3 XGB regression classification report is: \",\"\\n\", classification_report(y_test,xpca3))\n",
        "print(\"PCA 4 XGB regression classification report is: \",\"\\n\", classification_report(y_test,xpca4))"
      ],
      "execution_count": 52,
      "outputs": [
        {
          "output_type": "stream",
          "text": [
            "PCA 2 XGB regression classification report is:  \n",
            "               precision    recall  f1-score   support\n",
            "\n",
            "           0       0.48      0.25      0.33    103456\n",
            "           1       0.50      0.74      0.60    106784\n",
            "\n",
            "    accuracy                           0.50    210240\n",
            "   macro avg       0.49      0.49      0.46    210240\n",
            "weighted avg       0.49      0.50      0.46    210240\n",
            "\n",
            "PCA 3 XGB regression classification report is:  \n",
            "               precision    recall  f1-score   support\n",
            "\n",
            "           0       0.53      0.44      0.48    103456\n",
            "           1       0.53      0.62      0.58    106784\n",
            "\n",
            "    accuracy                           0.53    210240\n",
            "   macro avg       0.53      0.53      0.53    210240\n",
            "weighted avg       0.53      0.53      0.53    210240\n",
            "\n",
            "PCA 4 XGB regression classification report is:  \n",
            "               precision    recall  f1-score   support\n",
            "\n",
            "           0       0.53      0.47      0.50    103456\n",
            "           1       0.54      0.60      0.57    106784\n",
            "\n",
            "    accuracy                           0.53    210240\n",
            "   macro avg       0.53      0.53      0.53    210240\n",
            "weighted avg       0.53      0.53      0.53    210240\n",
            "\n"
          ],
          "name": "stdout"
        }
      ]
    },
    {
      "cell_type": "code",
      "metadata": {
        "id": "yWtqd7VeUmMD",
        "colab_type": "code",
        "colab": {}
      },
      "source": [
        "#See if XPCA 3 is better since recal isn't terrible\n",
        "lstm_df = lstm_df[-210240:]\n",
        "lstm_df['Lpca2'] = pca2\n",
        "lstm_df['Lpca3'] = pca3\n",
        "lstm_df['Lpca4'] = pca4\n",
        "lstm_df['Xpca2'] = xpca2\n",
        "lstm_df['Xpca3'] = xpca3\n",
        "lstm_df['Xpca4'] = xpca4\n"
      ],
      "execution_count": 55,
      "outputs": []
    },
    {
      "cell_type": "code",
      "metadata": {
        "id": "xd4XzPWAe9BF",
        "colab_type": "code",
        "colab": {
          "base_uri": "https://localhost:8080/",
          "height": 52
        },
        "outputId": "8b1ae956-f8bb-47bb-dc73-861545d07c13"
      },
      "source": [
        "backtesting(\"Lpca2\")"
      ],
      "execution_count": 56,
      "outputs": [
        {
          "output_type": "stream",
          "text": [
            "strategy optimally earns: 1070.9543749525112 in one weeks\n",
            "Lpca2 strategy earns: 700.0 in one week\n"
          ],
          "name": "stdout"
        }
      ]
    },
    {
      "cell_type": "code",
      "metadata": {
        "id": "9aOClVSTPcdy",
        "colab_type": "code",
        "colab": {
          "base_uri": "https://localhost:8080/",
          "height": 52
        },
        "outputId": "e8810e75-2988-4b2f-abea-f77689e8799a"
      },
      "source": [
        "backtesting(\"Lpca3\")"
      ],
      "execution_count": 57,
      "outputs": [
        {
          "output_type": "stream",
          "text": [
            "strategy optimally earns: 1070.9543749525112 in one weeks\n",
            "Lpca3 strategy earns: 970.2319944035494 in one week\n"
          ],
          "name": "stdout"
        }
      ]
    },
    {
      "cell_type": "code",
      "metadata": {
        "id": "ORp-ViNSPeBH",
        "colab_type": "code",
        "colab": {
          "base_uri": "https://localhost:8080/",
          "height": 52
        },
        "outputId": "976d9c5e-ad88-494c-9ee7-a8260aaa4b2b"
      },
      "source": [
        "#THIS IS THE BEST FOR PCA IN LOG\n",
        "backtesting(\"Lpca4\")"
      ],
      "execution_count": 58,
      "outputs": [
        {
          "output_type": "stream",
          "text": [
            "strategy optimally earns: 1070.9543749525112 in one weeks\n",
            "Lpca4 strategy earns: 974.8091453753588 in one week\n"
          ],
          "name": "stdout"
        }
      ]
    },
    {
      "cell_type": "code",
      "metadata": {
        "id": "B8EkKS1HPjWO",
        "colab_type": "code",
        "colab": {
          "base_uri": "https://localhost:8080/",
          "height": 52
        },
        "outputId": "802c66d2-8cd7-49a6-e0ea-fb9a2953cecc"
      },
      "source": [
        "backtesting(\"Xpca2\")"
      ],
      "execution_count": 60,
      "outputs": [
        {
          "output_type": "stream",
          "text": [
            "strategy optimally earns: 1070.9543749525112 in one weeks\n",
            "Xpca2 strategy earns: 698.2293654446223 in one week\n"
          ],
          "name": "stdout"
        }
      ]
    },
    {
      "cell_type": "code",
      "metadata": {
        "id": "mZ0KbSqWPrb1",
        "colab_type": "code",
        "colab": {
          "base_uri": "https://localhost:8080/",
          "height": 52
        },
        "outputId": "8b6c0e87-f9fe-4c01-c4e0-a8fb9940263a"
      },
      "source": [
        "backtesting(\"Xpca3\")"
      ],
      "execution_count": 61,
      "outputs": [
        {
          "output_type": "stream",
          "text": [
            "strategy optimally earns: 1070.9543749525112 in one weeks\n",
            "Xpca3 strategy earns: 968.7105187531038 in one week\n"
          ],
          "name": "stdout"
        }
      ]
    },
    {
      "cell_type": "code",
      "metadata": {
        "id": "4-rcCxw_Pw0d",
        "colab_type": "code",
        "colab": {
          "base_uri": "https://localhost:8080/",
          "height": 52
        },
        "outputId": "628e5265-a432-4ef6-b3d2-f1f8ee055bc1"
      },
      "source": [
        "#THIS IS THE BEST FOR XGBOOST PCA\n",
        "backtesting(\"Xpca4\")"
      ],
      "execution_count": 62,
      "outputs": [
        {
          "output_type": "stream",
          "text": [
            "strategy optimally earns: 1070.9543749525112 in one weeks\n",
            "Xpca4 strategy earns: 979.6390404584286 in one week\n"
          ],
          "name": "stdout"
        }
      ]
    }
  ]
}