{
  "nbformat": 4,
  "nbformat_minor": 0,
  "metadata": {
    "colab": {
      "name": "Model metrics.ipynb",
      "provenance": []
    },
    "kernelspec": {
      "name": "python3",
      "display_name": "Python 3"
    },
    "accelerator": "GPU"
  },
  "cells": [
    {
      "cell_type": "code",
      "metadata": {
        "id": "drICWD8ernfn",
        "colab_type": "code",
        "colab": {}
      },
      "source": [
        "import pickle\n",
        "import matplotlib.pyplot as plt\n",
        "\n",
        "from tensorflow import keras\n",
        "from sklearn.metrics import classification_report\n",
        "from keras.models import model_from_json\n",
        "\n",
        "from keras.models import load_model\n",
        "from keras.utils import CustomObjectScope\n",
        "from keras.initializers import glorot_uniform\n",
        "\n",
        "import pandas as pd\n",
        "import numpy as np\n",
        "import os"
      ],
      "execution_count": 84,
      "outputs": []
    },
    {
      "cell_type": "code",
      "metadata": {
        "id": "uuroRI9irsVk",
        "colab_type": "code",
        "colab": {}
      },
      "source": [
        "#Everything I need from the other notebook to load\n",
        "time = pd.read_csv(\"/content/drive/My Drive/Crypto/time.csv\")\n",
        "LGR_model = pickle.load(open(\"/content/drive/My Drive/Crypto/CryptoLGR_model.sav\", \"rb\"))\n",
        "LGR2_model = pickle.load(open(\"/content/drive/My Drive/Crypto/CryptoLGR2_model.sav\", \"rb\"))\n",
        "LGR3_model = pickle.load(open(\"/content/drive/My Drive/Crypto/CryptoLGR3_model.sav\", \"rb\"))\n",
        "LGR4_model = pickle.load(open(\"/content/drive/My Drive/Crypto/CryptoLGR4_model.sav\", \"rb\"))\n",
        "\n",
        "XBG_model = pickle.load(open(\"/content/drive/My Drive/Crypto/XGBC_model.sav\", \"rb\"))\n",
        "XBG2_model = pickle.load(open(\"/content/drive/My Drive/Crypto/XGBC2_model.sav\", \"rb\"))\n",
        "XBG3_model = pickle.load(open(\"/content/drive/My Drive/Crypto/XGBC3_model.sav\", \"rb\"))\n",
        "XBG4_model = pickle.load(open(\"/content/drive/My Drive/Crypto/XGBC4_model.sav\", \"rb\"))\n",
        "\n",
        "lstm_df = pd.read_csv(r\"/content/drive/My Drive/Crypto/lstm_df.csv\")\n",
        "lstm_model = keras.models.load_model(\"/content/drive/My Drive/Crypto/lstm_model.h5\")\n",
        "lstm_model.load_weights(\"/content/drive/My Drive/Crypto/lstm_model_weights.h5\")\n",
        "y_test = pd.read_csv(r\"/content/drive/My Drive/Crypto/y_test.csv\")\n",
        "LGR_predictions = np.loadtxt(\"/content/drive/My Drive/Crypto/LGR_predictions.txt\")\n",
        "XGB_predictions = np.loadtxt(\"/content/drive/My Drive/Crypto/XGB_predictions.txt\")\n",
        "\n",
        "pca2 = np.loadtxt(\"/content/drive/My Drive/Crypto/LGR2_X.txt\")\n",
        "pca3 = np.loadtxt(\"/content/drive/My Drive/Crypto/LGR3_X.txt\")\n",
        "pca4 = np.loadtxt(\"/content/drive/My Drive/Crypto/LGR4_X.txt\")\n",
        "\n",
        "xpca2 = np.loadtxt(\"/content/drive/My Drive/Crypto/XGB2_predictions.txt\")\n",
        "xpca3 = np.loadtxt(\"/content/drive/My Drive/Crypto/XGB3_predictions.txt\")\n",
        "xpca4 = np.loadtxt(\"/content/drive/My Drive/Crypto/XGB4_predictions.txt\")"
      ],
      "execution_count": 128,
      "outputs": []
    },
    {
      "cell_type": "code",
      "metadata": {
        "id": "IifTHa6yseMl",
        "colab_type": "code",
        "colab": {
          "base_uri": "https://localhost:8080/",
          "height": 194
        },
        "outputId": "892b38ab-e8ed-4d5b-9dfa-95e0c28b54e9"
      },
      "source": [
        "#This is pretty messed up!\n",
        "print(\"Log regression classification report is: \",\"\\n\", classification_report(y_test,LGR_predictions))"
      ],
      "execution_count": 86,
      "outputs": [
        {
          "output_type": "stream",
          "text": [
            "Log regression classification report is:  \n",
            "               precision    recall  f1-score   support\n",
            "\n",
            "           0       0.44      0.57      0.50     91259\n",
            "           1       0.58      0.45      0.51    118981\n",
            "\n",
            "    accuracy                           0.50    210240\n",
            "   macro avg       0.51      0.51      0.50    210240\n",
            "weighted avg       0.52      0.50      0.50    210240\n",
            "\n"
          ],
          "name": "stdout"
        }
      ]
    },
    {
      "cell_type": "code",
      "metadata": {
        "id": "q_tPyRuOKn7T",
        "colab_type": "code",
        "colab": {
          "base_uri": "https://localhost:8080/",
          "height": 194
        },
        "outputId": "1faf85d6-2df6-4cd3-d09e-85077bbeba09"
      },
      "source": [
        "#... \n",
        "print(\"XGB regression classification report is: \",\"\\n\", classification_report(y_test,XGB_predictions))"
      ],
      "execution_count": 87,
      "outputs": [
        {
          "output_type": "stream",
          "text": [
            "XGB regression classification report is:  \n",
            "               precision    recall  f1-score   support\n",
            "\n",
            "           0       0.39      0.00      0.00     91259\n",
            "           1       0.57      1.00      0.72    118981\n",
            "\n",
            "    accuracy                           0.57    210240\n",
            "   macro avg       0.48      0.50      0.36    210240\n",
            "weighted avg       0.49      0.57      0.41    210240\n",
            "\n"
          ],
          "name": "stdout"
        }
      ]
    },
    {
      "cell_type": "code",
      "metadata": {
        "id": "60Lf5hnOOUmK",
        "colab_type": "code",
        "colab": {}
      },
      "source": [
        "def convert_data(data, step):\n",
        "  X, y = [], []\n",
        "  for i in range(len(data)-step):\n",
        "    d = i + step\n",
        "    X.append(data[i:d,:-1])\n",
        "    y.append(data[d,-1])\n",
        "  return np.array(X), np.array(y)"
      ],
      "execution_count": 88,
      "outputs": []
    },
    {
      "cell_type": "code",
      "metadata": {
        "id": "f2YM-Gt1FAu9",
        "colab_type": "code",
        "colab": {
          "base_uri": "https://localhost:8080/",
          "height": 107
        },
        "outputId": "28018f52-3e0d-443f-bbd5-2c5fa3842b23"
      },
      "source": [
        "X_train, y_train = convert_data(lstm_df[:788400].values, 30)\n",
        "X_test, y_test = convert_data(lstm_df[788401:].values, 30)\n",
        "\n",
        "lstm_model.compile(loss='binary_crossentropy', optimizer='rmsprop', metrics=['accuracy'])\n",
        "score = lstm_model.evaluate(X_test, y_test, verbose=1)\n",
        "print(\"%s: %.2f%%\" % (lstm_model.metrics_names[1], score[1]*100))"
      ],
      "execution_count": 89,
      "outputs": [
        {
          "output_type": "stream",
          "text": [
            "WARNING:tensorflow:Model was constructed with shape (None, 60, 12) for input Tensor(\"lstm_2_input_2:0\", shape=(None, 60, 12), dtype=float32), but it was called on an input with incompatible shape (None, 30, 12).\n",
            "WARNING:tensorflow:Model was constructed with shape (None, 60, 12) for input Tensor(\"lstm_2_input_2:0\", shape=(None, 60, 12), dtype=float32), but it was called on an input with incompatible shape (None, 30, 12).\n",
            "8212/8212 [==============================] - 26s 3ms/step - loss: 0.6856 - accuracy: 0.5661\n",
            "accuracy: 56.61%\n"
          ],
          "name": "stdout"
        }
      ]
    },
    {
      "cell_type": "code",
      "metadata": {
        "id": "_4Rax46UUech",
        "colab_type": "code",
        "colab": {
          "base_uri": "https://localhost:8080/",
          "height": 52
        },
        "outputId": "bcee6c42-8488-46e8-c918-564105344015"
      },
      "source": [
        "print(len(y_test))\n",
        "print(len(LGR_predictions))"
      ],
      "execution_count": 90,
      "outputs": [
        {
          "output_type": "stream",
          "text": [
            "262769\n",
            "210240\n"
          ],
          "name": "stdout"
        }
      ]
    },
    {
      "cell_type": "code",
      "metadata": {
        "id": "064uxo0wVHrJ",
        "colab_type": "code",
        "colab": {}
      },
      "source": [
        "time.drop(columns = 'time', inplace = True)\n",
        "lstm_df = lstm_df.join(time, how = \"left\")\n",
        "#resize to fit predictions\n",
        "lstm_df = lstm_df[-210240:]\n",
        "lstm_df['LGR_predictions'] = LGR_predictions\n",
        "lstm_df['XGB_predictions'] = XGB_predictions"
      ],
      "execution_count": 91,
      "outputs": []
    },
    {
      "cell_type": "code",
      "metadata": {
        "id": "jYiK_ItxY3yL",
        "colab_type": "code",
        "colab": {
          "base_uri": "https://localhost:8080/",
          "height": 264
        },
        "outputId": "5b1c144a-12c4-4a3e-f433-4cc5cb75f38a"
      },
      "source": [
        "#amont in 1 day\n",
        "plt.scatter(x=\"time.1\", y = \"target\", data=lstm_df[-1440:])\n",
        "plt.scatter(x=\"time.1\", y = \"LGR_predictions\", data=lstm_df[-1440:])\n",
        "plt.legend()\n",
        "plt.show()"
      ],
      "execution_count": 92,
      "outputs": [
        {
          "output_type": "display_data",
          "data": {
            "image/png": "[encoded data removed]",
            "text/plain": [
              "<Figure size 432x288 with 1 Axes>"
            ]
          },
          "metadata": {
            "tags": [],
            "needs_background": "light"
          }
        }
      ]
    },
    {
      "cell_type": "code",
      "metadata": {
        "id": "O9jB9g_Ag3tD",
        "colab_type": "code",
        "colab": {}
      },
      "source": [
        "# #Show amount earned based on LGR predictions\n",
        "# #I'm not a wealthy man\n",
        "one_day_df = lstm_df[-10080:]\n",
        "potential_initial_investment = 1000\n",
        "potential_money_earned = 0\n",
        "potential_holdings = 0\n",
        "potential_status = 0\n",
        "actual_initial_investment = 1000\n",
        "actual_money_earned = 0\n",
        "actual_holdings = 0\n",
        "actual_status = 0\n",
        "# 0 Statusmeans we are not holding money. If status is 1, we are invested\n",
        "\n",
        "for i in range(len(one_day_df)):\n",
        "  if (one_day_df.iloc[i]['target']==1 and potential_status ==0):\n",
        "    amount_invested = potential_initial_investment*.3\n",
        "    potential_holdings = (amount_invested)/(one_day_df.iloc[i]['close'])\n",
        "    potential_status = 1\n",
        "    potential_initial_investment = potential_initial_investment-amount_invested\n",
        "\n",
        "  elif (one_day_df.iloc[i]['target']==0 and potential_status ==1):\n",
        "    potential_money_earned = potential_holdings*one_day_df.iloc[i]['close']\n",
        "    potential_initial_investment += potential_money_earned\n",
        "    potential_status = 0\n",
        "  else:\n",
        "    pass\n",
        "\n",
        "\n",
        "for i in range(len(one_day_df)):\n",
        "  if (one_day_df.iloc[i]['LGR_predictions']==1 and actual_status == 0):\n",
        "    amount_invested = actual_initial_investment*.3\n",
        "    actual_holdings = (amount_invested)/(one_day_df.iloc[i]['close'])\n",
        "    actual_status = 1\n",
        "    actual_initial_investment = actual_initial_investment-amount_invested\n",
        "\n",
        "  elif (one_day_df.iloc[i]['LGR_predictions']==0 and actual_status == 1):\n",
        "    actual_money_earned = actual_holdings*one_day_df.iloc[i]['close']\n",
        "    actual_initial_investment += actual_money_earned\n",
        "    actual_status = 0\n",
        "  else:\n",
        "    pass"
      ],
      "execution_count": 104,
      "outputs": []
    },
    {
      "cell_type": "code",
      "metadata": {
        "id": "-iiIzNSLwka8",
        "colab_type": "code",
        "colab": {
          "base_uri": "https://localhost:8080/",
          "height": 34
        },
        "outputId": "c8eb7791-9ce5-4ecf-c146-e979ad9a8b3d"
      },
      "source": [
        "#My god this is a crazy strategy\n",
        "potential_initial_investment\n"
      ],
      "execution_count": 105,
      "outputs": [
        {
          "output_type": "execute_result",
          "data": {
            "text/plain": [
              "983.1263994996809"
            ]
          },
          "metadata": {
            "tags": []
          },
          "execution_count": 105
        }
      ]
    },
    {
      "cell_type": "code",
      "metadata": {
        "id": "nXiMhjaIrKHs",
        "colab_type": "code",
        "colab": {
          "base_uri": "https://localhost:8080/",
          "height": 34
        },
        "outputId": "509ad35b-b93f-4e9d-d5f2-8ef148fd8740"
      },
      "source": [
        "#Damn, I lose money. That's not a good strategy\n",
        "actual_initial_investment\n"
      ],
      "execution_count": 106,
      "outputs": [
        {
          "output_type": "execute_result",
          "data": {
            "text/plain": [
              "984.1891320382574"
            ]
          },
          "metadata": {
            "tags": []
          },
          "execution_count": 106
        }
      ]
    },
    {
      "cell_type": "code",
      "metadata": {
        "id": "xBHE-Sko2yxm",
        "colab_type": "code",
        "colab": {}
      },
      "source": [
        "#Well poop. Let's see if the unsupervised learning helped at all"
      ],
      "execution_count": null,
      "outputs": []
    },
    {
      "cell_type": "code",
      "metadata": {
        "id": "vaLCf1Ph6qfP",
        "colab_type": "code",
        "colab": {
          "base_uri": "https://localhost:8080/",
          "height": 34
        },
        "outputId": "116b860a-7b8e-468d-fdc1-0414d977b12e"
      },
      "source": [
        "pca4"
      ],
      "execution_count": 124,
      "outputs": [
        {
          "output_type": "execute_result",
          "data": {
            "text/plain": [
              "array([1., 1., 1., ..., 0., 0., 0.])"
            ]
          },
          "metadata": {
            "tags": []
          },
          "execution_count": 124
        }
      ]
    },
    {
      "cell_type": "code",
      "metadata": {
        "id": "q07qDMEt7mu2",
        "colab_type": "code",
        "colab": {
          "base_uri": "https://localhost:8080/",
          "height": 550
        },
        "outputId": "f016c4df-b895-413e-c3f1-375f84699bef"
      },
      "source": [
        "#PCA doesn't really do anything for Log regression, let's see if it does something for XGB boosting\n",
        "print(\"PCA 2 Log regression classification report is: \",\"\\n\", classification_report(y_test,pca2))\n",
        "print(\"PCA 3 Log regression classification report is: \",\"\\n\", classification_report(y_test,pca3))\n",
        "print(\"PCA 4 Log regression classification report is: \",\"\\n\", classification_report(y_test,pca4))"
      ],
      "execution_count": 125,
      "outputs": [
        {
          "output_type": "stream",
          "text": [
            "PCA 2 Log regression classification report is:  \n",
            "               precision    recall  f1-score   support\n",
            "\n",
            "           0       0.48      0.35      0.40    103456\n",
            "           1       0.50      0.64      0.56    106784\n",
            "\n",
            "    accuracy                           0.50    210240\n",
            "   macro avg       0.49      0.49      0.48    210240\n",
            "weighted avg       0.49      0.50      0.48    210240\n",
            "\n",
            "PCA 3 Log regression classification report is:  \n",
            "               precision    recall  f1-score   support\n",
            "\n",
            "           0       0.53      0.53      0.53    103456\n",
            "           1       0.55      0.55      0.55    106784\n",
            "\n",
            "    accuracy                           0.54    210240\n",
            "   macro avg       0.54      0.54      0.54    210240\n",
            "weighted avg       0.54      0.54      0.54    210240\n",
            "\n",
            "PCA 4 Log regression classification report is:  \n",
            "               precision    recall  f1-score   support\n",
            "\n",
            "           0       0.53      0.53      0.53    103456\n",
            "           1       0.55      0.55      0.55    106784\n",
            "\n",
            "    accuracy                           0.54    210240\n",
            "   macro avg       0.54      0.54      0.54    210240\n",
            "weighted avg       0.54      0.54      0.54    210240\n",
            "\n"
          ],
          "name": "stdout"
        }
      ]
    },
    {
      "cell_type": "code",
      "metadata": {
        "id": "hxhjjB927ouM",
        "colab_type": "code",
        "colab": {
          "base_uri": "https://localhost:8080/",
          "height": 550
        },
        "outputId": "e5a7724a-a8f1-4e90-ae9f-cccddab3e735"
      },
      "source": [
        "#Not really super helpful\n",
        "print(\"PCA 2 XGB regression classification report is: \",\"\\n\", classification_report(y_test,xpca2))\n",
        "print(\"PCA 3 XGB regression classification report is: \",\"\\n\", classification_report(y_test,xpca3))\n",
        "print(\"PCA 4 XGB regression classification report is: \",\"\\n\", classification_report(y_test,xpca4))"
      ],
      "execution_count": 130,
      "outputs": [
        {
          "output_type": "stream",
          "text": [
            "PCA 2 XGB regression classification report is:  \n",
            "               precision    recall  f1-score   support\n",
            "\n",
            "           0       0.48      0.25      0.33    103456\n",
            "           1       0.50      0.74      0.60    106784\n",
            "\n",
            "    accuracy                           0.50    210240\n",
            "   macro avg       0.49      0.49      0.46    210240\n",
            "weighted avg       0.49      0.50      0.46    210240\n",
            "\n",
            "PCA 3 XGB regression classification report is:  \n",
            "               precision    recall  f1-score   support\n",
            "\n",
            "           0       0.53      0.44      0.48    103456\n",
            "           1       0.53      0.62      0.58    106784\n",
            "\n",
            "    accuracy                           0.53    210240\n",
            "   macro avg       0.53      0.53      0.53    210240\n",
            "weighted avg       0.53      0.53      0.53    210240\n",
            "\n",
            "PCA 4 XGB regression classification report is:  \n",
            "               precision    recall  f1-score   support\n",
            "\n",
            "           0       0.53      0.47      0.50    103456\n",
            "           1       0.54      0.60      0.57    106784\n",
            "\n",
            "    accuracy                           0.53    210240\n",
            "   macro avg       0.53      0.53      0.53    210240\n",
            "weighted avg       0.53      0.53      0.53    210240\n",
            "\n"
          ],
          "name": "stdout"
        }
      ]
    }
  ]
}